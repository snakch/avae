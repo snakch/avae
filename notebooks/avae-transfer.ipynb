{
 "cells": [
  {
   "cell_type": "code",
   "execution_count": 1,
   "metadata": {
    "ExecuteTime": {
     "end_time": "2021-02-09T09:40:57.895506Z",
     "start_time": "2021-02-09T09:40:57.808888Z"
    }
   },
   "outputs": [],
   "source": [
    "%load_ext autoreload\n",
    "%autoreload 2"
   ]
  },
  {
   "cell_type": "code",
   "execution_count": 2,
   "metadata": {
    "ExecuteTime": {
     "end_time": "2021-02-09T09:41:02.158471Z",
     "start_time": "2021-02-09T09:40:58.053808Z"
    }
   },
   "outputs": [
    {
     "name": "stderr",
     "output_type": "stream",
     "text": [
      "/home/simon/anaconda3/envs/namegen/lib/python3.7/site-packages/fuzzywuzzy/fuzz.py:11: UserWarning: Using slow pure-python SequenceMatcher. Install python-Levenshtein to remove this warning\n",
      "  warnings.warn('Using slow pure-python SequenceMatcher. Install python-Levenshtein to remove this warning')\n"
     ]
    }
   ],
   "source": [
    "from pathlib import Path\n",
    "import numpy as np\n",
    "import torch\n",
    "from tqdm.auto import tqdm\n",
    "import torch.optim as optim\n",
    "import torch.nn.functional as F\n",
    "import torch.nn as nn\n",
    "import re\n",
    "import torch.utils.data as data\n",
    "from dataclasses import dataclass\n",
    "import pandas as pd\n",
    "\n",
    "from fuzzywuzzy import process\n",
    "import matplotlib.pyplot as plt\n",
    "from tqdm.auto import tqdm\n",
    "import math\n",
    "import torch.optim as optim\n",
    "from torch.optim.lr_scheduler import LambdaLR\n",
    "from torch.utils.data.dataloader import DataLoader\n",
    "from torch.utils.tensorboard import SummaryWriter\n",
    "\n",
    "\n",
    "from avae.model import AttentionVae, GPTConfig\n",
    "from avae.dataset import CharDataset\n",
    "from avae.trainer import TrainerConfig, Trainer\n",
    "from avae.utils import pad_word, depad_word, encode_word, decode_word\n",
    "from avae.utils import generate_samples\n",
    "writer = SummaryWriter('runs/avae')"
   ]
  },
  {
   "cell_type": "code",
   "execution_count": 3,
   "metadata": {
    "ExecuteTime": {
     "end_time": "2021-02-09T09:41:02.251876Z",
     "start_time": "2021-02-09T09:41:02.159775Z"
    }
   },
   "outputs": [],
   "source": [
    "PROJECT_DIR  = Path(\".\").resolve().parent.parent\n",
    "DATA_DIR  = PROJECT_DIR / \"data\"\n",
    "WIKI_DIR  = DATA_DIR / \"wikitext-2\"\n",
    "NAMES_DIR  = DATA_DIR / \"names\"\n",
    "DEVICE = torch.device(\"cuda\" if torch.cuda.is_available() else \"cpu\")\n",
    "def clean_word(word):\n",
    "    word = word.replace(\"\\n\", '').lower()\n",
    "    return word"
   ]
  },
  {
   "cell_type": "markdown",
   "metadata": {},
   "source": [
    "# Sample Generation"
   ]
  },
  {
   "cell_type": "code",
   "execution_count": 4,
   "metadata": {
    "ExecuteTime": {
     "end_time": "2021-02-09T09:41:02.322294Z",
     "start_time": "2021-02-09T09:41:02.253044Z"
    }
   },
   "outputs": [],
   "source": [
    "def print_generation(\n",
    "    model,\n",
    "    unique_train_words=None,\n",
    "    context=\"\",\n",
    "    method=\"smart\",\n",
    "    sample=False,\n",
    "    top_k=5,\n",
    "    temperature=1.0,\n",
    "):\n",
    "\n",
    "    print(f\"Context: {context}\")\n",
    "    samples = generate_samples(\n",
    "        model,\n",
    "        n_samples=50,\n",
    "        initial_context=context,\n",
    "        method=method,\n",
    "        sample=sample,\n",
    "        top_k=top_k,\n",
    "        temperature=temperature,\n",
    "    )\n",
    "    samples = list(set(samples))\n",
    "    for sample in samples:\n",
    "\n",
    "        if unique_train_words:\n",
    "            match = process.extract(sample, unique_train_words, limit=1)[0][0]\n",
    "            sample += \" \" * (20 - len(sample))\n",
    "            sample += f\"\\t\\t closest match: {match}\"\n",
    "        print(sample)\n",
    "    print()\n",
    "\n",
    "\n",
    "def generation_testing(\n",
    "    model,\n",
    "    unique_train_words=None,\n",
    "    method=\"smart\",\n",
    "    sample=False,\n",
    "    top_k=5,\n",
    "    temperature=1.0,\n",
    "):\n",
    "    print_generation(\n",
    "        model,\n",
    "        unique_train_words=unique_train_words,\n",
    "        method=method,\n",
    "        sample=sample,\n",
    "        top_k=top_k,\n",
    "        temperature=temperature,\n",
    "    )\n",
    "    print_generation(\n",
    "        model,\n",
    "        context=\"a\",\n",
    "        unique_train_words=unique_train_words,\n",
    "        method=method,\n",
    "        sample=sample,\n",
    "        top_k=top_k,\n",
    "        temperature=temperature,\n",
    "    )\n",
    "    print_generation(\n",
    "        model,\n",
    "        context=\"m\",\n",
    "        unique_train_words=unique_train_words,\n",
    "        method=method,\n",
    "        sample=sample,\n",
    "        top_k=top_k,\n",
    "        temperature=temperature,\n",
    "    )\n",
    "    print_generation(\n",
    "        model,\n",
    "        context=\"sim\",\n",
    "        unique_train_words=unique_train_words,\n",
    "        method=method,\n",
    "        sample=sample,\n",
    "        top_k=top_k,\n",
    "        temperature=temperature,\n",
    "    )"
   ]
  },
  {
   "cell_type": "markdown",
   "metadata": {},
   "source": [
    "# Experiments"
   ]
  },
  {
   "cell_type": "markdown",
   "metadata": {},
   "source": [
    "## Transfer wiki weights"
   ]
  },
  {
   "cell_type": "code",
   "execution_count": null,
   "metadata": {},
   "outputs": [],
   "source": []
  },
  {
   "cell_type": "code",
   "execution_count": 5,
   "metadata": {
    "ExecuteTime": {
     "end_time": "2021-02-09T09:41:04.286453Z",
     "start_time": "2021-02-09T09:41:04.272177Z"
    }
   },
   "outputs": [
    {
     "data": {
      "text/plain": [
       "PosixPath('/home/simon/code/namegen/data/names/french_names_no_accent.txt')"
      ]
     },
     "execution_count": 5,
     "metadata": {},
     "output_type": "execute_result"
    }
   ],
   "source": [
    "NAMES_DIR / \"french_names_no_accent.txt\""
   ]
  },
  {
   "cell_type": "code",
   "execution_count": 6,
   "metadata": {
    "ExecuteTime": {
     "end_time": "2021-02-08T09:02:56.110367Z",
     "start_time": "2021-02-08T08:55:40.108426Z"
    }
   },
   "outputs": [
    {
     "name": "stdout",
     "output_type": "stream",
     "text": [
      "data has 34421 characters, 47 unique.\n",
      "data has 3750 characters, 47 unique.\n",
      "x:  genest\n",
      "y:  genest\n",
      "word : genest\n"
     ]
    },
    {
     "name": "stderr",
     "output_type": "stream",
     "text": [
      "  0%|          | 0/135 [00:00<?, ?it/s]/home/simon/code/namegen/avae/src/avae/trainer.py:123: UserWarning: torch.nn.utils.clip_grad_norm is now deprecated in favor of torch.nn.utils.clip_grad_norm_.\n",
      "  self.model.parameters(), self.config.grad_norm_clip\n",
      "epoch 1) iter 0: train_loss 220.7916718, lr = 5.999922e-04:   0%|          | 0/135 [00:00<?, ?it/s]"
     ]
    },
    {
     "name": "stdout",
     "output_type": "stream",
     "text": [
      "Iteration 0 samples:\n",
      "Sample: flowlern                  \t closes match: lo \n",
      "Sample: decie                     \t closes match: aldecine \n",
      "Sample: narrelber                 \t closes match: bert \n",
      "Sample: needaliesy                \t closes match: ed \n"
     ]
    },
    {
     "name": "stderr",
     "output_type": "stream",
     "text": [
      "epoch 1) iter 2: train_loss 221.2610474, lr = 5.998594e-04:   2%|▏         | 3/135 [00:03<05:20,  2.43s/it]"
     ]
    },
    {
     "name": "stdout",
     "output_type": "stream",
     "text": [
      "Sample: the                       \t closes match: therence \n"
     ]
    },
    {
     "name": "stderr",
     "output_type": "stream",
     "text": [
      "epoch 1) iter 134: train_loss 218.9756775, lr = 3.006754e-04: 100%|██████████| 135/135 [00:14<00:00,  9.20it/s]\n"
     ]
    },
    {
     "name": "stdout",
     "output_type": "stream",
     "text": [
      "Test loss: 218.26083170572917\n"
     ]
    },
    {
     "name": "stderr",
     "output_type": "stream",
     "text": [
      "epoch 2) iter 0: train_loss 218.3218994, lr = 2.971632e-04:   0%|          | 0/135 [00:00<?, ?it/s]"
     ]
    },
    {
     "name": "stdout",
     "output_type": "stream",
     "text": [
      "Iteration 0 samples:\n",
      "Sample: nathony                   \t closes match: anthony \n",
      "Sample: yan                       \t closes match: leyana \n",
      "Sample: elleande                  \t closes match: lea \n",
      "Sample: ing                       \t closes match: ingrid \n"
     ]
    },
    {
     "name": "stderr",
     "output_type": "stream",
     "text": [
      "epoch 2) iter 2: train_loss 218.4370880, lr = 2.901402e-04:   2%|▏         | 3/135 [00:02<03:43,  1.69s/it]"
     ]
    },
    {
     "name": "stdout",
     "output_type": "stream",
     "text": [
      "Sample: annin                     \t closes match: ioannina \n"
     ]
    },
    {
     "name": "stderr",
     "output_type": "stream",
     "text": [
      "epoch 2) iter 134: train_loss 218.5994415, lr = 6.000000e-05: 100%|██████████| 135/135 [00:13<00:00,  9.86it/s]\n"
     ]
    },
    {
     "name": "stdout",
     "output_type": "stream",
     "text": [
      "Test loss: 218.13052368164062\n"
     ]
    },
    {
     "name": "stderr",
     "output_type": "stream",
     "text": [
      "epoch 3) iter 0: train_loss 218.7027588, lr = 6.000000e-05:   0%|          | 0/135 [00:00<?, ?it/s]"
     ]
    },
    {
     "name": "stdout",
     "output_type": "stream",
     "text": [
      "Iteration 0 samples:\n",
      "Sample: ned                       \t closes match: ned \n",
      "Sample: stelline                  \t closes match: stellie \n",
      "Sample: invian                    \t closes match: ian \n",
      "Sample: leona                     \t closes match: leona \n"
     ]
    },
    {
     "name": "stderr",
     "output_type": "stream",
     "text": [
      "epoch 3) iter 2: train_loss 217.5560608, lr = 6.000000e-05:   2%|▏         | 3/135 [00:02<03:43,  1.69s/it]"
     ]
    },
    {
     "name": "stdout",
     "output_type": "stream",
     "text": [
      "Sample: maelel                    \t closes match: mae \n"
     ]
    },
    {
     "name": "stderr",
     "output_type": "stream",
     "text": [
      "epoch 3) iter 134: train_loss 218.4492188, lr = 3.006754e-04: 100%|██████████| 135/135 [00:13<00:00,  9.90it/s]\n"
     ]
    },
    {
     "name": "stdout",
     "output_type": "stream",
     "text": [
      "Test loss: 218.1812967936198\n"
     ]
    },
    {
     "name": "stderr",
     "output_type": "stream",
     "text": [
      "epoch 4) iter 0: train_loss 217.6675262, lr = 3.041876e-04:   0%|          | 0/135 [00:00<?, ?it/s]"
     ]
    },
    {
     "name": "stdout",
     "output_type": "stream",
     "text": [
      "Iteration 0 samples:\n",
      "Sample: angeline                  \t closes match: angeline \n",
      "Sample: maelisine                 \t closes match: mae \n",
      "Sample: zelonie                   \t closes match: lo \n",
      "Sample: egalanna                  \t closes match: anna \n"
     ]
    },
    {
     "name": "stderr",
     "output_type": "stream",
     "text": [
      "epoch 4) iter 2: train_loss 218.7899170, lr = 3.112098e-04:   2%|▏         | 3/135 [00:02<03:59,  1.81s/it]"
     ]
    },
    {
     "name": "stdout",
     "output_type": "stream",
     "text": [
      "Sample: navemine                  \t closes match: aveline \n"
     ]
    },
    {
     "name": "stderr",
     "output_type": "stream",
     "text": [
      "epoch 4) iter 134: train_loss 218.6969452, lr = 5.999970e-04: 100%|██████████| 135/135 [00:13<00:00,  9.70it/s]\n"
     ]
    },
    {
     "name": "stdout",
     "output_type": "stream",
     "text": [
      "Test loss: 218.18964335123698\n"
     ]
    },
    {
     "name": "stderr",
     "output_type": "stream",
     "text": [
      "epoch 5) iter 0: train_loss 218.3119507, lr = 5.999606e-04:   0%|          | 0/135 [00:00<?, ?it/s]"
     ]
    },
    {
     "name": "stdout",
     "output_type": "stream",
     "text": [
      "Iteration 0 samples:\n",
      "Sample: neold                     \t closes match: neo \n",
      "Sample: mianne                    \t closes match: anne \n",
      "Sample: zefin                     \t closes match: zeline \n",
      "Sample: zephlie                   \t closes match: zephir \n"
     ]
    },
    {
     "name": "stderr",
     "output_type": "stream",
     "text": [
      "epoch 5) iter 2: train_loss 218.6767731, lr = 5.997645e-04:   2%|▏         | 3/135 [00:02<03:24,  1.55s/it]"
     ]
    },
    {
     "name": "stdout",
     "output_type": "stream",
     "text": [
      "Sample: alexra                    \t closes match: alexa \n"
     ]
    },
    {
     "name": "stderr",
     "output_type": "stream",
     "text": [
      "epoch 5) iter 134: train_loss 217.4093170, lr = 2.979737e-04: 100%|██████████| 135/135 [00:13<00:00, 10.07it/s]\n"
     ]
    },
    {
     "name": "stdout",
     "output_type": "stream",
     "text": [
      "Test loss: 218.0962361653646\n"
     ]
    },
    {
     "name": "stderr",
     "output_type": "stream",
     "text": [
      "epoch 6) iter 0: train_loss 217.9667969, lr = 2.944616e-04:   0%|          | 0/135 [00:00<?, ?it/s]"
     ]
    },
    {
     "name": "stdout",
     "output_type": "stream",
     "text": [
      "Iteration 0 samples:\n",
      "Sample: gwena                     \t closes match: gwenaelle \n",
      "Sample: gwelvi                    \t closes match: elvis \n",
      "Sample: neved                     \t closes match: ed \n",
      "Sample: mabelin                   \t closes match: lin \n"
     ]
    },
    {
     "name": "stderr",
     "output_type": "stream",
     "text": [
      "epoch 6) iter 2: train_loss 218.3614807, lr = 2.874403e-04:   2%|▏         | 3/135 [00:02<03:39,  1.66s/it]"
     ]
    },
    {
     "name": "stdout",
     "output_type": "stream",
     "text": [
      "Sample: evontaule                 \t closes match: von \n"
     ]
    },
    {
     "name": "stderr",
     "output_type": "stream",
     "text": [
      "epoch 6) iter 134: train_loss 217.0786438, lr = 6.000000e-05: 100%|██████████| 135/135 [00:13<00:00,  9.92it/s]\n"
     ]
    },
    {
     "name": "stdout",
     "output_type": "stream",
     "text": [
      "Test loss: 217.79851684570312\n"
     ]
    },
    {
     "name": "stderr",
     "output_type": "stream",
     "text": [
      "epoch 7) iter 0: train_loss 217.5374756, lr = 6.000000e-05:   0%|          | 0/135 [00:00<?, ?it/s]"
     ]
    },
    {
     "name": "stdout",
     "output_type": "stream",
     "text": [
      "Iteration 0 samples:\n",
      "Sample: slaviran                  \t closes match: ira \n",
      "Sample: narcolla                  \t closes match: lyla \n",
      "Sample: zechrie                   \t closes match: zacharie \n",
      "Sample: malve                     \t closes match: malvine \n"
     ]
    },
    {
     "name": "stderr",
     "output_type": "stream",
     "text": [
      "epoch 7) iter 2: train_loss 218.1988525, lr = 6.000000e-05:   2%|▏         | 3/135 [00:02<03:39,  1.66s/it]"
     ]
    },
    {
     "name": "stdout",
     "output_type": "stream",
     "text": [
      "Sample: neslined                  \t closes match: ed \n"
     ]
    },
    {
     "name": "stderr",
     "output_type": "stream",
     "text": [
      "epoch 7) iter 134: train_loss 218.1073761, lr = 3.033772e-04: 100%|██████████| 135/135 [00:13<00:00,  9.87it/s]\n"
     ]
    },
    {
     "name": "stdout",
     "output_type": "stream",
     "text": [
      "Test loss: 217.91478678385417\n"
     ]
    },
    {
     "name": "stderr",
     "output_type": "stream",
     "text": [
      "epoch 8) iter 0: train_loss 217.8139343, lr = 3.068890e-04:   0%|          | 0/135 [00:00<?, ?it/s]"
     ]
    },
    {
     "name": "stdout",
     "output_type": "stream",
     "text": [
      "Iteration 0 samples:\n",
      "Sample: zephy                     \t closes match: zephyr \n",
      "Sample: zegorine                  \t closes match: reine \n",
      "Sample: ezenogette                \t closes match: zeno \n",
      "Sample: englaine                  \t closes match: elaine \n"
     ]
    },
    {
     "name": "stderr",
     "output_type": "stream",
     "text": [
      "epoch 8) iter 2: train_loss 217.8599091, lr = 3.139092e-04:   2%|▏         | 3/135 [00:02<03:51,  1.75s/it]"
     ]
    },
    {
     "name": "stdout",
     "output_type": "stream",
     "text": [
      "Sample: kelie                     \t closes match: elie \n"
     ]
    },
    {
     "name": "stderr",
     "output_type": "stream",
     "text": [
      "epoch 8) iter 134: train_loss 218.2934875, lr = 5.999726e-04: 100%|██████████| 135/135 [00:13<00:00,  9.84it/s]\n"
     ]
    },
    {
     "name": "stdout",
     "output_type": "stream",
     "text": [
      "Test loss: 218.0759053548177\n"
     ]
    },
    {
     "name": "stderr",
     "output_type": "stream",
     "text": [
      "epoch 9) iter 0: train_loss 218.1365967, lr = 5.999046e-04:   0%|          | 0/135 [00:00<?, ?it/s]"
     ]
    },
    {
     "name": "stdout",
     "output_type": "stream",
     "text": [
      "Iteration 0 samples:\n",
      "Sample: norette                   \t closes match: nore \n",
      "Sample: yolline                   \t closes match: lin \n",
      "Sample: mheliane                  \t closes match: heliane \n",
      "Sample: nerette                   \t closes match: neree \n"
     ]
    },
    {
     "name": "stderr",
     "output_type": "stream",
     "text": [
      "epoch 9) iter 2: train_loss 218.0005035, lr = 5.996453e-04:   2%|▏         | 3/135 [00:02<03:23,  1.55s/it]"
     ]
    },
    {
     "name": "stdout",
     "output_type": "stream",
     "text": [
      "Sample: naty                      \t closes match: bernat \n"
     ]
    },
    {
     "name": "stderr",
     "output_type": "stream",
     "text": [
      "epoch 9) iter 134: train_loss 218.3702545, lr = 2.952721e-04: 100%|██████████| 135/135 [00:13<00:00, 10.02it/s]\n"
     ]
    },
    {
     "name": "stdout",
     "output_type": "stream",
     "text": [
      "Test loss: 217.8949198404948\n"
     ]
    },
    {
     "name": "stderr",
     "output_type": "stream",
     "text": [
      "epoch 10) iter 0: train_loss 218.3853149, lr = 2.917606e-04:   0%|          | 0/135 [00:00<?, ?it/s]"
     ]
    },
    {
     "name": "stdout",
     "output_type": "stream",
     "text": [
      "Iteration 0 samples:\n",
      "Sample: genoma                    \t closes match: gena \n",
      "Sample: baudyne                   \t closes match: aude \n",
      "Sample: stalem                    \t closes match: stanley \n",
      "Sample: zephyn                    \t closes match: zephyrin \n"
     ]
    },
    {
     "name": "stderr",
     "output_type": "stream",
     "text": [
      "epoch 10) iter 2: train_loss 217.7411041, lr = 2.847415e-04:   2%|▏         | 3/135 [00:02<03:14,  1.48s/it]"
     ]
    },
    {
     "name": "stdout",
     "output_type": "stream",
     "text": [
      "Sample: yanan                     \t closes match: ana \n"
     ]
    },
    {
     "name": "stderr",
     "output_type": "stream",
     "text": [
      "epoch 10) iter 134: train_loss 217.1949158, lr = 6.000000e-05: 100%|██████████| 135/135 [00:13<00:00,  9.92it/s]\n"
     ]
    },
    {
     "name": "stdout",
     "output_type": "stream",
     "text": [
      "Test loss: 217.801313273112\n"
     ]
    },
    {
     "name": "stderr",
     "output_type": "stream",
     "text": [
      "epoch 11) iter 0: train_loss 217.3521881, lr = 6.000000e-05:   0%|          | 0/135 [00:00<?, ?it/s]"
     ]
    },
    {
     "name": "stdout",
     "output_type": "stream",
     "text": [
      "Iteration 0 samples:\n",
      "Sample: ysan                      \t closes match: chrysante \n",
      "Sample: azixende                  \t closes match: des \n",
      "Sample: kelmenti                  \t closes match: belen \n",
      "Sample: anour                     \t closes match: ano \n"
     ]
    },
    {
     "name": "stderr",
     "output_type": "stream",
     "text": [
      "epoch 11) iter 2: train_loss 217.5325165, lr = 6.000000e-05:   2%|▏         | 3/135 [00:02<03:43,  1.69s/it]"
     ]
    },
    {
     "name": "stdout",
     "output_type": "stream",
     "text": [
      "Sample: yec'har                   \t closes match: yec'han \n"
     ]
    },
    {
     "name": "stderr",
     "output_type": "stream",
     "text": [
      "epoch 11) iter 134: train_loss 218.2197266, lr = 3.060786e-04: 100%|██████████| 135/135 [00:13<00:00,  9.81it/s]\n"
     ]
    },
    {
     "name": "stdout",
     "output_type": "stream",
     "text": [
      "Test loss: 217.91497294108072\n"
     ]
    },
    {
     "name": "stderr",
     "output_type": "stream",
     "text": [
      "epoch 12) iter 0: train_loss 217.5697021, lr = 3.095897e-04:   0%|          | 0/135 [00:00<?, ?it/s]"
     ]
    },
    {
     "name": "stdout",
     "output_type": "stream",
     "text": [
      "Iteration 0 samples:\n",
      "Sample: aubertus                  \t closes match: bert \n",
      "Sample: lauran                    \t closes match: laurane \n",
      "Sample: stefan                    \t closes match: stefania \n",
      "Sample: zean                      \t closes match: zerane \n"
     ]
    },
    {
     "name": "stderr",
     "output_type": "stream",
     "text": [
      "epoch 12) iter 2: train_loss 217.7908478, lr = 3.166075e-04:   2%|▏         | 3/135 [00:02<03:51,  1.76s/it]"
     ]
    },
    {
     "name": "stdout",
     "output_type": "stream",
     "text": [
      "Sample: menricio                  \t closes match: enric \n"
     ]
    },
    {
     "name": "stderr",
     "output_type": "stream",
     "text": [
      "epoch 12) iter 134: train_loss 217.9845886, lr = 5.999240e-04: 100%|██████████| 135/135 [00:13<00:00,  9.77it/s]\n"
     ]
    },
    {
     "name": "stdout",
     "output_type": "stream",
     "text": [
      "Test loss: 218.1065226236979\n"
     ]
    },
    {
     "name": "stderr",
     "output_type": "stream",
     "text": [
      "epoch 13) iter 0: train_loss 217.7944031, lr = 5.998243e-04:   0%|          | 0/135 [00:00<?, ?it/s]"
     ]
    },
    {
     "name": "stdout",
     "output_type": "stream",
     "text": [
      "Iteration 0 samples:\n",
      "Sample: naemitan                  \t closes match: naemi \n",
      "Sample: matietsique               \t closes match: mati \n",
      "Sample: gwiller                   \t closes match: gwilherm \n",
      "Sample: leopoul                   \t closes match: leo \n"
     ]
    },
    {
     "name": "stderr",
     "output_type": "stream",
     "text": [
      "epoch 13) iter 2: train_loss 217.6944275, lr = 5.995018e-04:   2%|▏         | 3/135 [00:02<04:15,  1.94s/it]"
     ]
    },
    {
     "name": "stdout",
     "output_type": "stream",
     "text": [
      "Sample: androgoin                 \t closes match: sandro \n"
     ]
    },
    {
     "name": "stderr",
     "output_type": "stream",
     "text": [
      "epoch 13) iter 134: train_loss 217.9440918, lr = 2.925708e-04: 100%|██████████| 135/135 [00:13<00:00,  9.68it/s]\n"
     ]
    },
    {
     "name": "stdout",
     "output_type": "stream",
     "text": [
      "Test loss: 217.83063151041668\n"
     ]
    },
    {
     "name": "stderr",
     "output_type": "stream",
     "text": [
      "epoch 14) iter 0: train_loss 217.6002350, lr = 2.890602e-04:   0%|          | 0/135 [00:00<?, ?it/s]"
     ]
    },
    {
     "name": "stdout",
     "output_type": "stream",
     "text": [
      "Iteration 0 samples:\n",
      "Sample: kerie                     \t closes match: kerrien \n",
      "Sample: neodona                   \t closes match: odon \n",
      "Sample: standy                    \t closes match: sandy \n",
      "Sample: nelle                     \t closes match: noelle \n"
     ]
    },
    {
     "name": "stderr",
     "output_type": "stream",
     "text": [
      "epoch 14) iter 2: train_loss 217.7720032, lr = 2.820438e-04:   2%|▏         | 3/135 [00:02<03:15,  1.48s/it]"
     ]
    },
    {
     "name": "stdout",
     "output_type": "stream",
     "text": [
      "Sample: neigle                    \t closes match: neige \n"
     ]
    },
    {
     "name": "stderr",
     "output_type": "stream",
     "text": [
      "epoch 14) iter 134: train_loss 217.1486511, lr = 6.000000e-05: 100%|██████████| 135/135 [00:13<00:00, 10.19it/s]\n"
     ]
    },
    {
     "name": "stdout",
     "output_type": "stream",
     "text": [
      "Test loss: 217.766645304362\n"
     ]
    },
    {
     "name": "stderr",
     "output_type": "stream",
     "text": [
      "epoch 15) iter 0: train_loss 216.9766541, lr = 6.000000e-05:   0%|          | 0/135 [00:00<?, ?it/s]"
     ]
    },
    {
     "name": "stdout",
     "output_type": "stream",
     "text": [
      "Iteration 0 samples:\n",
      "Sample: maysimo                   \t closes match: may \n",
      "Sample: yoelle                    \t closes match: yoelle \n",
      "Sample: necise                    \t closes match: isea \n",
      "Sample: yvaque                    \t closes match: symmaque \n"
     ]
    },
    {
     "name": "stderr",
     "output_type": "stream",
     "text": [
      "epoch 15) iter 2: train_loss 217.3430176, lr = 6.000000e-05:   2%|▏         | 3/135 [00:02<03:10,  1.44s/it]"
     ]
    },
    {
     "name": "stdout",
     "output_type": "stream",
     "text": [
      "Sample: enseria                   \t closes match: genseric \n"
     ]
    },
    {
     "name": "stderr",
     "output_type": "stream",
     "text": [
      "epoch 15) iter 134: train_loss 217.3452148, lr = 3.087796e-04: 100%|██████████| 135/135 [00:13<00:00, 10.06it/s]\n"
     ]
    },
    {
     "name": "stdout",
     "output_type": "stream",
     "text": [
      "Test loss: 217.86304728190103\n"
     ]
    },
    {
     "name": "stderr",
     "output_type": "stream",
     "text": [
      "epoch 16) iter 0: train_loss 218.0154419, lr = 3.122897e-04:   0%|          | 0/135 [00:00<?, ?it/s]"
     ]
    },
    {
     "name": "stdout",
     "output_type": "stream",
     "text": [
      "Iteration 0 samples:\n",
      "Sample: angelo                    \t closes match: angelo \n",
      "Sample: natel                     \t closes match: donatella \n",
      "Sample: natelia                   \t closes match: natelia \n",
      "Sample: zephita                   \t closes match: ita \n"
     ]
    },
    {
     "name": "stderr",
     "output_type": "stream",
     "text": [
      "epoch 16) iter 2: train_loss 216.9405823, lr = 3.193045e-04:   2%|▏         | 3/135 [00:02<03:20,  1.52s/it]"
     ]
    },
    {
     "name": "stdout",
     "output_type": "stream",
     "text": [
      "Sample: salain                    \t closes match: salaun \n"
     ]
    },
    {
     "name": "stderr",
     "output_type": "stream",
     "text": [
      "epoch 16) iter 134: train_loss 216.8181152, lr = 5.998510e-04: 100%|██████████| 135/135 [00:13<00:00, 10.13it/s]\n"
     ]
    },
    {
     "name": "stdout",
     "output_type": "stream",
     "text": [
      "Test loss: 217.9780039469401\n"
     ]
    },
    {
     "name": "stderr",
     "output_type": "stream",
     "text": [
      "epoch 17) iter 0: train_loss 217.4635010, lr = 5.997197e-04:   0%|          | 0/135 [00:00<?, ?it/s]"
     ]
    },
    {
     "name": "stdout",
     "output_type": "stream",
     "text": [
      "Iteration 0 samples:\n",
      "Sample: nelithen                  \t closes match: neith \n",
      "Sample: yessandrin                \t closes match: sandrine \n",
      "Sample: melane                    \t closes match: melane \n",
      "Sample: nadogyle                  \t closes match: lee \n"
     ]
    },
    {
     "name": "stderr",
     "output_type": "stream",
     "text": [
      "epoch 17) iter 2: train_loss 218.1757202, lr = 5.993340e-04:   2%|▏         | 3/135 [00:02<03:57,  1.80s/it]"
     ]
    },
    {
     "name": "stdout",
     "output_type": "stream",
     "text": [
      "Sample: mateus                    \t closes match: amadeus \n"
     ]
    },
    {
     "name": "stderr",
     "output_type": "stream",
     "text": [
      "epoch 17) iter 134: train_loss 217.7375488, lr = 2.898702e-04: 100%|██████████| 135/135 [00:13<00:00,  9.86it/s]\n"
     ]
    },
    {
     "name": "stdout",
     "output_type": "stream",
     "text": [
      "Test loss: 217.90231424967448\n"
     ]
    },
    {
     "name": "stderr",
     "output_type": "stream",
     "text": [
      "epoch 18) iter 0: train_loss 217.0883484, lr = 2.863607e-04:   0%|          | 0/135 [00:00<?, ?it/s]"
     ]
    },
    {
     "name": "stdout",
     "output_type": "stream",
     "text": [
      "Iteration 0 samples:\n",
      "Sample: nela                      \t closes match: nella \n",
      "Sample: stella                    \t closes match: stella \n",
      "Sample: yarenolde                 \t closes match: arnold \n",
      "Sample: naet                      \t closes match: naudet \n"
     ]
    },
    {
     "name": "stderr",
     "output_type": "stream",
     "text": [
      "epoch 18) iter 2: train_loss 217.5474396, lr = 2.793476e-04:   2%|▏         | 3/135 [00:02<04:21,  1.98s/it]"
     ]
    },
    {
     "name": "stdout",
     "output_type": "stream",
     "text": [
      "Sample: neline                    \t closes match: noeline \n"
     ]
    },
    {
     "name": "stderr",
     "output_type": "stream",
     "text": [
      "epoch 18) iter 134: train_loss 216.7359467, lr = 6.000000e-05: 100%|██████████| 135/135 [00:13<00:00,  9.67it/s]\n"
     ]
    },
    {
     "name": "stdout",
     "output_type": "stream",
     "text": [
      "Test loss: 217.6943806966146\n"
     ]
    },
    {
     "name": "stderr",
     "output_type": "stream",
     "text": [
      "epoch 19) iter 0: train_loss 217.2783966, lr = 6.000000e-05:   0%|          | 0/135 [00:00<?, ?it/s]"
     ]
    },
    {
     "name": "stdout",
     "output_type": "stream",
     "text": [
      "Iteration 0 samples:\n",
      "Sample: zelene                    \t closes match: elenie \n",
      "Sample: naric                     \t closes match: enric \n",
      "Sample: nestine                   \t closes match: ernestine \n",
      "Sample: yvonnie                   \t closes match: yvonne \n"
     ]
    },
    {
     "name": "stderr",
     "output_type": "stream",
     "text": [
      "epoch 19) iter 2: train_loss 217.0522461, lr = 6.000000e-05:   2%|▏         | 3/135 [00:02<03:32,  1.61s/it]"
     ]
    },
    {
     "name": "stdout",
     "output_type": "stream",
     "text": [
      "Sample: zephieren                 \t closes match: zephir \n"
     ]
    },
    {
     "name": "stderr",
     "output_type": "stream",
     "text": [
      "epoch 19) iter 134: train_loss 216.9453583, lr = 3.114798e-04: 100%|██████████| 135/135 [00:13<00:00, 10.03it/s]\n"
     ]
    },
    {
     "name": "stdout",
     "output_type": "stream",
     "text": [
      "Test loss: 217.75411580403645\n"
     ]
    },
    {
     "name": "stderr",
     "output_type": "stream",
     "text": [
      "epoch 20) iter 0: train_loss 217.6329346, lr = 3.149887e-04:   0%|          | 0/135 [00:00<?, ?it/s]"
     ]
    },
    {
     "name": "stdout",
     "output_type": "stream",
     "text": [
      "Iteration 0 samples:\n",
      "Sample: nevela                    \t closes match: neela \n",
      "Sample: lana                      \t closes match: lana \n",
      "Sample: agloume                   \t closes match: lo \n",
      "Sample: zian                      \t closes match: zian \n"
     ]
    },
    {
     "name": "stderr",
     "output_type": "stream",
     "text": [
      "epoch 20) iter 2: train_loss 217.5253143, lr = 3.219998e-04:   2%|▏         | 3/135 [00:02<03:47,  1.73s/it]"
     ]
    },
    {
     "name": "stdout",
     "output_type": "stream",
     "text": [
      "Sample: staninke                  \t closes match: stan \n"
     ]
    },
    {
     "name": "stderr",
     "output_type": "stream",
     "text": [
      "epoch 20) iter 134: train_loss 217.1669464, lr = 5.997537e-04: 100%|██████████| 135/135 [00:13<00:00,  9.93it/s]\n"
     ]
    },
    {
     "name": "stdout",
     "output_type": "stream",
     "text": [
      "Test loss: 217.95797729492188\n"
     ]
    },
    {
     "name": "stderr",
     "output_type": "stream",
     "text": [
      "epoch 21) iter 0: train_loss 217.2737122, lr = 5.995908e-04:   0%|          | 0/135 [00:00<?, ?it/s]"
     ]
    },
    {
     "name": "stdout",
     "output_type": "stream",
     "text": [
      "Iteration 0 samples:\n",
      "Sample: leocian                   \t closes match: ian \n",
      "Sample: nadie                     \t closes match: nadine \n",
      "Sample: keony                     \t closes match: kenya \n",
      "Sample: neudele                   \t closes match: nedeleg \n"
     ]
    },
    {
     "name": "stderr",
     "output_type": "stream",
     "text": [
      "epoch 21) iter 2: train_loss 217.1567078, lr = 5.991420e-04:   2%|▏         | 3/135 [00:02<03:21,  1.53s/it]"
     ]
    },
    {
     "name": "stdout",
     "output_type": "stream",
     "text": [
      "Sample: kesildes                  \t closes match: des \n"
     ]
    },
    {
     "name": "stderr",
     "output_type": "stream",
     "text": [
      "epoch 21) iter 134: train_loss 217.4804230, lr = 2.871704e-04: 100%|██████████| 135/135 [00:13<00:00, 10.15it/s]\n"
     ]
    },
    {
     "name": "stdout",
     "output_type": "stream",
     "text": [
      "Test loss: 217.74689534505208\n"
     ]
    },
    {
     "name": "stderr",
     "output_type": "stream",
     "text": [
      "epoch 22) iter 0: train_loss 217.3859253, lr = 2.836622e-04:   0%|          | 0/135 [00:00<?, ?it/s]"
     ]
    },
    {
     "name": "stdout",
     "output_type": "stream",
     "text": [
      "Iteration 0 samples:\n",
      "Sample: micherios                 \t closes match: michee \n",
      "Sample: zefier                    \t closes match: elfie \n",
      "Sample: ilea                      \t closes match: ilea \n",
      "Sample: nantivis                  \t closes match: ivi \n"
     ]
    },
    {
     "name": "stderr",
     "output_type": "stream",
     "text": [
      "epoch 22) iter 2: train_loss 217.3110809, lr = 2.766531e-04:   2%|▏         | 3/135 [00:03<04:27,  2.03s/it]"
     ]
    },
    {
     "name": "stdout",
     "output_type": "stream",
     "text": [
      "Sample: naredanice                \t closes match: ed \n"
     ]
    },
    {
     "name": "stderr",
     "output_type": "stream",
     "text": [
      "epoch 22) iter 134: train_loss 218.1509399, lr = 6.000000e-05: 100%|██████████| 135/135 [00:14<00:00,  9.61it/s]\n"
     ]
    },
    {
     "name": "stdout",
     "output_type": "stream",
     "text": [
      "Test loss: 217.64187418619792\n"
     ]
    },
    {
     "name": "stderr",
     "output_type": "stream",
     "text": [
      "epoch 23) iter 0: train_loss 216.8130188, lr = 6.000000e-05:   0%|          | 0/135 [00:00<?, ?it/s]"
     ]
    },
    {
     "name": "stdout",
     "output_type": "stream",
     "text": [
      "Iteration 0 samples:\n",
      "Sample: nan                       \t closes match: venance \n",
      "Sample: gaude                     \t closes match: gauderique \n",
      "Sample: myrie                     \t closes match: myriem \n",
      "Sample: yeron                     \t closes match: tyron \n"
     ]
    },
    {
     "name": "stderr",
     "output_type": "stream",
     "text": [
      "epoch 23) iter 2: train_loss 216.6894226, lr = 6.000000e-05:   2%|▏         | 3/135 [00:02<03:39,  1.67s/it]"
     ]
    },
    {
     "name": "stdout",
     "output_type": "stream",
     "text": [
      "Sample: meneha                    \t closes match: enea \n"
     ]
    },
    {
     "name": "stderr",
     "output_type": "stream",
     "text": [
      "epoch 23) iter 134: train_loss 217.9483337, lr = 3.141791e-04: 100%|██████████| 135/135 [00:13<00:00, 10.00it/s]\n"
     ]
    },
    {
     "name": "stdout",
     "output_type": "stream",
     "text": [
      "Test loss: 217.84666239420574\n"
     ]
    },
    {
     "name": "stderr",
     "output_type": "stream",
     "text": [
      "epoch 24) iter 0: train_loss 217.3837280, lr = 3.176865e-04:   0%|          | 0/135 [00:00<?, ?it/s]"
     ]
    },
    {
     "name": "stdout",
     "output_type": "stream",
     "text": [
      "Iteration 0 samples:\n",
      "Sample: laio                      \t closes match: flavio \n",
      "Sample: nerekald                  \t closes match: kal \n",
      "Sample: zenon                     \t closes match: zenon \n",
      "Sample: yec'in                    \t closes match: yec'han \n"
     ]
    },
    {
     "name": "stderr",
     "output_type": "stream",
     "text": [
      "epoch 24) iter 2: train_loss 217.2145081, lr = 3.246934e-04:   2%|▏         | 3/135 [00:02<03:44,  1.70s/it]"
     ]
    },
    {
     "name": "stdout",
     "output_type": "stream",
     "text": [
      "Sample: lenguele                  \t closes match: elne \n"
     ]
    },
    {
     "name": "stderr",
     "output_type": "stream",
     "text": [
      "epoch 24) iter 134: train_loss 217.1254883, lr = 5.996320e-04: 100%|██████████| 135/135 [00:13<00:00,  9.96it/s]\n"
     ]
    },
    {
     "name": "stdout",
     "output_type": "stream",
     "text": [
      "Test loss: 217.89258626302083\n"
     ]
    },
    {
     "name": "stderr",
     "output_type": "stream",
     "text": [
      "epoch 25) iter 0: train_loss 217.2782288, lr = 5.994376e-04:   0%|          | 0/135 [00:00<?, ?it/s]"
     ]
    },
    {
     "name": "stdout",
     "output_type": "stream",
     "text": [
      "Iteration 0 samples:\n",
      "Sample: leonn                     \t closes match: leo \n",
      "Sample: malore                    \t closes match: malorie \n",
      "Sample: zepimi                    \t closes match: mei \n",
      "Sample: zenorea                   \t closes match: zeno \n"
     ]
    },
    {
     "name": "stderr",
     "output_type": "stream",
     "text": [
      "epoch 25) iter 2: train_loss 217.6487122, lr = 5.989256e-04:   2%|▏         | 3/135 [00:02<03:37,  1.65s/it]"
     ]
    },
    {
     "name": "stdout",
     "output_type": "stream",
     "text": [
      "Sample: mathairic                 \t closes match: rioc \n"
     ]
    },
    {
     "name": "stderr",
     "output_type": "stream",
     "text": [
      "epoch 25) iter 134: train_loss 217.0096588, lr = 2.844716e-04: 100%|██████████| 135/135 [00:13<00:00, 10.01it/s]\n"
     ]
    },
    {
     "name": "stdout",
     "output_type": "stream",
     "text": [
      "Test loss: 217.88072713216147\n"
     ]
    },
    {
     "name": "stderr",
     "output_type": "stream",
     "text": [
      "epoch 26) iter 0: train_loss 217.4203796, lr = 2.809652e-04:   0%|          | 0/135 [00:00<?, ?it/s]"
     ]
    },
    {
     "name": "stdout",
     "output_type": "stream",
     "text": [
      "Iteration 0 samples:\n",
      "Sample: menia                     \t closes match: mencia \n",
      "Sample: enryso                    \t closes match: emrys \n",
      "Sample: mabaldy                   \t closes match: magaly \n",
      "Sample: nevelin                   \t closes match: lin \n"
     ]
    },
    {
     "name": "stderr",
     "output_type": "stream",
     "text": [
      "epoch 26) iter 2: train_loss 217.0479126, lr = 2.739605e-04:   2%|▏         | 3/135 [00:02<03:36,  1.64s/it]"
     ]
    },
    {
     "name": "stdout",
     "output_type": "stream",
     "text": [
      "Sample: alithelina                \t closes match: lin \n"
     ]
    },
    {
     "name": "stderr",
     "output_type": "stream",
     "text": [
      "epoch 26) iter 134: train_loss 217.3334961, lr = 6.000000e-05: 100%|██████████| 135/135 [00:13<00:00, 10.04it/s]\n"
     ]
    },
    {
     "name": "stdout",
     "output_type": "stream",
     "text": [
      "Test loss: 217.67878011067708\n"
     ]
    },
    {
     "name": "stderr",
     "output_type": "stream",
     "text": [
      "epoch 27) iter 0: train_loss 217.1554871, lr = 6.000000e-05:   0%|          | 0/135 [00:00<?, ?it/s]"
     ]
    },
    {
     "name": "stdout",
     "output_type": "stream",
     "text": [
      "Iteration 0 samples:\n",
      "Sample: ysensia                   \t closes match: ysens \n",
      "Sample: meza                      \t closes match: meal \n",
      "Sample: zlesline                  \t closes match: lin \n",
      "Sample: mava                      \t closes match: maeva \n"
     ]
    },
    {
     "name": "stderr",
     "output_type": "stream",
     "text": [
      "epoch 27) iter 2: train_loss 217.2307281, lr = 6.000000e-05:   2%|▏         | 3/135 [00:02<04:01,  1.83s/it]"
     ]
    },
    {
     "name": "stdout",
     "output_type": "stream",
     "text": [
      "Sample: neissicka                 \t closes match: nessie \n"
     ]
    },
    {
     "name": "stderr",
     "output_type": "stream",
     "text": [
      "epoch 27) iter 134: train_loss 217.1271515, lr = 3.168773e-04: 100%|██████████| 135/135 [00:13<00:00,  9.83it/s]\n"
     ]
    },
    {
     "name": "stdout",
     "output_type": "stream",
     "text": [
      "Test loss: 217.83332112630208\n"
     ]
    },
    {
     "name": "stderr",
     "output_type": "stream",
     "text": [
      "epoch 28) iter 0: train_loss 217.1025238, lr = 3.203828e-04:   0%|          | 0/135 [00:00<?, ?it/s]"
     ]
    },
    {
     "name": "stdout",
     "output_type": "stream",
     "text": [
      "Iteration 0 samples:\n",
      "Sample: yannin                    \t closes match: ann \n",
      "Sample: neador                    \t closes match: dora \n",
      "Sample: nestole                   \t closes match: nestor \n",
      "Sample: gwolfred                  \t closes match: ed \n"
     ]
    },
    {
     "name": "stderr",
     "output_type": "stream",
     "text": [
      "epoch 28) iter 2: train_loss 217.3390503, lr = 3.273850e-04:   2%|▏         | 3/135 [00:02<03:14,  1.48s/it]"
     ]
    },
    {
     "name": "stdout",
     "output_type": "stream",
     "text": [
      "Sample: nerdy                     \t closes match: ned \n"
     ]
    },
    {
     "name": "stderr",
     "output_type": "stream",
     "text": [
      "epoch 28) iter 134: train_loss 216.6953583, lr = 5.994861e-04: 100%|██████████| 135/135 [00:13<00:00, 10.20it/s]\n"
     ]
    },
    {
     "name": "stdout",
     "output_type": "stream",
     "text": [
      "Test loss: 218.01659240722657\n"
     ]
    },
    {
     "name": "stderr",
     "output_type": "stream",
     "text": [
      "epoch 29) iter 0: train_loss 217.0806274, lr = 5.992601e-04:   0%|          | 0/135 [00:00<?, ?it/s]"
     ]
    },
    {
     "name": "stdout",
     "output_type": "stream",
     "text": [
      "Iteration 0 samples:\n",
      "Sample: zea                       \t closes match: lyzea \n",
      "Sample: ghenerie                  \t closes match: erine \n",
      "Sample: lena                      \t closes match: lena \n",
      "Sample: kemalio                   \t closes match: ali \n"
     ]
    },
    {
     "name": "stderr",
     "output_type": "stream",
     "text": [
      "epoch 29) iter 2: train_loss 217.2879944, lr = 5.986851e-04:   2%|▏         | 3/135 [00:02<03:56,  1.79s/it]"
     ]
    },
    {
     "name": "stdout",
     "output_type": "stream",
     "text": [
      "Sample: nicia                     \t closes match: veronica \n"
     ]
    },
    {
     "name": "stderr",
     "output_type": "stream",
     "text": [
      "epoch 29) iter 134: train_loss 217.7705383, lr = 2.817741e-04: 100%|██████████| 135/135 [00:13<00:00,  9.83it/s]\n"
     ]
    },
    {
     "name": "stdout",
     "output_type": "stream",
     "text": [
      "Test loss: 217.84669494628906\n"
     ]
    },
    {
     "name": "stderr",
     "output_type": "stream",
     "text": [
      "epoch 30) iter 0: train_loss 217.3622894, lr = 2.782696e-04:   0%|          | 0/135 [00:00<?, ?it/s]"
     ]
    },
    {
     "name": "stdout",
     "output_type": "stream",
     "text": [
      "Iteration 0 samples:\n",
      "Sample: nega                      \t closes match: linnea \n",
      "Sample: nannella                  \t closes match: anne \n",
      "Sample: nesca                     \t closes match: nectan \n",
      "Sample: mahar                     \t closes match: macha \n"
     ]
    },
    {
     "name": "stderr",
     "output_type": "stream",
     "text": [
      "epoch 30) iter 2: train_loss 217.3204956, lr = 2.712700e-04:   2%|▏         | 3/135 [00:02<04:03,  1.85s/it]"
     ]
    },
    {
     "name": "stdout",
     "output_type": "stream",
     "text": [
      "Sample: zaie                      \t closes match: zite \n"
     ]
    },
    {
     "name": "stderr",
     "output_type": "stream",
     "text": [
      "epoch 30) iter 134: train_loss 217.2926483, lr = 6.000000e-05: 100%|██████████| 135/135 [00:13<00:00,  9.76it/s]\n"
     ]
    },
    {
     "name": "stdout",
     "output_type": "stream",
     "text": [
      "Test loss: 217.75897521972655\n"
     ]
    }
   ],
   "source": [
    "french_names = []\n",
    "with open(NAMES_DIR / \"french_names_no_accent.txt\", \"r\") as f:\n",
    "    for word in f:\n",
    "        french_names.append(clean_word(word))\n",
    "wiki_vae = AttentionVae.load(\"wiki_model\")\n",
    "\n",
    "split = 0.9\n",
    "idx = int(len(french_names) * split)\n",
    "np.random.seed(137)\n",
    "np.random.shuffle(french_names)\n",
    "train_french_names = french_names[:idx]\n",
    "val_french_names = french_names[idx:]\n",
    "\n",
    "raw_train_french_names = \" \".join(train_french_names)\n",
    "raw_val_french_names = \" \".join(val_french_names)\n",
    "\n",
    "wiki_vae = AttentionVae.load(\"wiki_model\")\n",
    "chars = list(wiki_vae.stoi.keys())\n",
    "maxlen = wiki_vae.config.block_size\n",
    "\n",
    "train_dataset = CharDataset(raw_train_french_names, maxlen, chars=chars)\n",
    "val_dataset = CharDataset(raw_val_french_names, maxlen, chars=chars)\n",
    "\n",
    "idx=298\n",
    "x, y, word = train_dataset[idx]\n",
    "print(\"x: \",decode_word(x.numpy(), wiki_vae.itos))\n",
    "print(\"y: \",decode_word(y.numpy(), wiki_vae.itos))\n",
    "print(\"word :\", decode_word(word.numpy(), wiki_vae.itos))\n",
    "\n",
    "tconf = TrainerConfig(\n",
    "    max_epochs=30,\n",
    "    batch_size=256,\n",
    "    learning_rate=6e-4,\n",
    "    lr_decay=True,\n",
    "    warmup_tokens=128 * 20,\n",
    "    final_tokens=2 * len(train_dataset) * maxlen,\n",
    "    num_workers=4,\n",
    "    sample_freq=10000\n",
    ")\n",
    "trainer = Trainer(wiki_vae, train_dataset, val_dataset, tconf,log_nearest_words=True)\n",
    "losses = trainer.train()\n"
   ]
  },
  {
   "cell_type": "code",
   "execution_count": 7,
   "metadata": {
    "ExecuteTime": {
     "end_time": "2021-02-08T09:02:56.604519Z",
     "start_time": "2021-02-08T09:02:56.111768Z"
    }
   },
   "outputs": [
    {
     "data": {
      "text/plain": [
       "[<matplotlib.lines.Line2D at 0x7f1b3cbe8550>]"
      ]
     },
     "execution_count": 7,
     "metadata": {},
     "output_type": "execute_result"
    },
    {
     "data": {
      "image/png": "[encoded data removed]",
      "text/plain": [
       "<Figure size 432x288 with 1 Axes>"
      ]
     },
     "metadata": {
      "needs_background": "light"
     },
     "output_type": "display_data"
    }
   ],
   "source": [
    "plt.plot(losses['test_loss'])"
   ]
  },
  {
   "cell_type": "code",
   "execution_count": 8,
   "metadata": {
    "ExecuteTime": {
     "end_time": "2021-02-08T09:03:14.702164Z",
     "start_time": "2021-02-08T09:02:56.605819Z"
    }
   },
   "outputs": [
    {
     "name": "stdout",
     "output_type": "stream",
     "text": [
      "Context: \n",
      "zenobine\t\t closest match: zenobin\n",
      "lauren\t\t closest match: lauren\n",
      "zaida\t\t closest match: zaida\n",
      "nelle\t\t closest match: noelle\n",
      "mathieu\t\t closest match: mathieu\n",
      "malissa\t\t closest match: alis\n",
      "leonick\t\t closest match: nick\n",
      "salvine\t\t closest match: salvine\n",
      "noelle\t\t closest match: noelle\n",
      "gwenny\t\t closest match: gwennyn\n",
      "melissa\t\t closest match: melissa\n",
      "nathana\t\t closest match: nathan\n",
      "maeline\t\t closest match: maeline\n",
      "mahilde\t\t closest match: mathilde\n",
      "maloue\t\t closest match: maloe\n",
      "lyana\t\t closest match: lyana\n",
      "geneva\t\t closest match: geneva\n",
      "leona\t\t closest match: leona\n",
      "placide\t\t closest match: placide\n",
      "\n",
      "Context: a\n",
      "antonine\t\t closest match: antonine\n",
      "arnoul\t\t closest match: arnoult\n",
      "aigna\t\t closest match: aignan\n",
      "angeline\t\t closest match: angeline\n",
      "antonia\t\t closest match: antonia\n",
      "antonie\t\t closest match: antonine\n",
      "alissa\t\t closest match: aissa\n",
      "azilia\t\t closest match: lia\n",
      "aina\t\t closest match: uhaina\n",
      "aubert\t\t closest match: aubert\n",
      "\n",
      "Context: m\n",
      "mallon\t\t closest match: lo\n",
      "maloria\t\t closest match: lo\n",
      "maloue\t\t closest match: maloe\n",
      "maille\t\t closest match: mai\n",
      "melissa\t\t closest match: melissa\n",
      "mathieu\t\t closest match: mathieu\n",
      "maeline\t\t closest match: maeline\n",
      "malissa\t\t closest match: alis\n",
      "mallie\t\t closest match: mallorie\n",
      "malon\t\t closest match: malone\n",
      "melodine\t\t closest match: melodine\n",
      "malchue\t\t closest match: malchus\n",
      "mallorie\t\t closest match: mallorie\n",
      "\n",
      "Context: sim\n",
      "simond\t\t closest match: simon\n",
      "\n"
     ]
    }
   ],
   "source": [
    "generation_testing(wiki_vae, train_dataset.unique_word_list)"
   ]
  },
  {
   "cell_type": "markdown",
   "metadata": {},
   "source": [
    "## Transfer wiki weights, freeze encoder"
   ]
  },
  {
   "cell_type": "code",
   "execution_count": 9,
   "metadata": {
    "ExecuteTime": {
     "end_time": "2021-02-08T09:08:25.102416Z",
     "start_time": "2021-02-08T09:03:14.703330Z"
    }
   },
   "outputs": [
    {
     "name": "stdout",
     "output_type": "stream",
     "text": [
      "data has 34421 characters, 47 unique.\n",
      "data has 3750 characters, 47 unique.\n",
      "x:  genest\n",
      "y:  genest\n",
      "word : genest\n"
     ]
    },
    {
     "name": "stderr",
     "output_type": "stream",
     "text": [
      "epoch 1) iter 0: train_loss 220.8602295, lr = 5.999997e-04:   0%|          | 0/269 [00:00<?, ?it/s]"
     ]
    },
    {
     "name": "stdout",
     "output_type": "stream",
     "text": [
      "Iteration 0 samples:\n",
      "Sample: negagant                  \t closes match: ganet \n",
      "Sample: namet                     \t closes match: ame \n",
      "Sample: engine                    \t closes match: regine \n",
      "Sample: trades                    \t closes match: des \n"
     ]
    },
    {
     "name": "stderr",
     "output_type": "stream",
     "text": [
      "epoch 1) iter 4: train_loss 219.0007019, lr = 5.999080e-04:   1%|▏         | 4/269 [00:02<06:43,  1.52s/it]"
     ]
    },
    {
     "name": "stdout",
     "output_type": "stream",
     "text": [
      "Sample: engroub                   \t closes match: ruby \n"
     ]
    },
    {
     "name": "stderr",
     "output_type": "stream",
     "text": [
      "epoch 1) iter 268: train_loss 218.9481659, lr = 3.006754e-04: 100%|██████████| 269/269 [00:14<00:00, 18.09it/s]\n"
     ]
    },
    {
     "name": "stdout",
     "output_type": "stream",
     "text": [
      "Test loss: 218.1620320638021\n"
     ]
    },
    {
     "name": "stderr",
     "output_type": "stream",
     "text": [
      "epoch 2) iter 0: train_loss 217.7460480, lr = 2.989193e-04:   0%|          | 0/269 [00:00<?, ?it/s]"
     ]
    },
    {
     "name": "stdout",
     "output_type": "stream",
     "text": [
      "Iteration 0 samples:\n",
      "Sample: nea                       \t closes match: linnea \n",
      "Sample: steba                     \t closes match: esteban \n",
      "Sample: arnescon                  \t closes match: agnes \n",
      "Sample: gartreate                 \t closes match: ted \n"
     ]
    },
    {
     "name": "stderr",
     "output_type": "stream",
     "text": [
      "epoch 2) iter 4: train_loss 218.6791992, lr = 2.918956e-04:   1%|▏         | 4/269 [00:02<08:02,  1.82s/it]"
     ]
    },
    {
     "name": "stdout",
     "output_type": "stream",
     "text": [
      "Sample: remanim                   \t closes match: remi \n"
     ]
    },
    {
     "name": "stderr",
     "output_type": "stream",
     "text": [
      "epoch 2) iter 268: train_loss 219.1162109, lr = 6.000000e-05: 100%|██████████| 269/269 [00:15<00:00, 17.35it/s]\n"
     ]
    },
    {
     "name": "stdout",
     "output_type": "stream",
     "text": [
      "Test loss: 218.15076395670573\n"
     ]
    },
    {
     "name": "stderr",
     "output_type": "stream",
     "text": [
      "epoch 3) iter 0: train_loss 218.6708679, lr = 6.000000e-05:   0%|          | 0/269 [00:00<?, ?it/s]"
     ]
    },
    {
     "name": "stdout",
     "output_type": "stream",
     "text": [
      "Iteration 0 samples:\n",
      "Sample: neeli                     \t closes match: neela \n",
      "Sample: rodvinetue                \t closes match: divine \n",
      "Sample: stee                      \t closes match: estee \n",
      "Sample: zaita                     \t closes match: ita \n"
     ]
    },
    {
     "name": "stderr",
     "output_type": "stream",
     "text": [
      "epoch 3) iter 4: train_loss 217.8467102, lr = 6.000000e-05:   1%|▏         | 4/269 [00:02<08:19,  1.88s/it]"
     ]
    },
    {
     "name": "stdout",
     "output_type": "stream",
     "text": [
      "Sample: stef                      \t closes match: stefania \n"
     ]
    },
    {
     "name": "stderr",
     "output_type": "stream",
     "text": [
      "epoch 3) iter 268: train_loss 218.1461945, lr = 3.006754e-04: 100%|██████████| 269/269 [00:15<00:00, 17.54it/s]\n"
     ]
    },
    {
     "name": "stdout",
     "output_type": "stream",
     "text": [
      "Test loss: 218.13929901123046\n"
     ]
    },
    {
     "name": "stderr",
     "output_type": "stream",
     "text": [
      "epoch 4) iter 0: train_loss 217.7527161, lr = 3.024316e-04:   0%|          | 0/269 [00:00<?, ?it/s]"
     ]
    },
    {
     "name": "stdout",
     "output_type": "stream",
     "text": [
      "Iteration 0 samples:\n",
      "Sample: zeliana                   \t closes match: eliana \n",
      "Sample: anaa                      \t closes match: ana \n",
      "Sample: nesela                    \t closes match: neela \n",
      "Sample: tiffard                   \t closes match: if \n"
     ]
    },
    {
     "name": "stderr",
     "output_type": "stream",
     "text": [
      "epoch 4) iter 4: train_loss 217.8399658, lr = 3.094547e-04:   1%|▏         | 4/269 [00:02<07:02,  1.59s/it]"
     ]
    },
    {
     "name": "stdout",
     "output_type": "stream",
     "text": [
      "Sample: zeo                       \t closes match: zeno \n"
     ]
    },
    {
     "name": "stderr",
     "output_type": "stream",
     "text": [
      "epoch 4) iter 268: train_loss 218.6414948, lr = 5.999970e-04: 100%|██████████| 269/269 [00:14<00:00, 18.12it/s]\n"
     ]
    },
    {
     "name": "stdout",
     "output_type": "stream",
     "text": [
      "Test loss: 218.2060312906901\n"
     ]
    },
    {
     "name": "stderr",
     "output_type": "stream",
     "text": [
      "epoch 5) iter 0: train_loss 217.6034851, lr = 5.999839e-04:   0%|          | 0/269 [00:00<?, ?it/s]"
     ]
    },
    {
     "name": "stdout",
     "output_type": "stream",
     "text": [
      "Iteration 0 samples:\n",
      "Sample: queline                   \t closes match: lin \n",
      "Sample: maryliane                 \t closes match: maryline \n",
      "Sample: melia                     \t closes match: amelia \n",
      "Sample: nelle                     \t closes match: noelle \n"
     ]
    },
    {
     "name": "stderr",
     "output_type": "stream",
     "text": [
      "epoch 5) iter 4: train_loss 219.2719116, lr = 5.998289e-04:   1%|▏         | 4/269 [00:02<07:41,  1.74s/it]"
     ]
    },
    {
     "name": "stdout",
     "output_type": "stream",
     "text": [
      "Sample: zan                       \t closes match: leozane \n"
     ]
    },
    {
     "name": "stderr",
     "output_type": "stream",
     "text": [
      "epoch 5) iter 268: train_loss 217.8554230, lr = 2.979737e-04: 100%|██████████| 269/269 [00:15<00:00, 17.88it/s]\n"
     ]
    },
    {
     "name": "stdout",
     "output_type": "stream",
     "text": [
      "Test loss: 218.0008107503255\n"
     ]
    },
    {
     "name": "stderr",
     "output_type": "stream",
     "text": [
      "epoch 6) iter 0: train_loss 217.8459778, lr = 2.962176e-04:   0%|          | 0/269 [00:00<?, ?it/s]"
     ]
    },
    {
     "name": "stdout",
     "output_type": "stream",
     "text": [
      "Iteration 0 samples:\n",
      "Sample: neel                      \t closes match: neela \n",
      "Sample: nonestate                 \t closes match: nanette \n",
      "Sample: nectdes                   \t closes match: des \n",
      "Sample: naelitumon                \t closes match: ael \n"
     ]
    },
    {
     "name": "stderr",
     "output_type": "stream",
     "text": [
      "epoch 6) iter 4: train_loss 218.3604584, lr = 2.891952e-04:   1%|▏         | 4/269 [00:02<08:36,  1.95s/it]"
     ]
    },
    {
     "name": "stdout",
     "output_type": "stream",
     "text": [
      "Sample: xena                      \t closes match: xenia \n"
     ]
    },
    {
     "name": "stderr",
     "output_type": "stream",
     "text": [
      "epoch 6) iter 268: train_loss 217.4984283, lr = 6.000000e-05: 100%|██████████| 269/269 [00:15<00:00, 17.49it/s]\n"
     ]
    },
    {
     "name": "stdout",
     "output_type": "stream",
     "text": [
      "Test loss: 218.09083302815756\n"
     ]
    },
    {
     "name": "stderr",
     "output_type": "stream",
     "text": [
      "epoch 7) iter 0: train_loss 218.3238983, lr = 6.000000e-05:   0%|          | 0/269 [00:00<?, ?it/s]"
     ]
    },
    {
     "name": "stdout",
     "output_type": "stream",
     "text": [
      "Iteration 0 samples:\n",
      "Sample: nedich                    \t closes match: ed \n",
      "Sample: netteoua                  \t closes match: teo \n",
      "Sample: nestina                   \t closes match: tina \n",
      "Sample: nessae                    \t closes match: nessie \n"
     ]
    },
    {
     "name": "stderr",
     "output_type": "stream",
     "text": [
      "epoch 7) iter 4: train_loss 217.6279907, lr = 6.000000e-05:   1%|▏         | 4/269 [00:02<06:38,  1.50s/it]"
     ]
    },
    {
     "name": "stdout",
     "output_type": "stream",
     "text": [
      "Sample: biane                     \t closes match: ian \n"
     ]
    },
    {
     "name": "stderr",
     "output_type": "stream",
     "text": [
      "epoch 7) iter 268: train_loss 218.3194275, lr = 3.033772e-04: 100%|██████████| 269/269 [00:14<00:00, 18.23it/s]\n"
     ]
    },
    {
     "name": "stdout",
     "output_type": "stream",
     "text": [
      "Test loss: 217.9594512939453\n"
     ]
    },
    {
     "name": "stderr",
     "output_type": "stream",
     "text": [
      "epoch 8) iter 0: train_loss 217.7276306, lr = 3.051332e-04:   0%|          | 0/269 [00:00<?, ?it/s]"
     ]
    },
    {
     "name": "stdout",
     "output_type": "stream",
     "text": [
      "Iteration 0 samples:\n",
      "Sample: ary                       \t closes match: maryanick \n",
      "Sample: naturiane                 \t closes match: ian \n",
      "Sample: nebaue                    \t closes match: aure \n",
      "Sample: zzeviuli                  \t closes match: lin \n"
     ]
    },
    {
     "name": "stderr",
     "output_type": "stream",
     "text": [
      "epoch 8) iter 4: train_loss 218.0611420, lr = 3.121547e-04:   1%|▏         | 4/269 [00:02<07:59,  1.81s/it]"
     ]
    },
    {
     "name": "stdout",
     "output_type": "stream",
     "text": [
      "Sample: neso                      \t closes match: neo \n"
     ]
    },
    {
     "name": "stderr",
     "output_type": "stream",
     "text": [
      "epoch 8) iter 268: train_loss 217.9177246, lr = 5.999726e-04: 100%|██████████| 269/269 [00:15<00:00, 17.76it/s]\n"
     ]
    },
    {
     "name": "stdout",
     "output_type": "stream",
     "text": [
      "Test loss: 218.0848653157552\n"
     ]
    },
    {
     "name": "stderr",
     "output_type": "stream",
     "text": [
      "epoch 9) iter 0: train_loss 217.4777069, lr = 5.999438e-04:   0%|          | 0/269 [00:00<?, ?it/s]"
     ]
    },
    {
     "name": "stdout",
     "output_type": "stream",
     "text": [
      "Iteration 0 samples:\n",
      "Sample: engeery                   \t closes match: englebert \n",
      "Sample: ayan                      \t closes match: layana \n",
      "Sample: eye                       \t closes match: cheyenne \n",
      "Sample: aubilis                   \t closes match: lis \n"
     ]
    },
    {
     "name": "stderr",
     "output_type": "stream",
     "text": [
      "epoch 9) iter 4: train_loss 216.7560120, lr = 5.997255e-04:   1%|▏         | 4/269 [00:02<06:55,  1.57s/it]"
     ]
    },
    {
     "name": "stdout",
     "output_type": "stream",
     "text": [
      "Sample: aubine                    \t closes match: aubine \n"
     ]
    },
    {
     "name": "stderr",
     "output_type": "stream",
     "text": [
      "epoch 9) iter 268: train_loss 217.2897034, lr = 2.952721e-04: 100%|██████████| 269/269 [00:14<00:00, 18.16it/s]\n"
     ]
    },
    {
     "name": "stdout",
     "output_type": "stream",
     "text": [
      "Test loss: 217.99720001220703\n"
     ]
    },
    {
     "name": "stderr",
     "output_type": "stream",
     "text": [
      "epoch 10) iter 0: train_loss 216.9292145, lr = 2.935162e-04:   0%|          | 0/269 [00:00<?, ?it/s]"
     ]
    },
    {
     "name": "stdout",
     "output_type": "stream",
     "text": [
      "Iteration 0 samples:\n",
      "Sample: renie                     \t closes match: rene \n",
      "Sample: yer                       \t closes match: yerri \n",
      "Sample: nelo                      \t closes match: lo \n",
      "Sample: baist                     \t closes match: baptiste \n"
     ]
    },
    {
     "name": "stderr",
     "output_type": "stream",
     "text": [
      "epoch 10) iter 4: train_loss 217.7521057, lr = 2.864956e-04:   1%|▏         | 4/269 [00:02<07:31,  1.71s/it]"
     ]
    },
    {
     "name": "stdout",
     "output_type": "stream",
     "text": [
      "Sample: zacaid                    \t closes match: aida \n"
     ]
    },
    {
     "name": "stderr",
     "output_type": "stream",
     "text": [
      "epoch 10) iter 268: train_loss 217.0716553, lr = 6.000000e-05: 100%|██████████| 269/269 [00:15<00:00, 17.88it/s]\n"
     ]
    },
    {
     "name": "stdout",
     "output_type": "stream",
     "text": [
      "Test loss: 217.78990122477214\n"
     ]
    },
    {
     "name": "stderr",
     "output_type": "stream",
     "text": [
      "epoch 11) iter 0: train_loss 218.1301270, lr = 6.000000e-05:   0%|          | 0/269 [00:00<?, ?it/s]"
     ]
    },
    {
     "name": "stdout",
     "output_type": "stream",
     "text": [
      "Iteration 0 samples:\n",
      "Sample: zacina                    \t closes match: inna \n",
      "Sample: nelia                     \t closes match: noelia \n",
      "Sample: nesia                     \t closes match: lesia \n",
      "Sample: zenobinie                 \t closes match: zeno \n"
     ]
    },
    {
     "name": "stderr",
     "output_type": "stream",
     "text": [
      "epoch 11) iter 4: train_loss 217.4465942, lr = 6.000000e-05:   1%|▏         | 4/269 [00:02<07:28,  1.69s/it]"
     ]
    },
    {
     "name": "stdout",
     "output_type": "stream",
     "text": [
      "Sample: refienno                  \t closes match: nuno \n"
     ]
    },
    {
     "name": "stderr",
     "output_type": "stream",
     "text": [
      "epoch 11) iter 268: train_loss 218.1206055, lr = 3.060786e-04: 100%|██████████| 269/269 [00:14<00:00, 17.97it/s]\n"
     ]
    },
    {
     "name": "stdout",
     "output_type": "stream",
     "text": [
      "Test loss: 217.93355458577474\n"
     ]
    },
    {
     "name": "stderr",
     "output_type": "stream",
     "text": [
      "epoch 12) iter 0: train_loss 217.3523254, lr = 3.078343e-04:   0%|          | 0/269 [00:00<?, ?it/s]"
     ]
    },
    {
     "name": "stdout",
     "output_type": "stream",
     "text": [
      "Iteration 0 samples:\n",
      "Sample: oebardis                  \t closes match: paris \n",
      "Sample: nathanala                 \t closes match: nathan \n",
      "Sample: rode                      \t closes match: rodene \n",
      "Sample: agbin                     \t closes match: gabin \n"
     ]
    },
    {
     "name": "stderr",
     "output_type": "stream",
     "text": [
      "epoch 12) iter 4: train_loss 217.7868042, lr = 3.148538e-04:   1%|▏         | 4/269 [00:02<07:49,  1.77s/it]"
     ]
    },
    {
     "name": "stdout",
     "output_type": "stream",
     "text": [
      "Sample: ebgert                    \t closes match: egbert \n"
     ]
    },
    {
     "name": "stderr",
     "output_type": "stream",
     "text": [
      "epoch 12) iter 268: train_loss 217.8317108, lr = 5.999240e-04: 100%|██████████| 269/269 [00:15<00:00, 17.80it/s]\n"
     ]
    },
    {
     "name": "stdout",
     "output_type": "stream",
     "text": [
      "Test loss: 218.0566884358724\n"
     ]
    },
    {
     "name": "stderr",
     "output_type": "stream",
     "text": [
      "epoch 13) iter 0: train_loss 218.1860199, lr = 5.998793e-04:   0%|          | 0/269 [00:00<?, ?it/s]"
     ]
    },
    {
     "name": "stdout",
     "output_type": "stream",
     "text": [
      "Iteration 0 samples:\n",
      "Sample: leance                    \t closes match: leane \n",
      "Sample: zenon                     \t closes match: zenon \n",
      "Sample: lena                      \t closes match: lena \n",
      "Sample: anie                      \t closes match: stephanie \n"
     ]
    },
    {
     "name": "stderr",
     "output_type": "stream",
     "text": [
      "epoch 13) iter 4: train_loss 218.2291565, lr = 5.995978e-04:   1%|▏         | 4/269 [00:02<07:43,  1.75s/it]"
     ]
    },
    {
     "name": "stdout",
     "output_type": "stream",
     "text": [
      "Sample: engebin                   \t closes match: ian \n"
     ]
    },
    {
     "name": "stderr",
     "output_type": "stream",
     "text": [
      "epoch 13) iter 268: train_loss 217.1216278, lr = 2.925708e-04: 100%|██████████| 269/269 [00:15<00:00, 17.81it/s]\n"
     ]
    },
    {
     "name": "stdout",
     "output_type": "stream",
     "text": [
      "Test loss: 217.97213541666667\n"
     ]
    },
    {
     "name": "stderr",
     "output_type": "stream",
     "text": [
      "epoch 14) iter 0: train_loss 217.3477020, lr = 2.908153e-04:   0%|          | 0/269 [00:00<?, ?it/s]"
     ]
    },
    {
     "name": "stdout",
     "output_type": "stream",
     "text": [
      "Iteration 0 samples:\n",
      "Sample: benjar                    \t closes match: ben \n",
      "Sample: nelecia                   \t closes match: electa \n",
      "Sample: zlau                      \t closes match: laud \n",
      "Sample: redrica                   \t closes match: ed \n"
     ]
    },
    {
     "name": "stderr",
     "output_type": "stream",
     "text": [
      "epoch 14) iter 4: train_loss 217.6526489, lr = 2.837971e-04:   1%|▏         | 4/269 [00:02<06:33,  1.49s/it]"
     ]
    },
    {
     "name": "stdout",
     "output_type": "stream",
     "text": [
      "Sample: naymon                    \t closes match: aymon \n"
     ]
    },
    {
     "name": "stderr",
     "output_type": "stream",
     "text": [
      "epoch 14) iter 268: train_loss 218.0282745, lr = 6.000000e-05: 100%|██████████| 269/269 [00:14<00:00, 18.27it/s]\n"
     ]
    },
    {
     "name": "stdout",
     "output_type": "stream",
     "text": [
      "Test loss: 217.87653605143228\n"
     ]
    },
    {
     "name": "stderr",
     "output_type": "stream",
     "text": [
      "epoch 15) iter 0: train_loss 216.6276550, lr = 6.000000e-05:   0%|          | 0/269 [00:00<?, ?it/s]"
     ]
    },
    {
     "name": "stdout",
     "output_type": "stream",
     "text": [
      "Iteration 0 samples:\n",
      "Sample: nfaricie                  \t closes match: aricie \n",
      "Sample: mellanetic                \t closes match: ella \n",
      "Sample: zvise                     \t closes match: venise \n",
      "Sample: zenobod                   \t closes match: zeno \n"
     ]
    },
    {
     "name": "stderr",
     "output_type": "stream",
     "text": [
      "epoch 15) iter 4: train_loss 217.0743713, lr = 6.000000e-05:   1%|▏         | 4/269 [00:02<07:46,  1.76s/it]"
     ]
    },
    {
     "name": "stdout",
     "output_type": "stream",
     "text": [
      "Sample: nela                      \t closes match: nella \n"
     ]
    },
    {
     "name": "stderr",
     "output_type": "stream",
     "text": [
      "epoch 15) iter 268: train_loss 217.9205780, lr = 3.087796e-04: 100%|██████████| 269/269 [00:15<00:00, 17.80it/s]\n"
     ]
    },
    {
     "name": "stdout",
     "output_type": "stream",
     "text": [
      "Test loss: 217.92323557535806\n"
     ]
    },
    {
     "name": "stderr",
     "output_type": "stream",
     "text": [
      "epoch 16) iter 0: train_loss 217.2861786, lr = 3.105348e-04:   0%|          | 0/269 [00:00<?, ?it/s]"
     ]
    },
    {
     "name": "stdout",
     "output_type": "stream",
     "text": [
      "Iteration 0 samples:\n",
      "Sample: yana                      \t closes match: leyana \n",
      "Sample: anthere                   \t closes match: antere \n",
      "Sample: zerine                    \t closes match: erine \n",
      "Sample: nahoum                    \t closes match: nahum \n"
     ]
    },
    {
     "name": "stderr",
     "output_type": "stream",
     "text": [
      "epoch 16) iter 4: train_loss 217.4909058, lr = 3.175516e-04:   1%|▏         | 4/269 [00:02<07:01,  1.59s/it]"
     ]
    },
    {
     "name": "stdout",
     "output_type": "stream",
     "text": [
      "Sample: zelion                    \t closes match: elio \n"
     ]
    },
    {
     "name": "stderr",
     "output_type": "stream",
     "text": [
      "epoch 16) iter 268: train_loss 217.8935089, lr = 5.998510e-04: 100%|██████████| 269/269 [00:14<00:00, 18.06it/s]\n"
     ]
    },
    {
     "name": "stdout",
     "output_type": "stream",
     "text": [
      "Test loss: 217.9040100097656\n"
     ]
    },
    {
     "name": "stderr",
     "output_type": "stream",
     "text": [
      "epoch 17) iter 0: train_loss 217.8297729, lr = 5.997905e-04:   0%|          | 0/269 [00:00<?, ?it/s]"
     ]
    },
    {
     "name": "stdout",
     "output_type": "stream",
     "text": [
      "Iteration 0 samples:\n",
      "Sample: zelane                    \t closes match: zerane \n",
      "Sample: maiel                     \t closes match: maieul \n",
      "Sample: zenobele                  \t closes match: zeno \n",
      "Sample: anselit                   \t closes match: anselin \n"
     ]
    },
    {
     "name": "stderr",
     "output_type": "stream",
     "text": [
      "epoch 17) iter 4: train_loss 217.9104004, lr = 5.994459e-04:   1%|▏         | 4/269 [00:02<06:49,  1.54s/it]"
     ]
    },
    {
     "name": "stdout",
     "output_type": "stream",
     "text": [
      "Sample: nesta                     \t closes match: nestoria \n"
     ]
    },
    {
     "name": "stderr",
     "output_type": "stream",
     "text": [
      "epoch 17) iter 268: train_loss 218.0712128, lr = 2.898702e-04: 100%|██████████| 269/269 [00:14<00:00, 18.15it/s]\n"
     ]
    },
    {
     "name": "stdout",
     "output_type": "stream",
     "text": [
      "Test loss: 217.95385284423827\n"
     ]
    },
    {
     "name": "stderr",
     "output_type": "stream",
     "text": [
      "epoch 18) iter 0: train_loss 217.0561523, lr = 2.881152e-04:   0%|          | 0/269 [00:00<?, ?it/s]"
     ]
    },
    {
     "name": "stdout",
     "output_type": "stream",
     "text": [
      "Iteration 0 samples:\n",
      "Sample: colfrose                  \t closes match: rose \n",
      "Sample: neria                     \t closes match: leria \n",
      "Sample: nessio                    \t closes match: nessie \n",
      "Sample: genada                    \t closes match: ada \n"
     ]
    },
    {
     "name": "stderr",
     "output_type": "stream",
     "text": [
      "epoch 18) iter 4: train_loss 217.5991669, lr = 2.811000e-04:   1%|▏         | 4/269 [00:02<06:29,  1.47s/it]"
     ]
    },
    {
     "name": "stdout",
     "output_type": "stream",
     "text": [
      "Sample: nestine                   \t closes match: ernestine \n"
     ]
    },
    {
     "name": "stderr",
     "output_type": "stream",
     "text": [
      "epoch 18) iter 268: train_loss 216.9993286, lr = 6.000000e-05: 100%|██████████| 269/269 [00:14<00:00, 18.28it/s]\n"
     ]
    },
    {
     "name": "stdout",
     "output_type": "stream",
     "text": [
      "Test loss: 217.7773869832357\n"
     ]
    },
    {
     "name": "stderr",
     "output_type": "stream",
     "text": [
      "epoch 19) iter 0: train_loss 217.0413971, lr = 6.000000e-05:   0%|          | 0/269 [00:00<?, ?it/s]"
     ]
    },
    {
     "name": "stdout",
     "output_type": "stream",
     "text": [
      "Iteration 0 samples:\n",
      "Sample: zephyen                   \t closes match: zephyrin \n",
      "Sample: zephildan                 \t closes match: hild \n",
      "Sample: mtheon                    \t closes match: theo \n",
      "Sample: neig                      \t closes match: neiges \n"
     ]
    },
    {
     "name": "stderr",
     "output_type": "stream",
     "text": [
      "epoch 19) iter 4: train_loss 216.7002411, lr = 6.000000e-05:   1%|▏         | 4/269 [00:02<08:01,  1.82s/it]"
     ]
    },
    {
     "name": "stdout",
     "output_type": "stream",
     "text": [
      "Sample: stephilan                 \t closes match: ilan \n"
     ]
    },
    {
     "name": "stderr",
     "output_type": "stream",
     "text": [
      "epoch 19) iter 268: train_loss 217.6723022, lr = 3.114798e-04: 100%|██████████| 269/269 [00:15<00:00, 17.70it/s]\n"
     ]
    },
    {
     "name": "stdout",
     "output_type": "stream",
     "text": [
      "Test loss: 217.9239283243815\n"
     ]
    },
    {
     "name": "stderr",
     "output_type": "stream",
     "text": [
      "epoch 20) iter 0: train_loss 217.8773193, lr = 3.132345e-04:   0%|          | 0/269 [00:00<?, ?it/s]"
     ]
    },
    {
     "name": "stdout",
     "output_type": "stream",
     "text": [
      "Iteration 0 samples:\n",
      "Sample: norbinat                  \t closes match: noria \n",
      "Sample: sterwane                  \t closes match: erwan \n",
      "Sample: stenie                    \t closes match: sten \n",
      "Sample: rolanand                  \t closes match: lana \n"
     ]
    },
    {
     "name": "stderr",
     "output_type": "stream",
     "text": [
      "epoch 20) iter 4: train_loss 217.1838989, lr = 3.202480e-04:   1%|▏         | 4/269 [00:02<07:09,  1.62s/it]"
     ]
    },
    {
     "name": "stdout",
     "output_type": "stream",
     "text": [
      "Sample: narnea                    \t closes match: nena \n"
     ]
    },
    {
     "name": "stderr",
     "output_type": "stream",
     "text": [
      "epoch 20) iter 268: train_loss 217.9970245, lr = 5.997537e-04: 100%|██████████| 269/269 [00:14<00:00, 17.96it/s]\n"
     ]
    },
    {
     "name": "stdout",
     "output_type": "stream",
     "text": [
      "Test loss: 218.04753672281902\n"
     ]
    }
   ],
   "source": [
    "french_names = []\n",
    "with open(NAMES_DIR / \"french_names_no_accent.txt\", \"r\") as f:\n",
    "    for word in f:\n",
    "        french_names.append(clean_word(word))\n",
    "frozen_wiki_vae = AttentionVae.load(\"wiki_model\")\n",
    "\n",
    "split = 0.9\n",
    "idx = int(len(french_names) * split)\n",
    "np.random.seed(137)\n",
    "np.random.shuffle(french_names)\n",
    "train_french_names = french_names[:idx]\n",
    "val_french_names = french_names[idx:]\n",
    "\n",
    "raw_train_french_names = \" \".join(train_french_names)\n",
    "raw_val_french_names = \" \".join(val_french_names)\n",
    "\n",
    "train_dataset = CharDataset(raw_train_french_names, maxlen, chars=chars)\n",
    "val_dataset = CharDataset(raw_val_french_names, maxlen, chars=chars)\n",
    "\n",
    "idx=298\n",
    "x, y, word = train_dataset[idx]\n",
    "print(\"x: \",decode_word(x.numpy(), frozen_wiki_vae.itos))\n",
    "print(\"y: \",decode_word(y.numpy(), frozen_wiki_vae.itos))\n",
    "print(\"word :\", decode_word(word.numpy(), frozen_wiki_vae.itos))\n",
    "\n",
    "frozen_list = []\n",
    "for par in frozen_wiki_vae.named_parameters():\n",
    "    if \"encoder\" in par[0]:\n",
    "        frozen_list.append(par[0])\n",
    "\n",
    "frozen_wiki_vae = AttentionVae.load(\"wiki_model\")\n",
    "chars = list(frozen_wiki_vae.stoi.keys())\n",
    "maxlen = frozen_wiki_vae.config.block_size\n",
    "\n",
    "tconf = TrainerConfig(\n",
    "    max_epochs=20,\n",
    "    batch_size=128,\n",
    "    learning_rate=6e-4,\n",
    "    lr_decay=True,\n",
    "    warmup_tokens=128 * 20,\n",
    "    final_tokens=2 * len(train_dataset) * maxlen,\n",
    "    num_workers=4,\n",
    "    sample_freq=10000,\n",
    "    freeze_layers=tuple(frozen_list)\n",
    ")\n",
    "trainer = Trainer(frozen_wiki_vae, train_dataset, val_dataset, tconf,log_nearest_words=True)\n",
    "losses = trainer.train()"
   ]
  },
  {
   "cell_type": "code",
   "execution_count": 10,
   "metadata": {
    "ExecuteTime": {
     "end_time": "2021-02-08T09:08:25.203541Z",
     "start_time": "2021-02-08T09:08:25.103519Z"
    },
    "scrolled": true
   },
   "outputs": [
    {
     "data": {
      "text/plain": [
       "[<matplotlib.lines.Line2D at 0x7f1b3cce0090>]"
      ]
     },
     "execution_count": 10,
     "metadata": {},
     "output_type": "execute_result"
    },
    {
     "data": {
      "image/png": "[encoded data removed]",
      "text/plain": [
       "<Figure size 432x288 with 1 Axes>"
      ]
     },
     "metadata": {
      "needs_background": "light"
     },
     "output_type": "display_data"
    }
   ],
   "source": [
    "plt.plot(losses['test_loss'])"
   ]
  },
  {
   "cell_type": "code",
   "execution_count": 11,
   "metadata": {
    "ExecuteTime": {
     "end_time": "2021-02-08T09:08:45.800216Z",
     "start_time": "2021-02-08T09:08:25.204458Z"
    }
   },
   "outputs": [
    {
     "name": "stdout",
     "output_type": "stream",
     "text": [
      "Context: \n",
      "engeline\t\t closest match: lin\n",
      "zenobert\t\t closest match: ober\n",
      "angeline\t\t closest match: angeline\n",
      "meline\t\t closest match: meline\n",
      "nea\t\t closest match: linnea\n",
      "kerlaine\t\t closest match: elaine\n",
      "anne\t\t closest match: anne\n",
      "renat\t\t closest match: renato\n",
      "stephanie\t\t closest match: stephanie\n",
      "loelline\t\t closest match: lin\n",
      "leonie\t\t closest match: leonie\n",
      "nathana\t\t closest match: nathan\n",
      "neliane\t\t closest match: eliane\n",
      "gwenna\t\t closest match: gwennan\n",
      "nelia\t\t closest match: noelia\n",
      "zenodoria\t\t closest match: zenodora\n",
      "zenodore\t\t closest match: zenodore\n",
      "noella\t\t closest match: noella\n",
      "yannick\t\t closest match: yannick\n",
      "\n",
      "Context: a\n",
      "andrien\t\t closest match: adrien\n",
      "antonine\t\t closest match: antonine\n",
      "alyssandre\t\t closest match: alyssandre\n",
      "anne\t\t closest match: anne\n",
      "angeline\t\t closest match: angeline\n",
      "aydon\t\t closest match: adon\n",
      "andrine\t\t closest match: sandrine\n",
      "anika\t\t closest match: anika\n",
      "audred\t\t closest match: ed\n",
      "annaik\t\t closest match: annaik\n",
      "aubert\t\t closest match: aubert\n",
      "\n",
      "Context: m\n",
      "mariane\t\t closest match: marciane\n",
      "mathia\t\t closest match: mathias\n",
      "maeline\t\t closest match: maeline\n",
      "maline\t\t closest match: mayline\n",
      "meliane\t\t closest match: ameliane\n",
      "meline\t\t closest match: meline\n",
      "malline\t\t closest match: lin\n",
      "maliane\t\t closest match: ian\n",
      "malchine\t\t closest match: malachie\n",
      "malchia\t\t closest match: macha\n",
      "\n",
      "Context: sim\n",
      "simplicien\t\t closest match: simplicie\n",
      "simplicio\t\t closest match: simplicie\n",
      "simphoriane\t\t closest match: symphoriane\n",
      "simpline\t\t closest match: lin\n",
      "\n"
     ]
    }
   ],
   "source": [
    "generation_testing(frozen_wiki_vae, train_dataset.unique_word_list)"
   ]
  },
  {
   "cell_type": "markdown",
   "metadata": {},
   "source": [
    "## Plain vae, no transfer"
   ]
  },
  {
   "cell_type": "code",
   "execution_count": 12,
   "metadata": {
    "ExecuteTime": {
     "end_time": "2021-02-09T09:46:02.826191Z",
     "start_time": "2021-02-09T09:46:02.536024Z"
    }
   },
   "outputs": [
    {
     "name": "stdout",
     "output_type": "stream",
     "text": [
      "data has 34421 characters, 47 unique.\n",
      "data has 3750 characters, 47 unique.\n",
      "number of parameters: 851904\n"
     ]
    }
   ],
   "source": [
    "french_names = []\n",
    "with open(NAMES_DIR / \"french_names_no_accent.txt\", \"r\") as f:\n",
    "    for word in f:\n",
    "        french_names.append(clean_word(word))\n",
    "\n",
    "split = 0.9\n",
    "idx = int(len(french_names) * split)\n",
    "np.random.seed(137)\n",
    "np.random.shuffle(french_names)\n",
    "train_french_names = french_names[:idx]\n",
    "val_french_names = french_names[idx:]\n",
    "\n",
    "raw_train_french_names = \" \".join(train_french_names)\n",
    "raw_val_french_names = \" \".join(val_french_names)\n",
    "\n",
    "train_dataset = CharDataset(raw_train_french_names, maxlen, chars=chars)\n",
    "val_dataset = CharDataset(raw_val_french_names, maxlen, chars=chars)\n",
    "\n",
    "\n",
    "config = GPTConfig(train_dataset.vocab_size, maxlen, n_layer=2, n_head=4, n_embd=64)\n",
    "vae = AttentionVae(config)"
   ]
  },
  {
   "cell_type": "code",
   "execution_count": 15,
   "metadata": {
    "ExecuteTime": {
     "end_time": "2021-02-09T10:46:07.956011Z",
     "start_time": "2021-02-09T10:46:07.945146Z"
    }
   },
   "outputs": [
    {
     "data": {
      "text/plain": [
       "<avae.dataset.CharDataset at 0x7f05660dfb10>"
      ]
     },
     "execution_count": 15,
     "metadata": {},
     "output_type": "execute_result"
    }
   ],
   "source": []
  },
  {
   "cell_type": "code",
   "execution_count": 16,
   "metadata": {
    "ExecuteTime": {
     "end_time": "2021-02-09T10:46:33.548482Z",
     "start_time": "2021-02-09T10:46:33.537964Z"
    }
   },
   "outputs": [],
   "source": [
    "vae.stoi = train_dataset.stoi\n",
    "vae.itos = train_dataset.itos"
   ]
  },
  {
   "cell_type": "code",
   "execution_count": 17,
   "metadata": {
    "ExecuteTime": {
     "end_time": "2021-02-09T10:46:42.822658Z",
     "start_time": "2021-02-09T10:46:42.769127Z"
    }
   },
   "outputs": [],
   "source": [
    "vae.save(\"plain\")"
   ]
  },
  {
   "cell_type": "code",
   "execution_count": 18,
   "metadata": {
    "ExecuteTime": {
     "end_time": "2021-02-09T16:45:44.791064Z",
     "start_time": "2021-02-09T16:45:44.772834Z"
    }
   },
   "outputs": [],
   "source": [
    "vae = AttentionVae.load(\"plain\")"
   ]
  },
  {
   "cell_type": "code",
   "execution_count": 20,
   "metadata": {
    "ExecuteTime": {
     "end_time": "2021-02-09T16:45:54.883585Z",
     "start_time": "2021-02-09T16:45:54.870343Z"
    }
   },
   "outputs": [
    {
     "data": {
      "text/plain": [
       "{0: '0',\n",
       " 1: ' ',\n",
       " 2: \"'\",\n",
       " 3: '-',\n",
       " 4: '.',\n",
       " 5: 'a',\n",
       " 6: 'b',\n",
       " 7: 'c',\n",
       " 8: 'd',\n",
       " 9: 'e',\n",
       " 10: 'f',\n",
       " 11: 'g',\n",
       " 12: 'h',\n",
       " 13: 'i',\n",
       " 14: 'j',\n",
       " 15: 'k',\n",
       " 16: 'l',\n",
       " 17: 'm',\n",
       " 18: 'n',\n",
       " 19: 'o',\n",
       " 20: 'p',\n",
       " 21: 'q',\n",
       " 22: 'r',\n",
       " 23: 's',\n",
       " 24: 't',\n",
       " 25: 'u',\n",
       " 26: 'v',\n",
       " 27: 'w',\n",
       " 28: 'x',\n",
       " 29: 'y',\n",
       " 30: 'z',\n",
       " 31: 'à',\n",
       " 32: 'â',\n",
       " 33: 'ã',\n",
       " 34: 'ç',\n",
       " 35: 'è',\n",
       " 36: 'é',\n",
       " 37: 'ê',\n",
       " 38: 'ë',\n",
       " 39: 'î',\n",
       " 40: 'ï',\n",
       " 41: 'ñ',\n",
       " 42: 'ô',\n",
       " 43: 'ö',\n",
       " 44: 'ù',\n",
       " 45: 'û',\n",
       " 46: 'ü'}"
      ]
     },
     "execution_count": 20,
     "metadata": {},
     "output_type": "execute_result"
    }
   ],
   "source": [
    "vae.itos"
   ]
  },
  {
   "cell_type": "code",
   "execution_count": 38,
   "metadata": {
    "ExecuteTime": {
     "end_time": "2021-02-08T11:33:46.181436Z",
     "start_time": "2021-02-08T11:22:34.061276Z"
    }
   },
   "outputs": [
    {
     "name": "stdout",
     "output_type": "stream",
     "text": [
      "data has 34421 characters, 47 unique.\n",
      "data has 3750 characters, 47 unique.\n",
      "number of parameters: 851904\n",
      "x:  genest\n",
      "y:  genest\n",
      "word : genest\n"
     ]
    },
    {
     "name": "stderr",
     "output_type": "stream",
     "text": [
      "  0%|          | 0/135 [00:00<?, ?it/s]/home/simon/code/namegen/avae/src/avae/trainer.py:123: UserWarning: torch.nn.utils.clip_grad_norm is now deprecated in favor of torch.nn.utils.clip_grad_norm_.\n",
      "  self.model.parameters(), self.config.grad_norm_clip\n",
      "epoch 1) iter 0: train_loss 578.5684814, lr = 5.999922e-04:   0%|          | 0/135 [00:00<?, ?it/s]"
     ]
    },
    {
     "name": "stdout",
     "output_type": "stream",
     "text": [
      "Iteration 0 samples:\n",
      "Sample: èèaî'                     \t closes match: valerien \n",
      "Sample: o                         \t closes match: louis \n",
      "Sample: îp                        \t closes match: paule \n",
      "Sample: ùùvè                      \t closes match: valerien \n"
     ]
    },
    {
     "name": "stderr",
     "output_type": "stream",
     "text": [
      "epoch 1) iter 2: train_loss 551.1738281, lr = 5.998594e-04:   2%|▏         | 3/135 [00:02<02:56,  1.34s/it]"
     ]
    },
    {
     "name": "stdout",
     "output_type": "stream",
     "text": [
      "Sample: ièiîwã                    \t closes match: ivi \n"
     ]
    },
    {
     "name": "stderr",
     "output_type": "stream",
     "text": [
      "epoch 1) iter 134: train_loss 488.6313782, lr = 3.006754e-04: 100%|██████████| 135/135 [00:12<00:00, 10.95it/s]\n"
     ]
    },
    {
     "name": "stdout",
     "output_type": "stream",
     "text": [
      "Test loss: 487.21453450520835\n"
     ]
    },
    {
     "name": "stderr",
     "output_type": "stream",
     "text": [
      "epoch 2) iter 0: train_loss 488.3554688, lr = 2.971632e-04:   0%|          | 0/135 [00:00<?, ?it/s]"
     ]
    },
    {
     "name": "stdout",
     "output_type": "stream",
     "text": [
      "Iteration 0 samples:\n"
     ]
    },
    {
     "name": "stderr",
     "output_type": "stream",
     "text": [
      "WARNING:root:Applied processor reduces input query to empty string, all comparisons will have score 0. [Query: '                          ']\n",
      "WARNING:root:Applied processor reduces input query to empty string, all comparisons will have score 0. [Query: '                          ']\n",
      "WARNING:root:Applied processor reduces input query to empty string, all comparisons will have score 0. [Query: '                          ']\n"
     ]
    },
    {
     "name": "stdout",
     "output_type": "stream",
     "text": [
      "Sample: aanira                    \t closes match: ira \n",
      "Sample:                           \t closes match: valerien \n",
      "Sample:                           \t closes match: valerien \n",
      "Sample:                           \t closes match: valerien \n"
     ]
    },
    {
     "name": "stderr",
     "output_type": "stream",
     "text": [
      "epoch 2) iter 2: train_loss 486.7881470, lr = 2.901402e-04:   2%|▏         | 3/135 [00:01<01:36,  1.36it/s]"
     ]
    },
    {
     "name": "stdout",
     "output_type": "stream",
     "text": [
      "Sample: e                         \t closes match: valerien \n"
     ]
    },
    {
     "name": "stderr",
     "output_type": "stream",
     "text": [
      "epoch 2) iter 134: train_loss 488.4967041, lr = 6.000000e-05: 100%|██████████| 135/135 [00:11<00:00, 11.72it/s]\n"
     ]
    },
    {
     "name": "stdout",
     "output_type": "stream",
     "text": [
      "Test loss: 485.7989908854167\n"
     ]
    },
    {
     "name": "stderr",
     "output_type": "stream",
     "text": [
      "epoch 3) iter 0: train_loss 486.4733276, lr = 6.000000e-05:   0%|          | 0/135 [00:00<?, ?it/s]"
     ]
    },
    {
     "name": "stdout",
     "output_type": "stream",
     "text": [
      "Iteration 0 samples:\n",
      "Sample: anian                     \t closes match: ian \n",
      "Sample: lottha                    \t closes match: lo \n",
      "Sample: le                        \t closes match: valerien \n",
      "Sample: line                      \t closes match: line \n"
     ]
    },
    {
     "name": "stderr",
     "output_type": "stream",
     "text": [
      "epoch 3) iter 2: train_loss 486.0195923, lr = 6.000000e-05:   2%|▏         | 3/135 [00:02<03:49,  1.74s/it]"
     ]
    },
    {
     "name": "stdout",
     "output_type": "stream",
     "text": [
      "Sample: is                        \t closes match: louis \n"
     ]
    },
    {
     "name": "stderr",
     "output_type": "stream",
     "text": [
      "epoch 3) iter 134: train_loss 483.8566589, lr = 3.006754e-04: 100%|██████████| 135/135 [00:12<00:00, 10.47it/s]\n"
     ]
    },
    {
     "name": "stdout",
     "output_type": "stream",
     "text": [
      "Test loss: 485.5696573893229\n"
     ]
    },
    {
     "name": "stderr",
     "output_type": "stream",
     "text": [
      "epoch 4) iter 0: train_loss 485.3874817, lr = 3.041876e-04:   0%|          | 0/135 [00:00<?, ?it/s]"
     ]
    },
    {
     "name": "stdout",
     "output_type": "stream",
     "text": [
      "Iteration 0 samples:\n",
      "Sample: sreela                    \t closes match: elda \n",
      "Sample: lyeriea                   \t closes match: leria \n",
      "Sample: ris                       \t closes match: boris \n",
      "Sample: dimlil                    \t closes match: lily \n"
     ]
    },
    {
     "name": "stderr",
     "output_type": "stream",
     "text": [
      "epoch 4) iter 2: train_loss 485.7189941, lr = 3.112098e-04:   2%|▏         | 3/135 [00:02<03:28,  1.58s/it]"
     ]
    },
    {
     "name": "stdout",
     "output_type": "stream",
     "text": [
      "Sample: menise                    \t closes match: denise \n"
     ]
    },
    {
     "name": "stderr",
     "output_type": "stream",
     "text": [
      "epoch 4) iter 134: train_loss 487.0951538, lr = 5.999970e-04: 100%|██████████| 135/135 [00:12<00:00, 10.68it/s]\n"
     ]
    },
    {
     "name": "stdout",
     "output_type": "stream",
     "text": [
      "Test loss: 484.7049275716146\n"
     ]
    },
    {
     "name": "stderr",
     "output_type": "stream",
     "text": [
      "epoch 5) iter 0: train_loss 484.5809631, lr = 5.999606e-04:   0%|          | 0/135 [00:00<?, ?it/s]"
     ]
    },
    {
     "name": "stdout",
     "output_type": "stream",
     "text": [
      "Iteration 0 samples:\n",
      "Sample: alinne                    \t closes match: aline \n",
      "Sample: conlore                   \t closes match: lo \n",
      "Sample: enne                      \t closes match: fabienne \n",
      "Sample: abane                     \t closes match: aubane \n"
     ]
    },
    {
     "name": "stderr",
     "output_type": "stream",
     "text": [
      "epoch 5) iter 2: train_loss 484.6230774, lr = 5.997645e-04:   2%|▏         | 3/135 [00:02<03:37,  1.65s/it]"
     ]
    },
    {
     "name": "stdout",
     "output_type": "stream",
     "text": [
      "Sample: amale                     \t closes match: amable \n"
     ]
    },
    {
     "name": "stderr",
     "output_type": "stream",
     "text": [
      "epoch 5) iter 134: train_loss 486.2016907, lr = 2.979737e-04: 100%|██████████| 135/135 [00:12<00:00, 10.61it/s]\n"
     ]
    },
    {
     "name": "stdout",
     "output_type": "stream",
     "text": [
      "Test loss: 484.14075724283856\n"
     ]
    },
    {
     "name": "stderr",
     "output_type": "stream",
     "text": [
      "epoch 6) iter 0: train_loss 485.4869385, lr = 2.944616e-04:   0%|          | 0/135 [00:00<?, ?it/s]"
     ]
    },
    {
     "name": "stdout",
     "output_type": "stream",
     "text": [
      "Iteration 0 samples:\n",
      "Sample: asten                     \t closes match: sten \n",
      "Sample: aricon                    \t closes match: marion \n",
      "Sample: ard                       \t closes match: godard \n",
      "Sample: pelrele                   \t closes match: perle \n"
     ]
    },
    {
     "name": "stderr",
     "output_type": "stream",
     "text": [
      "epoch 6) iter 2: train_loss 484.6265869, lr = 2.874403e-04:   2%|▏         | 3/135 [00:02<03:34,  1.62s/it]"
     ]
    },
    {
     "name": "stdout",
     "output_type": "stream",
     "text": [
      "Sample: estare                    \t closes match: cesare \n"
     ]
    },
    {
     "name": "stderr",
     "output_type": "stream",
     "text": [
      "epoch 6) iter 134: train_loss 487.5897827, lr = 6.000000e-05: 100%|██████████| 135/135 [00:12<00:00, 10.64it/s]\n"
     ]
    },
    {
     "name": "stdout",
     "output_type": "stream",
     "text": [
      "Test loss: 484.4734619140625\n"
     ]
    },
    {
     "name": "stderr",
     "output_type": "stream",
     "text": [
      "epoch 7) iter 0: train_loss 485.2775269, lr = 6.000000e-05:   0%|          | 0/135 [00:00<?, ?it/s]"
     ]
    },
    {
     "name": "stdout",
     "output_type": "stream",
     "text": [
      "Iteration 0 samples:\n",
      "Sample: eurlle                    \t closes match: erle \n",
      "Sample: am                        \t closes match: james \n",
      "Sample: oril                      \t closes match: victorilla \n",
      "Sample: cortelial                 \t closes match: lia \n"
     ]
    },
    {
     "name": "stderr",
     "output_type": "stream",
     "text": [
      "epoch 7) iter 2: train_loss 485.3739624, lr = 6.000000e-05:   2%|▏         | 3/135 [00:02<04:00,  1.82s/it]"
     ]
    },
    {
     "name": "stdout",
     "output_type": "stream",
     "text": [
      "Sample: anatte                    \t closes match: ana \n"
     ]
    },
    {
     "name": "stderr",
     "output_type": "stream",
     "text": [
      "epoch 7) iter 134: train_loss 485.5808411, lr = 3.033772e-04: 100%|██████████| 135/135 [00:12<00:00, 10.41it/s]\n"
     ]
    },
    {
     "name": "stdout",
     "output_type": "stream",
     "text": [
      "Test loss: 484.5649434407552\n"
     ]
    },
    {
     "name": "stderr",
     "output_type": "stream",
     "text": [
      "epoch 8) iter 0: train_loss 484.9014282, lr = 3.068890e-04:   0%|          | 0/135 [00:00<?, ?it/s]"
     ]
    },
    {
     "name": "stdout",
     "output_type": "stream",
     "text": [
      "Iteration 0 samples:\n",
      "Sample: astia                     \t closes match: sebastia \n",
      "Sample: leiande                   \t closes match: ian \n",
      "Sample: carnel                    \t closes match: carmel \n",
      "Sample: coron                     \t closes match: corona \n"
     ]
    },
    {
     "name": "stderr",
     "output_type": "stream",
     "text": [
      "epoch 8) iter 2: train_loss 483.8270264, lr = 3.139092e-04:   2%|▏         | 3/135 [00:02<03:45,  1.70s/it]"
     ]
    },
    {
     "name": "stdout",
     "output_type": "stream",
     "text": [
      "Sample: banetttie                 \t closes match: tite \n"
     ]
    },
    {
     "name": "stderr",
     "output_type": "stream",
     "text": [
      "epoch 8) iter 134: train_loss 483.3597107, lr = 5.999726e-04: 100%|██████████| 135/135 [00:12<00:00, 10.55it/s]\n"
     ]
    },
    {
     "name": "stdout",
     "output_type": "stream",
     "text": [
      "Test loss: 484.2408833821615\n"
     ]
    },
    {
     "name": "stderr",
     "output_type": "stream",
     "text": [
      "epoch 9) iter 0: train_loss 484.4329224, lr = 5.999046e-04:   0%|          | 0/135 [00:00<?, ?it/s]"
     ]
    },
    {
     "name": "stdout",
     "output_type": "stream",
     "text": [
      "Iteration 0 samples:\n",
      "Sample: leudr                     \t closes match: fleur \n",
      "Sample: gyna                      \t closes match: gina \n",
      "Sample: sivellio                  \t closes match: stellio \n",
      "Sample: soulin                    \t closes match: lin \n"
     ]
    },
    {
     "name": "stderr",
     "output_type": "stream",
     "text": [
      "epoch 9) iter 2: train_loss 484.2173462, lr = 5.996453e-04:   2%|▏         | 3/135 [00:02<03:43,  1.69s/it]"
     ]
    },
    {
     "name": "stdout",
     "output_type": "stream",
     "text": [
      "Sample: liste                     \t closes match: lis \n"
     ]
    },
    {
     "name": "stderr",
     "output_type": "stream",
     "text": [
      "epoch 9) iter 134: train_loss 483.7946472, lr = 2.952721e-04: 100%|██████████| 135/135 [00:12<00:00, 10.57it/s]\n"
     ]
    },
    {
     "name": "stdout",
     "output_type": "stream",
     "text": [
      "Test loss: 484.0136291503906\n"
     ]
    },
    {
     "name": "stderr",
     "output_type": "stream",
     "text": [
      "epoch 10) iter 0: train_loss 485.2465210, lr = 2.917606e-04:   0%|          | 0/135 [00:00<?, ?it/s]"
     ]
    },
    {
     "name": "stdout",
     "output_type": "stream",
     "text": [
      "Iteration 0 samples:\n",
      "Sample: sarima                    \t closes match: sara \n",
      "Sample: martia                    \t closes match: martial \n",
      "Sample: anevan                    \t closes match: evan \n",
      "Sample: gierlo                    \t closes match: lo \n"
     ]
    },
    {
     "name": "stderr",
     "output_type": "stream",
     "text": [
      "epoch 10) iter 2: train_loss 485.3145142, lr = 2.847415e-04:   2%|▏         | 3/135 [00:02<03:27,  1.57s/it]"
     ]
    },
    {
     "name": "stdout",
     "output_type": "stream",
     "text": [
      "Sample: maint                     \t closes match: mai \n"
     ]
    },
    {
     "name": "stderr",
     "output_type": "stream",
     "text": [
      "epoch 10) iter 134: train_loss 483.9128113, lr = 6.000000e-05: 100%|██████████| 135/135 [00:12<00:00, 10.70it/s]\n"
     ]
    },
    {
     "name": "stdout",
     "output_type": "stream",
     "text": [
      "Test loss: 483.9205586751302\n"
     ]
    },
    {
     "name": "stderr",
     "output_type": "stream",
     "text": [
      "epoch 11) iter 0: train_loss 485.3214111, lr = 6.000000e-05:   0%|          | 0/135 [00:00<?, ?it/s]"
     ]
    },
    {
     "name": "stdout",
     "output_type": "stream",
     "text": [
      "Iteration 0 samples:\n",
      "Sample: esan                      \t closes match: teresa \n",
      "Sample: emin                      \t closes match: guillemine \n",
      "Sample: ranele                    \t closes match: angele \n",
      "Sample: sulllinieie               \t closes match: lin \n"
     ]
    },
    {
     "name": "stderr",
     "output_type": "stream",
     "text": [
      "epoch 11) iter 2: train_loss 484.1370850, lr = 6.000000e-05:   2%|▏         | 3/135 [00:03<04:27,  2.03s/it]"
     ]
    },
    {
     "name": "stdout",
     "output_type": "stream",
     "text": [
      "Sample: andelin                   \t closes match: landelin \n"
     ]
    },
    {
     "name": "stderr",
     "output_type": "stream",
     "text": [
      "epoch 11) iter 134: train_loss 483.0829468, lr = 3.060786e-04: 100%|██████████| 135/135 [00:13<00:00, 10.18it/s]\n"
     ]
    },
    {
     "name": "stdout",
     "output_type": "stream",
     "text": [
      "Test loss: 483.9306986490885\n"
     ]
    },
    {
     "name": "stderr",
     "output_type": "stream",
     "text": [
      "epoch 12) iter 0: train_loss 483.8895874, lr = 3.095897e-04:   0%|          | 0/135 [00:00<?, ?it/s]"
     ]
    },
    {
     "name": "stdout",
     "output_type": "stream",
     "text": [
      "Iteration 0 samples:\n",
      "Sample: jantr                     \t closes match: jan \n",
      "Sample: emoinene                  \t closes match: enea \n",
      "Sample: matoriorane               \t closes match: oranne \n",
      "Sample: sterias                   \t closes match: sergia \n"
     ]
    },
    {
     "name": "stderr",
     "output_type": "stream",
     "text": [
      "epoch 12) iter 2: train_loss 484.1164551, lr = 3.166075e-04:   2%|▏         | 3/135 [00:02<03:58,  1.81s/it]"
     ]
    },
    {
     "name": "stdout",
     "output_type": "stream",
     "text": [
      "Sample: elorine                   \t closes match: lorine \n"
     ]
    },
    {
     "name": "stderr",
     "output_type": "stream",
     "text": [
      "epoch 12) iter 134: train_loss 484.8846130, lr = 5.999240e-04: 100%|██████████| 135/135 [00:12<00:00, 10.42it/s]\n"
     ]
    },
    {
     "name": "stdout",
     "output_type": "stream",
     "text": [
      "Test loss: 483.92156372070315\n"
     ]
    },
    {
     "name": "stderr",
     "output_type": "stream",
     "text": [
      "epoch 13) iter 0: train_loss 484.5614624, lr = 5.998243e-04:   0%|          | 0/135 [00:00<?, ?it/s]"
     ]
    },
    {
     "name": "stdout",
     "output_type": "stream",
     "text": [
      "Iteration 0 samples:\n",
      "Sample: maernen                   \t closes match: mae \n",
      "Sample: rophrginie                \t closes match: nine \n",
      "Sample: avianinn                  \t closes match: ian \n",
      "Sample: melien                    \t closes match: melie \n"
     ]
    },
    {
     "name": "stderr",
     "output_type": "stream",
     "text": [
      "epoch 13) iter 2: train_loss 485.1926270, lr = 5.995018e-04:   2%|▏         | 3/135 [00:02<03:43,  1.69s/it]"
     ]
    },
    {
     "name": "stdout",
     "output_type": "stream",
     "text": [
      "Sample: hildde                    \t closes match: hild \n"
     ]
    },
    {
     "name": "stderr",
     "output_type": "stream",
     "text": [
      "epoch 13) iter 134: train_loss 483.4936523, lr = 2.925708e-04: 100%|██████████| 135/135 [00:12<00:00, 10.55it/s]\n"
     ]
    },
    {
     "name": "stdout",
     "output_type": "stream",
     "text": [
      "Test loss: 484.12380167643227\n"
     ]
    },
    {
     "name": "stderr",
     "output_type": "stream",
     "text": [
      "epoch 14) iter 0: train_loss 485.8077698, lr = 2.890602e-04:   0%|          | 0/135 [00:00<?, ?it/s]"
     ]
    },
    {
     "name": "stdout",
     "output_type": "stream",
     "text": [
      "Iteration 0 samples:\n",
      "Sample: mary                      \t closes match: maryanick \n",
      "Sample: mahrine                   \t closes match: mahine \n",
      "Sample: maile                     \t closes match: mai \n",
      "Sample: color                     \t closes match: lo \n"
     ]
    },
    {
     "name": "stderr",
     "output_type": "stream",
     "text": [
      "epoch 14) iter 2: train_loss 485.5628662, lr = 2.820438e-04:   2%|▏         | 3/135 [00:02<03:31,  1.60s/it]"
     ]
    },
    {
     "name": "stdout",
     "output_type": "stream",
     "text": [
      "Sample: leombin                   \t closes match: leo \n"
     ]
    },
    {
     "name": "stderr",
     "output_type": "stream",
     "text": [
      "epoch 14) iter 134: train_loss 484.0361023, lr = 6.000000e-05: 100%|██████████| 135/135 [00:12<00:00, 10.66it/s]\n"
     ]
    },
    {
     "name": "stdout",
     "output_type": "stream",
     "text": [
      "Test loss: 483.9265502929687\n"
     ]
    },
    {
     "name": "stderr",
     "output_type": "stream",
     "text": [
      "epoch 15) iter 0: train_loss 484.0120239, lr = 6.000000e-05:   0%|          | 0/135 [00:00<?, ?it/s]"
     ]
    },
    {
     "name": "stdout",
     "output_type": "stream",
     "text": [
      "Iteration 0 samples:\n",
      "Sample: gamyete                   \t closes match: amy \n",
      "Sample: gervar                    \t closes match: gerard \n",
      "Sample: miotune                   \t closes match: moune \n",
      "Sample: miras                     \t closes match: ira \n"
     ]
    },
    {
     "name": "stderr",
     "output_type": "stream",
     "text": [
      "epoch 15) iter 2: train_loss 485.1891174, lr = 6.000000e-05:   2%|▏         | 3/135 [00:02<03:17,  1.50s/it]"
     ]
    },
    {
     "name": "stdout",
     "output_type": "stream",
     "text": [
      "Sample: lolene                    \t closes match: lo \n"
     ]
    },
    {
     "name": "stderr",
     "output_type": "stream",
     "text": [
      "epoch 15) iter 134: train_loss 484.3526306, lr = 3.087796e-04: 100%|██████████| 135/135 [00:12<00:00, 10.77it/s]\n"
     ]
    },
    {
     "name": "stdout",
     "output_type": "stream",
     "text": [
      "Test loss: 484.04974161783855\n"
     ]
    },
    {
     "name": "stderr",
     "output_type": "stream",
     "text": [
      "epoch 16) iter 0: train_loss 484.0245972, lr = 3.122897e-04:   0%|          | 0/135 [00:00<?, ?it/s]"
     ]
    },
    {
     "name": "stdout",
     "output_type": "stream",
     "text": [
      "Iteration 0 samples:\n",
      "Sample: enilou                    \t closes match: lo \n",
      "Sample: julannie                  \t closes match: ann \n",
      "Sample: geril                     \t closes match: meril \n",
      "Sample: dramindo                  \t closes match: ramon \n"
     ]
    },
    {
     "name": "stderr",
     "output_type": "stream",
     "text": [
      "epoch 16) iter 2: train_loss 484.0877075, lr = 3.193045e-04:   2%|▏         | 3/135 [00:02<03:27,  1.58s/it]"
     ]
    },
    {
     "name": "stdout",
     "output_type": "stream",
     "text": [
      "Sample: nesmure                   \t closes match: esme \n"
     ]
    },
    {
     "name": "stderr",
     "output_type": "stream",
     "text": [
      "epoch 16) iter 134: train_loss 484.7503357, lr = 5.998510e-04: 100%|██████████| 135/135 [00:12<00:00, 10.67it/s]\n"
     ]
    },
    {
     "name": "stdout",
     "output_type": "stream",
     "text": [
      "Test loss: 483.8040364583333\n"
     ]
    },
    {
     "name": "stderr",
     "output_type": "stream",
     "text": [
      "epoch 17) iter 0: train_loss 485.2471008, lr = 5.997197e-04:   0%|          | 0/135 [00:00<?, ?it/s]"
     ]
    },
    {
     "name": "stdout",
     "output_type": "stream",
     "text": [
      "Iteration 0 samples:\n",
      "Sample: ana                       \t closes match: ana \n",
      "Sample: narya                     \t closes match: inaya \n",
      "Sample: eurguittir                \t closes match: gui \n",
      "Sample: gulieline                 \t closes match: lin \n"
     ]
    },
    {
     "name": "stderr",
     "output_type": "stream",
     "text": [
      "epoch 17) iter 2: train_loss 484.0426331, lr = 5.993340e-04:   2%|▏         | 3/135 [00:02<04:12,  1.91s/it]"
     ]
    },
    {
     "name": "stdout",
     "output_type": "stream",
     "text": [
      "Sample: assy                      \t closes match: cassylia \n"
     ]
    },
    {
     "name": "stderr",
     "output_type": "stream",
     "text": [
      "epoch 17) iter 134: train_loss 485.1148987, lr = 2.898702e-04: 100%|██████████| 135/135 [00:13<00:00, 10.32it/s]\n"
     ]
    },
    {
     "name": "stdout",
     "output_type": "stream",
     "text": [
      "Test loss: 483.88161010742186\n"
     ]
    },
    {
     "name": "stderr",
     "output_type": "stream",
     "text": [
      "epoch 18) iter 0: train_loss 484.4336853, lr = 2.863607e-04:   0%|          | 0/135 [00:00<?, ?it/s]"
     ]
    },
    {
     "name": "stdout",
     "output_type": "stream",
     "text": [
      "Iteration 0 samples:\n",
      "Sample: elvarien                  \t closes match: iwen \n",
      "Sample: adrina                    \t closes match: adriana \n",
      "Sample: arican                    \t closes match: marian \n",
      "Sample: brianndale                \t closes match: ian \n"
     ]
    },
    {
     "name": "stderr",
     "output_type": "stream",
     "text": [
      "epoch 18) iter 2: train_loss 484.6275635, lr = 2.793476e-04:   2%|▏         | 3/135 [00:02<03:53,  1.77s/it]"
     ]
    },
    {
     "name": "stdout",
     "output_type": "stream",
     "text": [
      "Sample: marisa                    \t closes match: marisa \n"
     ]
    },
    {
     "name": "stderr",
     "output_type": "stream",
     "text": [
      "epoch 18) iter 134: train_loss 483.4639893, lr = 6.000000e-05: 100%|██████████| 135/135 [00:12<00:00, 10.45it/s]\n"
     ]
    },
    {
     "name": "stdout",
     "output_type": "stream",
     "text": [
      "Test loss: 483.8873616536458\n"
     ]
    },
    {
     "name": "stderr",
     "output_type": "stream",
     "text": [
      "epoch 19) iter 0: train_loss 484.4905396, lr = 6.000000e-05:   0%|          | 0/135 [00:00<?, ?it/s]"
     ]
    },
    {
     "name": "stdout",
     "output_type": "stream",
     "text": [
      "Iteration 0 samples:\n",
      "Sample: euminn                    \t closes match: inna \n",
      "Sample: poris                     \t closes match: boris \n",
      "Sample: thiane                    \t closes match: ian \n",
      "Sample: abatrine                  \t closes match: sabrine \n"
     ]
    },
    {
     "name": "stderr",
     "output_type": "stream",
     "text": [
      "epoch 19) iter 2: train_loss 484.3332520, lr = 6.000000e-05:   2%|▏         | 3/135 [00:02<03:47,  1.72s/it]"
     ]
    },
    {
     "name": "stdout",
     "output_type": "stream",
     "text": [
      "Sample: mettilille                \t closes match: lee \n"
     ]
    },
    {
     "name": "stderr",
     "output_type": "stream",
     "text": [
      "epoch 19) iter 134: train_loss 483.5685425, lr = 3.114798e-04: 100%|██████████| 135/135 [00:12<00:00, 10.52it/s]\n"
     ]
    },
    {
     "name": "stdout",
     "output_type": "stream",
     "text": [
      "Test loss: 483.7249450683594\n"
     ]
    },
    {
     "name": "stderr",
     "output_type": "stream",
     "text": [
      "epoch 20) iter 0: train_loss 484.8720093, lr = 3.149887e-04:   0%|          | 0/135 [00:00<?, ?it/s]"
     ]
    },
    {
     "name": "stdout",
     "output_type": "stream",
     "text": [
      "Iteration 0 samples:\n",
      "Sample: ange                      \t closes match: ange \n",
      "Sample: amen                      \t closes match: kamen \n",
      "Sample: edollie                   \t closes match: ed \n",
      "Sample: ersan                     \t closes match: ursan \n"
     ]
    },
    {
     "name": "stderr",
     "output_type": "stream",
     "text": [
      "epoch 20) iter 2: train_loss 483.6065674, lr = 3.219998e-04:   2%|▏         | 3/135 [00:02<04:00,  1.82s/it]"
     ]
    },
    {
     "name": "stdout",
     "output_type": "stream",
     "text": [
      "Sample: golie                     \t closes match: olive \n"
     ]
    },
    {
     "name": "stderr",
     "output_type": "stream",
     "text": [
      "epoch 20) iter 134: train_loss 482.9155273, lr = 5.997537e-04: 100%|██████████| 135/135 [00:12<00:00, 10.40it/s]\n"
     ]
    },
    {
     "name": "stdout",
     "output_type": "stream",
     "text": [
      "Test loss: 483.6344909667969\n"
     ]
    },
    {
     "name": "stderr",
     "output_type": "stream",
     "text": [
      "epoch 21) iter 0: train_loss 483.7171631, lr = 5.995908e-04:   0%|          | 0/135 [00:00<?, ?it/s]"
     ]
    },
    {
     "name": "stdout",
     "output_type": "stream",
     "text": [
      "Iteration 0 samples:\n",
      "Sample: aralle                    \t closes match: armaelle \n",
      "Sample: erunerna                  \t closes match: erna \n",
      "Sample: morelle                   \t closes match: melle \n",
      "Sample: bildetr                   \t closes match: benilde \n"
     ]
    },
    {
     "name": "stderr",
     "output_type": "stream",
     "text": [
      "epoch 21) iter 2: train_loss 483.3556213, lr = 5.991420e-04:   2%|▏         | 3/135 [00:02<03:26,  1.56s/it]"
     ]
    },
    {
     "name": "stdout",
     "output_type": "stream",
     "text": [
      "Sample: ponnetre                  \t closes match: neree \n"
     ]
    },
    {
     "name": "stderr",
     "output_type": "stream",
     "text": [
      "epoch 21) iter 134: train_loss 485.4526367, lr = 2.871704e-04: 100%|██████████| 135/135 [00:12<00:00, 10.69it/s]\n"
     ]
    },
    {
     "name": "stdout",
     "output_type": "stream",
     "text": [
      "Test loss: 483.69761759440104\n"
     ]
    },
    {
     "name": "stderr",
     "output_type": "stream",
     "text": [
      "epoch 22) iter 0: train_loss 485.3127441, lr = 2.836622e-04:   0%|          | 0/135 [00:00<?, ?it/s]"
     ]
    },
    {
     "name": "stdout",
     "output_type": "stream",
     "text": [
      "Iteration 0 samples:\n",
      "Sample: indiane                   \t closes match: ian \n",
      "Sample: gabiore                   \t closes match: gabie \n",
      "Sample: lysia                     \t closes match: lys \n",
      "Sample: joel                      \t closes match: joel \n"
     ]
    },
    {
     "name": "stderr",
     "output_type": "stream",
     "text": [
      "epoch 22) iter 2: train_loss 484.2916870, lr = 2.766531e-04:   2%|▏         | 3/135 [00:02<03:23,  1.54s/it]"
     ]
    },
    {
     "name": "stdout",
     "output_type": "stream",
     "text": [
      "Sample: gaudare                   \t closes match: ares \n"
     ]
    },
    {
     "name": "stderr",
     "output_type": "stream",
     "text": [
      "epoch 22) iter 134: train_loss 482.2058411, lr = 6.000000e-05: 100%|██████████| 135/135 [00:12<00:00, 10.74it/s]\n"
     ]
    },
    {
     "name": "stdout",
     "output_type": "stream",
     "text": [
      "Test loss: 483.5635131835937\n"
     ]
    },
    {
     "name": "stderr",
     "output_type": "stream",
     "text": [
      "epoch 23) iter 0: train_loss 483.8209229, lr = 6.000000e-05:   0%|          | 0/135 [00:00<?, ?it/s]"
     ]
    },
    {
     "name": "stdout",
     "output_type": "stream",
     "text": [
      "Iteration 0 samples:\n",
      "Sample: than                      \t closes match: athanasie \n",
      "Sample: marystie                  \t closes match: maryse \n",
      "Sample: mil                       \t closes match: camille \n",
      "Sample: anickele                  \t closes match: nick \n"
     ]
    },
    {
     "name": "stderr",
     "output_type": "stream",
     "text": [
      "epoch 23) iter 2: train_loss 483.4027100, lr = 6.000000e-05:   2%|▏         | 3/135 [00:02<03:52,  1.76s/it]"
     ]
    },
    {
     "name": "stdout",
     "output_type": "stream",
     "text": [
      "Sample: jinyll                    \t closes match: jill \n"
     ]
    },
    {
     "name": "stderr",
     "output_type": "stream",
     "text": [
      "epoch 23) iter 134: train_loss 483.1990662, lr = 3.141791e-04: 100%|██████████| 135/135 [00:12<00:00, 10.47it/s]\n"
     ]
    },
    {
     "name": "stdout",
     "output_type": "stream",
     "text": [
      "Test loss: 483.6202819824219\n"
     ]
    },
    {
     "name": "stderr",
     "output_type": "stream",
     "text": [
      "epoch 24) iter 0: train_loss 483.8082581, lr = 3.176865e-04:   0%|          | 0/135 [00:00<?, ?it/s]"
     ]
    },
    {
     "name": "stdout",
     "output_type": "stream",
     "text": [
      "Iteration 0 samples:\n",
      "Sample: eturina                   \t closes match: venturin \n",
      "Sample: eulian                    \t closes match: elian \n",
      "Sample: maria                     \t closes match: maria \n",
      "Sample: alious                    \t closes match: ali \n"
     ]
    },
    {
     "name": "stderr",
     "output_type": "stream",
     "text": [
      "epoch 24) iter 2: train_loss 485.2733459, lr = 3.246934e-04:   2%|▏         | 3/135 [00:02<03:26,  1.56s/it]"
     ]
    },
    {
     "name": "stdout",
     "output_type": "stream",
     "text": [
      "Sample: bence                     \t closes match: ben \n"
     ]
    },
    {
     "name": "stderr",
     "output_type": "stream",
     "text": [
      "epoch 24) iter 134: train_loss 483.8973389, lr = 5.996320e-04: 100%|██████████| 135/135 [00:12<00:00, 10.71it/s]\n"
     ]
    },
    {
     "name": "stdout",
     "output_type": "stream",
     "text": [
      "Test loss: 483.60015665690105\n"
     ]
    },
    {
     "name": "stderr",
     "output_type": "stream",
     "text": [
      "epoch 25) iter 0: train_loss 483.8979187, lr = 5.994376e-04:   0%|          | 0/135 [00:00<?, ?it/s]"
     ]
    },
    {
     "name": "stdout",
     "output_type": "stream",
     "text": [
      "Iteration 0 samples:\n",
      "Sample: matthe                    \t closes match: mattheo \n",
      "Sample: amanuie                   \t closes match: amandine \n",
      "Sample: anton                     \t closes match: anton \n",
      "Sample: slauu                     \t closes match: salaun \n"
     ]
    },
    {
     "name": "stderr",
     "output_type": "stream",
     "text": [
      "epoch 25) iter 2: train_loss 484.1356506, lr = 5.989256e-04:   2%|▏         | 3/135 [00:02<03:16,  1.49s/it]"
     ]
    },
    {
     "name": "stdout",
     "output_type": "stream",
     "text": [
      "Sample: aloda                     \t closes match: oda \n"
     ]
    },
    {
     "name": "stderr",
     "output_type": "stream",
     "text": [
      "epoch 25) iter 134: train_loss 484.7500000, lr = 2.844716e-04: 100%|██████████| 135/135 [00:12<00:00, 10.79it/s]\n"
     ]
    },
    {
     "name": "stdout",
     "output_type": "stream",
     "text": [
      "Test loss: 483.7190734863281\n"
     ]
    },
    {
     "name": "stderr",
     "output_type": "stream",
     "text": [
      "epoch 26) iter 0: train_loss 483.2943726, lr = 2.809652e-04:   0%|          | 0/135 [00:00<?, ?it/s]"
     ]
    },
    {
     "name": "stdout",
     "output_type": "stream",
     "text": [
      "Iteration 0 samples:\n",
      "Sample: edie                      \t closes match: ed \n",
      "Sample: ermainn                   \t closes match: mai \n",
      "Sample: bicthye                   \t closes match: thea \n",
      "Sample: mianale                   \t closes match: ian \n"
     ]
    },
    {
     "name": "stderr",
     "output_type": "stream",
     "text": [
      "epoch 26) iter 2: train_loss 484.0976562, lr = 2.739605e-04:   2%|▏         | 3/135 [00:02<03:44,  1.70s/it]"
     ]
    },
    {
     "name": "stdout",
     "output_type": "stream",
     "text": [
      "Sample: sidbonani                 \t closes match: bona \n"
     ]
    },
    {
     "name": "stderr",
     "output_type": "stream",
     "text": [
      "epoch 26) iter 134: train_loss 484.3153687, lr = 6.000000e-05: 100%|██████████| 135/135 [00:12<00:00, 10.52it/s]\n"
     ]
    },
    {
     "name": "stdout",
     "output_type": "stream",
     "text": [
      "Test loss: 483.6540486653646\n"
     ]
    },
    {
     "name": "stderr",
     "output_type": "stream",
     "text": [
      "epoch 27) iter 0: train_loss 484.1243896, lr = 6.000000e-05:   0%|          | 0/135 [00:00<?, ?it/s]"
     ]
    },
    {
     "name": "stdout",
     "output_type": "stream",
     "text": [
      "Iteration 0 samples:\n",
      "Sample: anonotar                  \t closes match: ano \n",
      "Sample: ellemia                   \t closes match: mia \n",
      "Sample: anchela                   \t closes match: ancel \n",
      "Sample: bylberte                  \t closes match: bert \n"
     ]
    },
    {
     "name": "stderr",
     "output_type": "stream",
     "text": [
      "epoch 27) iter 2: train_loss 483.9616089, lr = 6.000000e-05:   2%|▏         | 3/135 [00:02<03:22,  1.54s/it]"
     ]
    },
    {
     "name": "stdout",
     "output_type": "stream",
     "text": [
      "Sample: jemardra                  \t closes match: dora \n"
     ]
    },
    {
     "name": "stderr",
     "output_type": "stream",
     "text": [
      "epoch 27) iter 134: train_loss 484.7559204, lr = 3.168773e-04: 100%|██████████| 135/135 [00:12<00:00, 10.73it/s]\n"
     ]
    },
    {
     "name": "stdout",
     "output_type": "stream",
     "text": [
      "Test loss: 483.63816731770834\n"
     ]
    },
    {
     "name": "stderr",
     "output_type": "stream",
     "text": [
      "epoch 28) iter 0: train_loss 484.9788818, lr = 3.203828e-04:   0%|          | 0/135 [00:00<?, ?it/s]"
     ]
    },
    {
     "name": "stdout",
     "output_type": "stream",
     "text": [
      "Iteration 0 samples:\n",
      "Sample: cosstim                   \t closes match: tim \n",
      "Sample: cornat                    \t closes match: orna \n",
      "Sample: eventola                  \t closes match: even \n",
      "Sample: emalie                    \t closes match: ali \n"
     ]
    },
    {
     "name": "stderr",
     "output_type": "stream",
     "text": [
      "epoch 28) iter 2: train_loss 483.5157471, lr = 3.273850e-04:   2%|▏         | 3/135 [00:02<03:24,  1.55s/it]"
     ]
    },
    {
     "name": "stdout",
     "output_type": "stream",
     "text": [
      "Sample: landro                    \t closes match: leandro \n"
     ]
    },
    {
     "name": "stderr",
     "output_type": "stream",
     "text": [
      "epoch 28) iter 134: train_loss 482.3625183, lr = 5.994861e-04: 100%|██████████| 135/135 [00:12<00:00, 10.71it/s]\n"
     ]
    },
    {
     "name": "stdout",
     "output_type": "stream",
     "text": [
      "Test loss: 483.68079427083336\n"
     ]
    },
    {
     "name": "stderr",
     "output_type": "stream",
     "text": [
      "epoch 29) iter 0: train_loss 484.0036011, lr = 5.992601e-04:   0%|          | 0/135 [00:00<?, ?it/s]"
     ]
    },
    {
     "name": "stdout",
     "output_type": "stream",
     "text": [
      "Iteration 0 samples:\n",
      "Sample: andonic                   \t closes match: andronic \n",
      "Sample: eve                       \t closes match: everilde \n",
      "Sample: edana                     \t closes match: ed \n",
      "Sample: pasthya                   \t closes match: thea \n"
     ]
    },
    {
     "name": "stderr",
     "output_type": "stream",
     "text": [
      "epoch 29) iter 2: train_loss 482.8516541, lr = 5.986851e-04:   2%|▏         | 3/135 [00:02<03:21,  1.53s/it]"
     ]
    },
    {
     "name": "stdout",
     "output_type": "stream",
     "text": [
      "Sample: ailys                     \t closes match: lys \n"
     ]
    },
    {
     "name": "stderr",
     "output_type": "stream",
     "text": [
      "epoch 29) iter 134: train_loss 483.6976624, lr = 2.817741e-04: 100%|██████████| 135/135 [00:12<00:00, 10.72it/s]\n"
     ]
    },
    {
     "name": "stdout",
     "output_type": "stream",
     "text": [
      "Test loss: 483.8476196289063\n"
     ]
    },
    {
     "name": "stderr",
     "output_type": "stream",
     "text": [
      "epoch 30) iter 0: train_loss 484.0449219, lr = 2.782696e-04:   0%|          | 0/135 [00:00<?, ?it/s]"
     ]
    },
    {
     "name": "stdout",
     "output_type": "stream",
     "text": [
      "Iteration 0 samples:\n",
      "Sample: timia                     \t closes match: mia \n",
      "Sample: nard                      \t closes match: lienard \n",
      "Sample: claido                    \t closes match: clio \n",
      "Sample: serin                     \t closes match: sernin \n"
     ]
    },
    {
     "name": "stderr",
     "output_type": "stream",
     "text": [
      "epoch 30) iter 2: train_loss 483.2302856, lr = 2.712700e-04:   2%|▏         | 3/135 [00:02<03:35,  1.63s/it]"
     ]
    },
    {
     "name": "stdout",
     "output_type": "stream",
     "text": [
      "Sample: galdime                   \t closes match: imre \n"
     ]
    },
    {
     "name": "stderr",
     "output_type": "stream",
     "text": [
      "epoch 30) iter 134: train_loss 482.2523804, lr = 6.000000e-05: 100%|██████████| 135/135 [00:12<00:00, 10.62it/s]\n"
     ]
    },
    {
     "name": "stdout",
     "output_type": "stream",
     "text": [
      "Test loss: 483.5197428385417\n"
     ]
    },
    {
     "name": "stderr",
     "output_type": "stream",
     "text": [
      "epoch 31) iter 0: train_loss 484.3165894, lr = 6.000000e-05:   0%|          | 0/135 [00:00<?, ?it/s]"
     ]
    },
    {
     "name": "stdout",
     "output_type": "stream",
     "text": [
      "Iteration 0 samples:\n",
      "Sample: meon                      \t closes match: symeon \n",
      "Sample: loria                     \t closes match: lorian \n",
      "Sample: beral                     \t closes match: liberal \n",
      "Sample: alorian                   \t closes match: lorian \n"
     ]
    },
    {
     "name": "stderr",
     "output_type": "stream",
     "text": [
      "epoch 31) iter 2: train_loss 484.1690674, lr = 6.000000e-05:   2%|▏         | 3/135 [00:02<03:45,  1.71s/it]"
     ]
    },
    {
     "name": "stdout",
     "output_type": "stream",
     "text": [
      "Sample: ciena                     \t closes match: siena \n"
     ]
    },
    {
     "name": "stderr",
     "output_type": "stream",
     "text": [
      "epoch 31) iter 134: train_loss 485.2462769, lr = 3.195741e-04: 100%|██████████| 135/135 [00:12<00:00, 10.51it/s]\n"
     ]
    },
    {
     "name": "stdout",
     "output_type": "stream",
     "text": [
      "Test loss: 483.7136922200521\n"
     ]
    },
    {
     "name": "stderr",
     "output_type": "stream",
     "text": [
      "epoch 32) iter 0: train_loss 483.0034180, lr = 3.230775e-04:   0%|          | 0/135 [00:00<?, ?it/s]"
     ]
    },
    {
     "name": "stdout",
     "output_type": "stream",
     "text": [
      "Iteration 0 samples:\n",
      "Sample: bittoucaline              \t closes match: caline \n",
      "Sample: rombaurino                \t closes match: maurin \n",
      "Sample: alomicane                 \t closes match: lo \n",
      "Sample: albalia                   \t closes match: lia \n"
     ]
    },
    {
     "name": "stderr",
     "output_type": "stream",
     "text": [
      "epoch 32) iter 2: train_loss 484.0567017, lr = 3.300744e-04:   2%|▏         | 3/135 [00:03<04:58,  2.26s/it]"
     ]
    },
    {
     "name": "stdout",
     "output_type": "stream",
     "text": [
      "Sample: francian                  \t closes match: franciane \n"
     ]
    },
    {
     "name": "stderr",
     "output_type": "stream",
     "text": [
      "epoch 32) iter 134: train_loss 482.8062134, lr = 5.993159e-04: 100%|██████████| 135/135 [00:13<00:00,  9.73it/s]\n"
     ]
    },
    {
     "name": "stdout",
     "output_type": "stream",
     "text": [
      "Test loss: 483.41253662109375\n"
     ]
    },
    {
     "name": "stderr",
     "output_type": "stream",
     "text": [
      "epoch 33) iter 0: train_loss 483.9537964, lr = 5.990583e-04:   0%|          | 0/135 [00:00<?, ?it/s]"
     ]
    },
    {
     "name": "stdout",
     "output_type": "stream",
     "text": [
      "Iteration 0 samples:\n",
      "Sample: aeliane                   \t closes match: ameliane \n",
      "Sample: dovita                    \t closes match: ita \n",
      "Sample: lal                       \t closes match: eulalie \n",
      "Sample: ana                       \t closes match: ana \n"
     ]
    },
    {
     "name": "stderr",
     "output_type": "stream",
     "text": [
      "epoch 33) iter 2: train_loss 483.3786621, lr = 5.984203e-04:   2%|▏         | 3/135 [00:02<03:51,  1.75s/it]"
     ]
    },
    {
     "name": "stdout",
     "output_type": "stream",
     "text": [
      "Sample: gadiline                  \t closes match: lin \n"
     ]
    },
    {
     "name": "stderr",
     "output_type": "stream",
     "text": [
      "epoch 33) iter 134: train_loss 484.5314331, lr = 2.790781e-04: 100%|██████████| 135/135 [00:12<00:00, 10.42it/s]\n"
     ]
    },
    {
     "name": "stdout",
     "output_type": "stream",
     "text": [
      "Test loss: 483.39015706380206\n"
     ]
    },
    {
     "name": "stderr",
     "output_type": "stream",
     "text": [
      "epoch 34) iter 0: train_loss 483.3970032, lr = 2.755758e-04:   0%|          | 0/135 [00:00<?, ?it/s]"
     ]
    },
    {
     "name": "stdout",
     "output_type": "stream",
     "text": [
      "Iteration 0 samples:\n",
      "Sample: marilia                   \t closes match: lia \n",
      "Sample: lembe                     \t closes match: lee \n",
      "Sample: peandit                   \t closes match: ita \n",
      "Sample: armen                     \t closes match: carmen \n"
     ]
    },
    {
     "name": "stderr",
     "output_type": "stream",
     "text": [
      "epoch 34) iter 2: train_loss 484.2499084, lr = 2.685818e-04:   2%|▏         | 3/135 [00:02<03:19,  1.51s/it]"
     ]
    },
    {
     "name": "stdout",
     "output_type": "stream",
     "text": [
      "Sample: fariane                   \t closes match: ariane \n"
     ]
    },
    {
     "name": "stderr",
     "output_type": "stream",
     "text": [
      "epoch 34) iter 134: train_loss 484.2650452, lr = 6.000000e-05: 100%|██████████| 135/135 [00:12<00:00, 10.56it/s]\n"
     ]
    },
    {
     "name": "stdout",
     "output_type": "stream",
     "text": [
      "Test loss: 483.570556640625\n"
     ]
    },
    {
     "name": "stderr",
     "output_type": "stream",
     "text": [
      "epoch 35) iter 0: train_loss 484.3400574, lr = 6.000000e-05:   0%|          | 0/135 [00:00<?, ?it/s]"
     ]
    },
    {
     "name": "stdout",
     "output_type": "stream",
     "text": [
      "Iteration 0 samples:\n",
      "Sample: salin                     \t closes match: messaline \n",
      "Sample: carlatia                  \t closes match: tia \n",
      "Sample: nimia                     \t closes match: mia \n",
      "Sample: rodgirda                  \t closes match: ogier \n"
     ]
    },
    {
     "name": "stderr",
     "output_type": "stream",
     "text": [
      "epoch 35) iter 2: train_loss 484.1432495, lr = 6.000000e-05:   2%|▏         | 3/135 [00:02<03:42,  1.68s/it]"
     ]
    },
    {
     "name": "stdout",
     "output_type": "stream",
     "text": [
      "Sample: albie                     \t closes match: albine \n"
     ]
    },
    {
     "name": "stderr",
     "output_type": "stream",
     "text": [
      "epoch 35) iter 134: train_loss 483.7534180, lr = 3.222693e-04: 100%|██████████| 135/135 [00:13<00:00, 10.36it/s]\n"
     ]
    },
    {
     "name": "stdout",
     "output_type": "stream",
     "text": [
      "Test loss: 483.52158610026044\n"
     ]
    },
    {
     "name": "stderr",
     "output_type": "stream",
     "text": [
      "epoch 36) iter 0: train_loss 483.5609741, lr = 3.257703e-04:   0%|          | 0/135 [00:00<?, ?it/s]"
     ]
    },
    {
     "name": "stdout",
     "output_type": "stream",
     "text": [
      "Iteration 0 samples:\n",
      "Sample: anoula                    \t closes match: ano \n",
      "Sample: milge                     \t closes match: emile \n",
      "Sample: selvarit                  \t closes match: rite \n",
      "Sample: perr                      \t closes match: perrine \n"
     ]
    },
    {
     "name": "stderr",
     "output_type": "stream",
     "text": [
      "epoch 36) iter 2: train_loss 483.9077759, lr = 3.327613e-04:   2%|▏         | 3/135 [00:02<03:38,  1.66s/it]"
     ]
    },
    {
     "name": "stdout",
     "output_type": "stream",
     "text": [
      "Sample: alianne                   \t closes match: alanne \n"
     ]
    },
    {
     "name": "stderr",
     "output_type": "stream",
     "text": [
      "epoch 36) iter 134: train_loss 483.1935425, lr = 5.991214e-04: 100%|██████████| 135/135 [00:13<00:00, 10.31it/s]\n"
     ]
    },
    {
     "name": "stdout",
     "output_type": "stream",
     "text": [
      "Test loss: 483.56622924804685\n"
     ]
    },
    {
     "name": "stderr",
     "output_type": "stream",
     "text": [
      "epoch 37) iter 0: train_loss 483.2249756, lr = 5.988323e-04:   0%|          | 0/135 [00:00<?, ?it/s]"
     ]
    },
    {
     "name": "stdout",
     "output_type": "stream",
     "text": [
      "Iteration 0 samples:\n",
      "Sample: sirva                     \t closes match: sirpa \n",
      "Sample: eudiovered                \t closes match: ed \n",
      "Sample: manoria                   \t closes match: oria \n",
      "Sample: lucych                    \t closes match: lucy \n"
     ]
    },
    {
     "name": "stderr",
     "output_type": "stream",
     "text": [
      "epoch 37) iter 2: train_loss 483.8845215, lr = 5.981313e-04:   2%|▏         | 3/135 [00:02<03:43,  1.69s/it]"
     ]
    },
    {
     "name": "stdout",
     "output_type": "stream",
     "text": [
      "Sample: bridanet                  \t closes match: aneth \n"
     ]
    },
    {
     "name": "stderr",
     "output_type": "stream",
     "text": [
      "epoch 37) iter 134: train_loss 483.1107788, lr = 2.763838e-04: 100%|██████████| 135/135 [00:13<00:00, 10.00it/s]\n"
     ]
    },
    {
     "name": "stdout",
     "output_type": "stream",
     "text": [
      "Test loss: 483.3795674641927\n"
     ]
    },
    {
     "name": "stderr",
     "output_type": "stream",
     "text": [
      "epoch 38) iter 0: train_loss 482.6054382, lr = 2.728841e-04:   0%|          | 0/135 [00:00<?, ?it/s]"
     ]
    },
    {
     "name": "stdout",
     "output_type": "stream",
     "text": [
      "Iteration 0 samples:\n",
      "Sample: mirian                    \t closes match: miria \n",
      "Sample: fald                      \t closes match: mafalda \n",
      "Sample: maryce                    \t closes match: marcie \n",
      "Sample: jodesan                   \t closes match: des \n"
     ]
    },
    {
     "name": "stderr",
     "output_type": "stream",
     "text": [
      "epoch 38) iter 2: train_loss 482.7784424, lr = 2.658962e-04:   2%|▏         | 3/135 [00:02<03:30,  1.60s/it]"
     ]
    },
    {
     "name": "stdout",
     "output_type": "stream",
     "text": [
      "Sample: ervitt                    \t closes match: itta \n"
     ]
    },
    {
     "name": "stderr",
     "output_type": "stream",
     "text": [
      "epoch 38) iter 134: train_loss 483.1724854, lr = 6.000000e-05: 100%|██████████| 135/135 [00:13<00:00, 10.36it/s]\n"
     ]
    },
    {
     "name": "stdout",
     "output_type": "stream",
     "text": [
      "Test loss: 483.3843139648437\n"
     ]
    },
    {
     "name": "stderr",
     "output_type": "stream",
     "text": [
      "epoch 39) iter 0: train_loss 483.5372925, lr = 6.000000e-05:   0%|          | 0/135 [00:00<?, ?it/s]"
     ]
    },
    {
     "name": "stdout",
     "output_type": "stream",
     "text": [
      "Iteration 0 samples:\n",
      "Sample: maelione                  \t closes match: maeline \n",
      "Sample: landore                   \t closes match: leandre \n",
      "Sample: mail                      \t closes match: mailis \n",
      "Sample: nardiane                  \t closes match: ian \n"
     ]
    },
    {
     "name": "stderr",
     "output_type": "stream",
     "text": [
      "epoch 39) iter 2: train_loss 483.4683838, lr = 6.000000e-05:   2%|▏         | 3/135 [00:02<03:57,  1.80s/it]"
     ]
    },
    {
     "name": "stdout",
     "output_type": "stream",
     "text": [
      "Sample: laisylla                  \t closes match: ladislas \n"
     ]
    },
    {
     "name": "stderr",
     "output_type": "stream",
     "text": [
      "epoch 39) iter 134: train_loss 483.5034485, lr = 3.249627e-04: 100%|██████████| 135/135 [00:13<00:00, 10.03it/s]\n"
     ]
    },
    {
     "name": "stdout",
     "output_type": "stream",
     "text": [
      "Test loss: 483.36118977864584\n"
     ]
    },
    {
     "name": "stderr",
     "output_type": "stream",
     "text": [
      "epoch 40) iter 0: train_loss 482.8311768, lr = 3.284610e-04:   0%|          | 0/135 [00:00<?, ?it/s]"
     ]
    },
    {
     "name": "stdout",
     "output_type": "stream",
     "text": [
      "Iteration 0 samples:\n",
      "Sample: marianalin                \t closes match: ian \n",
      "Sample: mary                      \t closes match: maryanick \n",
      "Sample: josain                    \t closes match: jos \n",
      "Sample: maell                     \t closes match: maelle \n"
     ]
    },
    {
     "name": "stderr",
     "output_type": "stream",
     "text": [
      "epoch 40) iter 2: train_loss 483.5126648, lr = 3.354456e-04:   2%|▏         | 3/135 [00:02<03:57,  1.80s/it]"
     ]
    },
    {
     "name": "stdout",
     "output_type": "stream",
     "text": [
      "Sample: moteran                   \t closes match: moderan \n"
     ]
    },
    {
     "name": "stderr",
     "output_type": "stream",
     "text": [
      "epoch 40) iter 134: train_loss 484.6538696, lr = 5.989027e-04: 100%|██████████| 135/135 [00:13<00:00, 10.19it/s]\n"
     ]
    },
    {
     "name": "stdout",
     "output_type": "stream",
     "text": [
      "Test loss: 483.32823893229164\n"
     ]
    },
    {
     "name": "stderr",
     "output_type": "stream",
     "text": [
      "epoch 41) iter 0: train_loss 484.5949402, lr = 5.985821e-04:   0%|          | 0/135 [00:00<?, ?it/s]"
     ]
    },
    {
     "name": "stdout",
     "output_type": "stream",
     "text": [
      "Iteration 0 samples:\n",
      "Sample: aliena                    \t closes match: alena \n",
      "Sample: gabillaine                \t closes match: bill \n",
      "Sample: arsea                     \t closes match: aurea \n",
      "Sample: abyert                    \t closes match: aubert \n"
     ]
    },
    {
     "name": "stderr",
     "output_type": "stream",
     "text": [
      "epoch 41) iter 2: train_loss 483.0265808, lr = 5.978181e-04:   2%|▏         | 3/135 [00:02<03:54,  1.77s/it]"
     ]
    },
    {
     "name": "stdout",
     "output_type": "stream",
     "text": [
      "Sample: malchie                   \t closes match: malachie \n"
     ]
    },
    {
     "name": "stderr",
     "output_type": "stream",
     "text": [
      "epoch 41) iter 134: train_loss 484.9646912, lr = 2.736914e-04: 100%|██████████| 135/135 [00:13<00:00, 10.16it/s]\n"
     ]
    },
    {
     "name": "stdout",
     "output_type": "stream",
     "text": [
      "Test loss: 483.5283467610677\n"
     ]
    },
    {
     "name": "stderr",
     "output_type": "stream",
     "text": [
      "epoch 42) iter 0: train_loss 483.5822754, lr = 2.701945e-04:   0%|          | 0/135 [00:00<?, ?it/s]"
     ]
    },
    {
     "name": "stdout",
     "output_type": "stream",
     "text": [
      "Iteration 0 samples:\n",
      "Sample: eles                      \t closes match: celestin \n",
      "Sample: maya                      \t closes match: maya \n",
      "Sample: goelieme                  \t closes match: elie \n",
      "Sample: munev                     \t closes match: moune \n"
     ]
    },
    {
     "name": "stderr",
     "output_type": "stream",
     "text": [
      "epoch 42) iter 2: train_loss 483.8184204, lr = 2.632134e-04:   2%|▏         | 3/135 [00:02<04:07,  1.88s/it]"
     ]
    },
    {
     "name": "stdout",
     "output_type": "stream",
     "text": [
      "Sample: mogieryco                 \t closes match: ogier \n"
     ]
    },
    {
     "name": "stderr",
     "output_type": "stream",
     "text": [
      "epoch 42) iter 134: train_loss 482.7279358, lr = 6.000000e-05: 100%|██████████| 135/135 [00:13<00:00,  9.94it/s]\n"
     ]
    },
    {
     "name": "stdout",
     "output_type": "stream",
     "text": [
      "Test loss: 483.2110595703125\n"
     ]
    },
    {
     "name": "stderr",
     "output_type": "stream",
     "text": [
      "epoch 43) iter 0: train_loss 483.5483398, lr = 6.000000e-05:   0%|          | 0/135 [00:00<?, ?it/s]"
     ]
    },
    {
     "name": "stdout",
     "output_type": "stream",
     "text": [
      "Iteration 0 samples:\n",
      "Sample: arssine                   \t closes match: yassine \n",
      "Sample: claucina                  \t closes match: lucinda \n",
      "Sample: laalia                    \t closes match: lia \n",
      "Sample: samphane                  \t closes match: sam \n"
     ]
    },
    {
     "name": "stderr",
     "output_type": "stream",
     "text": [
      "epoch 43) iter 2: train_loss 483.3494263, lr = 6.000000e-05:   2%|▏         | 3/135 [00:02<03:48,  1.73s/it]"
     ]
    },
    {
     "name": "stdout",
     "output_type": "stream",
     "text": [
      "Sample: aude                      \t closes match: aude \n"
     ]
    },
    {
     "name": "stderr",
     "output_type": "stream",
     "text": [
      "epoch 43) iter 134: train_loss 483.5430908, lr = 3.276541e-04: 100%|██████████| 135/135 [00:13<00:00, 10.21it/s]\n"
     ]
    },
    {
     "name": "stdout",
     "output_type": "stream",
     "text": [
      "Test loss: 483.23060913085936\n"
     ]
    },
    {
     "name": "stderr",
     "output_type": "stream",
     "text": [
      "epoch 44) iter 0: train_loss 482.8204041, lr = 3.311494e-04:   0%|          | 0/135 [00:00<?, ?it/s]"
     ]
    },
    {
     "name": "stdout",
     "output_type": "stream",
     "text": [
      "Iteration 0 samples:\n",
      "Sample: abelide                   \t closes match: abel \n",
      "Sample: therad                    \t closes match: thea \n",
      "Sample: nathes                    \t closes match: natheo \n",
      "Sample: stalessine                \t closes match: ines \n"
     ]
    },
    {
     "name": "stderr",
     "output_type": "stream",
     "text": [
      "epoch 44) iter 2: train_loss 484.1735840, lr = 3.381270e-04:   2%|▏         | 3/135 [00:02<03:42,  1.69s/it]"
     ]
    },
    {
     "name": "stdout",
     "output_type": "stream",
     "text": [
      "Sample: nanckan                   \t closes match: kaan \n"
     ]
    },
    {
     "name": "stderr",
     "output_type": "stream",
     "text": [
      "epoch 44) iter 134: train_loss 483.9988708, lr = 5.986597e-04: 100%|██████████| 135/135 [00:13<00:00, 10.28it/s]\n"
     ]
    },
    {
     "name": "stdout",
     "output_type": "stream",
     "text": [
      "Test loss: 483.273036702474\n"
     ]
    },
    {
     "name": "stderr",
     "output_type": "stream",
     "text": [
      "epoch 45) iter 0: train_loss 483.6570435, lr = 5.983076e-04:   0%|          | 0/135 [00:00<?, ?it/s]"
     ]
    },
    {
     "name": "stdout",
     "output_type": "stream",
     "text": [
      "Iteration 0 samples:\n",
      "Sample: fancam                    \t closes match: franca \n",
      "Sample: marco                     \t closes match: marco \n",
      "Sample: geraice                   \t closes match: grace \n",
      "Sample: bodulmin                  \t closes match: mina \n"
     ]
    },
    {
     "name": "stderr",
     "output_type": "stream",
     "text": [
      "epoch 45) iter 2: train_loss 483.2796021, lr = 5.974808e-04:   2%|▏         | 3/135 [00:02<03:28,  1.58s/it]"
     ]
    },
    {
     "name": "stdout",
     "output_type": "stream",
     "text": [
      "Sample: marel                     \t closes match: marcel \n"
     ]
    },
    {
     "name": "stderr",
     "output_type": "stream",
     "text": [
      "epoch 45) iter 134: train_loss 482.0370483, lr = 2.710011e-04: 100%|██████████| 135/135 [00:13<00:00, 10.37it/s]\n"
     ]
    },
    {
     "name": "stdout",
     "output_type": "stream",
     "text": [
      "Test loss: 483.36560872395836\n"
     ]
    },
    {
     "name": "stderr",
     "output_type": "stream",
     "text": [
      "epoch 46) iter 0: train_loss 483.1158142, lr = 2.675073e-04:   0%|          | 0/135 [00:00<?, ?it/s]"
     ]
    },
    {
     "name": "stdout",
     "output_type": "stream",
     "text": [
      "Iteration 0 samples:\n",
      "Sample: franceline                \t closes match: franceline \n",
      "Sample: alis                      \t closes match: alis \n",
      "Sample: elina                     \t closes match: elina \n",
      "Sample: janalau                   \t closes match: jan \n"
     ]
    },
    {
     "name": "stderr",
     "output_type": "stream",
     "text": [
      "epoch 46) iter 2: train_loss 484.0916748, lr = 2.605335e-04:   2%|▏         | 3/135 [00:02<03:58,  1.80s/it]"
     ]
    },
    {
     "name": "stdout",
     "output_type": "stream",
     "text": [
      "Sample: fidiera                   \t closes match: erna \n"
     ]
    },
    {
     "name": "stderr",
     "output_type": "stream",
     "text": [
      "epoch 46) iter 134: train_loss 482.9876099, lr = 6.000000e-05: 100%|██████████| 135/135 [00:13<00:00, 10.16it/s]\n"
     ]
    },
    {
     "name": "stdout",
     "output_type": "stream",
     "text": [
      "Test loss: 483.32959798177086\n"
     ]
    },
    {
     "name": "stderr",
     "output_type": "stream",
     "text": [
      "epoch 47) iter 0: train_loss 483.8038940, lr = 6.000000e-05:   0%|          | 0/135 [00:00<?, ?it/s]"
     ]
    },
    {
     "name": "stdout",
     "output_type": "stream",
     "text": [
      "Iteration 0 samples:\n",
      "Sample: coralena                  \t closes match: alena \n",
      "Sample: marlecie                  \t closes match: marcie \n",
      "Sample: mais                      \t closes match: maissane \n",
      "Sample: elitha                    \t closes match: elita \n"
     ]
    },
    {
     "name": "stderr",
     "output_type": "stream",
     "text": [
      "epoch 47) iter 2: train_loss 483.0979309, lr = 6.000000e-05:   2%|▏         | 3/135 [00:02<03:59,  1.81s/it]"
     ]
    },
    {
     "name": "stdout",
     "output_type": "stream",
     "text": [
      "Sample: joanne                    \t closes match: johanne \n"
     ]
    },
    {
     "name": "stderr",
     "output_type": "stream",
     "text": [
      "epoch 47) iter 134: train_loss 483.4161072, lr = 3.303432e-04: 100%|██████████| 135/135 [00:13<00:00,  9.96it/s]\n"
     ]
    },
    {
     "name": "stdout",
     "output_type": "stream",
     "text": [
      "Test loss: 483.2621175130208\n"
     ]
    },
    {
     "name": "stderr",
     "output_type": "stream",
     "text": [
      "epoch 48) iter 0: train_loss 484.2221680, lr = 3.338353e-04:   0%|          | 0/135 [00:00<?, ?it/s]"
     ]
    },
    {
     "name": "stdout",
     "output_type": "stream",
     "text": [
      "Iteration 0 samples:\n",
      "Sample: soce                      \t closes match: solene \n",
      "Sample: greguile                  \t closes match: greg \n",
      "Sample: france                    \t closes match: france \n",
      "Sample: elian                     \t closes match: elian \n"
     ]
    },
    {
     "name": "stderr",
     "output_type": "stream",
     "text": [
      "epoch 48) iter 2: train_loss 483.3438721, lr = 3.408053e-04:   2%|▏         | 3/135 [00:02<04:03,  1.84s/it]"
     ]
    },
    {
     "name": "stdout",
     "output_type": "stream",
     "text": [
      "Sample: elia                      \t closes match: elia \n"
     ]
    },
    {
     "name": "stderr",
     "output_type": "stream",
     "text": [
      "epoch 48) iter 134: train_loss 485.1409607, lr = 5.983925e-04: 100%|██████████| 135/135 [00:13<00:00,  9.94it/s]\n"
     ]
    },
    {
     "name": "stdout",
     "output_type": "stream",
     "text": [
      "Test loss: 483.167079671224\n"
     ]
    },
    {
     "name": "stderr",
     "output_type": "stream",
     "text": [
      "epoch 49) iter 0: train_loss 483.6304016, lr = 5.980089e-04:   0%|          | 0/135 [00:00<?, ?it/s]"
     ]
    },
    {
     "name": "stdout",
     "output_type": "stream",
     "text": [
      "Iteration 0 samples:\n",
      "Sample: aidea                     \t closes match: aida \n",
      "Sample: mathorine                 \t closes match: mathurine \n",
      "Sample: claris                    \t closes match: clar \n",
      "Sample: goulttia                  \t closes match: tia \n"
     ]
    },
    {
     "name": "stderr",
     "output_type": "stream",
     "text": [
      "epoch 49) iter 2: train_loss 483.1443787, lr = 5.971193e-04:   2%|▏         | 3/135 [00:02<04:09,  1.89s/it]"
     ]
    },
    {
     "name": "stdout",
     "output_type": "stream",
     "text": [
      "Sample: saby                      \t closes match: saby \n"
     ]
    },
    {
     "name": "stderr",
     "output_type": "stream",
     "text": [
      "epoch 49) iter 134: train_loss 484.0125427, lr = 2.683132e-04: 100%|██████████| 135/135 [00:13<00:00,  9.94it/s]\n"
     ]
    },
    {
     "name": "stdout",
     "output_type": "stream",
     "text": [
      "Test loss: 483.2302693684896\n"
     ]
    },
    {
     "name": "stderr",
     "output_type": "stream",
     "text": [
      "epoch 50) iter 0: train_loss 484.0217896, lr = 2.648227e-04:   0%|          | 0/135 [00:00<?, ?it/s]"
     ]
    },
    {
     "name": "stdout",
     "output_type": "stream",
     "text": [
      "Iteration 0 samples:\n",
      "Sample: simie                     \t closes match: aimie \n",
      "Sample: guene                     \t closes match: guenael \n",
      "Sample: finedy                    \t closes match: fine \n",
      "Sample: lucrice                   \t closes match: luc \n"
     ]
    },
    {
     "name": "stderr",
     "output_type": "stream",
     "text": [
      "epoch 50) iter 2: train_loss 483.6258850, lr = 2.578568e-04:   2%|▏         | 3/135 [00:02<03:31,  1.60s/it]"
     ]
    },
    {
     "name": "stdout",
     "output_type": "stream",
     "text": [
      "Sample: brunnael                  \t closes match: ael \n"
     ]
    },
    {
     "name": "stderr",
     "output_type": "stream",
     "text": [
      "epoch 50) iter 134: train_loss 484.5942688, lr = 6.000000e-05: 100%|██████████| 135/135 [00:13<00:00, 10.17it/s]\n"
     ]
    },
    {
     "name": "stdout",
     "output_type": "stream",
     "text": [
      "Test loss: 483.12848307291665\n"
     ]
    }
   ],
   "source": [
    "french_names = []\n",
    "with open(NAMES_DIR / \"french_names_no_accent.txt\", \"r\") as f:\n",
    "    for word in f:\n",
    "        french_names.append(clean_word(word))\n",
    "\n",
    "split = 0.9\n",
    "idx = int(len(french_names) * split)\n",
    "np.random.seed(137)\n",
    "np.random.shuffle(french_names)\n",
    "train_french_names = french_names[:idx]\n",
    "val_french_names = french_names[idx:]\n",
    "\n",
    "raw_train_french_names = \" \".join(train_french_names)\n",
    "raw_val_french_names = \" \".join(val_french_names)\n",
    "\n",
    "train_dataset = CharDataset(raw_train_french_names, maxlen, chars=chars)\n",
    "val_dataset = CharDataset(raw_val_french_names, maxlen, chars=chars)\n",
    "\n",
    "\n",
    "config = GPTConfig(train_dataset.vocab_size, maxlen, n_layer=2, n_head=4, n_embd=64)\n",
    "vae = AttentionVae(config)\n",
    "\n",
    "\n",
    "idx=298\n",
    "x, y, word = train_dataset[idx]\n",
    "print(\"x: \",decode_word(x.numpy(), train_dataset.itos))\n",
    "print(\"y: \",decode_word(y.numpy(), train_dataset.itos))\n",
    "print(\"word :\", decode_word(word.numpy(), train_dataset.itos))\n",
    "\n",
    "frozen_list = []\n",
    "for par in vae.named_parameters():\n",
    "    if \"encoder\" in par[0]:\n",
    "        frozen_list.append(par[0])\n",
    "        \n",
    "chars = list(train_dataset.stoi.keys())\n",
    "maxlen = train_dataset.block_size\n",
    "\n",
    "tconf = TrainerConfig(\n",
    "    max_epochs=50,\n",
    "    batch_size=256,\n",
    "    learning_rate=6e-4,\n",
    "    lr_decay=True,\n",
    "    warmup_tokens=128 * 20,\n",
    "    final_tokens=2 * len(train_dataset) * maxlen,\n",
    "    num_workers=4,\n",
    "    sample_freq=10000,\n",
    "    freeze_layers=tuple(frozen_list)\n",
    ")\n",
    "trainer = Trainer(vae, train_dataset, val_dataset, tconf,log_nearest_words=True)\n",
    "losses = trainer.train()"
   ]
  },
  {
   "cell_type": "code",
   "execution_count": 13,
   "metadata": {
    "ExecuteTime": {
     "end_time": "2021-02-09T09:46:11.212927Z",
     "start_time": "2021-02-09T09:46:11.187463Z"
    }
   },
   "outputs": [],
   "source": [
    "vae.save(\"plain\")"
   ]
  },
  {
   "cell_type": "code",
   "execution_count": 39,
   "metadata": {
    "ExecuteTime": {
     "end_time": "2021-02-08T11:33:46.301079Z",
     "start_time": "2021-02-08T11:33:46.182887Z"
    },
    "scrolled": true
   },
   "outputs": [
    {
     "data": {
      "text/plain": [
       "[<matplotlib.lines.Line2D at 0x7f1b1cf62150>]"
      ]
     },
     "execution_count": 39,
     "metadata": {},
     "output_type": "execute_result"
    },
    {
     "data": {
      "image/png": "[encoded data removed]",
      "text/plain": [
       "<Figure size 432x288 with 1 Axes>"
      ]
     },
     "metadata": {
      "needs_background": "light"
     },
     "output_type": "display_data"
    }
   ],
   "source": [
    "plt.plot(losses['test_loss'])"
   ]
  },
  {
   "cell_type": "code",
   "execution_count": 40,
   "metadata": {
    "ExecuteTime": {
     "end_time": "2021-02-08T11:34:06.316584Z",
     "start_time": "2021-02-08T11:33:46.302514Z"
    }
   },
   "outputs": [
    {
     "name": "stdout",
     "output_type": "stream",
     "text": [
      "Context: \n",
      "andrie\t\t closest match: andrieu\n",
      "mariane\t\t closest match: marciane\n",
      "alexandrine\t\t closest match: alexandrine\n",
      "alexandrin\t\t closest match: alexandrin\n",
      "amaria\t\t closest match: maria\n",
      "annaelle\t\t closest match: annaelle\n",
      "anna\t\t closest match: anna\n",
      "albert\t\t closest match: albert\n",
      "andria\t\t closest match: andreia\n",
      "anseline\t\t closest match: anselin\n",
      "marian\t\t closest match: marian\n",
      "anaelle\t\t closest match: anaelle\n",
      "maria\t\t closest match: maria\n",
      "andric\t\t closest match: andronic\n",
      "alissa\t\t closest match: aissa\n",
      "anton\t\t closest match: anton\n",
      "andrein\t\t closest match: andreia\n",
      "\n",
      "Context: a\n",
      "andrie\t\t closest match: andrieu\n",
      "alexandric\t\t closest match: alex\n",
      "angeline\t\t closest match: angeline\n",
      "annaelle\t\t closest match: annaelle\n",
      "andria\t\t closest match: andreia\n",
      "albert\t\t closest match: albert\n",
      "andrine\t\t closest match: sandrine\n",
      "alexand\t\t closest match: alex\n",
      "alexandre\t\t closest match: alex\n",
      "alexan\t\t closest match: alexane\n",
      "anaelle\t\t closest match: anaelle\n",
      "andric\t\t closest match: andronic\n",
      "alexine\t\t closest match: alexine\n",
      "anton\t\t closest match: anton\n",
      "\n",
      "Context: m\n",
      "mariane\t\t closest match: marciane\n",
      "marien\t\t closest match: marien\n",
      "marielle\t\t closest match: marielle\n",
      "mariana\t\t closest match: mariana\n",
      "maria\t\t closest match: maria\n",
      "marian\t\t closest match: marian\n",
      "\n",
      "Context: sim\n",
      "simphoriane\t\t closest match: symphoriane\n",
      "simphorian\t\t closest match: ian\n",
      "simphoria\t\t closest match: oria\n",
      "simon\t\t closest match: simon\n",
      "simphorine\t\t closest match: symphorine\n",
      "\n"
     ]
    }
   ],
   "source": [
    "generation_testing(vae, train_dataset.unique_word_list)"
   ]
  },
  {
   "cell_type": "markdown",
   "metadata": {},
   "source": [
    "## French model, freeze "
   ]
  },
  {
   "cell_type": "code",
   "execution_count": 41,
   "metadata": {
    "ExecuteTime": {
     "end_time": "2021-02-08T11:43:00.741737Z",
     "start_time": "2021-02-08T11:34:06.317982Z"
    }
   },
   "outputs": [
    {
     "name": "stdout",
     "output_type": "stream",
     "text": [
      "data has 34421 characters, 47 unique.\n",
      "data has 3750 characters, 47 unique.\n",
      "x:  genest\n",
      "y:  genest\n",
      "word : genest\n"
     ]
    },
    {
     "name": "stderr",
     "output_type": "stream",
     "text": [
      "epoch 1) iter 0: train_loss 224.2957458, lr = 5.999922e-04:   0%|          | 0/135 [00:00<?, ?it/s]"
     ]
    },
    {
     "name": "stdout",
     "output_type": "stream",
     "text": [
      "Iteration 0 samples:\n",
      "Sample: igle                      \t closes match: theophile \n",
      "Sample: alée                      \t closes match: valerien \n",
      "Sample: dérie                     \t closes match: adrienne \n",
      "Sample: clai                      \t closes match: clairette \n"
     ]
    },
    {
     "name": "stderr",
     "output_type": "stream",
     "text": [
      "epoch 1) iter 2: train_loss 224.1293030, lr = 5.998594e-04:   2%|▏         | 3/135 [00:03<04:49,  2.19s/it]"
     ]
    },
    {
     "name": "stdout",
     "output_type": "stream",
     "text": [
      "Sample: perterient                \t closes match: per \n"
     ]
    },
    {
     "name": "stderr",
     "output_type": "stream",
     "text": [
      "epoch 1) iter 134: train_loss 221.4048767, lr = 3.006754e-04: 100%|██████████| 135/135 [00:13<00:00,  9.81it/s]\n"
     ]
    },
    {
     "name": "stdout",
     "output_type": "stream",
     "text": [
      "Test loss: 222.1877451578776\n"
     ]
    },
    {
     "name": "stderr",
     "output_type": "stream",
     "text": [
      "epoch 2) iter 0: train_loss 222.0484009, lr = 2.971632e-04:   0%|          | 0/135 [00:00<?, ?it/s]"
     ]
    },
    {
     "name": "stdout",
     "output_type": "stream",
     "text": [
      "Iteration 0 samples:\n",
      "Sample: sebort                    \t closes match: sigebert \n",
      "Sample: lystia                    \t closes match: lys \n",
      "Sample: calle                     \t closes match: callie \n",
      "Sample: mina                      \t closes match: mina \n"
     ]
    },
    {
     "name": "stderr",
     "output_type": "stream",
     "text": [
      "epoch 2) iter 2: train_loss 222.4422913, lr = 2.901402e-04:   2%|▏         | 3/135 [00:02<03:43,  1.69s/it]"
     ]
    },
    {
     "name": "stdout",
     "output_type": "stream",
     "text": [
      "Sample: glaule                    \t closes match: paule \n"
     ]
    },
    {
     "name": "stderr",
     "output_type": "stream",
     "text": [
      "epoch 2) iter 134: train_loss 222.8915558, lr = 6.000000e-05: 100%|██████████| 135/135 [00:13<00:00, 10.32it/s]\n"
     ]
    },
    {
     "name": "stdout",
     "output_type": "stream",
     "text": [
      "Test loss: 222.0229064941406\n"
     ]
    },
    {
     "name": "stderr",
     "output_type": "stream",
     "text": [
      "epoch 3) iter 0: train_loss 222.3374634, lr = 6.000000e-05:   0%|          | 0/135 [00:00<?, ?it/s]"
     ]
    },
    {
     "name": "stdout",
     "output_type": "stream",
     "text": [
      "Iteration 0 samples:\n",
      "Sample: lory                      \t closes match: lo \n",
      "Sample: louenne                   \t closes match: lo \n",
      "Sample: corinte                   \t closes match: corine \n",
      "Sample: melan                     \t closes match: melane \n"
     ]
    },
    {
     "name": "stderr",
     "output_type": "stream",
     "text": [
      "epoch 3) iter 2: train_loss 222.8615875, lr = 6.000000e-05:   2%|▏         | 3/135 [00:02<03:28,  1.58s/it]"
     ]
    },
    {
     "name": "stdout",
     "output_type": "stream",
     "text": [
      "Sample: barilie                   \t closes match: bertilie \n"
     ]
    },
    {
     "name": "stderr",
     "output_type": "stream",
     "text": [
      "epoch 3) iter 134: train_loss 222.8808136, lr = 3.006754e-04: 100%|██████████| 135/135 [00:12<00:00, 10.44it/s]\n"
     ]
    },
    {
     "name": "stdout",
     "output_type": "stream",
     "text": [
      "Test loss: 222.02972615559895\n"
     ]
    },
    {
     "name": "stderr",
     "output_type": "stream",
     "text": [
      "epoch 4) iter 0: train_loss 222.2699585, lr = 3.041876e-04:   0%|          | 0/135 [00:00<?, ?it/s]"
     ]
    },
    {
     "name": "stdout",
     "output_type": "stream",
     "text": [
      "Iteration 0 samples:\n",
      "Sample: lauless                   \t closes match: alessio \n",
      "Sample: joaspe                    \t closes match: joas \n",
      "Sample: mastala                   \t closes match: alar \n",
      "Sample: anielbect                 \t closes match: electa \n"
     ]
    },
    {
     "name": "stderr",
     "output_type": "stream",
     "text": [
      "epoch 4) iter 2: train_loss 221.8226318, lr = 3.112098e-04:   2%|▏         | 3/135 [00:02<03:36,  1.64s/it]"
     ]
    },
    {
     "name": "stdout",
     "output_type": "stream",
     "text": [
      "Sample: guele                     \t closes match: guenole \n"
     ]
    },
    {
     "name": "stderr",
     "output_type": "stream",
     "text": [
      "epoch 4) iter 134: train_loss 221.9241028, lr = 5.999970e-04: 100%|██████████| 135/135 [00:12<00:00, 10.39it/s]\n"
     ]
    },
    {
     "name": "stdout",
     "output_type": "stream",
     "text": [
      "Test loss: 222.01986796061198\n"
     ]
    },
    {
     "name": "stderr",
     "output_type": "stream",
     "text": [
      "epoch 5) iter 0: train_loss 221.6114807, lr = 5.999606e-04:   0%|          | 0/135 [00:00<?, ?it/s]"
     ]
    },
    {
     "name": "stdout",
     "output_type": "stream",
     "text": [
      "Iteration 0 samples:\n",
      "Sample: jose                      \t closes match: jose \n",
      "Sample: garosin                   \t closes match: rosine \n",
      "Sample: jota                      \t closes match: jo \n",
      "Sample: catylone                  \t closes match: lo \n"
     ]
    },
    {
     "name": "stderr",
     "output_type": "stream",
     "text": [
      "epoch 5) iter 2: train_loss 222.4671326, lr = 5.997645e-04:   2%|▏         | 3/135 [00:02<03:52,  1.76s/it]"
     ]
    },
    {
     "name": "stdout",
     "output_type": "stream",
     "text": [
      "Sample: maryn                     \t closes match: marilyn \n"
     ]
    },
    {
     "name": "stderr",
     "output_type": "stream",
     "text": [
      "epoch 5) iter 134: train_loss 221.9000549, lr = 2.979737e-04: 100%|██████████| 135/135 [00:13<00:00, 10.36it/s]\n"
     ]
    },
    {
     "name": "stdout",
     "output_type": "stream",
     "text": [
      "Test loss: 221.89695638020834\n"
     ]
    },
    {
     "name": "stderr",
     "output_type": "stream",
     "text": [
      "epoch 6) iter 0: train_loss 221.9836578, lr = 2.944616e-04:   0%|          | 0/135 [00:00<?, ?it/s]"
     ]
    },
    {
     "name": "stdout",
     "output_type": "stream",
     "text": [
      "Iteration 0 samples:\n",
      "Sample: adoline                   \t closes match: lin \n",
      "Sample: stine                     \t closes match: satine \n",
      "Sample: grigodan                  \t closes match: oda \n",
      "Sample: hoda                      \t closes match: oda \n"
     ]
    },
    {
     "name": "stderr",
     "output_type": "stream",
     "text": [
      "epoch 6) iter 2: train_loss 221.9230957, lr = 2.874403e-04:   2%|▏         | 3/135 [00:02<03:36,  1.64s/it]"
     ]
    },
    {
     "name": "stdout",
     "output_type": "stream",
     "text": [
      "Sample: maudan                    \t closes match: maud \n"
     ]
    },
    {
     "name": "stderr",
     "output_type": "stream",
     "text": [
      "epoch 6) iter 134: train_loss 222.2267303, lr = 6.000000e-05: 100%|██████████| 135/135 [00:12<00:00, 10.57it/s]\n"
     ]
    },
    {
     "name": "stdout",
     "output_type": "stream",
     "text": [
      "Test loss: 221.76575826009113\n"
     ]
    },
    {
     "name": "stderr",
     "output_type": "stream",
     "text": [
      "epoch 7) iter 0: train_loss 222.2186584, lr = 6.000000e-05:   0%|          | 0/135 [00:00<?, ?it/s]"
     ]
    },
    {
     "name": "stdout",
     "output_type": "stream",
     "text": [
      "Iteration 0 samples:\n",
      "Sample: sompho                    \t closes match: symphoriane \n",
      "Sample: adia                      \t closes match: radiane \n",
      "Sample: authaine                  \t closes match: aigne \n",
      "Sample: lonane                    \t closes match: loane \n"
     ]
    },
    {
     "name": "stderr",
     "output_type": "stream",
     "text": [
      "epoch 7) iter 2: train_loss 222.1646729, lr = 6.000000e-05:   2%|▏         | 3/135 [00:02<03:38,  1.65s/it]"
     ]
    },
    {
     "name": "stdout",
     "output_type": "stream",
     "text": [
      "Sample: jeannie                   \t closes match: jeannie \n"
     ]
    },
    {
     "name": "stderr",
     "output_type": "stream",
     "text": [
      "epoch 7) iter 134: train_loss 222.2477112, lr = 3.033772e-04: 100%|██████████| 135/135 [00:12<00:00, 10.57it/s]\n"
     ]
    },
    {
     "name": "stdout",
     "output_type": "stream",
     "text": [
      "Test loss: 221.89495849609375\n"
     ]
    },
    {
     "name": "stderr",
     "output_type": "stream",
     "text": [
      "epoch 8) iter 0: train_loss 221.1604462, lr = 3.068890e-04:   0%|          | 0/135 [00:00<?, ?it/s]"
     ]
    },
    {
     "name": "stdout",
     "output_type": "stream",
     "text": [
      "Iteration 0 samples:\n",
      "Sample: muresilane                \t closes match: resi \n",
      "Sample: lillordo                  \t closes match: lo \n",
      "Sample: lusine                    \t closes match: melusine \n",
      "Sample: gulariande                \t closes match: ian \n"
     ]
    },
    {
     "name": "stderr",
     "output_type": "stream",
     "text": [
      "epoch 8) iter 2: train_loss 222.2052307, lr = 3.139092e-04:   2%|▏         | 3/135 [00:03<04:31,  2.06s/it]"
     ]
    },
    {
     "name": "stdout",
     "output_type": "stream",
     "text": [
      "Sample: heastelemo                \t closes match: astere \n"
     ]
    },
    {
     "name": "stderr",
     "output_type": "stream",
     "text": [
      "epoch 8) iter 134: train_loss 222.4199066, lr = 5.999726e-04: 100%|██████████| 135/135 [00:13<00:00, 10.12it/s]\n"
     ]
    },
    {
     "name": "stdout",
     "output_type": "stream",
     "text": [
      "Test loss: 221.887006632487\n"
     ]
    },
    {
     "name": "stderr",
     "output_type": "stream",
     "text": [
      "epoch 9) iter 0: train_loss 222.0164337, lr = 5.999046e-04:   0%|          | 0/135 [00:00<?, ?it/s]"
     ]
    },
    {
     "name": "stdout",
     "output_type": "stream",
     "text": [
      "Iteration 0 samples:\n",
      "Sample: teron                     \t closes match: trond \n",
      "Sample: chiotta                   \t closes match: itta \n",
      "Sample: mena                      \t closes match: menas \n",
      "Sample: sarcy                     \t closes match: darcy \n"
     ]
    },
    {
     "name": "stderr",
     "output_type": "stream",
     "text": [
      "epoch 9) iter 2: train_loss 222.0215454, lr = 5.996453e-04:   2%|▏         | 3/135 [00:02<03:38,  1.66s/it]"
     ]
    },
    {
     "name": "stdout",
     "output_type": "stream",
     "text": [
      "Sample: emwrause                  \t closes match: sue \n"
     ]
    },
    {
     "name": "stderr",
     "output_type": "stream",
     "text": [
      "epoch 9) iter 134: train_loss 222.7666626, lr = 2.952721e-04: 100%|██████████| 135/135 [00:12<00:00, 10.56it/s]\n"
     ]
    },
    {
     "name": "stdout",
     "output_type": "stream",
     "text": [
      "Test loss: 221.78516031901043\n"
     ]
    },
    {
     "name": "stderr",
     "output_type": "stream",
     "text": [
      "epoch 10) iter 0: train_loss 221.1206970, lr = 2.917606e-04:   0%|          | 0/135 [00:00<?, ?it/s]"
     ]
    },
    {
     "name": "stdout",
     "output_type": "stream",
     "text": [
      "Iteration 0 samples:\n",
      "Sample: santina                   \t closes match: tina \n",
      "Sample: lyarde                    \t closes match: lya \n",
      "Sample: sylvier                   \t closes match: sylver \n",
      "Sample: jouric                    \t closes match: jo \n"
     ]
    },
    {
     "name": "stderr",
     "output_type": "stream",
     "text": [
      "epoch 10) iter 2: train_loss 221.7868652, lr = 2.847415e-04:   2%|▏         | 3/135 [00:02<03:13,  1.46s/it]"
     ]
    },
    {
     "name": "stdout",
     "output_type": "stream",
     "text": [
      "Sample: maryce                    \t closes match: marcie \n"
     ]
    },
    {
     "name": "stderr",
     "output_type": "stream",
     "text": [
      "epoch 10) iter 134: train_loss 221.2742920, lr = 6.000000e-05: 100%|██████████| 135/135 [00:12<00:00, 10.62it/s]\n"
     ]
    },
    {
     "name": "stdout",
     "output_type": "stream",
     "text": [
      "Test loss: 221.6713897705078\n"
     ]
    },
    {
     "name": "stderr",
     "output_type": "stream",
     "text": [
      "epoch 11) iter 0: train_loss 221.7218628, lr = 6.000000e-05:   0%|          | 0/135 [00:00<?, ?it/s]"
     ]
    },
    {
     "name": "stdout",
     "output_type": "stream",
     "text": [
      "Iteration 0 samples:\n",
      "Sample: maxeline                  \t closes match: maeline \n",
      "Sample: mande                     \t closes match: allamande \n",
      "Sample: and                       \t closes match: cassandre \n",
      "Sample: loana                     \t closes match: loana \n"
     ]
    },
    {
     "name": "stderr",
     "output_type": "stream",
     "text": [
      "epoch 11) iter 2: train_loss 221.9143066, lr = 6.000000e-05:   2%|▏         | 3/135 [00:02<03:42,  1.68s/it]"
     ]
    },
    {
     "name": "stdout",
     "output_type": "stream",
     "text": [
      "Sample: elyette                   \t closes match: elyette \n"
     ]
    },
    {
     "name": "stderr",
     "output_type": "stream",
     "text": [
      "epoch 11) iter 134: train_loss 219.9869690, lr = 3.060786e-04: 100%|██████████| 135/135 [00:12<00:00, 10.45it/s]\n"
     ]
    },
    {
     "name": "stdout",
     "output_type": "stream",
     "text": [
      "Test loss: 221.67173868815104\n"
     ]
    },
    {
     "name": "stderr",
     "output_type": "stream",
     "text": [
      "epoch 12) iter 0: train_loss 221.4021912, lr = 3.095897e-04:   0%|          | 0/135 [00:00<?, ?it/s]"
     ]
    },
    {
     "name": "stdout",
     "output_type": "stream",
     "text": [
      "Iteration 0 samples:\n",
      "Sample: jerenna                   \t closes match: jenna \n",
      "Sample: merisa                    \t closes match: marisa \n",
      "Sample: sanchels                  \t closes match: sanche \n",
      "Sample: syllanans                 \t closes match: lana \n"
     ]
    },
    {
     "name": "stderr",
     "output_type": "stream",
     "text": [
      "epoch 12) iter 2: train_loss 221.4173279, lr = 3.166075e-04:   2%|▏         | 3/135 [00:02<03:53,  1.77s/it]"
     ]
    },
    {
     "name": "stdout",
     "output_type": "stream",
     "text": [
      "Sample: jann                      \t closes match: jannick \n"
     ]
    },
    {
     "name": "stderr",
     "output_type": "stream",
     "text": [
      "epoch 12) iter 134: train_loss 221.4891357, lr = 5.999240e-04: 100%|██████████| 135/135 [00:12<00:00, 10.43it/s]\n"
     ]
    },
    {
     "name": "stdout",
     "output_type": "stream",
     "text": [
      "Test loss: 221.70427856445312\n"
     ]
    },
    {
     "name": "stderr",
     "output_type": "stream",
     "text": [
      "epoch 13) iter 0: train_loss 221.5893555, lr = 5.998243e-04:   0%|          | 0/135 [00:00<?, ?it/s]"
     ]
    },
    {
     "name": "stdout",
     "output_type": "stream",
     "text": [
      "Iteration 0 samples:\n",
      "Sample: surst                     \t closes match: urs \n",
      "Sample: anariarina                \t closes match: ana \n",
      "Sample: synie                     \t closes match: euphrosyne \n",
      "Sample: jonara                    \t closes match: jo \n"
     ]
    },
    {
     "name": "stderr",
     "output_type": "stream",
     "text": [
      "epoch 13) iter 2: train_loss 221.4609680, lr = 5.995018e-04:   2%|▏         | 3/135 [00:02<03:35,  1.63s/it]"
     ]
    },
    {
     "name": "stdout",
     "output_type": "stream",
     "text": [
      "Sample: ermilar                   \t closes match: mila \n"
     ]
    },
    {
     "name": "stderr",
     "output_type": "stream",
     "text": [
      "epoch 13) iter 134: train_loss 222.7083130, lr = 2.925708e-04: 100%|██████████| 135/135 [00:12<00:00, 10.58it/s]\n"
     ]
    },
    {
     "name": "stdout",
     "output_type": "stream",
     "text": [
      "Test loss: 221.5946075439453\n"
     ]
    },
    {
     "name": "stderr",
     "output_type": "stream",
     "text": [
      "epoch 14) iter 0: train_loss 221.5726624, lr = 2.890602e-04:   0%|          | 0/135 [00:00<?, ?it/s]"
     ]
    },
    {
     "name": "stdout",
     "output_type": "stream",
     "text": [
      "Iteration 0 samples:\n",
      "Sample: maill                     \t closes match: mai \n",
      "Sample: marcie                    \t closes match: marcie \n",
      "Sample: even                      \t closes match: even \n",
      "Sample: tisellacine               \t closes match: ella \n"
     ]
    },
    {
     "name": "stderr",
     "output_type": "stream",
     "text": [
      "epoch 14) iter 2: train_loss 221.7339783, lr = 2.820438e-04:   2%|▏         | 3/135 [00:03<04:25,  2.01s/it]"
     ]
    },
    {
     "name": "stdout",
     "output_type": "stream",
     "text": [
      "Sample: coreline                  \t closes match: lin \n"
     ]
    },
    {
     "name": "stderr",
     "output_type": "stream",
     "text": [
      "epoch 14) iter 134: train_loss 221.8868561, lr = 6.000000e-05: 100%|██████████| 135/135 [00:13<00:00, 10.14it/s]\n"
     ]
    },
    {
     "name": "stdout",
     "output_type": "stream",
     "text": [
      "Test loss: 221.50588785807292\n"
     ]
    },
    {
     "name": "stderr",
     "output_type": "stream",
     "text": [
      "epoch 15) iter 0: train_loss 221.3694611, lr = 6.000000e-05:   0%|          | 0/135 [00:00<?, ?it/s]"
     ]
    },
    {
     "name": "stdout",
     "output_type": "stream",
     "text": [
      "Iteration 0 samples:\n",
      "Sample: galia                     \t closes match: galia \n",
      "Sample: josellina                 \t closes match: jos \n",
      "Sample: lenalle                   \t closes match: lenaelle \n",
      "Sample: july                      \t closes match: julyann \n"
     ]
    },
    {
     "name": "stderr",
     "output_type": "stream",
     "text": [
      "epoch 15) iter 2: train_loss 221.7143250, lr = 6.000000e-05:   2%|▏         | 3/135 [00:02<04:03,  1.84s/it]"
     ]
    },
    {
     "name": "stdout",
     "output_type": "stream",
     "text": [
      "Sample: alamassele                \t closes match: elne \n"
     ]
    },
    {
     "name": "stderr",
     "output_type": "stream",
     "text": [
      "epoch 15) iter 134: train_loss 221.9545441, lr = 3.087796e-04: 100%|██████████| 135/135 [00:13<00:00, 10.36it/s]\n"
     ]
    },
    {
     "name": "stdout",
     "output_type": "stream",
     "text": [
      "Test loss: 221.60002746582032\n"
     ]
    },
    {
     "name": "stderr",
     "output_type": "stream",
     "text": [
      "epoch 16) iter 0: train_loss 221.9356384, lr = 3.122897e-04:   0%|          | 0/135 [00:00<?, ?it/s]"
     ]
    },
    {
     "name": "stdout",
     "output_type": "stream",
     "text": [
      "Iteration 0 samples:\n",
      "Sample: mathi                     \t closes match: mathie \n",
      "Sample: goullde                   \t closes match: des \n",
      "Sample: cantitis                  \t closes match: titus \n",
      "Sample: chrisilla                 \t closes match: christilla \n"
     ]
    },
    {
     "name": "stderr",
     "output_type": "stream",
     "text": [
      "epoch 16) iter 2: train_loss 221.3696289, lr = 3.193045e-04:   2%|▏         | 3/135 [00:02<03:31,  1.60s/it]"
     ]
    },
    {
     "name": "stdout",
     "output_type": "stream",
     "text": [
      "Sample: madelle                   \t closes match: maelle \n"
     ]
    },
    {
     "name": "stderr",
     "output_type": "stream",
     "text": [
      "epoch 16) iter 134: train_loss 221.6931152, lr = 5.998510e-04: 100%|██████████| 135/135 [00:12<00:00, 10.62it/s]\n"
     ]
    },
    {
     "name": "stdout",
     "output_type": "stream",
     "text": [
      "Test loss: 221.652387491862\n"
     ]
    },
    {
     "name": "stderr",
     "output_type": "stream",
     "text": [
      "epoch 17) iter 0: train_loss 221.4787903, lr = 5.997197e-04:   0%|          | 0/135 [00:00<?, ?it/s]"
     ]
    },
    {
     "name": "stdout",
     "output_type": "stream",
     "text": [
      "Iteration 0 samples:\n",
      "Sample: edia                      \t closes match: ed \n",
      "Sample: anaelis                   \t closes match: anae \n",
      "Sample: paulieure                 \t closes match: paul \n",
      "Sample: marcine                   \t closes match: marciane \n"
     ]
    },
    {
     "name": "stderr",
     "output_type": "stream",
     "text": [
      "epoch 17) iter 2: train_loss 221.6759644, lr = 5.993340e-04:   2%|▏         | 3/135 [00:02<03:52,  1.76s/it]"
     ]
    },
    {
     "name": "stdout",
     "output_type": "stream",
     "text": [
      "Sample: edvra                     \t closes match: ed \n"
     ]
    },
    {
     "name": "stderr",
     "output_type": "stream",
     "text": [
      "epoch 17) iter 134: train_loss 222.1578827, lr = 2.898702e-04: 100%|██████████| 135/135 [00:12<00:00, 10.42it/s]\n"
     ]
    },
    {
     "name": "stdout",
     "output_type": "stream",
     "text": [
      "Test loss: 221.57027180989584\n"
     ]
    },
    {
     "name": "stderr",
     "output_type": "stream",
     "text": [
      "epoch 18) iter 0: train_loss 221.5606537, lr = 2.863607e-04:   0%|          | 0/135 [00:00<?, ?it/s]"
     ]
    },
    {
     "name": "stdout",
     "output_type": "stream",
     "text": [
      "Iteration 0 samples:\n",
      "Sample: silia                     \t closes match: lia \n",
      "Sample: aldy                      \t closes match: waldy \n",
      "Sample: lyaecerane                \t closes match: lya \n",
      "Sample: tuiere                    \t closes match: erle \n"
     ]
    },
    {
     "name": "stderr",
     "output_type": "stream",
     "text": [
      "epoch 18) iter 2: train_loss 221.2236786, lr = 2.793476e-04:   2%|▏         | 3/135 [00:02<04:02,  1.84s/it]"
     ]
    },
    {
     "name": "stdout",
     "output_type": "stream",
     "text": [
      "Sample: sylouert                  \t closes match: lo \n"
     ]
    },
    {
     "name": "stderr",
     "output_type": "stream",
     "text": [
      "epoch 18) iter 134: train_loss 221.3888855, lr = 6.000000e-05: 100%|██████████| 135/135 [00:13<00:00, 10.33it/s]\n"
     ]
    },
    {
     "name": "stdout",
     "output_type": "stream",
     "text": [
      "Test loss: 221.4576202392578\n"
     ]
    },
    {
     "name": "stderr",
     "output_type": "stream",
     "text": [
      "epoch 19) iter 0: train_loss 221.1948242, lr = 6.000000e-05:   0%|          | 0/135 [00:00<?, ?it/s]"
     ]
    },
    {
     "name": "stdout",
     "output_type": "stream",
     "text": [
      "Iteration 0 samples:\n",
      "Sample: gelinil                   \t closes match: lin \n",
      "Sample: telin                     \t closes match: lin \n",
      "Sample: leaus                     \t closes match: lea \n",
      "Sample: giandy                    \t closes match: andy \n"
     ]
    },
    {
     "name": "stderr",
     "output_type": "stream",
     "text": [
      "epoch 19) iter 2: train_loss 220.9932556, lr = 6.000000e-05:   2%|▏         | 3/135 [00:02<03:22,  1.53s/it]"
     ]
    },
    {
     "name": "stdout",
     "output_type": "stream",
     "text": [
      "Sample: edrik                     \t closes match: ed \n"
     ]
    },
    {
     "name": "stderr",
     "output_type": "stream",
     "text": [
      "epoch 19) iter 134: train_loss 221.7696228, lr = 3.114798e-04: 100%|██████████| 135/135 [00:12<00:00, 10.70it/s]\n"
     ]
    },
    {
     "name": "stdout",
     "output_type": "stream",
     "text": [
      "Test loss: 221.51946818033855\n"
     ]
    },
    {
     "name": "stderr",
     "output_type": "stream",
     "text": [
      "epoch 20) iter 0: train_loss 221.0654297, lr = 3.149887e-04:   0%|          | 0/135 [00:00<?, ?it/s]"
     ]
    },
    {
     "name": "stdout",
     "output_type": "stream",
     "text": [
      "Iteration 0 samples:\n",
      "Sample: santriana                 \t closes match: ian \n",
      "Sample: savanne                   \t closes match: anne \n",
      "Sample: fredy                     \t closes match: freddy \n",
      "Sample: agoea                     \t closes match: angela \n"
     ]
    },
    {
     "name": "stderr",
     "output_type": "stream",
     "text": [
      "epoch 20) iter 2: train_loss 221.2215576, lr = 3.219998e-04:   2%|▏         | 3/135 [00:02<04:07,  1.88s/it]"
     ]
    },
    {
     "name": "stdout",
     "output_type": "stream",
     "text": [
      "Sample: francelie                 \t closes match: franceline \n"
     ]
    },
    {
     "name": "stderr",
     "output_type": "stream",
     "text": [
      "epoch 20) iter 134: train_loss 221.5717621, lr = 5.997537e-04: 100%|██████████| 135/135 [00:13<00:00, 10.32it/s]\n"
     ]
    },
    {
     "name": "stdout",
     "output_type": "stream",
     "text": [
      "Test loss: 221.5572479248047\n"
     ]
    },
    {
     "name": "stderr",
     "output_type": "stream",
     "text": [
      "epoch 21) iter 0: train_loss 221.5462341, lr = 5.995908e-04:   0%|          | 0/135 [00:00<?, ?it/s]"
     ]
    },
    {
     "name": "stdout",
     "output_type": "stream",
     "text": [
      "Iteration 0 samples:\n",
      "Sample: ardorino                  \t closes match: adriano \n",
      "Sample: maland                    \t closes match: alan \n",
      "Sample: etermyn                   \t closes match: emmy \n",
      "Sample: megwer                    \t closes match: leger \n"
     ]
    },
    {
     "name": "stderr",
     "output_type": "stream",
     "text": [
      "epoch 21) iter 2: train_loss 221.1374512, lr = 5.991420e-04:   2%|▏         | 3/135 [00:02<03:41,  1.67s/it]"
     ]
    },
    {
     "name": "stdout",
     "output_type": "stream",
     "text": [
      "Sample: sydueline                 \t closes match: lin \n"
     ]
    },
    {
     "name": "stderr",
     "output_type": "stream",
     "text": [
      "epoch 21) iter 134: train_loss 221.0284576, lr = 2.871704e-04: 100%|██████████| 135/135 [00:12<00:00, 10.53it/s]\n"
     ]
    },
    {
     "name": "stdout",
     "output_type": "stream",
     "text": [
      "Test loss: 221.46563924153645\n"
     ]
    },
    {
     "name": "stderr",
     "output_type": "stream",
     "text": [
      "epoch 22) iter 0: train_loss 220.9438477, lr = 2.836622e-04:   0%|          | 0/135 [00:00<?, ?it/s]"
     ]
    },
    {
     "name": "stdout",
     "output_type": "stream",
     "text": [
      "Iteration 0 samples:\n",
      "Sample: stana                     \t closes match: tristana \n",
      "Sample: comprenti                 \t closes match: corentin \n",
      "Sample: benondva                  \t closes match: ben \n",
      "Sample: gorina                    \t closes match: georgina \n"
     ]
    },
    {
     "name": "stderr",
     "output_type": "stream",
     "text": [
      "epoch 22) iter 2: train_loss 220.9869080, lr = 2.766531e-04:   2%|▏         | 3/135 [00:02<03:52,  1.76s/it]"
     ]
    },
    {
     "name": "stdout",
     "output_type": "stream",
     "text": [
      "Sample: altia                     \t closes match: tia \n"
     ]
    },
    {
     "name": "stderr",
     "output_type": "stream",
     "text": [
      "epoch 22) iter 134: train_loss 221.9742279, lr = 6.000000e-05: 100%|██████████| 135/135 [00:12<00:00, 10.43it/s]\n"
     ]
    },
    {
     "name": "stdout",
     "output_type": "stream",
     "text": [
      "Test loss: 221.41360880533855\n"
     ]
    },
    {
     "name": "stderr",
     "output_type": "stream",
     "text": [
      "epoch 23) iter 0: train_loss 220.6464233, lr = 6.000000e-05:   0%|          | 0/135 [00:00<?, ?it/s]"
     ]
    },
    {
     "name": "stdout",
     "output_type": "stream",
     "text": [
      "Iteration 0 samples:\n",
      "Sample: sifien                    \t closes match: if \n",
      "Sample: goderett                  \t closes match: ode \n",
      "Sample: santie                    \t closes match: santine \n",
      "Sample: leona                     \t closes match: leona \n"
     ]
    },
    {
     "name": "stderr",
     "output_type": "stream",
     "text": [
      "epoch 23) iter 2: train_loss 221.2433167, lr = 6.000000e-05:   2%|▏         | 3/135 [00:02<03:46,  1.71s/it]"
     ]
    },
    {
     "name": "stdout",
     "output_type": "stream",
     "text": [
      "Sample: elia                      \t closes match: elia \n"
     ]
    },
    {
     "name": "stderr",
     "output_type": "stream",
     "text": [
      "epoch 23) iter 134: train_loss 220.9674225, lr = 3.141791e-04: 100%|██████████| 135/135 [00:12<00:00, 10.48it/s]\n"
     ]
    },
    {
     "name": "stdout",
     "output_type": "stream",
     "text": [
      "Test loss: 221.48346964518228\n"
     ]
    },
    {
     "name": "stderr",
     "output_type": "stream",
     "text": [
      "epoch 24) iter 0: train_loss 221.0415802, lr = 3.176865e-04:   0%|          | 0/135 [00:00<?, ?it/s]"
     ]
    },
    {
     "name": "stdout",
     "output_type": "stream",
     "text": [
      "Iteration 0 samples:\n",
      "Sample: marceoic                  \t closes match: marc \n",
      "Sample: foult                     \t closes match: fulton \n",
      "Sample: artine                    \t closes match: martine \n",
      "Sample: larn                      \t closes match: lauren \n"
     ]
    },
    {
     "name": "stderr",
     "output_type": "stream",
     "text": [
      "epoch 24) iter 2: train_loss 220.8167572, lr = 3.246934e-04:   2%|▏         | 3/135 [00:02<03:49,  1.74s/it]"
     ]
    },
    {
     "name": "stdout",
     "output_type": "stream",
     "text": [
      "Sample: simere                    \t closes match: imre \n"
     ]
    },
    {
     "name": "stderr",
     "output_type": "stream",
     "text": [
      "epoch 24) iter 134: train_loss 221.1413574, lr = 5.996320e-04: 100%|██████████| 135/135 [00:12<00:00, 10.44it/s]\n"
     ]
    },
    {
     "name": "stdout",
     "output_type": "stream",
     "text": [
      "Test loss: 221.47669779459636\n"
     ]
    },
    {
     "name": "stderr",
     "output_type": "stream",
     "text": [
      "epoch 25) iter 0: train_loss 221.0325012, lr = 5.994376e-04:   0%|          | 0/135 [00:00<?, ?it/s]"
     ]
    },
    {
     "name": "stdout",
     "output_type": "stream",
     "text": [
      "Iteration 0 samples:\n",
      "Sample: adricis                   \t closes match: aldric \n",
      "Sample: evelice                   \t closes match: eveline \n",
      "Sample: eran                      \t closes match: zerane \n",
      "Sample: artult                    \t closes match: arnoult \n"
     ]
    },
    {
     "name": "stderr",
     "output_type": "stream",
     "text": [
      "epoch 25) iter 2: train_loss 221.8973999, lr = 5.989256e-04:   2%|▏         | 3/135 [00:02<03:35,  1.63s/it]"
     ]
    },
    {
     "name": "stdout",
     "output_type": "stream",
     "text": [
      "Sample: drinaeld                  \t closes match: ael \n"
     ]
    },
    {
     "name": "stderr",
     "output_type": "stream",
     "text": [
      "epoch 25) iter 134: train_loss 220.3537292, lr = 2.844716e-04: 100%|██████████| 135/135 [00:12<00:00, 10.60it/s]\n"
     ]
    },
    {
     "name": "stdout",
     "output_type": "stream",
     "text": [
      "Test loss: 221.3191884358724\n"
     ]
    },
    {
     "name": "stderr",
     "output_type": "stream",
     "text": [
      "epoch 26) iter 0: train_loss 220.8240356, lr = 2.809652e-04:   0%|          | 0/135 [00:00<?, ?it/s]"
     ]
    },
    {
     "name": "stdout",
     "output_type": "stream",
     "text": [
      "Iteration 0 samples:\n",
      "Sample: sana                      \t closes match: lysana \n",
      "Sample: francedo                  \t closes match: ed \n",
      "Sample: notta                     \t closes match: noa \n",
      "Sample: anaiene                   \t closes match: ana \n"
     ]
    },
    {
     "name": "stderr",
     "output_type": "stream",
     "text": [
      "epoch 26) iter 2: train_loss 220.9136047, lr = 2.739605e-04:   2%|▏         | 3/135 [00:02<03:37,  1.65s/it]"
     ]
    },
    {
     "name": "stdout",
     "output_type": "stream",
     "text": [
      "Sample: madela                    \t closes match: maela \n"
     ]
    },
    {
     "name": "stderr",
     "output_type": "stream",
     "text": [
      "epoch 26) iter 134: train_loss 220.5164337, lr = 6.000000e-05: 100%|██████████| 135/135 [00:12<00:00, 10.57it/s]\n"
     ]
    },
    {
     "name": "stdout",
     "output_type": "stream",
     "text": [
      "Test loss: 221.41665751139323\n"
     ]
    },
    {
     "name": "stderr",
     "output_type": "stream",
     "text": [
      "epoch 27) iter 0: train_loss 220.7654724, lr = 6.000000e-05:   0%|          | 0/135 [00:00<?, ?it/s]"
     ]
    },
    {
     "name": "stdout",
     "output_type": "stream",
     "text": [
      "Iteration 0 samples:\n",
      "Sample: serophe                   \t closes match: seraphie \n",
      "Sample: servane                   \t closes match: servane \n",
      "Sample: elbert                    \t closes match: madelberte \n",
      "Sample: eliakae                   \t closes match: lia \n"
     ]
    },
    {
     "name": "stderr",
     "output_type": "stream",
     "text": [
      "epoch 27) iter 2: train_loss 220.8162384, lr = 6.000000e-05:   2%|▏         | 3/135 [00:02<03:11,  1.45s/it]"
     ]
    },
    {
     "name": "stdout",
     "output_type": "stream",
     "text": [
      "Sample: jasianiq                  \t closes match: ian \n"
     ]
    },
    {
     "name": "stderr",
     "output_type": "stream",
     "text": [
      "epoch 27) iter 134: train_loss 220.1140900, lr = 3.168773e-04: 100%|██████████| 135/135 [00:12<00:00, 10.82it/s]\n"
     ]
    },
    {
     "name": "stdout",
     "output_type": "stream",
     "text": [
      "Test loss: 221.45013020833332\n"
     ]
    },
    {
     "name": "stderr",
     "output_type": "stream",
     "text": [
      "epoch 28) iter 0: train_loss 221.2815552, lr = 3.203828e-04:   0%|          | 0/135 [00:00<?, ?it/s]"
     ]
    },
    {
     "name": "stdout",
     "output_type": "stream",
     "text": [
      "Iteration 0 samples:\n",
      "Sample: saleg                     \t closes match: salve \n",
      "Sample: angelle                   \t closes match: angele \n",
      "Sample: ferdy                     \t closes match: fe \n",
      "Sample: selfricia                 \t closes match: elicia \n"
     ]
    },
    {
     "name": "stderr",
     "output_type": "stream",
     "text": [
      "epoch 28) iter 2: train_loss 221.4391479, lr = 3.273850e-04:   2%|▏         | 3/135 [00:02<03:42,  1.68s/it]"
     ]
    },
    {
     "name": "stdout",
     "output_type": "stream",
     "text": [
      "Sample: lonia                     \t closes match: lo \n"
     ]
    },
    {
     "name": "stderr",
     "output_type": "stream",
     "text": [
      "epoch 28) iter 134: train_loss 220.9391327, lr = 5.994861e-04: 100%|██████████| 135/135 [00:12<00:00, 10.54it/s]\n"
     ]
    },
    {
     "name": "stdout",
     "output_type": "stream",
     "text": [
      "Test loss: 221.45245564778645\n"
     ]
    },
    {
     "name": "stderr",
     "output_type": "stream",
     "text": [
      "epoch 29) iter 0: train_loss 221.3355255, lr = 5.992601e-04:   0%|          | 0/135 [00:00<?, ?it/s]"
     ]
    },
    {
     "name": "stdout",
     "output_type": "stream",
     "text": [
      "Iteration 0 samples:\n",
      "Sample: melya                     \t closes match: maelya \n",
      "Sample: jultama                   \t closes match: alma \n",
      "Sample: madouna                   \t closes match: maona \n",
      "Sample: fravie                    \t closes match: flavien \n"
     ]
    },
    {
     "name": "stderr",
     "output_type": "stream",
     "text": [
      "epoch 29) iter 2: train_loss 221.0339661, lr = 5.986851e-04:   2%|▏         | 3/135 [00:02<03:28,  1.58s/it]"
     ]
    },
    {
     "name": "stdout",
     "output_type": "stream",
     "text": [
      "Sample: riv                       \t closes match: brivaelle \n"
     ]
    },
    {
     "name": "stderr",
     "output_type": "stream",
     "text": [
      "epoch 29) iter 134: train_loss 222.0179901, lr = 2.817741e-04: 100%|██████████| 135/135 [00:12<00:00, 10.66it/s]\n"
     ]
    },
    {
     "name": "stdout",
     "output_type": "stream",
     "text": [
      "Test loss: 221.45541178385417\n"
     ]
    },
    {
     "name": "stderr",
     "output_type": "stream",
     "text": [
      "epoch 30) iter 0: train_loss 220.7104034, lr = 2.782696e-04:   0%|          | 0/135 [00:00<?, ?it/s]"
     ]
    },
    {
     "name": "stdout",
     "output_type": "stream",
     "text": [
      "Iteration 0 samples:\n",
      "Sample: litha                     \t closes match: talitha \n",
      "Sample: ladettic                  \t closes match: laeticia \n",
      "Sample: lorenne                   \t closes match: florenne \n",
      "Sample: anegue                    \t closes match: neige \n"
     ]
    },
    {
     "name": "stderr",
     "output_type": "stream",
     "text": [
      "epoch 30) iter 2: train_loss 221.4290161, lr = 2.712700e-04:   2%|▏         | 3/135 [00:02<03:40,  1.67s/it]"
     ]
    },
    {
     "name": "stdout",
     "output_type": "stream",
     "text": [
      "Sample: charlette                 \t closes match: charlette \n"
     ]
    },
    {
     "name": "stderr",
     "output_type": "stream",
     "text": [
      "epoch 30) iter 134: train_loss 221.4206848, lr = 6.000000e-05: 100%|██████████| 135/135 [00:12<00:00, 10.52it/s]\n"
     ]
    },
    {
     "name": "stdout",
     "output_type": "stream",
     "text": [
      "Test loss: 221.3711191813151\n"
     ]
    },
    {
     "name": "stderr",
     "output_type": "stream",
     "text": [
      "epoch 31) iter 0: train_loss 220.8732300, lr = 6.000000e-05:   0%|          | 0/135 [00:00<?, ?it/s]"
     ]
    },
    {
     "name": "stdout",
     "output_type": "stream",
     "text": [
      "Iteration 0 samples:\n",
      "Sample: guille                    \t closes match: guillemine \n",
      "Sample: pepron                    \t closes match: petrone \n",
      "Sample: jusie                     \t closes match: justine \n",
      "Sample: cettane                   \t closes match: anne \n"
     ]
    },
    {
     "name": "stderr",
     "output_type": "stream",
     "text": [
      "epoch 31) iter 2: train_loss 220.3692322, lr = 6.000000e-05:   2%|▏         | 3/135 [00:02<03:20,  1.52s/it]"
     ]
    },
    {
     "name": "stdout",
     "output_type": "stream",
     "text": [
      "Sample: rostin                    \t closes match: rosine \n"
     ]
    },
    {
     "name": "stderr",
     "output_type": "stream",
     "text": [
      "epoch 31) iter 134: train_loss 220.9915924, lr = 3.195741e-04: 100%|██████████| 135/135 [00:12<00:00, 10.71it/s]\n"
     ]
    },
    {
     "name": "stdout",
     "output_type": "stream",
     "text": [
      "Test loss: 221.35266520182293\n"
     ]
    },
    {
     "name": "stderr",
     "output_type": "stream",
     "text": [
      "epoch 32) iter 0: train_loss 221.1995392, lr = 3.230775e-04:   0%|          | 0/135 [00:00<?, ?it/s]"
     ]
    },
    {
     "name": "stdout",
     "output_type": "stream",
     "text": [
      "Iteration 0 samples:\n",
      "Sample: matha                     \t closes match: martha \n",
      "Sample: marlous                   \t closes match: lo \n",
      "Sample: fularte                   \t closes match: rite \n",
      "Sample: auberin                   \t closes match: auberi \n"
     ]
    },
    {
     "name": "stderr",
     "output_type": "stream",
     "text": [
      "epoch 32) iter 2: train_loss 221.0972137, lr = 3.300744e-04:   2%|▏         | 3/135 [00:02<03:12,  1.46s/it]"
     ]
    },
    {
     "name": "stdout",
     "output_type": "stream",
     "text": [
      "Sample: melisa                    \t closes match: melissa \n"
     ]
    },
    {
     "name": "stderr",
     "output_type": "stream",
     "text": [
      "epoch 32) iter 134: train_loss 220.5475616, lr = 5.993159e-04: 100%|██████████| 135/135 [00:12<00:00, 10.81it/s]\n"
     ]
    },
    {
     "name": "stdout",
     "output_type": "stream",
     "text": [
      "Test loss: 221.46851908365886\n"
     ]
    },
    {
     "name": "stderr",
     "output_type": "stream",
     "text": [
      "epoch 33) iter 0: train_loss 220.7630920, lr = 5.990583e-04:   0%|          | 0/135 [00:00<?, ?it/s]"
     ]
    },
    {
     "name": "stdout",
     "output_type": "stream",
     "text": [
      "Iteration 0 samples:\n",
      "Sample: servana                   \t closes match: servan \n",
      "Sample: jose                      \t closes match: jose \n",
      "Sample: merlen                    \t closes match: merlene \n",
      "Sample: lutho                     \t closes match: hoa \n"
     ]
    },
    {
     "name": "stderr",
     "output_type": "stream",
     "text": [
      "epoch 33) iter 2: train_loss 220.4121552, lr = 5.984203e-04:   2%|▏         | 3/135 [00:02<03:31,  1.61s/it]"
     ]
    },
    {
     "name": "stdout",
     "output_type": "stream",
     "text": [
      "Sample: abixe                     \t closes match: gabie \n"
     ]
    },
    {
     "name": "stderr",
     "output_type": "stream",
     "text": [
      "epoch 33) iter 134: train_loss 220.6370697, lr = 2.790781e-04: 100%|██████████| 135/135 [00:12<00:00, 10.61it/s]\n"
     ]
    },
    {
     "name": "stdout",
     "output_type": "stream",
     "text": [
      "Test loss: 221.47847696940104\n"
     ]
    },
    {
     "name": "stderr",
     "output_type": "stream",
     "text": [
      "epoch 34) iter 0: train_loss 220.8421631, lr = 2.755758e-04:   0%|          | 0/135 [00:00<?, ?it/s]"
     ]
    },
    {
     "name": "stdout",
     "output_type": "stream",
     "text": [
      "Iteration 0 samples:\n",
      "Sample: rusine                    \t closes match: rufine \n",
      "Sample: sigortone                 \t closes match: igor \n",
      "Sample: astia                     \t closes match: sebastia \n",
      "Sample: jassse                    \t closes match: jesse \n"
     ]
    },
    {
     "name": "stderr",
     "output_type": "stream",
     "text": [
      "epoch 34) iter 2: train_loss 221.5074158, lr = 2.685818e-04:   2%|▏         | 3/135 [00:02<03:51,  1.75s/it]"
     ]
    },
    {
     "name": "stdout",
     "output_type": "stream",
     "text": [
      "Sample: corensin                  \t closes match: corentin \n"
     ]
    },
    {
     "name": "stderr",
     "output_type": "stream",
     "text": [
      "epoch 34) iter 134: train_loss 220.5394897, lr = 6.000000e-05: 100%|██████████| 135/135 [00:12<00:00, 10.45it/s]\n"
     ]
    },
    {
     "name": "stdout",
     "output_type": "stream",
     "text": [
      "Test loss: 221.3829366048177\n"
     ]
    },
    {
     "name": "stderr",
     "output_type": "stream",
     "text": [
      "epoch 35) iter 0: train_loss 220.5935364, lr = 6.000000e-05:   0%|          | 0/135 [00:00<?, ?it/s]"
     ]
    },
    {
     "name": "stdout",
     "output_type": "stream",
     "text": [
      "Iteration 0 samples:\n",
      "Sample: betso                     \t closes match: humberto \n",
      "Sample: ambelinde                 \t closes match: lin \n",
      "Sample: remienne                  \t closes match: remi \n",
      "Sample: ancouc                    \t closes match: anouck \n"
     ]
    },
    {
     "name": "stderr",
     "output_type": "stream",
     "text": [
      "epoch 35) iter 2: train_loss 220.5325928, lr = 6.000000e-05:   2%|▏         | 3/135 [00:02<03:41,  1.68s/it]"
     ]
    },
    {
     "name": "stdout",
     "output_type": "stream",
     "text": [
      "Sample: jussola                   \t closes match: olav \n"
     ]
    },
    {
     "name": "stderr",
     "output_type": "stream",
     "text": [
      "epoch 35) iter 134: train_loss 221.4763947, lr = 3.222693e-04: 100%|██████████| 135/135 [00:12<00:00, 10.54it/s]\n"
     ]
    },
    {
     "name": "stdout",
     "output_type": "stream",
     "text": [
      "Test loss: 221.40258178710937\n"
     ]
    },
    {
     "name": "stderr",
     "output_type": "stream",
     "text": [
      "epoch 36) iter 0: train_loss 220.9030762, lr = 3.257703e-04:   0%|          | 0/135 [00:00<?, ?it/s]"
     ]
    },
    {
     "name": "stdout",
     "output_type": "stream",
     "text": [
      "Iteration 0 samples:\n",
      "Sample: adrina                    \t closes match: adriana \n",
      "Sample: malondy                   \t closes match: lo \n",
      "Sample: aissa                     \t closes match: aissa \n",
      "Sample: corele                    \t closes match: cornelie \n"
     ]
    },
    {
     "name": "stderr",
     "output_type": "stream",
     "text": [
      "epoch 36) iter 2: train_loss 221.0485535, lr = 3.327613e-04:   2%|▏         | 3/135 [00:02<03:26,  1.57s/it]"
     ]
    },
    {
     "name": "stdout",
     "output_type": "stream",
     "text": [
      "Sample: sandylia                  \t closes match: andy \n"
     ]
    },
    {
     "name": "stderr",
     "output_type": "stream",
     "text": [
      "epoch 36) iter 134: train_loss 221.0592804, lr = 5.991214e-04: 100%|██████████| 135/135 [00:12<00:00, 10.68it/s]\n"
     ]
    },
    {
     "name": "stdout",
     "output_type": "stream",
     "text": [
      "Test loss: 221.38573811848957\n"
     ]
    },
    {
     "name": "stderr",
     "output_type": "stream",
     "text": [
      "epoch 37) iter 0: train_loss 220.6051636, lr = 5.988323e-04:   0%|          | 0/135 [00:00<?, ?it/s]"
     ]
    },
    {
     "name": "stdout",
     "output_type": "stream",
     "text": [
      "Iteration 0 samples:\n",
      "Sample: gilbert                   \t closes match: gilbert \n",
      "Sample: runette                   \t closes match: pernette \n",
      "Sample: enes                      \t closes match: genest \n",
      "Sample: ethene                    \t closes match: etienne \n"
     ]
    },
    {
     "name": "stderr",
     "output_type": "stream",
     "text": [
      "epoch 37) iter 2: train_loss 221.1281128, lr = 5.981313e-04:   2%|▏         | 3/135 [00:02<03:24,  1.55s/it]"
     ]
    },
    {
     "name": "stdout",
     "output_type": "stream",
     "text": [
      "Sample: cheria                    \t closes match: rita \n"
     ]
    },
    {
     "name": "stderr",
     "output_type": "stream",
     "text": [
      "epoch 37) iter 134: train_loss 220.2700500, lr = 2.763838e-04: 100%|██████████| 135/135 [00:12<00:00, 10.69it/s]\n"
     ]
    },
    {
     "name": "stdout",
     "output_type": "stream",
     "text": [
      "Test loss: 221.40819091796874\n"
     ]
    },
    {
     "name": "stderr",
     "output_type": "stream",
     "text": [
      "epoch 38) iter 0: train_loss 220.9614563, lr = 2.728841e-04:   0%|          | 0/135 [00:00<?, ?it/s]"
     ]
    },
    {
     "name": "stdout",
     "output_type": "stream",
     "text": [
      "Iteration 0 samples:\n",
      "Sample: lonori                    \t closes match: lo \n",
      "Sample: nayanne                   \t closes match: anne \n",
      "Sample: ranal                     \t closes match: raynal \n",
      "Sample: alberte                   \t closes match: alberte \n"
     ]
    },
    {
     "name": "stderr",
     "output_type": "stream",
     "text": [
      "epoch 38) iter 2: train_loss 221.1833191, lr = 2.658962e-04:   2%|▏         | 3/135 [00:02<03:11,  1.45s/it]"
     ]
    },
    {
     "name": "stdout",
     "output_type": "stream",
     "text": [
      "Sample: berthe                    \t closes match: berthe \n"
     ]
    },
    {
     "name": "stderr",
     "output_type": "stream",
     "text": [
      "epoch 38) iter 134: train_loss 221.5206146, lr = 6.000000e-05: 100%|██████████| 135/135 [00:12<00:00, 10.80it/s]\n"
     ]
    },
    {
     "name": "stdout",
     "output_type": "stream",
     "text": [
      "Test loss: 221.3056396484375\n"
     ]
    },
    {
     "name": "stderr",
     "output_type": "stream",
     "text": [
      "epoch 39) iter 0: train_loss 221.0280914, lr = 6.000000e-05:   0%|          | 0/135 [00:00<?, ?it/s]"
     ]
    },
    {
     "name": "stdout",
     "output_type": "stream",
     "text": [
      "Iteration 0 samples:\n",
      "Sample: edroice                   \t closes match: ed \n",
      "Sample: sympie                    \t closes match: pie \n",
      "Sample: cunica                    \t closes match: nina \n",
      "Sample: angobise                  \t closes match: isea \n"
     ]
    },
    {
     "name": "stderr",
     "output_type": "stream",
     "text": [
      "epoch 39) iter 2: train_loss 220.2789917, lr = 6.000000e-05:   2%|▏         | 3/135 [00:02<03:27,  1.57s/it]"
     ]
    },
    {
     "name": "stdout",
     "output_type": "stream",
     "text": [
      "Sample: corienne                  \t closes match: corinne \n"
     ]
    },
    {
     "name": "stderr",
     "output_type": "stream",
     "text": [
      "epoch 39) iter 134: train_loss 221.0436554, lr = 3.249627e-04: 100%|██████████| 135/135 [00:12<00:00, 10.67it/s]\n"
     ]
    },
    {
     "name": "stdout",
     "output_type": "stream",
     "text": [
      "Test loss: 221.28792826334634\n"
     ]
    },
    {
     "name": "stderr",
     "output_type": "stream",
     "text": [
      "epoch 40) iter 0: train_loss 220.5968018, lr = 3.284610e-04:   0%|          | 0/135 [00:00<?, ?it/s]"
     ]
    },
    {
     "name": "stdout",
     "output_type": "stream",
     "text": [
      "Iteration 0 samples:\n",
      "Sample: judelyt                   \t closes match: jude \n",
      "Sample: dimar                     \t closes match: aimar \n",
      "Sample: thalise                   \t closes match: alis \n",
      "Sample: jamoriane                 \t closes match: ian \n"
     ]
    },
    {
     "name": "stderr",
     "output_type": "stream",
     "text": [
      "epoch 40) iter 2: train_loss 220.8503418, lr = 3.354456e-04:   2%|▏         | 3/135 [00:02<03:33,  1.62s/it]"
     ]
    },
    {
     "name": "stdout",
     "output_type": "stream",
     "text": [
      "Sample: adard                     \t closes match: ada \n"
     ]
    },
    {
     "name": "stderr",
     "output_type": "stream",
     "text": [
      "epoch 40) iter 134: train_loss 220.9756470, lr = 5.989027e-04: 100%|██████████| 135/135 [00:12<00:00, 10.59it/s]\n"
     ]
    },
    {
     "name": "stdout",
     "output_type": "stream",
     "text": [
      "Test loss: 221.46557210286457\n"
     ]
    }
   ],
   "source": [
    "french_names = []\n",
    "with open(NAMES_DIR / \"french_names_no_accent.txt\", \"r\") as f:\n",
    "    for word in f:\n",
    "        french_names.append(clean_word(word))\n",
    "frozen_french_vae = AttentionVae.load(\"french_model\")\n",
    "\n",
    "split = 0.9\n",
    "idx = int(len(french_names) * split)\n",
    "np.random.seed(137)\n",
    "np.random.shuffle(french_names)\n",
    "train_french_names = french_names[:idx]\n",
    "val_french_names = french_names[idx:]\n",
    "\n",
    "raw_train_french_names = \" \".join(train_french_names)\n",
    "raw_val_french_names = \" \".join(val_french_names)\n",
    "\n",
    "train_dataset = CharDataset(raw_train_french_names, maxlen, chars=chars)\n",
    "val_dataset = CharDataset(raw_val_french_names, maxlen, chars=chars)\n",
    "\n",
    "idx=298\n",
    "x, y, word = train_dataset[idx]\n",
    "print(\"x: \",decode_word(x.numpy(), frozen_french_vae.itos))\n",
    "print(\"y: \",decode_word(y.numpy(), frozen_french_vae.itos))\n",
    "print(\"word :\", decode_word(word.numpy(), frozen_french_vae.itos))\n",
    "\n",
    "frozen_list = []\n",
    "for par in frozen_french_vae.named_parameters():\n",
    "    if \"encoder\" in par[0]:\n",
    "        frozen_list.append(par[0])\n",
    "\n",
    "chars = list(frozen_french_vae.stoi.keys())\n",
    "maxlen = frozen_french_vae.config.block_size\n",
    "\n",
    "tconf = TrainerConfig(\n",
    "    max_epochs=40,\n",
    "    batch_size=256,\n",
    "    learning_rate=6e-4,\n",
    "    lr_decay=True,\n",
    "    warmup_tokens=128 * 20,\n",
    "    final_tokens=2 * len(train_dataset) * maxlen,\n",
    "    num_workers=4,\n",
    "    sample_freq=10000,\n",
    "    freeze_layers=tuple(frozen_list)\n",
    ")\n",
    "trainer = Trainer(frozen_french_vae, train_dataset, val_dataset, tconf,log_nearest_words=True)\n",
    "losses = trainer.train()"
   ]
  },
  {
   "cell_type": "code",
   "execution_count": 42,
   "metadata": {
    "ExecuteTime": {
     "end_time": "2021-02-08T11:43:00.853508Z",
     "start_time": "2021-02-08T11:43:00.743066Z"
    },
    "scrolled": true
   },
   "outputs": [
    {
     "data": {
      "text/plain": [
       "[<matplotlib.lines.Line2D at 0x7f1b1cede510>]"
      ]
     },
     "execution_count": 42,
     "metadata": {},
     "output_type": "execute_result"
    },
    {
     "data": {
      "image/png": "[encoded data removed]",
      "text/plain": [
       "<Figure size 432x288 with 1 Axes>"
      ]
     },
     "metadata": {
      "needs_background": "light"
     },
     "output_type": "display_data"
    }
   ],
   "source": [
    "plt.plot(losses['test_loss'])"
   ]
  },
  {
   "cell_type": "code",
   "execution_count": 43,
   "metadata": {
    "ExecuteTime": {
     "end_time": "2021-02-08T11:43:04.738447Z",
     "start_time": "2021-02-08T11:43:00.854544Z"
    }
   },
   "outputs": [
    {
     "name": "stdout",
     "output_type": "stream",
     "text": [
      "Context: \n",
      "mariane\t\t closest match: marciane\n",
      "\n",
      "Context: a\n",
      "alexane\t\t closest match: alexane\n",
      "alexandre\t\t closest match: alex\n",
      "\n",
      "Context: m\n",
      "mariane\t\t closest match: marciane\n",
      "\n",
      "Context: sim\n",
      "simone\t\t closest match: simone\n",
      "\n"
     ]
    }
   ],
   "source": [
    "generation_testing(frozen_french_vae, train_dataset.unique_word_list)"
   ]
  },
  {
   "cell_type": "markdown",
   "metadata": {},
   "source": [
    "## French model"
   ]
  },
  {
   "cell_type": "code",
   "execution_count": 44,
   "metadata": {
    "ExecuteTime": {
     "end_time": "2021-02-08T11:52:27.737076Z",
     "start_time": "2021-02-08T11:43:04.742550Z"
    }
   },
   "outputs": [
    {
     "name": "stdout",
     "output_type": "stream",
     "text": [
      "data has 34421 characters, 47 unique.\n",
      "data has 3750 characters, 47 unique.\n",
      "x:  genest\n",
      "y:  genest\n",
      "word : genest\n"
     ]
    },
    {
     "name": "stderr",
     "output_type": "stream",
     "text": [
      "epoch 1) iter 0: train_loss 224.4823761, lr = 5.999922e-04:   0%|          | 0/135 [00:00<?, ?it/s]"
     ]
    },
    {
     "name": "stdout",
     "output_type": "stream",
     "text": [
      "Iteration 0 samples:\n",
      "Sample: irier                     \t closes match: iribert \n",
      "Sample: canantisse                \t closes match: ana \n",
      "Sample: chiron                    \t closes match: hilarion \n",
      "Sample: amenent                   \t closes match: ame \n"
     ]
    },
    {
     "name": "stderr",
     "output_type": "stream",
     "text": [
      "epoch 1) iter 2: train_loss 225.4535065, lr = 5.998594e-04:   2%|▏         | 3/135 [00:02<03:35,  1.64s/it]"
     ]
    },
    {
     "name": "stdout",
     "output_type": "stream",
     "text": [
      "Sample: celinie                   \t closes match: celine \n"
     ]
    },
    {
     "name": "stderr",
     "output_type": "stream",
     "text": [
      "epoch 1) iter 134: train_loss 221.5705261, lr = 3.006754e-04: 100%|██████████| 135/135 [00:13<00:00,  9.97it/s]\n"
     ]
    },
    {
     "name": "stdout",
     "output_type": "stream",
     "text": [
      "Test loss: 222.18383280436197\n"
     ]
    },
    {
     "name": "stderr",
     "output_type": "stream",
     "text": [
      "epoch 2) iter 0: train_loss 222.2345276, lr = 2.971632e-04:   0%|          | 0/135 [00:00<?, ?it/s]"
     ]
    },
    {
     "name": "stdout",
     "output_type": "stream",
     "text": [
      "Iteration 0 samples:\n",
      "Sample: cartere                   \t closes match: arteme \n",
      "Sample: arida                     \t closes match: aida \n",
      "Sample: chirinne                  \t closes match: corinne \n",
      "Sample: lomorette                 \t closes match: lo \n"
     ]
    },
    {
     "name": "stderr",
     "output_type": "stream",
     "text": [
      "epoch 2) iter 2: train_loss 222.8744202, lr = 2.901402e-04:   2%|▏         | 3/135 [00:02<03:44,  1.70s/it]"
     ]
    },
    {
     "name": "stdout",
     "output_type": "stream",
     "text": [
      "Sample: abers                     \t closes match: aubert \n"
     ]
    },
    {
     "name": "stderr",
     "output_type": "stream",
     "text": [
      "epoch 2) iter 134: train_loss 222.2676697, lr = 6.000000e-05: 100%|██████████| 135/135 [00:13<00:00,  9.92it/s]\n"
     ]
    },
    {
     "name": "stdout",
     "output_type": "stream",
     "text": [
      "Test loss: 222.03486022949218\n"
     ]
    },
    {
     "name": "stderr",
     "output_type": "stream",
     "text": [
      "epoch 3) iter 0: train_loss 223.1513977, lr = 6.000000e-05:   0%|          | 0/135 [00:00<?, ?it/s]"
     ]
    },
    {
     "name": "stdout",
     "output_type": "stream",
     "text": [
      "Iteration 0 samples:\n",
      "Sample: shelide                   \t closes match: helidie \n",
      "Sample: caune                     \t closes match: capucine \n",
      "Sample: licena                    \t closes match: lina \n",
      "Sample: thianne                   \t closes match: anne \n"
     ]
    },
    {
     "name": "stderr",
     "output_type": "stream",
     "text": [
      "epoch 3) iter 2: train_loss 222.5356140, lr = 6.000000e-05:   2%|▏         | 3/135 [00:02<03:26,  1.57s/it]"
     ]
    },
    {
     "name": "stdout",
     "output_type": "stream",
     "text": [
      "Sample: maudaste                  \t closes match: maud \n"
     ]
    },
    {
     "name": "stderr",
     "output_type": "stream",
     "text": [
      "epoch 3) iter 134: train_loss 221.1328430, lr = 3.006754e-04: 100%|██████████| 135/135 [00:13<00:00, 10.04it/s]\n"
     ]
    },
    {
     "name": "stdout",
     "output_type": "stream",
     "text": [
      "Test loss: 222.0330037434896\n"
     ]
    },
    {
     "name": "stderr",
     "output_type": "stream",
     "text": [
      "epoch 4) iter 0: train_loss 221.7206268, lr = 3.041876e-04:   0%|          | 0/135 [00:00<?, ?it/s]"
     ]
    },
    {
     "name": "stdout",
     "output_type": "stream",
     "text": [
      "Iteration 0 samples:\n",
      "Sample: carimber                  \t closes match: bert \n",
      "Sample: ganon                     \t closes match: ano \n",
      "Sample: petan                     \t closes match: petra \n",
      "Sample: malio                     \t closes match: ali \n"
     ]
    },
    {
     "name": "stderr",
     "output_type": "stream",
     "text": [
      "epoch 4) iter 2: train_loss 222.0920258, lr = 3.112098e-04:   2%|▏         | 3/135 [00:02<03:33,  1.62s/it]"
     ]
    },
    {
     "name": "stdout",
     "output_type": "stream",
     "text": [
      "Sample: gy                        \t closes match: angy \n"
     ]
    },
    {
     "name": "stderr",
     "output_type": "stream",
     "text": [
      "epoch 4) iter 134: train_loss 222.6777649, lr = 5.999970e-04: 100%|██████████| 135/135 [00:13<00:00,  9.99it/s]\n"
     ]
    },
    {
     "name": "stdout",
     "output_type": "stream",
     "text": [
      "Test loss: 222.0788106282552\n"
     ]
    },
    {
     "name": "stderr",
     "output_type": "stream",
     "text": [
      "epoch 5) iter 0: train_loss 222.3203735, lr = 5.999606e-04:   0%|          | 0/135 [00:00<?, ?it/s]"
     ]
    },
    {
     "name": "stdout",
     "output_type": "stream",
     "text": [
      "Iteration 0 samples:\n",
      "Sample: bendie                    \t closes match: ben \n",
      "Sample: anane                     \t closes match: agnane \n",
      "Sample: aleamine                  \t closes match: lea \n",
      "Sample: moin                      \t closes match: austremoine \n"
     ]
    },
    {
     "name": "stderr",
     "output_type": "stream",
     "text": [
      "epoch 5) iter 2: train_loss 221.6984406, lr = 5.997645e-04:   2%|▏         | 3/135 [00:02<03:56,  1.79s/it]"
     ]
    },
    {
     "name": "stdout",
     "output_type": "stream",
     "text": [
      "Sample: lack                      \t closes match: thorlak \n"
     ]
    },
    {
     "name": "stderr",
     "output_type": "stream",
     "text": [
      "epoch 5) iter 134: train_loss 222.8851166, lr = 2.979737e-04: 100%|██████████| 135/135 [00:13<00:00,  9.83it/s]\n"
     ]
    },
    {
     "name": "stdout",
     "output_type": "stream",
     "text": [
      "Test loss: 221.87674255371093\n"
     ]
    },
    {
     "name": "stderr",
     "output_type": "stream",
     "text": [
      "epoch 6) iter 0: train_loss 221.5662231, lr = 2.944616e-04:   0%|          | 0/135 [00:00<?, ?it/s]"
     ]
    },
    {
     "name": "stdout",
     "output_type": "stream",
     "text": [
      "Iteration 0 samples:\n",
      "Sample: guidina                   \t closes match: dina \n",
      "Sample: goundra                   \t closes match: dora \n",
      "Sample: syld                      \t closes match: sylvane \n",
      "Sample: joelves                   \t closes match: joel \n"
     ]
    },
    {
     "name": "stderr",
     "output_type": "stream",
     "text": [
      "epoch 6) iter 2: train_loss 221.2637024, lr = 2.874403e-04:   2%|▏         | 3/135 [00:02<03:14,  1.48s/it]"
     ]
    },
    {
     "name": "stdout",
     "output_type": "stream",
     "text": [
      "Sample: catthe                    \t closes match: cathel \n"
     ]
    },
    {
     "name": "stderr",
     "output_type": "stream",
     "text": [
      "epoch 6) iter 134: train_loss 221.3503723, lr = 6.000000e-05: 100%|██████████| 135/135 [00:13<00:00, 10.15it/s]\n"
     ]
    },
    {
     "name": "stdout",
     "output_type": "stream",
     "text": [
      "Test loss: 221.77590738932292\n"
     ]
    },
    {
     "name": "stderr",
     "output_type": "stream",
     "text": [
      "epoch 7) iter 0: train_loss 222.1311035, lr = 6.000000e-05:   0%|          | 0/135 [00:00<?, ?it/s]"
     ]
    },
    {
     "name": "stdout",
     "output_type": "stream",
     "text": [
      "Iteration 0 samples:\n",
      "Sample: giolien                   \t closes match: jolien \n",
      "Sample: leonchian                 \t closes match: ian \n",
      "Sample: eulea                     \t closes match: lea \n",
      "Sample: chrysseen                 \t closes match: chrystele \n"
     ]
    },
    {
     "name": "stderr",
     "output_type": "stream",
     "text": [
      "epoch 7) iter 2: train_loss 220.8981323, lr = 6.000000e-05:   2%|▏         | 3/135 [00:02<03:56,  1.79s/it]"
     ]
    },
    {
     "name": "stdout",
     "output_type": "stream",
     "text": [
      "Sample: selbeds                   \t closes match: ed \n"
     ]
    },
    {
     "name": "stderr",
     "output_type": "stream",
     "text": [
      "epoch 7) iter 134: train_loss 221.1533203, lr = 3.033772e-04: 100%|██████████| 135/135 [00:13<00:00,  9.82it/s]\n"
     ]
    },
    {
     "name": "stdout",
     "output_type": "stream",
     "text": [
      "Test loss: 221.84271138509115\n"
     ]
    },
    {
     "name": "stderr",
     "output_type": "stream",
     "text": [
      "epoch 8) iter 0: train_loss 221.4886475, lr = 3.068890e-04:   0%|          | 0/135 [00:00<?, ?it/s]"
     ]
    },
    {
     "name": "stdout",
     "output_type": "stream",
     "text": [
      "Iteration 0 samples:\n",
      "Sample: leopepo                   \t closes match: leo \n",
      "Sample: guelle                    \t closes match: gaelle \n",
      "Sample: lazanne                   \t closes match: anne \n",
      "Sample: gontad                    \t closes match: gond \n"
     ]
    },
    {
     "name": "stderr",
     "output_type": "stream",
     "text": [
      "epoch 8) iter 2: train_loss 221.6516113, lr = 3.139092e-04:   2%|▏         | 3/135 [00:02<03:07,  1.42s/it]"
     ]
    },
    {
     "name": "stdout",
     "output_type": "stream",
     "text": [
      "Sample: auricel                   \t closes match: maurice \n"
     ]
    },
    {
     "name": "stderr",
     "output_type": "stream",
     "text": [
      "epoch 8) iter 134: train_loss 222.1964569, lr = 5.999726e-04: 100%|██████████| 135/135 [00:13<00:00, 10.22it/s]\n"
     ]
    },
    {
     "name": "stdout",
     "output_type": "stream",
     "text": [
      "Test loss: 221.88031921386718\n"
     ]
    },
    {
     "name": "stderr",
     "output_type": "stream",
     "text": [
      "epoch 9) iter 0: train_loss 221.9499817, lr = 5.999046e-04:   0%|          | 0/135 [00:00<?, ?it/s]"
     ]
    },
    {
     "name": "stdout",
     "output_type": "stream",
     "text": [
      "Iteration 0 samples:\n",
      "Sample: lyblond                   \t closes match: lo \n",
      "Sample: pistom                    \t closes match: tom \n",
      "Sample: brudol                    \t closes match: rudolf \n",
      "Sample: lina                      \t closes match: lina \n"
     ]
    },
    {
     "name": "stderr",
     "output_type": "stream",
     "text": [
      "epoch 9) iter 2: train_loss 221.4474335, lr = 5.996453e-04:   2%|▏         | 3/135 [00:02<03:29,  1.59s/it]"
     ]
    },
    {
     "name": "stdout",
     "output_type": "stream",
     "text": [
      "Sample: leuma                     \t closes match: lea \n"
     ]
    },
    {
     "name": "stderr",
     "output_type": "stream",
     "text": [
      "epoch 9) iter 134: train_loss 220.3925629, lr = 2.952721e-04: 100%|██████████| 135/135 [00:13<00:00, 10.02it/s]\n"
     ]
    },
    {
     "name": "stdout",
     "output_type": "stream",
     "text": [
      "Test loss: 221.65997823079428\n"
     ]
    },
    {
     "name": "stderr",
     "output_type": "stream",
     "text": [
      "epoch 10) iter 0: train_loss 221.5284271, lr = 2.917606e-04:   0%|          | 0/135 [00:00<?, ?it/s]"
     ]
    },
    {
     "name": "stdout",
     "output_type": "stream",
     "text": [
      "Iteration 0 samples:\n",
      "Sample: custharise                \t closes match: isea \n",
      "Sample: thabudine                 \t closes match: tudine \n",
      "Sample: myssiten                  \t closes match: siena \n",
      "Sample: tipheroce                 \t closes match: piero \n"
     ]
    },
    {
     "name": "stderr",
     "output_type": "stream",
     "text": [
      "epoch 10) iter 2: train_loss 221.8128662, lr = 2.847415e-04:   2%|▏         | 3/135 [00:03<04:44,  2.15s/it]"
     ]
    },
    {
     "name": "stdout",
     "output_type": "stream",
     "text": [
      "Sample: clasouelle                \t closes match: ellen \n"
     ]
    },
    {
     "name": "stderr",
     "output_type": "stream",
     "text": [
      "epoch 10) iter 134: train_loss 221.3608246, lr = 6.000000e-05: 100%|██████████| 135/135 [00:14<00:00,  9.45it/s]\n"
     ]
    },
    {
     "name": "stdout",
     "output_type": "stream",
     "text": [
      "Test loss: 221.6354553222656\n"
     ]
    },
    {
     "name": "stderr",
     "output_type": "stream",
     "text": [
      "epoch 11) iter 0: train_loss 221.4263306, lr = 6.000000e-05:   0%|          | 0/135 [00:00<?, ?it/s]"
     ]
    },
    {
     "name": "stdout",
     "output_type": "stream",
     "text": [
      "Iteration 0 samples:\n",
      "Sample: bacil                     \t closes match: basile \n",
      "Sample: annaie                    \t closes match: anna \n",
      "Sample: vantom                    \t closes match: tom \n",
      "Sample: melia                     \t closes match: amelia \n"
     ]
    },
    {
     "name": "stderr",
     "output_type": "stream",
     "text": [
      "epoch 11) iter 2: train_loss 221.4208679, lr = 6.000000e-05:   2%|▏         | 3/135 [00:02<03:45,  1.71s/it]"
     ]
    },
    {
     "name": "stdout",
     "output_type": "stream",
     "text": [
      "Sample: theophilna                \t closes match: theo \n"
     ]
    },
    {
     "name": "stderr",
     "output_type": "stream",
     "text": [
      "epoch 11) iter 134: train_loss 223.0485382, lr = 3.060786e-04: 100%|██████████| 135/135 [00:13<00:00,  9.93it/s]\n"
     ]
    },
    {
     "name": "stdout",
     "output_type": "stream",
     "text": [
      "Test loss: 221.71308390299478\n"
     ]
    },
    {
     "name": "stderr",
     "output_type": "stream",
     "text": [
      "epoch 12) iter 0: train_loss 222.1394958, lr = 3.095897e-04:   0%|          | 0/135 [00:00<?, ?it/s]"
     ]
    },
    {
     "name": "stdout",
     "output_type": "stream",
     "text": [
      "Iteration 0 samples:\n",
      "Sample: billic                    \t closes match: bill \n",
      "Sample: gildebeul                 \t closes match: gil \n",
      "Sample: marian                    \t closes match: marian \n",
      "Sample: lodia                     \t closes match: lo \n"
     ]
    },
    {
     "name": "stderr",
     "output_type": "stream",
     "text": [
      "epoch 12) iter 2: train_loss 221.3630371, lr = 3.166075e-04:   2%|▏         | 3/135 [00:02<03:44,  1.70s/it]"
     ]
    },
    {
     "name": "stdout",
     "output_type": "stream",
     "text": [
      "Sample: neberien                  \t closes match: iwen \n"
     ]
    },
    {
     "name": "stderr",
     "output_type": "stream",
     "text": [
      "epoch 12) iter 134: train_loss 221.7245331, lr = 5.999240e-04: 100%|██████████| 135/135 [00:13<00:00,  9.91it/s]\n"
     ]
    },
    {
     "name": "stdout",
     "output_type": "stream",
     "text": [
      "Test loss: 221.71621805826823\n"
     ]
    },
    {
     "name": "stderr",
     "output_type": "stream",
     "text": [
      "epoch 13) iter 0: train_loss 221.4847107, lr = 5.998243e-04:   0%|          | 0/135 [00:00<?, ?it/s]"
     ]
    },
    {
     "name": "stdout",
     "output_type": "stream",
     "text": [
      "Iteration 0 samples:\n",
      "Sample: savisenne                 \t closes match: sienne \n",
      "Sample: euliere                   \t closes match: erle \n",
      "Sample: marlic                    \t closes match: marick \n",
      "Sample: richae                    \t closes match: richarde \n"
     ]
    },
    {
     "name": "stderr",
     "output_type": "stream",
     "text": [
      "epoch 13) iter 2: train_loss 221.2884827, lr = 5.995018e-04:   2%|▏         | 3/135 [00:02<03:45,  1.70s/it]"
     ]
    },
    {
     "name": "stdout",
     "output_type": "stream",
     "text": [
      "Sample: elise                     \t closes match: elise \n"
     ]
    },
    {
     "name": "stderr",
     "output_type": "stream",
     "text": [
      "epoch 13) iter 134: train_loss 220.6235199, lr = 2.925708e-04: 100%|██████████| 135/135 [00:13<00:00,  9.90it/s]\n"
     ]
    },
    {
     "name": "stdout",
     "output_type": "stream",
     "text": [
      "Test loss: 221.60733032226562\n"
     ]
    },
    {
     "name": "stderr",
     "output_type": "stream",
     "text": [
      "epoch 14) iter 0: train_loss 221.9514160, lr = 2.890602e-04:   0%|          | 0/135 [00:00<?, ?it/s]"
     ]
    },
    {
     "name": "stdout",
     "output_type": "stream",
     "text": [
      "Iteration 0 samples:\n",
      "Sample: antay                     \t closes match: verohanta \n",
      "Sample: marin                     \t closes match: marin \n",
      "Sample: alexin                    \t closes match: alexina \n",
      "Sample: matau                     \t closes match: marta \n"
     ]
    },
    {
     "name": "stderr",
     "output_type": "stream",
     "text": [
      "epoch 14) iter 2: train_loss 220.8672791, lr = 2.820438e-04:   2%|▏         | 3/135 [00:02<03:20,  1.52s/it]"
     ]
    },
    {
     "name": "stdout",
     "output_type": "stream",
     "text": [
      "Sample: lericin                   \t closes match: eric \n"
     ]
    },
    {
     "name": "stderr",
     "output_type": "stream",
     "text": [
      "epoch 14) iter 134: train_loss 222.1074066, lr = 6.000000e-05: 100%|██████████| 135/135 [00:13<00:00, 10.12it/s]\n"
     ]
    },
    {
     "name": "stdout",
     "output_type": "stream",
     "text": [
      "Test loss: 221.5497782389323\n"
     ]
    },
    {
     "name": "stderr",
     "output_type": "stream",
     "text": [
      "epoch 15) iter 0: train_loss 221.4111023, lr = 6.000000e-05:   0%|          | 0/135 [00:00<?, ?it/s]"
     ]
    },
    {
     "name": "stdout",
     "output_type": "stream",
     "text": [
      "Iteration 0 samples:\n",
      "Sample: guilay                    \t closes match: gui \n",
      "Sample: melencili                 \t closes match: melen \n",
      "Sample: stesis                    \t closes match: stessy \n",
      "Sample: ropas                     \t closes match: roparz \n"
     ]
    },
    {
     "name": "stderr",
     "output_type": "stream",
     "text": [
      "epoch 15) iter 2: train_loss 222.2157898, lr = 6.000000e-05:   2%|▏         | 3/135 [00:02<03:41,  1.68s/it]"
     ]
    },
    {
     "name": "stdout",
     "output_type": "stream",
     "text": [
      "Sample: punite                    \t closes match: itte \n"
     ]
    },
    {
     "name": "stderr",
     "output_type": "stream",
     "text": [
      "epoch 15) iter 134: train_loss 221.2095795, lr = 3.087796e-04: 100%|██████████| 135/135 [00:13<00:00,  9.95it/s]\n"
     ]
    },
    {
     "name": "stdout",
     "output_type": "stream",
     "text": [
      "Test loss: 221.58065795898438\n"
     ]
    },
    {
     "name": "stderr",
     "output_type": "stream",
     "text": [
      "epoch 16) iter 0: train_loss 221.2411499, lr = 3.122897e-04:   0%|          | 0/135 [00:00<?, ?it/s]"
     ]
    },
    {
     "name": "stdout",
     "output_type": "stream",
     "text": [
      "Iteration 0 samples:\n",
      "Sample: babneus                   \t closes match: urs \n",
      "Sample: balisan                   \t closes match: balian \n",
      "Sample: crolaes                   \t closes match: ares \n",
      "Sample: alia                      \t closes match: alia \n"
     ]
    },
    {
     "name": "stderr",
     "output_type": "stream",
     "text": [
      "epoch 16) iter 2: train_loss 221.6808167, lr = 3.193045e-04:   2%|▏         | 3/135 [00:02<03:29,  1.59s/it]"
     ]
    },
    {
     "name": "stdout",
     "output_type": "stream",
     "text": [
      "Sample: maelise                   \t closes match: maelis \n"
     ]
    },
    {
     "name": "stderr",
     "output_type": "stream",
     "text": [
      "epoch 16) iter 134: train_loss 221.6534119, lr = 5.998510e-04: 100%|██████████| 135/135 [00:13<00:00, 10.02it/s]\n"
     ]
    },
    {
     "name": "stdout",
     "output_type": "stream",
     "text": [
      "Test loss: 221.69241536458333\n"
     ]
    },
    {
     "name": "stderr",
     "output_type": "stream",
     "text": [
      "epoch 17) iter 0: train_loss 221.7555084, lr = 5.997197e-04:   0%|          | 0/135 [00:00<?, ?it/s]"
     ]
    },
    {
     "name": "stdout",
     "output_type": "stream",
     "text": [
      "Iteration 0 samples:\n",
      "Sample: runabyl                   \t closes match: ruby \n",
      "Sample: clron                     \t closes match: claroun \n",
      "Sample: annye                     \t closes match: ann \n",
      "Sample: ethelia                   \t closes match: lia \n"
     ]
    },
    {
     "name": "stderr",
     "output_type": "stream",
     "text": [
      "epoch 17) iter 2: train_loss 221.5010681, lr = 5.993340e-04:   2%|▏         | 3/135 [00:02<03:19,  1.51s/it]"
     ]
    },
    {
     "name": "stdout",
     "output_type": "stream",
     "text": [
      "Sample: leoba                     \t closes match: leo \n"
     ]
    },
    {
     "name": "stderr",
     "output_type": "stream",
     "text": [
      "epoch 17) iter 134: train_loss 221.5653534, lr = 2.898702e-04: 100%|██████████| 135/135 [00:13<00:00, 10.13it/s]\n"
     ]
    },
    {
     "name": "stdout",
     "output_type": "stream",
     "text": [
      "Test loss: 221.59099629720052\n"
     ]
    },
    {
     "name": "stderr",
     "output_type": "stream",
     "text": [
      "epoch 18) iter 0: train_loss 221.6926270, lr = 2.863607e-04:   0%|          | 0/135 [00:00<?, ?it/s]"
     ]
    },
    {
     "name": "stdout",
     "output_type": "stream",
     "text": [
      "Iteration 0 samples:\n",
      "Sample: aremine                   \t closes match: remi \n",
      "Sample: siganne                   \t closes match: anne \n",
      "Sample: cypr                      \t closes match: cypriane \n",
      "Sample: evann                     \t closes match: ann \n"
     ]
    },
    {
     "name": "stderr",
     "output_type": "stream",
     "text": [
      "epoch 18) iter 2: train_loss 221.3474426, lr = 2.793476e-04:   2%|▏         | 3/135 [00:02<03:21,  1.53s/it]"
     ]
    },
    {
     "name": "stdout",
     "output_type": "stream",
     "text": [
      "Sample: lerega                    \t closes match: leria \n"
     ]
    },
    {
     "name": "stderr",
     "output_type": "stream",
     "text": [
      "epoch 18) iter 134: train_loss 220.7893066, lr = 6.000000e-05: 100%|██████████| 135/135 [00:13<00:00, 10.11it/s]\n"
     ]
    },
    {
     "name": "stdout",
     "output_type": "stream",
     "text": [
      "Test loss: 221.49289245605468\n"
     ]
    },
    {
     "name": "stderr",
     "output_type": "stream",
     "text": [
      "epoch 19) iter 0: train_loss 220.8811493, lr = 6.000000e-05:   0%|          | 0/135 [00:00<?, ?it/s]"
     ]
    },
    {
     "name": "stdout",
     "output_type": "stream",
     "text": [
      "Iteration 0 samples:\n",
      "Sample: narilein                  \t closes match: leina \n",
      "Sample: sybrarie                  \t closes match: rite \n",
      "Sample: garturie                  \t closes match: uriel \n",
      "Sample: jachen                    \t closes match: jacek \n"
     ]
    },
    {
     "name": "stderr",
     "output_type": "stream",
     "text": [
      "epoch 19) iter 2: train_loss 221.0309448, lr = 6.000000e-05:   2%|▏         | 3/135 [00:02<03:37,  1.65s/it]"
     ]
    },
    {
     "name": "stdout",
     "output_type": "stream",
     "text": [
      "Sample: fresine                   \t closes match: resi \n"
     ]
    },
    {
     "name": "stderr",
     "output_type": "stream",
     "text": [
      "epoch 19) iter 134: train_loss 220.6881866, lr = 3.114798e-04: 100%|██████████| 135/135 [00:13<00:00,  9.98it/s]\n"
     ]
    },
    {
     "name": "stdout",
     "output_type": "stream",
     "text": [
      "Test loss: 221.53829854329427\n"
     ]
    },
    {
     "name": "stderr",
     "output_type": "stream",
     "text": [
      "epoch 20) iter 0: train_loss 221.4964600, lr = 3.149887e-04:   0%|          | 0/135 [00:00<?, ?it/s]"
     ]
    },
    {
     "name": "stdout",
     "output_type": "stream",
     "text": [
      "Iteration 0 samples:\n",
      "Sample: ale                       \t closes match: valerien \n",
      "Sample: maelva                    \t closes match: maela \n",
      "Sample: narina                    \t closes match: marina \n",
      "Sample: erwan                     \t closes match: erwan \n"
     ]
    },
    {
     "name": "stderr",
     "output_type": "stream",
     "text": [
      "epoch 20) iter 2: train_loss 220.7243042, lr = 3.219998e-04:   2%|▏         | 3/135 [00:02<03:37,  1.65s/it]"
     ]
    },
    {
     "name": "stdout",
     "output_type": "stream",
     "text": [
      "Sample: sividne                   \t closes match: ivi \n"
     ]
    },
    {
     "name": "stderr",
     "output_type": "stream",
     "text": [
      "epoch 20) iter 134: train_loss 220.6403046, lr = 5.997537e-04: 100%|██████████| 135/135 [00:13<00:00,  9.99it/s]\n"
     ]
    },
    {
     "name": "stdout",
     "output_type": "stream",
     "text": [
      "Test loss: 221.64080708821615\n"
     ]
    },
    {
     "name": "stderr",
     "output_type": "stream",
     "text": [
      "epoch 21) iter 0: train_loss 221.6834412, lr = 5.995908e-04:   0%|          | 0/135 [00:00<?, ?it/s]"
     ]
    },
    {
     "name": "stdout",
     "output_type": "stream",
     "text": [
      "Iteration 0 samples:\n",
      "Sample: aurahin                   \t closes match: aura \n",
      "Sample: salda                     \t closes match: alda \n",
      "Sample: ermin                     \t closes match: ermin \n",
      "Sample: arbin                     \t closes match: gabin \n"
     ]
    },
    {
     "name": "stderr",
     "output_type": "stream",
     "text": [
      "epoch 21) iter 2: train_loss 221.6035767, lr = 5.991420e-04:   2%|▏         | 3/135 [00:02<03:27,  1.58s/it]"
     ]
    },
    {
     "name": "stdout",
     "output_type": "stream",
     "text": [
      "Sample: malis                     \t closes match: maelis \n"
     ]
    },
    {
     "name": "stderr",
     "output_type": "stream",
     "text": [
      "epoch 21) iter 134: train_loss 221.6382141, lr = 2.871704e-04: 100%|██████████| 135/135 [00:13<00:00, 10.06it/s]\n"
     ]
    },
    {
     "name": "stdout",
     "output_type": "stream",
     "text": [
      "Test loss: 221.50025431315103\n"
     ]
    },
    {
     "name": "stderr",
     "output_type": "stream",
     "text": [
      "epoch 22) iter 0: train_loss 220.7428589, lr = 2.836622e-04:   0%|          | 0/135 [00:00<?, ?it/s]"
     ]
    },
    {
     "name": "stdout",
     "output_type": "stream",
     "text": [
      "Iteration 0 samples:\n",
      "Sample: theline                   \t closes match: lin \n",
      "Sample: therve                    \t closes match: herve \n",
      "Sample: eusteline                 \t closes match: lin \n",
      "Sample: saratia                   \t closes match: tia \n"
     ]
    },
    {
     "name": "stderr",
     "output_type": "stream",
     "text": [
      "epoch 22) iter 2: train_loss 221.5593719, lr = 2.766531e-04:   2%|▏         | 3/135 [00:02<03:29,  1.59s/it]"
     ]
    },
    {
     "name": "stdout",
     "output_type": "stream",
     "text": [
      "Sample: leavine                   \t closes match: lea \n"
     ]
    },
    {
     "name": "stderr",
     "output_type": "stream",
     "text": [
      "epoch 22) iter 134: train_loss 221.4313049, lr = 6.000000e-05: 100%|██████████| 135/135 [00:13<00:00, 10.04it/s]\n"
     ]
    },
    {
     "name": "stdout",
     "output_type": "stream",
     "text": [
      "Test loss: 221.42351175944012\n"
     ]
    },
    {
     "name": "stderr",
     "output_type": "stream",
     "text": [
      "epoch 23) iter 0: train_loss 221.1954498, lr = 6.000000e-05:   0%|          | 0/135 [00:00<?, ?it/s]"
     ]
    },
    {
     "name": "stdout",
     "output_type": "stream",
     "text": [
      "Iteration 0 samples:\n",
      "Sample: elias                     \t closes match: elias \n",
      "Sample: turislaie                 \t closes match: lalie \n",
      "Sample: may                       \t closes match: may \n",
      "Sample: maire                     \t closes match: mai \n"
     ]
    },
    {
     "name": "stderr",
     "output_type": "stream",
     "text": [
      "epoch 23) iter 2: train_loss 221.4450378, lr = 6.000000e-05:   2%|▏         | 3/135 [00:02<04:12,  1.91s/it]"
     ]
    },
    {
     "name": "stdout",
     "output_type": "stream",
     "text": [
      "Sample: jana                      \t closes match: jana \n"
     ]
    },
    {
     "name": "stderr",
     "output_type": "stream",
     "text": [
      "epoch 23) iter 134: train_loss 221.0827942, lr = 3.141791e-04: 100%|██████████| 135/135 [00:13<00:00,  9.73it/s]\n"
     ]
    },
    {
     "name": "stdout",
     "output_type": "stream",
     "text": [
      "Test loss: 221.40618387858072\n"
     ]
    },
    {
     "name": "stderr",
     "output_type": "stream",
     "text": [
      "epoch 24) iter 0: train_loss 221.4229126, lr = 3.176865e-04:   0%|          | 0/135 [00:00<?, ?it/s]"
     ]
    },
    {
     "name": "stdout",
     "output_type": "stream",
     "text": [
      "Iteration 0 samples:\n",
      "Sample: clatiacine                \t closes match: tia \n",
      "Sample: floris                    \t closes match: floris \n",
      "Sample: mantis                    \t closes match: mattis \n",
      "Sample: ayrna                     \t closes match: mayna \n"
     ]
    },
    {
     "name": "stderr",
     "output_type": "stream",
     "text": [
      "epoch 24) iter 2: train_loss 220.9468994, lr = 3.246934e-04:   2%|▏         | 3/135 [00:02<03:51,  1.75s/it]"
     ]
    },
    {
     "name": "stdout",
     "output_type": "stream",
     "text": [
      "Sample: suziza                    \t closes match: izia \n"
     ]
    },
    {
     "name": "stderr",
     "output_type": "stream",
     "text": [
      "epoch 24) iter 134: train_loss 221.2818451, lr = 5.996320e-04: 100%|██████████| 135/135 [00:13<00:00,  9.85it/s]\n"
     ]
    },
    {
     "name": "stdout",
     "output_type": "stream",
     "text": [
      "Test loss: 221.45008748372396\n"
     ]
    },
    {
     "name": "stderr",
     "output_type": "stream",
     "text": [
      "epoch 25) iter 0: train_loss 221.3096313, lr = 5.994376e-04:   0%|          | 0/135 [00:00<?, ?it/s]"
     ]
    },
    {
     "name": "stdout",
     "output_type": "stream",
     "text": [
      "Iteration 0 samples:\n",
      "Sample: maranaia                  \t closes match: mara \n",
      "Sample: sambe                     \t closes match: sam \n",
      "Sample: gaseran                   \t closes match: german \n",
      "Sample: dina                      \t closes match: dina \n"
     ]
    },
    {
     "name": "stderr",
     "output_type": "stream",
     "text": [
      "epoch 25) iter 2: train_loss 221.0548096, lr = 5.989256e-04:   2%|▏         | 3/135 [00:02<03:43,  1.69s/it]"
     ]
    },
    {
     "name": "stdout",
     "output_type": "stream",
     "text": [
      "Sample: allon                     \t closes match: lo \n"
     ]
    },
    {
     "name": "stderr",
     "output_type": "stream",
     "text": [
      "epoch 25) iter 134: train_loss 221.4103699, lr = 2.844716e-04: 100%|██████████| 135/135 [00:13<00:00,  9.90it/s]\n"
     ]
    },
    {
     "name": "stdout",
     "output_type": "stream",
     "text": [
      "Test loss: 221.44852091471355\n"
     ]
    },
    {
     "name": "stderr",
     "output_type": "stream",
     "text": [
      "epoch 26) iter 0: train_loss 220.3719177, lr = 2.809652e-04:   0%|          | 0/135 [00:00<?, ?it/s]"
     ]
    },
    {
     "name": "stdout",
     "output_type": "stream",
     "text": [
      "Iteration 0 samples:\n",
      "Sample: salana                    \t closes match: alan \n",
      "Sample: loeisil                   \t closes match: lo \n",
      "Sample: marandet                  \t closes match: mara \n",
      "Sample: rosma                     \t closes match: rosa \n"
     ]
    },
    {
     "name": "stderr",
     "output_type": "stream",
     "text": [
      "epoch 26) iter 2: train_loss 220.9260864, lr = 2.739605e-04:   2%|▏         | 3/135 [00:02<03:25,  1.56s/it]"
     ]
    },
    {
     "name": "stdout",
     "output_type": "stream",
     "text": [
      "Sample: annia                     \t closes match: ann \n"
     ]
    },
    {
     "name": "stderr",
     "output_type": "stream",
     "text": [
      "epoch 26) iter 134: train_loss 221.1879730, lr = 6.000000e-05: 100%|██████████| 135/135 [00:13<00:00, 10.08it/s]\n"
     ]
    },
    {
     "name": "stdout",
     "output_type": "stream",
     "text": [
      "Test loss: 221.36097005208333\n"
     ]
    },
    {
     "name": "stderr",
     "output_type": "stream",
     "text": [
      "epoch 27) iter 0: train_loss 220.8679810, lr = 6.000000e-05:   0%|          | 0/135 [00:00<?, ?it/s]"
     ]
    },
    {
     "name": "stdout",
     "output_type": "stream",
     "text": [
      "Iteration 0 samples:\n",
      "Sample: margarie                  \t closes match: margaret \n",
      "Sample: jeano                     \t closes match: ano \n",
      "Sample: jan                       \t closes match: jan \n",
      "Sample: clatre                    \t closes match: clar \n"
     ]
    },
    {
     "name": "stderr",
     "output_type": "stream",
     "text": [
      "epoch 27) iter 2: train_loss 220.5566711, lr = 6.000000e-05:   2%|▏         | 3/135 [00:02<03:41,  1.68s/it]"
     ]
    },
    {
     "name": "stdout",
     "output_type": "stream",
     "text": [
      "Sample: abrard                    \t closes match: ebrard \n"
     ]
    },
    {
     "name": "stderr",
     "output_type": "stream",
     "text": [
      "epoch 27) iter 134: train_loss 219.7893219, lr = 3.168773e-04: 100%|██████████| 135/135 [00:13<00:00,  9.93it/s]\n"
     ]
    },
    {
     "name": "stdout",
     "output_type": "stream",
     "text": [
      "Test loss: 221.37100016276042\n"
     ]
    },
    {
     "name": "stderr",
     "output_type": "stream",
     "text": [
      "epoch 28) iter 0: train_loss 221.1926270, lr = 3.203828e-04:   0%|          | 0/135 [00:00<?, ?it/s]"
     ]
    },
    {
     "name": "stdout",
     "output_type": "stream",
     "text": [
      "Iteration 0 samples:\n",
      "Sample: firettera                 \t closes match: erna \n",
      "Sample: mery                      \t closes match: meryem \n",
      "Sample: alina                     \t closes match: galina \n",
      "Sample: mata                      \t closes match: marta \n"
     ]
    },
    {
     "name": "stderr",
     "output_type": "stream",
     "text": [
      "epoch 28) iter 2: train_loss 221.0615234, lr = 3.273850e-04:   2%|▏         | 3/135 [00:02<04:16,  1.95s/it]"
     ]
    },
    {
     "name": "stdout",
     "output_type": "stream",
     "text": [
      "Sample: syntaine                  \t closes match: aigne \n"
     ]
    },
    {
     "name": "stderr",
     "output_type": "stream",
     "text": [
      "epoch 28) iter 134: train_loss 220.4591217, lr = 5.994861e-04: 100%|██████████| 135/135 [00:13<00:00,  9.68it/s]\n"
     ]
    },
    {
     "name": "stdout",
     "output_type": "stream",
     "text": [
      "Test loss: 221.5432159423828\n"
     ]
    },
    {
     "name": "stderr",
     "output_type": "stream",
     "text": [
      "epoch 29) iter 0: train_loss 220.6960754, lr = 5.992601e-04:   0%|          | 0/135 [00:00<?, ?it/s]"
     ]
    },
    {
     "name": "stdout",
     "output_type": "stream",
     "text": [
      "Iteration 0 samples:\n",
      "Sample: mary                      \t closes match: maryanick \n",
      "Sample: fulcesi                   \t closes match: luce \n",
      "Sample: pascolite                 \t closes match: pascaline \n",
      "Sample: evarian                   \t closes match: ian \n"
     ]
    },
    {
     "name": "stderr",
     "output_type": "stream",
     "text": [
      "epoch 29) iter 2: train_loss 221.0626068, lr = 5.986851e-04:   2%|▏         | 3/135 [00:02<03:47,  1.72s/it]"
     ]
    },
    {
     "name": "stdout",
     "output_type": "stream",
     "text": [
      "Sample: nanik                     \t closes match: anika \n"
     ]
    },
    {
     "name": "stderr",
     "output_type": "stream",
     "text": [
      "epoch 29) iter 134: train_loss 221.2553101, lr = 2.817741e-04: 100%|██████████| 135/135 [00:13<00:00,  9.90it/s]\n"
     ]
    },
    {
     "name": "stdout",
     "output_type": "stream",
     "text": [
      "Test loss: 221.39969482421876\n"
     ]
    },
    {
     "name": "stderr",
     "output_type": "stream",
     "text": [
      "epoch 30) iter 0: train_loss 220.9420013, lr = 2.782696e-04:   0%|          | 0/135 [00:00<?, ?it/s]"
     ]
    },
    {
     "name": "stdout",
     "output_type": "stream",
     "text": [
      "Iteration 0 samples:\n",
      "Sample: andrick                   \t closes match: rick \n",
      "Sample: cynne                     \t closes match: cheyenne \n",
      "Sample: junia                     \t closes match: juana \n",
      "Sample: ancoa                     \t closes match: manoa \n"
     ]
    },
    {
     "name": "stderr",
     "output_type": "stream",
     "text": [
      "epoch 30) iter 2: train_loss 221.2481689, lr = 2.712700e-04:   2%|▏         | 3/135 [00:02<03:18,  1.50s/it]"
     ]
    },
    {
     "name": "stdout",
     "output_type": "stream",
     "text": [
      "Sample: brigi                     \t closes match: brigitte \n"
     ]
    },
    {
     "name": "stderr",
     "output_type": "stream",
     "text": [
      "epoch 30) iter 134: train_loss 220.7804718, lr = 6.000000e-05: 100%|██████████| 135/135 [00:13<00:00, 10.13it/s]\n"
     ]
    },
    {
     "name": "stdout",
     "output_type": "stream",
     "text": [
      "Test loss: 221.34860127766927\n"
     ]
    },
    {
     "name": "stderr",
     "output_type": "stream",
     "text": [
      "epoch 31) iter 0: train_loss 221.0045929, lr = 6.000000e-05:   0%|          | 0/135 [00:00<?, ?it/s]"
     ]
    },
    {
     "name": "stdout",
     "output_type": "stream",
     "text": [
      "Iteration 0 samples:\n",
      "Sample: aymel                     \t closes match: aymeline \n",
      "Sample: conoul                    \t closes match: consolata \n",
      "Sample: stershin                  \t closes match: asterine \n",
      "Sample: lucevie                   \t closes match: luc \n"
     ]
    },
    {
     "name": "stderr",
     "output_type": "stream",
     "text": [
      "epoch 31) iter 2: train_loss 220.5299683, lr = 6.000000e-05:   2%|▏         | 3/135 [00:02<03:24,  1.55s/it]"
     ]
    },
    {
     "name": "stdout",
     "output_type": "stream",
     "text": [
      "Sample: liena                     \t closes match: lina \n"
     ]
    },
    {
     "name": "stderr",
     "output_type": "stream",
     "text": [
      "epoch 31) iter 134: train_loss 221.5934296, lr = 3.195741e-04: 100%|██████████| 135/135 [00:13<00:00, 10.10it/s]\n"
     ]
    },
    {
     "name": "stdout",
     "output_type": "stream",
     "text": [
      "Test loss: 221.38641459147135\n"
     ]
    },
    {
     "name": "stderr",
     "output_type": "stream",
     "text": [
      "epoch 32) iter 0: train_loss 221.0930176, lr = 3.230775e-04:   0%|          | 0/135 [00:00<?, ?it/s]"
     ]
    },
    {
     "name": "stdout",
     "output_type": "stream",
     "text": [
      "Iteration 0 samples:\n",
      "Sample: gourgine                  \t closes match: georgine \n",
      "Sample: aumuniane                 \t closes match: ian \n",
      "Sample: aliphrsia                 \t closes match: ali \n",
      "Sample: josena                    \t closes match: jos \n"
     ]
    },
    {
     "name": "stderr",
     "output_type": "stream",
     "text": [
      "epoch 32) iter 2: train_loss 221.0667877, lr = 3.300744e-04:   2%|▏         | 3/135 [00:02<04:24,  2.01s/it]"
     ]
    },
    {
     "name": "stdout",
     "output_type": "stream",
     "text": [
      "Sample: jacquella                 \t closes match: ella \n"
     ]
    },
    {
     "name": "stderr",
     "output_type": "stream",
     "text": [
      "epoch 32) iter 134: train_loss 221.6111145, lr = 5.993159e-04: 100%|██████████| 135/135 [00:14<00:00,  9.62it/s]\n"
     ]
    },
    {
     "name": "stdout",
     "output_type": "stream",
     "text": [
      "Test loss: 221.43326009114583\n"
     ]
    },
    {
     "name": "stderr",
     "output_type": "stream",
     "text": [
      "epoch 33) iter 0: train_loss 220.5759125, lr = 5.990583e-04:   0%|          | 0/135 [00:00<?, ?it/s]"
     ]
    },
    {
     "name": "stdout",
     "output_type": "stream",
     "text": [
      "Iteration 0 samples:\n",
      "Sample: scevie                    \t closes match: evie \n",
      "Sample: angelline                 \t closes match: angeline \n",
      "Sample: fabile                    \t closes match: fabien \n",
      "Sample: mouctine                  \t closes match: toine \n"
     ]
    },
    {
     "name": "stderr",
     "output_type": "stream",
     "text": [
      "epoch 33) iter 2: train_loss 221.3845978, lr = 5.984203e-04:   2%|▏         | 3/135 [00:02<03:53,  1.77s/it]"
     ]
    },
    {
     "name": "stdout",
     "output_type": "stream",
     "text": [
      "Sample: audule                    \t closes match: gudule \n"
     ]
    },
    {
     "name": "stderr",
     "output_type": "stream",
     "text": [
      "epoch 33) iter 134: train_loss 221.9626465, lr = 2.790781e-04: 100%|██████████| 135/135 [00:13<00:00,  9.85it/s]\n"
     ]
    },
    {
     "name": "stdout",
     "output_type": "stream",
     "text": [
      "Test loss: 221.29320271809897\n"
     ]
    },
    {
     "name": "stderr",
     "output_type": "stream",
     "text": [
      "epoch 34) iter 0: train_loss 220.3540649, lr = 2.755758e-04:   0%|          | 0/135 [00:00<?, ?it/s]"
     ]
    },
    {
     "name": "stdout",
     "output_type": "stream",
     "text": [
      "Iteration 0 samples:\n",
      "Sample: tylane                    \t closes match: thylane \n",
      "Sample: ewann                     \t closes match: erwann \n",
      "Sample: christeba                 \t closes match: chris \n",
      "Sample: elyne                     \t closes match: ellyne \n"
     ]
    },
    {
     "name": "stderr",
     "output_type": "stream",
     "text": [
      "epoch 34) iter 2: train_loss 220.9222260, lr = 2.685818e-04:   2%|▏         | 3/135 [00:02<03:56,  1.79s/it]"
     ]
    },
    {
     "name": "stdout",
     "output_type": "stream",
     "text": [
      "Sample: lexa                      \t closes match: lexane \n"
     ]
    },
    {
     "name": "stderr",
     "output_type": "stream",
     "text": [
      "epoch 34) iter 134: train_loss 220.6655579, lr = 6.000000e-05: 100%|██████████| 135/135 [00:13<00:00,  9.85it/s]\n"
     ]
    },
    {
     "name": "stdout",
     "output_type": "stream",
     "text": [
      "Test loss: 221.1817637125651\n"
     ]
    },
    {
     "name": "stderr",
     "output_type": "stream",
     "text": [
      "epoch 35) iter 0: train_loss 220.3544006, lr = 6.000000e-05:   0%|          | 0/135 [00:00<?, ?it/s]"
     ]
    },
    {
     "name": "stdout",
     "output_type": "stream",
     "text": [
      "Iteration 0 samples:\n",
      "Sample: atheair                   \t closes match: thea \n",
      "Sample: marilles                  \t closes match: maurille \n",
      "Sample: raph                      \t closes match: seraphie \n",
      "Sample: decte                     \t closes match: dieter \n"
     ]
    },
    {
     "name": "stderr",
     "output_type": "stream",
     "text": [
      "epoch 35) iter 2: train_loss 220.6741028, lr = 6.000000e-05:   2%|▏         | 3/135 [00:02<03:35,  1.63s/it]"
     ]
    },
    {
     "name": "stdout",
     "output_type": "stream",
     "text": [
      "Sample: anton                     \t closes match: anton \n"
     ]
    },
    {
     "name": "stderr",
     "output_type": "stream",
     "text": [
      "epoch 35) iter 134: train_loss 220.3271484, lr = 3.222693e-04: 100%|██████████| 135/135 [00:13<00:00, 10.01it/s]\n"
     ]
    },
    {
     "name": "stdout",
     "output_type": "stream",
     "text": [
      "Test loss: 221.42804260253905\n"
     ]
    },
    {
     "name": "stderr",
     "output_type": "stream",
     "text": [
      "epoch 36) iter 0: train_loss 221.1527100, lr = 3.257703e-04:   0%|          | 0/135 [00:00<?, ?it/s]"
     ]
    },
    {
     "name": "stdout",
     "output_type": "stream",
     "text": [
      "Iteration 0 samples:\n",
      "Sample: mormettine                \t closes match: ines \n",
      "Sample: coran                     \t closes match: goran \n",
      "Sample: conole                    \t closes match: oleg \n",
      "Sample: andreda                   \t closes match: andrea \n"
     ]
    },
    {
     "name": "stderr",
     "output_type": "stream",
     "text": [
      "epoch 36) iter 2: train_loss 221.2214508, lr = 3.327613e-04:   2%|▏         | 3/135 [00:02<03:38,  1.65s/it]"
     ]
    },
    {
     "name": "stdout",
     "output_type": "stream",
     "text": [
      "Sample: errmane                   \t closes match: germane \n"
     ]
    },
    {
     "name": "stderr",
     "output_type": "stream",
     "text": [
      "epoch 36) iter 134: train_loss 220.8982544, lr = 5.991214e-04: 100%|██████████| 135/135 [00:13<00:00,  9.97it/s]\n"
     ]
    },
    {
     "name": "stdout",
     "output_type": "stream",
     "text": [
      "Test loss: 221.4509521484375\n"
     ]
    },
    {
     "name": "stderr",
     "output_type": "stream",
     "text": [
      "epoch 37) iter 0: train_loss 220.8845520, lr = 5.988323e-04:   0%|          | 0/135 [00:00<?, ?it/s]"
     ]
    },
    {
     "name": "stdout",
     "output_type": "stream",
     "text": [
      "Iteration 0 samples:\n",
      "Sample: chrysenne                 \t closes match: sienne \n",
      "Sample: raissa                    \t closes match: raissa \n",
      "Sample: mathanee                  \t closes match: noee \n",
      "Sample: anaelle                   \t closes match: anaelle \n"
     ]
    },
    {
     "name": "stderr",
     "output_type": "stream",
     "text": [
      "epoch 37) iter 2: train_loss 220.7748108, lr = 5.981313e-04:   2%|▏         | 3/135 [00:02<03:58,  1.81s/it]"
     ]
    },
    {
     "name": "stdout",
     "output_type": "stream",
     "text": [
      "Sample: christora                 \t closes match: chris \n"
     ]
    },
    {
     "name": "stderr",
     "output_type": "stream",
     "text": [
      "epoch 37) iter 134: train_loss 220.4975433, lr = 2.763838e-04: 100%|██████████| 135/135 [00:13<00:00,  9.84it/s]\n"
     ]
    },
    {
     "name": "stdout",
     "output_type": "stream",
     "text": [
      "Test loss: 221.36153869628907\n"
     ]
    },
    {
     "name": "stderr",
     "output_type": "stream",
     "text": [
      "epoch 38) iter 0: train_loss 220.7894592, lr = 2.728841e-04:   0%|          | 0/135 [00:00<?, ?it/s]"
     ]
    },
    {
     "name": "stdout",
     "output_type": "stream",
     "text": [
      "Iteration 0 samples:\n",
      "Sample: velant                    \t closes match: venant \n",
      "Sample: bertille                  \t closes match: bertille \n",
      "Sample: eliodie                   \t closes match: elodie \n",
      "Sample: arote                     \t closes match: marotte \n"
     ]
    },
    {
     "name": "stderr",
     "output_type": "stream",
     "text": [
      "epoch 38) iter 2: train_loss 220.8403625, lr = 2.658962e-04:   2%|▏         | 3/135 [00:02<03:26,  1.56s/it]"
     ]
    },
    {
     "name": "stdout",
     "output_type": "stream",
     "text": [
      "Sample: cudine                    \t closes match: claudine \n"
     ]
    },
    {
     "name": "stderr",
     "output_type": "stream",
     "text": [
      "epoch 38) iter 134: train_loss 221.1203308, lr = 6.000000e-05: 100%|██████████| 135/135 [00:13<00:00, 10.07it/s]\n"
     ]
    },
    {
     "name": "stdout",
     "output_type": "stream",
     "text": [
      "Test loss: 221.24722900390626\n"
     ]
    },
    {
     "name": "stderr",
     "output_type": "stream",
     "text": [
      "epoch 39) iter 0: train_loss 220.9147949, lr = 6.000000e-05:   0%|          | 0/135 [00:00<?, ?it/s]"
     ]
    },
    {
     "name": "stdout",
     "output_type": "stream",
     "text": [
      "Iteration 0 samples:\n",
      "Sample: jana                      \t closes match: jana \n",
      "Sample: maricop                   \t closes match: marco \n",
      "Sample: egiada                    \t closes match: ada \n",
      "Sample: lora                      \t closes match: lora \n"
     ]
    },
    {
     "name": "stderr",
     "output_type": "stream",
     "text": [
      "epoch 39) iter 2: train_loss 220.5468903, lr = 6.000000e-05:   2%|▏         | 3/135 [00:02<03:44,  1.70s/it]"
     ]
    },
    {
     "name": "stdout",
     "output_type": "stream",
     "text": [
      "Sample: girica                    \t closes match: iria \n"
     ]
    },
    {
     "name": "stderr",
     "output_type": "stream",
     "text": [
      "epoch 39) iter 134: train_loss 220.9903717, lr = 3.249627e-04: 100%|██████████| 135/135 [00:13<00:00,  9.95it/s]\n"
     ]
    },
    {
     "name": "stdout",
     "output_type": "stream",
     "text": [
      "Test loss: 221.3573954264323\n"
     ]
    },
    {
     "name": "stderr",
     "output_type": "stream",
     "text": [
      "epoch 40) iter 0: train_loss 220.9487000, lr = 3.284610e-04:   0%|          | 0/135 [00:00<?, ?it/s]"
     ]
    },
    {
     "name": "stdout",
     "output_type": "stream",
     "text": [
      "Iteration 0 samples:\n",
      "Sample: lillere                   \t closes match: lilee \n",
      "Sample: leodorin                  \t closes match: leo \n",
      "Sample: mayare                    \t closes match: aya \n",
      "Sample: maurisie                  \t closes match: maur \n"
     ]
    },
    {
     "name": "stderr",
     "output_type": "stream",
     "text": [
      "epoch 40) iter 2: train_loss 221.1856689, lr = 3.354456e-04:   2%|▏         | 3/135 [00:02<03:35,  1.63s/it]"
     ]
    },
    {
     "name": "stdout",
     "output_type": "stream",
     "text": [
      "Sample: jaulisse                  \t closes match: lis \n"
     ]
    },
    {
     "name": "stderr",
     "output_type": "stream",
     "text": [
      "epoch 40) iter 134: train_loss 221.3414001, lr = 5.989027e-04: 100%|██████████| 135/135 [00:13<00:00, 10.01it/s]\n"
     ]
    },
    {
     "name": "stdout",
     "output_type": "stream",
     "text": [
      "Test loss: 221.4162394205729\n"
     ]
    }
   ],
   "source": [
    "french_names = []\n",
    "with open(NAMES_DIR / \"french_names_no_accent.txt\", \"r\") as f:\n",
    "    for word in f:\n",
    "        french_names.append(clean_word(word))\n",
    "french_vae = AttentionVae.load(\"french_model\")\n",
    "\n",
    "split = 0.9\n",
    "idx = int(len(french_names) * split)\n",
    "np.random.seed(137)\n",
    "np.random.shuffle(french_names)\n",
    "train_french_names = french_names[:idx]\n",
    "val_french_names = french_names[idx:]\n",
    "\n",
    "raw_train_french_names = \" \".join(train_french_names)\n",
    "raw_val_french_names = \" \".join(val_french_names)\n",
    "\n",
    "train_dataset = CharDataset(raw_train_french_names, maxlen, chars=chars)\n",
    "val_dataset = CharDataset(raw_val_french_names, maxlen, chars=chars)\n",
    "\n",
    "idx=298\n",
    "x, y, word = train_dataset[idx]\n",
    "print(\"x: \",decode_word(x.numpy(), french_vae.itos))\n",
    "print(\"y: \",decode_word(y.numpy(), french_vae.itos))\n",
    "print(\"word :\", decode_word(word.numpy(), french_vae.itos))\n",
    "\n",
    "\n",
    "chars = list(french_vae.stoi.keys())\n",
    "maxlen = french_vae.config.block_size\n",
    "\n",
    "tconf = TrainerConfig(\n",
    "    max_epochs=40,\n",
    "    batch_size=256,\n",
    "    learning_rate=6e-4,\n",
    "    lr_decay=True,\n",
    "    warmup_tokens=128 * 20,\n",
    "    final_tokens=2 * len(train_dataset) * maxlen,\n",
    "    num_workers=4,\n",
    "    sample_freq=10000,\n",
    "#     freeze_layers=tuple(list)\n",
    ")\n",
    "trainer = Trainer(french_vae, train_dataset, val_dataset, tconf,log_nearest_words=True)\n",
    "losses = trainer.train()"
   ]
  },
  {
   "cell_type": "code",
   "execution_count": 45,
   "metadata": {
    "ExecuteTime": {
     "end_time": "2021-02-08T11:52:27.850910Z",
     "start_time": "2021-02-08T11:52:27.739506Z"
    },
    "scrolled": true
   },
   "outputs": [
    {
     "data": {
      "text/plain": [
       "[<matplotlib.lines.Line2D at 0x7f1b1cec39d0>]"
      ]
     },
     "execution_count": 45,
     "metadata": {},
     "output_type": "execute_result"
    },
    {
     "data": {
      "image/png": "[encoded data removed]",
      "text/plain": [
       "<Figure size 432x288 with 1 Axes>"
      ]
     },
     "metadata": {
      "needs_background": "light"
     },
     "output_type": "display_data"
    }
   ],
   "source": [
    "plt.plot(losses['test_loss'])"
   ]
  },
  {
   "cell_type": "code",
   "execution_count": 46,
   "metadata": {
    "ExecuteTime": {
     "end_time": "2021-02-08T11:52:31.968331Z",
     "start_time": "2021-02-08T11:52:27.852088Z"
    }
   },
   "outputs": [
    {
     "name": "stdout",
     "output_type": "stream",
     "text": [
      "Context: \n",
      "alexane\t\t closest match: alexane\n",
      "albert\t\t closest match: albert\n",
      "\n",
      "Context: a\n",
      "alexane\t\t closest match: alexane\n",
      "albert\t\t closest match: albert\n",
      "\n",
      "Context: m\n",
      "mariane\t\t closest match: marciane\n",
      "\n",
      "Context: sim\n",
      "simphorie\t\t closest match: symphorine\n",
      "\n"
     ]
    }
   ],
   "source": [
    "generation_testing(french_vae, train_dataset.unique_word_list)"
   ]
  },
  {
   "cell_type": "code",
   "execution_count": 77,
   "metadata": {
    "ExecuteTime": {
     "end_time": "2021-02-08T18:34:20.745099Z",
     "start_time": "2021-02-08T18:33:04.257938Z"
    }
   },
   "outputs": [
    {
     "name": "stdout",
     "output_type": "stream",
     "text": [
      "Context: \n",
      "seranne             \t\t closest match: anne\n",
      "matude              \t\t closest match: maude\n",
      "aureas              \t\t closest match: aurea\n",
      "marya               \t\t closest match: maryanick\n",
      "aubastisla          \t\t closest match: rastislav\n",
      "catin               \t\t closest match: cantien\n",
      "lisee               \t\t closest match: elisee\n",
      "annane              \t\t closest match: anna\n",
      "chryson             \t\t closest match: chrysogone\n",
      "marylina            \t\t closest match: lin\n",
      "amath               \t\t closest match: mathe\n",
      "lauren              \t\t closest match: lauren\n",
      "marys               \t\t closest match: maryse\n",
      "lamen               \t\t closest match: ame\n",
      "mary                \t\t closest match: maryanick\n",
      "amariso             \t\t closest match: damaris\n",
      "micka               \t\t closest match: mickaele\n",
      "sanike              \t\t closest match: sandie\n",
      "myonn               \t\t closest match: yoann\n",
      "mico                \t\t closest match: mick\n",
      "marcel              \t\t closest match: marcel\n",
      "leon                \t\t closest match: leon\n",
      "servie              \t\t closest match: servine\n",
      "liliea              \t\t closest match: lilian\n",
      "auberte             \t\t closest match: aubert\n",
      "santoine            \t\t closest match: santoline\n",
      "servier             \t\t closest match: servine\n",
      "clome               \t\t closest match: lo\n",
      "calomine            \t\t closest match: lo\n",
      "ludovinde           \t\t closest match: ludovine\n",
      "louisette           \t\t closest match: louisette\n",
      "annoe               \t\t closest match: noe\n",
      "albert              \t\t closest match: albert\n",
      "lucia               \t\t closest match: lucia\n",
      "allon               \t\t closest match: lo\n",
      "allarine            \t\t closest match: alaine\n",
      "arne                \t\t closest match: houarne\n",
      "armard              \t\t closest match: aymard\n",
      "stelve              \t\t closest match: steve\n",
      "cathan              \t\t closest match: nathan\n",
      "alex                \t\t closest match: alex\n",
      "sando               \t\t closest match: sandro\n",
      "andrank             \t\t closest match: andrea\n",
      "amatthe             \t\t closest match: mattheo\n",
      "callaud             \t\t closest match: laud\n",
      "leona               \t\t closest match: leona\n",
      "malene              \t\t closest match: marylene\n",
      "landroca            \t\t closest match: leandro\n",
      "claira              \t\t closest match: clara\n",
      "\n",
      "Context: a\n",
      "andrie              \t\t closest match: andrieu\n",
      "artiane             \t\t closest match: ariane\n",
      "angeline            \t\t closest match: angeline\n",
      "aliena              \t\t closest match: alena\n",
      "anters              \t\t closest match: antere\n",
      "amaryse             \t\t closest match: maryse\n",
      "alaura              \t\t closest match: laura\n",
      "alexy               \t\t closest match: alex\n",
      "angel               \t\t closest match: angel\n",
      "antoul              \t\t closest match: arnoult\n",
      "anton               \t\t closest match: anton\n",
      "andree              \t\t closest match: andrew\n",
      "angeleine           \t\t closest match: angeline\n",
      "alexin              \t\t closest match: alexina\n",
      "annanaeal           \t\t closest match: anae\n",
      "arcome              \t\t closest match: come\n",
      "andredine           \t\t closest match: ed\n",
      "alisel              \t\t closest match: alise\n",
      "alburc              \t\t closest match: alberic\n",
      "alexen              \t\t closest match: alex\n",
      "aubert              \t\t closest match: aubert\n",
      "amanis              \t\t closest match: amans\n",
      "alexyne             \t\t closest match: alex\n",
      "annase              \t\t closest match: anna\n",
      "albert              \t\t closest match: albert\n",
      "antone              \t\t closest match: antoine\n",
      "amannan             \t\t closest match: anna\n",
      "arnatonie           \t\t closest match: anatolie\n",
      "anguald             \t\t closest match: alda\n",
      "andra               \t\t closest match: andrea\n",
      "antonie             \t\t closest match: antonine\n",
      "alberte             \t\t closest match: alberte\n",
      "alaustina           \t\t closest match: austin\n",
      "antoine             \t\t closest match: antoine\n",
      "alaman              \t\t closest match: alma\n",
      "alaran              \t\t closest match: alar\n",
      "amart               \t\t closest match: aimar\n",
      "aliseane            \t\t closest match: isea\n",
      "aliane              \t\t closest match: daliane\n",
      "ambert              \t\t closest match: rambert\n",
      "anasine             \t\t closest match: ana\n",
      "alden               \t\t closest match: valdenar\n",
      "anata               \t\t closest match: ana\n",
      "alexane             \t\t closest match: alexane\n",
      "amariella           \t\t closest match: mariella\n",
      "\n",
      "Context: m\n",
      "mathia              \t\t closest match: mathias\n",
      "melie               \t\t closest match: melie\n",
      "melod               \t\t closest match: melody\n",
      "milora              \t\t closest match: lo\n",
      "modeste             \t\t closest match: modeste\n",
      "marte               \t\t closest match: maritie\n",
      "matthe              \t\t closest match: mattheo\n",
      "marys               \t\t closest match: maryse\n",
      "melodine            \t\t closest match: melodine\n",
      "melia               \t\t closest match: amelia\n",
      "maen                \t\t closest match: maena\n",
      "marguelle           \t\t closest match: marielle\n",
      "marisous            \t\t closest match: marius\n",
      "maud                \t\t closest match: maud\n",
      "martin              \t\t closest match: martin\n",
      "mila                \t\t closest match: mila\n",
      "mattie              \t\t closest match: matti\n",
      "maelisse            \t\t closest match: melisse\n",
      "marissa             \t\t closest match: marisa\n",
      "marylla             \t\t closest match: mylla\n",
      "melcette            \t\t closest match: felicette\n",
      "marguellarne        \t\t closest match: ella\n",
      "maryse              \t\t closest match: maryse\n",
      "micole              \t\t closest match: nicole\n",
      "monseline           \t\t closest match: lin\n",
      "maryan              \t\t closest match: maryanick\n",
      "michore             \t\t closest match: michee\n",
      "maeline             \t\t closest match: maeline\n",
      "margoune            \t\t closest match: maroun\n",
      "marine              \t\t closest match: marine\n",
      "melciane            \t\t closest match: ian\n",
      "marce               \t\t closest match: marcie\n",
      "marisee             \t\t closest match: marise\n",
      "maelie              \t\t closest match: maelie\n",
      "melio               \t\t closest match: elio\n",
      "milla               \t\t closest match: milla\n",
      "maurie              \t\t closest match: maurice\n",
      "marietolde          \t\t closest match: marie\n",
      "miche               \t\t closest match: michee\n",
      "marina              \t\t closest match: marina\n",
      "monella             \t\t closest match: ella\n",
      "medre               \t\t closest match: ed\n",
      "marie               \t\t closest match: marie\n",
      "mattille            \t\t closest match: matti\n",
      "maurea              \t\t closest match: maure\n",
      "mautiana            \t\t closest match: ian\n",
      "melchio             \t\t closest match: melchior\n",
      "morie               \t\t closest match: morice\n",
      "\n",
      "Context: sim\n",
      "simild              \t\t closest match: ilda\n",
      "simiana             \t\t closest match: ian\n",
      "simi                \t\t closest match: similien\n",
      "simona              \t\t closest match: simon\n",
      "similian            \t\t closest match: ian\n",
      "simphaele           \t\t closest match: ael\n",
      "simphilde           \t\t closest match: hild\n",
      "simil               \t\t closest match: similien\n",
      "simbelino           \t\t closest match: lin\n",
      "simphorine          \t\t closest match: symphorine\n",
      "simphoros           \t\t closest match: symphorose\n",
      "simbert             \t\t closest match: imbert\n",
      "simphole            \t\t closest match: oleg\n",
      "simon               \t\t closest match: simon\n",
      "simpherone          \t\t closest match: simeon\n",
      "similine            \t\t closest match: lin\n",
      "simpe               \t\t closest match: gerasime\n",
      "simpion             \t\t closest match: pio\n",
      "simone              \t\t closest match: simone\n",
      "similie             \t\t closest match: similien\n",
      "simo                \t\t closest match: simoun\n",
      "simpiace            \t\t closest match: simplice\n",
      "simphoro            \t\t closest match: symphorose\n",
      "simph               \t\t closest match: symphoriane\n",
      "simera              \t\t closest match: erna\n",
      "simphora            \t\t closest match: sephora\n",
      "simpro              \t\t closest match: simon\n",
      "similia             \t\t closest match: lia\n",
      "simiane             \t\t closest match: ian\n",
      "simine              \t\t closest match: simone\n",
      "simpine             \t\t closest match: simplice\n",
      "simer               \t\t closest match: gerasime\n",
      "similio             \t\t closest match: similien\n",
      "simpie              \t\t closest match: pie\n",
      "simpian             \t\t closest match: ian\n",
      "simplaie            \t\t closest match: simplice\n",
      "sime                \t\t closest match: zosime\n",
      "simpra              \t\t closest match: sirpa\n",
      "\n"
     ]
    }
   ],
   "source": [
    "generation_testing(\n",
    "    french_vae,\n",
    "    train_dataset.unique_word_list,\n",
    "    method=\"smart\",\n",
    "    sample=True,\n",
    "    top_k=5,\n",
    "    temperature=1.0,\n",
    ")"
   ]
  },
  {
   "cell_type": "code",
   "execution_count": null,
   "metadata": {},
   "outputs": [],
   "source": []
  },
  {
   "cell_type": "markdown",
   "metadata": {},
   "source": [
    "## Next"
   ]
  },
  {
   "cell_type": "markdown",
   "metadata": {
    "heading_collapsed": true
   },
   "source": [
    "# Junk"
   ]
  },
  {
   "cell_type": "code",
   "execution_count": 29,
   "metadata": {
    "ExecuteTime": {
     "end_time": "2021-02-05T23:58:53.528742Z",
     "start_time": "2021-02-05T23:58:53.510014Z"
    },
    "hidden": true
   },
   "outputs": [
    {
     "ename": "ModuleAttributeError",
     "evalue": "'AttentionVae' object has no attribute 'device'",
     "output_type": "error",
     "traceback": [
      "\u001b[0;31m---------------------------------------------------------------------------\u001b[0m",
      "\u001b[0;31mModuleAttributeError\u001b[0m                      Traceback (most recent call last)",
      "\u001b[0;32m<ipython-input-29-754c62e764e6>\u001b[0m in \u001b[0;36m<module>\u001b[0;34m\u001b[0m\n\u001b[1;32m      8\u001b[0m \u001b[0;32mfor\u001b[0m \u001b[0mx\u001b[0m\u001b[0;34m,\u001b[0m \u001b[0my\u001b[0m\u001b[0;34m,\u001b[0m \u001b[0mword\u001b[0m \u001b[0;32min\u001b[0m \u001b[0mloader\u001b[0m\u001b[0;34m:\u001b[0m\u001b[0;34m\u001b[0m\u001b[0;34m\u001b[0m\u001b[0m\n\u001b[1;32m      9\u001b[0m     \u001b[0;32mwith\u001b[0m \u001b[0mtorch\u001b[0m\u001b[0;34m.\u001b[0m\u001b[0mno_grad\u001b[0m\u001b[0;34m(\u001b[0m\u001b[0;34m)\u001b[0m\u001b[0;34m:\u001b[0m\u001b[0;34m\u001b[0m\u001b[0;34m\u001b[0m\u001b[0m\n\u001b[0;32m---> 10\u001b[0;31m         \u001b[0mx\u001b[0m \u001b[0;34m=\u001b[0m \u001b[0mx\u001b[0m\u001b[0;34m.\u001b[0m\u001b[0mto\u001b[0m\u001b[0;34m(\u001b[0m\u001b[0mfrozen_wiki_vae\u001b[0m\u001b[0;34m.\u001b[0m\u001b[0mdevice\u001b[0m\u001b[0;34m)\u001b[0m\u001b[0;34m\u001b[0m\u001b[0;34m\u001b[0m\u001b[0m\n\u001b[0m\u001b[1;32m     11\u001b[0m         \u001b[0my\u001b[0m \u001b[0;34m=\u001b[0m \u001b[0my\u001b[0m\u001b[0;34m.\u001b[0m\u001b[0mto\u001b[0m\u001b[0;34m(\u001b[0m\u001b[0mfrozen_wiki_vae\u001b[0m\u001b[0;34m.\u001b[0m\u001b[0mdevice\u001b[0m\u001b[0;34m)\u001b[0m\u001b[0;34m\u001b[0m\u001b[0;34m\u001b[0m\u001b[0m\n\u001b[1;32m     12\u001b[0m         \u001b[0mword\u001b[0m \u001b[0;34m=\u001b[0m \u001b[0mword\u001b[0m\u001b[0;34m.\u001b[0m\u001b[0mto\u001b[0m\u001b[0;34m(\u001b[0m\u001b[0mfrozen_wiki_vae\u001b[0m\u001b[0;34m.\u001b[0m\u001b[0mdevice\u001b[0m\u001b[0;34m)\u001b[0m\u001b[0;34m\u001b[0m\u001b[0;34m\u001b[0m\u001b[0m\n",
      "\u001b[0;32m~/anaconda3/envs/namegen/lib/python3.7/site-packages/torch/nn/modules/module.py\u001b[0m in \u001b[0;36m__getattr__\u001b[0;34m(self, name)\u001b[0m\n\u001b[1;32m    770\u001b[0m                 \u001b[0;32mreturn\u001b[0m \u001b[0mmodules\u001b[0m\u001b[0;34m[\u001b[0m\u001b[0mname\u001b[0m\u001b[0;34m]\u001b[0m\u001b[0;34m\u001b[0m\u001b[0;34m\u001b[0m\u001b[0m\n\u001b[1;32m    771\u001b[0m         raise ModuleAttributeError(\"'{}' object has no attribute '{}'\".format(\n\u001b[0;32m--> 772\u001b[0;31m             type(self).__name__, name))\n\u001b[0m\u001b[1;32m    773\u001b[0m \u001b[0;34m\u001b[0m\u001b[0m\n\u001b[1;32m    774\u001b[0m     \u001b[0;32mdef\u001b[0m \u001b[0m__setattr__\u001b[0m\u001b[0;34m(\u001b[0m\u001b[0mself\u001b[0m\u001b[0;34m,\u001b[0m \u001b[0mname\u001b[0m\u001b[0;34m:\u001b[0m \u001b[0mstr\u001b[0m\u001b[0;34m,\u001b[0m \u001b[0mvalue\u001b[0m\u001b[0;34m:\u001b[0m \u001b[0mUnion\u001b[0m\u001b[0;34m[\u001b[0m\u001b[0mTensor\u001b[0m\u001b[0;34m,\u001b[0m \u001b[0;34m'Module'\u001b[0m\u001b[0;34m]\u001b[0m\u001b[0;34m)\u001b[0m \u001b[0;34m->\u001b[0m \u001b[0;32mNone\u001b[0m\u001b[0;34m:\u001b[0m\u001b[0;34m\u001b[0m\u001b[0;34m\u001b[0m\u001b[0m\n",
      "\u001b[0;31mModuleAttributeError\u001b[0m: 'AttentionVae' object has no attribute 'device'"
     ]
    }
   ],
   "source": [
    "losses = []\n",
    "loader = DataLoader(\n",
    "            val_dataset,\n",
    "            shuffle=False,\n",
    "            pin_memory=True,\n",
    "            batch_size=128\n",
    "        )\n",
    "for x, y, word in loader:\n",
    "    with torch.no_grad():\n",
    "        x = x.to(frozen_wiki_vae.device)\n",
    "        y = y.to(trainer.device)\n",
    "        word = word.to(frozen_wiki_vae.device)\n",
    "        logits, loss_dict = frozen_wiki_vae.model(x, y, word, training=True)\n",
    "\n",
    "        losses.append(loss_dict[\"loss\"])\n",
    "        \n",
    "    "
   ]
  },
  {
   "cell_type": "code",
   "execution_count": null,
   "metadata": {
    "ExecuteTime": {
     "end_time": "2021-02-05T23:12:31.648328Z",
     "start_time": "2021-02-05T23:11:35.213Z"
    },
    "hidden": true
   },
   "outputs": [],
   "source": [
    "french_vae = AttentionVae.load(\"french_model\")\n",
    "tconf = TrainerConfig(\n",
    "    max_epochs=10,\n",
    "    batch_size=128,\n",
    "    learning_rate=6e-4,\n",
    "    lr_decay=True,\n",
    "    warmup_tokens=128 * 20,\n",
    "    final_tokens=2 * len(train_dataset) * maxlen,\n",
    "    num_workers=4,\n",
    ")\n",
    "trainer = Trainer(french_vae, train_dataset, None, tconf)\n",
    "losses = trainer.train()"
   ]
  },
  {
   "cell_type": "code",
   "execution_count": 15,
   "metadata": {
    "ExecuteTime": {
     "end_time": "2021-02-05T22:51:22.655262Z",
     "start_time": "2021-02-05T22:51:22.643634Z"
    },
    "hidden": true
   },
   "outputs": [],
   "source": [
    "from fuzzywuzzy import process"
   ]
  },
  {
   "cell_type": "code",
   "execution_count": 28,
   "metadata": {
    "ExecuteTime": {
     "end_time": "2021-02-05T22:52:40.417135Z",
     "start_time": "2021-02-05T22:52:40.393072Z"
    },
    "hidden": true
   },
   "outputs": [],
   "source": [
    "train_dataset.word_list"
   ]
  },
  {
   "cell_type": "code",
   "execution_count": 29,
   "metadata": {
    "ExecuteTime": {
     "end_time": "2021-02-05T22:52:41.025599Z",
     "start_time": "2021-02-05T22:52:41.010617Z"
    },
    "hidden": true
   },
   "outputs": [],
   "source": [
    "print(french_names)\n",
    "\n",
    "match = process.extract(\"list\", french_names, limit=2)"
   ]
  },
  {
   "cell_type": "code",
   "execution_count": 23,
   "metadata": {
    "ExecuteTime": {
     "end_time": "2021-02-05T22:52:23.329130Z",
     "start_time": "2021-02-05T22:52:23.316603Z"
    },
    "hidden": true
   },
   "outputs": [],
   "source": [
    "match"
   ]
  },
  {
   "cell_type": "code",
   "execution_count": 84,
   "metadata": {
    "ExecuteTime": {
     "end_time": "2021-02-03T22:28:42.825790Z",
     "start_time": "2021-02-03T22:25:37.489617Z"
    },
    "collapsed": true,
    "hidden": true
   },
   "outputs": [
    {
     "name": "stdout",
     "output_type": "stream",
     "text": [
      "number of parameters: 851904\n"
     ]
    },
    {
     "name": "stderr",
     "output_type": "stream",
     "text": [
      "  0%|          | 0/299 [00:00<?, ?it/s]/home/simon/code/namegen/avae/src/avae/trainer.py:101: UserWarning: torch.nn.utils.clip_grad_norm is now deprecated in favor of torch.nn.utils.clip_grad_norm_.\n",
      "  self.model.parameters(), self.config.grad_norm_clip\n",
      "epoch 1) iter 0: train_loss 567.6885986, lr = 5.999998e-04:   0%|          | 0/299 [00:00<?, ?it/s]"
     ]
    },
    {
     "name": "stdout",
     "output_type": "stream",
     "text": [
      "Iteration 0 samples:\n",
      "Sample:  éà                         \t Closest match is aanor\n",
      "Sample: i-ànwcg                     \t Closest match is inigo\n"
     ]
    },
    {
     "name": "stderr",
     "output_type": "stream",
     "text": [
      "WARNING:root:Applied processor reduces input query to empty string, all comparisons will have score 0. [Query: '                          ']\n"
     ]
    },
    {
     "name": "stdout",
     "output_type": "stream",
     "text": [
      "Sample:  àöoöcqüàöà à               \t Closest match is aliocha\n",
      "Sample:                             \t Closest match is aanor\n"
     ]
    },
    {
     "name": "stderr",
     "output_type": "stream",
     "text": [
      "epoch 1) iter 3: train_loss 455.8023376, lr = 5.999564e-04:   1%|          | 3/299 [00:01<05:53,  1.20s/it]"
     ]
    },
    {
     "name": "stdout",
     "output_type": "stream",
     "text": [
      "Sample: 'iqöi                       \t Closest match is aaricia\n"
     ]
    },
    {
     "name": "stderr",
     "output_type": "stream",
     "text": [
      "epoch 1) iter 298: train_loss 224.3321991, lr = 3.006089e-04: 100%|██████████| 299/299 [00:17<00:00, 17.15it/s]\n",
      "epoch 2) iter 0: train_loss 225.4807281, lr = 2.990257e-04:   0%|          | 0/299 [00:00<?, ?it/s]"
     ]
    },
    {
     "name": "stdout",
     "output_type": "stream",
     "text": [
      "Iteration 0 samples:\n",
      "Sample: ale                         \t Closest match is aleaume\n",
      "Sample: paleoia                     \t Closest match is alexia\n"
     ]
    },
    {
     "name": "stderr",
     "output_type": "stream",
     "text": [
      "WARNING:root:Applied processor reduces input query to empty string, all comparisons will have score 0. [Query: '                          ']\n"
     ]
    },
    {
     "name": "stdout",
     "output_type": "stream",
     "text": [
      "Sample: orito                       \t Closest match is aristote\n",
      "Sample:                             \t Closest match is aanor\n"
     ]
    },
    {
     "name": "stderr",
     "output_type": "stream",
     "text": [
      "epoch 2) iter 3: train_loss 224.8954773, lr = 2.942763e-04:   1%|          | 3/299 [00:02<08:04,  1.64s/it]"
     ]
    },
    {
     "name": "stdout",
     "output_type": "stream",
     "text": [
      "Sample: erinno                      \t Closest match is zeferino\n"
     ]
    },
    {
     "name": "stderr",
     "output_type": "stream",
     "text": [
      "epoch 2) iter 298: train_loss 226.9024658, lr = 6.000000e-05: 100%|██████████| 299/299 [00:17<00:00, 16.63it/s]\n",
      "epoch 3) iter 0: train_loss 223.4640198, lr = 6.000000e-05:   0%|          | 0/299 [00:00<?, ?it/s]"
     ]
    },
    {
     "name": "stdout",
     "output_type": "stream",
     "text": [
      "Iteration 0 samples:\n",
      "Sample: ginili                      \t Closest match is quintilien\n",
      "Sample: guente                      \t Closest match is guenaelle\n",
      "Sample: lbarero                     \t Closest match is alberto\n",
      "Sample: maninta                     \t Closest match is anita\n"
     ]
    },
    {
     "name": "stderr",
     "output_type": "stream",
     "text": [
      "epoch 3) iter 3: train_loss 223.3650513, lr = 6.000000e-05:   1%|          | 3/299 [00:02<08:39,  1.75s/it]"
     ]
    },
    {
     "name": "stdout",
     "output_type": "stream",
     "text": [
      "Sample: grone                       \t Closest match is geronce\n"
     ]
    },
    {
     "name": "stderr",
     "output_type": "stream",
     "text": [
      "epoch 3) iter 298: train_loss 221.9121094, lr = 3.006089e-04: 100%|██████████| 299/299 [00:18<00:00, 16.48it/s]\n",
      "epoch 4) iter 0: train_loss 223.3574066, lr = 3.021922e-04:   0%|          | 0/299 [00:00<?, ?it/s]"
     ]
    },
    {
     "name": "stdout",
     "output_type": "stream",
     "text": [
      "Iteration 0 samples:\n",
      "Sample: sasidrc                     \t Closest match is said\n",
      "Sample: lacirtino                   \t Closest match is tino\n",
      "Sample: shrieldrnde                 \t Closest match is hildebrande\n",
      "Sample: cagurtin                    \t Closest match is augustin\n"
     ]
    },
    {
     "name": "stderr",
     "output_type": "stream",
     "text": [
      "epoch 4) iter 3: train_loss 222.5893860, lr = 3.069414e-04:   1%|          | 3/299 [00:03<10:53,  2.21s/it]"
     ]
    },
    {
     "name": "stdout",
     "output_type": "stream",
     "text": [
      "Sample: stlo                        \t Closest match is aristote\n"
     ]
    },
    {
     "name": "stderr",
     "output_type": "stream",
     "text": [
      "epoch 4) iter 298: train_loss 223.5995789, lr = 5.999975e-04: 100%|██████████| 299/299 [00:18<00:00, 15.81it/s]\n",
      "epoch 5) iter 0: train_loss 223.7321777, lr = 5.999869e-04:   0%|          | 0/299 [00:00<?, ?it/s]"
     ]
    },
    {
     "name": "stdout",
     "output_type": "stream",
     "text": [
      "Iteration 0 samples:\n",
      "Sample: losta                       \t Closest match is lossa\n",
      "Sample: cymie                       \t Closest match is cyrielle\n",
      "Sample: jelloeniinon                \t Closest match is ellen\n",
      "Sample: adodener                    \t Closest match is ode\n"
     ]
    },
    {
     "name": "stderr",
     "output_type": "stream",
     "text": [
      "epoch 5) iter 3: train_loss 223.0262756, lr = 5.999050e-04:   1%|          | 3/299 [00:03<11:24,  2.31s/it]"
     ]
    },
    {
     "name": "stdout",
     "output_type": "stream",
     "text": [
      "Sample: jora                        \t Closest match is joran\n"
     ]
    },
    {
     "name": "stderr",
     "output_type": "stream",
     "text": [
      "epoch 5) iter 298: train_loss 223.2532806, lr = 2.981732e-04: 100%|██████████| 299/299 [00:19<00:00, 15.68it/s]\n",
      "epoch 6) iter 0: train_loss 223.5447083, lr = 2.965900e-04:   0%|          | 0/299 [00:00<?, ?it/s]"
     ]
    },
    {
     "name": "stdout",
     "output_type": "stream",
     "text": [
      "Iteration 0 samples:\n",
      "Sample: matau                       \t Closest match is amata\n",
      "Sample: esian                       \t Closest match is elian\n",
      "Sample: aleunse                     \t Closest match is arlene\n",
      "Sample: gicia                       \t Closest match is gilia\n"
     ]
    },
    {
     "name": "stderr",
     "output_type": "stream",
     "text": [
      "epoch 6) iter 3: train_loss 222.6663055, lr = 2.918411e-04:   1%|          | 3/299 [00:02<09:46,  1.98s/it]"
     ]
    },
    {
     "name": "stdout",
     "output_type": "stream",
     "text": [
      "Sample: edrma                       \t Closest match is edma\n"
     ]
    },
    {
     "name": "stderr",
     "output_type": "stream",
     "text": [
      "epoch 6) iter 298: train_loss 217.3303680, lr = 6.000000e-05: 100%|██████████| 299/299 [00:18<00:00, 16.16it/s]\n",
      "epoch 7) iter 0: train_loss 222.6403198, lr = 6.000000e-05:   0%|          | 0/299 [00:00<?, ?it/s]"
     ]
    },
    {
     "name": "stdout",
     "output_type": "stream",
     "text": [
      "Iteration 0 samples:\n",
      "Sample: ansare                      \t Closest match is anskar\n",
      "Sample: emand                       \t Closest match is emiland\n",
      "Sample: sialle                      \t Closest match is austregisille\n",
      "Sample: macirenne                   \t Closest match is irene\n"
     ]
    },
    {
     "name": "stderr",
     "output_type": "stream",
     "text": [
      "epoch 7) iter 3: train_loss 223.4590149, lr = 6.000000e-05:   1%|          | 3/299 [00:02<09:40,  1.96s/it]"
     ]
    },
    {
     "name": "stdout",
     "output_type": "stream",
     "text": [
      "Sample: elisiane                    \t Closest match is eliane\n"
     ]
    },
    {
     "name": "stderr",
     "output_type": "stream",
     "text": [
      "epoch 7) iter 298: train_loss 223.3740845, lr = 3.030447e-04: 100%|██████████| 299/299 [00:18<00:00, 16.20it/s]\n",
      "epoch 8) iter 0: train_loss 222.2140503, lr = 3.046278e-04:   0%|          | 0/299 [00:00<?, ?it/s]"
     ]
    },
    {
     "name": "stdout",
     "output_type": "stream",
     "text": [
      "Iteration 0 samples:\n",
      "Sample: cleerine                    \t Closest match is cedrine\n",
      "Sample: mailinnite                  \t Closest match is miline\n",
      "Sample: guerttia                    \t Closest match is tia\n",
      "Sample: saioldine                   \t Closest match is soline\n"
     ]
    },
    {
     "name": "stderr",
     "output_type": "stream",
     "text": [
      "epoch 8) iter 3: train_loss 222.3113251, lr = 3.093762e-04:   1%|          | 3/299 [00:02<09:20,  1.89s/it]"
     ]
    },
    {
     "name": "stdout",
     "output_type": "stream",
     "text": [
      "Sample: thann                       \t Closest match is samthann\n"
     ]
    },
    {
     "name": "stderr",
     "output_type": "stream",
     "text": [
      "epoch 8) iter 298: train_loss 220.3882141, lr = 5.999778e-04: 100%|██████████| 299/299 [00:18<00:00, 16.23it/s]\n",
      "epoch 9) iter 0: train_loss 221.4678802, lr = 5.999543e-04:   0%|          | 0/299 [00:00<?, ?it/s]"
     ]
    },
    {
     "name": "stdout",
     "output_type": "stream",
     "text": [
      "Iteration 0 samples:\n",
      "Sample: gennediere                  \t Closest match is genevieve\n",
      "Sample: lera                        \t Closest match is wallerand\n",
      "Sample: legoni                      \t Closest match is leonie\n",
      "Sample: londu                       \t Closest match is londa\n"
     ]
    },
    {
     "name": "stderr",
     "output_type": "stream",
     "text": [
      "epoch 9) iter 3: train_loss 223.1580200, lr = 5.998338e-04:   1%|          | 3/299 [00:03<10:56,  2.22s/it]"
     ]
    },
    {
     "name": "stdout",
     "output_type": "stream",
     "text": [
      "Sample: corn                        \t Closest match is cornaline\n"
     ]
    },
    {
     "name": "stderr",
     "output_type": "stream",
     "text": [
      "epoch 9) iter 298: train_loss 224.4233398, lr = 2.957375e-04: 100%|██████████| 299/299 [00:18<00:00, 15.83it/s]\n",
      "epoch 10) iter 0: train_loss 221.9709015, lr = 2.941545e-04:   0%|          | 0/299 [00:00<?, ?it/s]"
     ]
    },
    {
     "name": "stdout",
     "output_type": "stream",
     "text": [
      "Iteration 0 samples:\n",
      "Sample: natle                       \t Closest match is anatole\n",
      "Sample: noass                       \t Closest match is thomassia\n",
      "Sample: maudian                     \t Closest match is ian\n",
      "Sample: graidole                    \t Closest match is agricole\n"
     ]
    },
    {
     "name": "stderr",
     "output_type": "stream",
     "text": [
      "epoch 10) iter 3: train_loss 223.1546631, lr = 2.894066e-04:   1%|          | 3/299 [00:02<09:06,  1.85s/it]"
     ]
    },
    {
     "name": "stdout",
     "output_type": "stream",
     "text": [
      "Sample: eliana                      \t Closest match is eliana\n"
     ]
    },
    {
     "name": "stderr",
     "output_type": "stream",
     "text": [
      "epoch 10) iter 298: train_loss 220.4730225, lr = 6.000000e-05: 100%|██████████| 299/299 [00:18<00:00, 16.31it/s]\n"
     ]
    }
   ],
   "source": [
    "config = GPTConfig(train_dataset.vocab_size, maxlen, n_layer=2, n_head=4, n_embd=64)\n",
    "plain_vae = AttentionVae(config)\n",
    "tconf = TrainerConfig(\n",
    "    max_epochs=10,\n",
    "    batch_size=128,\n",
    "    learning_rate=6e-4,\n",
    "    lr_decay=True,\n",
    "    warmup_tokens=128 * 20,\n",
    "    final_tokens=2 * len(train_dataset) * maxlen,\n",
    "    num_workers=4,\n",
    ")\n",
    "trainer = Trainer(plain_vae, train_dataset, None, tconf)\n",
    "losses = trainer.train()"
   ]
  },
  {
   "cell_type": "code",
   "execution_count": 82,
   "metadata": {
    "ExecuteTime": {
     "end_time": "2021-02-03T22:24:39.514292Z",
     "start_time": "2021-02-03T22:24:39.500132Z"
    },
    "hidden": true
   },
   "outputs": [
    {
     "data": {
      "text/plain": [
       "26"
      ]
     },
     "execution_count": 82,
     "metadata": {},
     "output_type": "execute_result"
    }
   ],
   "source": [
    "train_dataset.block_size"
   ]
  },
  {
   "cell_type": "code",
   "execution_count": null,
   "metadata": {
    "ExecuteTime": {
     "start_time": "2021-02-03T22:48:42.910Z"
    },
    "hidden": true
   },
   "outputs": [],
   "source": [
    "print(\"plain\")\n",
    "print()\n",
    "initial_context = \"sam\"\n",
    "outputs = generate_samples(initial_context, plain_vae)\n",
    "for out in outputs:\n",
    "    print(out)\n",
    "print()\n",
    "\n",
    "print(\"wiki\")\n",
    "print()\n",
    "initial_context = \"sam\"\n",
    "outputs = generate_samples(initial_context, wiki_vae)\n",
    "for out in outputs:\n",
    "    print(out)\n",
    "print()\n",
    "\n",
    "print(\"french\")\n",
    "print()\n",
    "initial_context = \"samanth\"\n",
    "outputs = generate_samples(initial_context, french_vae)\n",
    "for out in outputs:\n",
    "    print(out)\n",
    "print()"
   ]
  },
  {
   "cell_type": "code",
   "execution_count": 96,
   "metadata": {
    "ExecuteTime": {
     "end_time": "2021-02-03T22:48:28.635156Z",
     "start_time": "2021-02-03T22:48:28.173834Z"
    },
    "hidden": true
   },
   "outputs": [
    {
     "data": {
      "text/plain": [
       "[('samantha', 100), ('sam', 90), ('amata', 77), ('thao', 77), ('thea', 77)]"
      ]
     },
     "execution_count": 96,
     "metadata": {},
     "output_type": "execute_result"
    }
   ],
   "source": [
    "process.extract(\"samantha\", french_names)"
   ]
  },
  {
   "cell_type": "code",
   "execution_count": null,
   "metadata": {
    "hidden": true
   },
   "outputs": [],
   "source": []
  }
 ],
 "metadata": {
  "kernelspec": {
   "display_name": "Python 3",
   "language": "python",
   "name": "python3"
  },
  "language_info": {
   "codemirror_mode": {
    "name": "ipython",
    "version": 3
   },
   "file_extension": ".py",
   "mimetype": "text/x-python",
   "name": "python",
   "nbconvert_exporter": "python",
   "pygments_lexer": "ipython3",
   "version": "3.7.7"
  },
  "toc": {
   "base_numbering": 1,
   "nav_menu": {},
   "number_sections": true,
   "sideBar": true,
   "skip_h1_title": false,
   "title_cell": "Table of Contents",
   "title_sidebar": "Contents",
   "toc_cell": false,
   "toc_position": {
    "height": "calc(100% - 180px)",
    "left": "10px",
    "top": "150px",
    "width": "254.391px"
   },
   "toc_section_display": true,
   "toc_window_display": true
  }
 },
 "nbformat": 4,
 "nbformat_minor": 4
}
