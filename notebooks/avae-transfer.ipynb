{
 "cells": [
  {
   "cell_type": "code",
   "execution_count": 1,
   "metadata": {
    "ExecuteTime": {
     "end_time": "2021-02-07T09:20:49.568444Z",
     "start_time": "2021-02-07T09:20:49.536648Z"
    }
   },
   "outputs": [],
   "source": [
    "%load_ext autoreload\n",
    "%autoreload 2"
   ]
  },
  {
   "cell_type": "code",
   "execution_count": 39,
   "metadata": {
    "ExecuteTime": {
     "end_time": "2021-02-07T18:14:54.844441Z",
     "start_time": "2021-02-07T18:14:54.830962Z"
    }
   },
   "outputs": [],
   "source": [
    "from pathlib import Path\n",
    "import numpy as np\n",
    "import torch\n",
    "from tqdm.auto import tqdm\n",
    "import torch.optim as optim\n",
    "import torch.nn.functional as F\n",
    "import torch.nn as nn\n",
    "import re\n",
    "import torch.utils.data as data\n",
    "from dataclasses import dataclass\n",
    "import pandas as pd\n",
    "\n",
    "from fuzzywuzzy import process\n",
    "import matplotlib.pyplot as plt\n",
    "from tqdm.auto import tqdm\n",
    "import math\n",
    "import torch.optim as optim\n",
    "from torch.optim.lr_scheduler import LambdaLR\n",
    "from torch.utils.data.dataloader import DataLoader\n",
    "from torch.utils.tensorboard import SummaryWriter\n",
    "\n",
    "\n",
    "from avae.model import AttentionVae, GPTConfig\n",
    "from avae.dataset import CharDataset\n",
    "from avae.trainer import TrainerConfig, Trainer\n",
    "from avae.utils import pad_word, depad_word, encode_word, decode_word\n",
    "from avae.utils import generate_samples\n",
    "writer = SummaryWriter('runs/avae')"
   ]
  },
  {
   "cell_type": "markdown",
   "metadata": {},
   "source": [
    "This notebook is used to load the model and trains it on some data.\n",
    "\n",
    "Point the model to a local corpus dataset.\n",
    "\n",
    "For example download wiki-text2 here:\n",
    "https://s3.amazonaws.com/research.metamind.io/wikitext/wikitext-2-v1.zip"
   ]
  },
  {
   "cell_type": "code",
   "execution_count": 3,
   "metadata": {
    "ExecuteTime": {
     "end_time": "2021-02-07T09:25:49.748265Z",
     "start_time": "2021-02-07T09:25:49.606574Z"
    }
   },
   "outputs": [],
   "source": [
    "PROJECT_DIR  = Path(\".\").resolve().parent.parent\n",
    "DATA_DIR  = PROJECT_DIR / \"data\"\n",
    "WIKI_DIR  = DATA_DIR / \"wikitext-2\"\n",
    "NAMES_DIR  = DATA_DIR / \"names\"\n",
    "DEVICE = torch.device(\"cuda\" if torch.cuda.is_available() else \"cpu\")\n",
    "def clean_word(word):\n",
    "    word = word.replace(\"\\n\", '').lower()\n",
    "    return word"
   ]
  },
  {
   "cell_type": "markdown",
   "metadata": {},
   "source": [
    "# Sample Generation"
   ]
  },
  {
   "cell_type": "code",
   "execution_count": 61,
   "metadata": {
    "ExecuteTime": {
     "end_time": "2021-02-07T18:24:50.857663Z",
     "start_time": "2021-02-07T18:24:50.843784Z"
    }
   },
   "outputs": [],
   "source": [
    "def print_generation(model, unique_train_words=None, context=\"\"):\n",
    "\n",
    "    print(f\"Context: {context}\")\n",
    "    samples = generate_samples(model, n_samples=20, initial_context=context)\n",
    "    samples = list(set(samples))\n",
    "    for sample in samples:\n",
    "\n",
    "        if unique_train_words:\n",
    "            match = process.extract(sample, unique_train_words, limit=1)[0][0]\n",
    "            sample += f\"\\t\\t closest match: {match}\"\n",
    "        print(sample)\n",
    "    print()\n",
    "\n",
    "\n",
    "def generation_testing(model, unique_train_words=None):\n",
    "    print_generation(model, unique_train_words=unique_train_words)\n",
    "    print_generation(model, context=\"a\", unique_train_words=unique_train_words)\n",
    "    print_generation(model, context=\"m\", unique_train_words=unique_train_words)\n",
    "    print_generation(model, context=\"sim\", unique_train_words=unique_train_words)"
   ]
  },
  {
   "cell_type": "code",
   "execution_count": 62,
   "metadata": {
    "ExecuteTime": {
     "end_time": "2021-02-07T18:25:03.132697Z",
     "start_time": "2021-02-07T18:24:51.113723Z"
    }
   },
   "outputs": [
    {
     "name": "stdout",
     "output_type": "stream",
     "text": [
      "Context: \n",
      "wendy\t\t closest match: wendy\n",
      "zenone\t\t closest match: zenone\n",
      "nicolette\t\t closest match: nicolette\n",
      "nelle\t\t closest match: noelle\n",
      "zdene\t\t closest match: denez\n",
      "zachire\t\t closest match: zacharie\n",
      "angeline\t\t closest match: angeline\n",
      "nathana\t\t closest match: nathan\n",
      "zenobe\t\t closest match: zenobe\n",
      "loelle\t\t closest match: lo\n",
      "theodulph\t\t closest match: theodulphe\n",
      "\n",
      "Context: a\n",
      "aigna\t\t closest match: aignan\n",
      "aubert\t\t closest match: aubert\n",
      "annelle\t\t closest match: annaelle\n",
      "alde\t\t closest match: waldemar\n",
      "angeline\t\t closest match: angeline\n",
      "alis\t\t closest match: alis\n",
      "afrede\t\t closest match: alfrede\n",
      "\n",
      "Context: m\n",
      "melise\t\t closest match: melisse\n",
      "melvine\t\t closest match: melvine\n",
      "mallouine\t\t closest match: lo\n",
      "mathel\t\t closest match: mathe\n",
      "mathie\t\t closest match: mathie\n",
      "\n",
      "Context: sim\n",
      "simplice\t\t closest match: simplice\n",
      "sime\t\t closest match: simeon\n",
      "simonde\t\t closest match: simone\n",
      "simpline\t\t closest match: line\n",
      "\n"
     ]
    }
   ],
   "source": [
    "generation_testing(frozen_wiki_vae, train_dataset.unique_word_list)"
   ]
  },
  {
   "cell_type": "markdown",
   "metadata": {},
   "source": [
    "# Load french names"
   ]
  },
  {
   "cell_type": "code",
   "execution_count": 35,
   "metadata": {
    "ExecuteTime": {
     "end_time": "2021-02-07T16:43:06.679616Z",
     "start_time": "2021-02-07T16:36:05.585236Z"
    }
   },
   "outputs": [
    {
     "name": "stdout",
     "output_type": "stream",
     "text": [
      "data has 34421 characters, 47 unique.\n",
      "data has 3750 characters, 47 unique.\n",
      "x:  genest\n",
      "y:  genest\n",
      "word : genest\n"
     ]
    },
    {
     "name": "stderr",
     "output_type": "stream",
     "text": [
      "epoch 1) iter 0: train_loss 221.1972198, lr = 5.999922e-04:   0%|          | 0/135 [00:00<?, ?it/s]"
     ]
    },
    {
     "name": "stdout",
     "output_type": "stream",
     "text": [
      "Iteration 0 samples:\n",
      "Sample: lovestite                 \t closes match: lo \n",
      "Sample: nerter                    \t closes match: nerea \n",
      "Sample: keat                      \t closes match: katy \n",
      "Sample: inflictive                \t closes match: felicie \n"
     ]
    },
    {
     "name": "stderr",
     "output_type": "stream",
     "text": [
      "epoch 1) iter 2: train_loss 221.8724060, lr = 5.998594e-04:   2%|▏         | 3/135 [00:02<04:10,  1.89s/it]"
     ]
    },
    {
     "name": "stdout",
     "output_type": "stream",
     "text": [
      "Sample: altens                    \t closes match: valens \n"
     ]
    },
    {
     "name": "stderr",
     "output_type": "stream",
     "text": [
      "epoch 1) iter 134: train_loss 217.7487335, lr = 3.006754e-04: 100%|██████████| 135/135 [00:13<00:00,  9.79it/s]\n"
     ]
    },
    {
     "name": "stdout",
     "output_type": "stream",
     "text": [
      "Test loss: 218.34076029459635\n"
     ]
    },
    {
     "name": "stderr",
     "output_type": "stream",
     "text": [
      "epoch 2) iter 0: train_loss 218.9137115, lr = 2.971632e-04:   0%|          | 0/135 [00:00<?, ?it/s]"
     ]
    },
    {
     "name": "stdout",
     "output_type": "stream",
     "text": [
      "Iteration 0 samples:\n",
      "Sample: ment                      \t closes match: clement \n",
      "Sample: ennee                     \t closes match: andrienne \n",
      "Sample: zeo                       \t closes match: zeno \n",
      "Sample: ydane                     \t closes match: lydiane \n"
     ]
    },
    {
     "name": "stderr",
     "output_type": "stream",
     "text": [
      "epoch 2) iter 2: train_loss 218.6653137, lr = 2.901402e-04:   2%|▏         | 3/135 [00:03<04:28,  2.04s/it]"
     ]
    },
    {
     "name": "stdout",
     "output_type": "stream",
     "text": [
      "Sample: estaliciand               \t closes match: ali \n"
     ]
    },
    {
     "name": "stderr",
     "output_type": "stream",
     "text": [
      "epoch 2) iter 134: train_loss 217.7823944, lr = 6.000000e-05: 100%|██████████| 135/135 [00:14<00:00,  9.57it/s]\n"
     ]
    },
    {
     "name": "stdout",
     "output_type": "stream",
     "text": [
      "Test loss: 218.06612650553384\n"
     ]
    },
    {
     "name": "stderr",
     "output_type": "stream",
     "text": [
      "epoch 3) iter 0: train_loss 218.3840332, lr = 6.000000e-05:   0%|          | 0/135 [00:00<?, ?it/s]"
     ]
    },
    {
     "name": "stdout",
     "output_type": "stream",
     "text": [
      "Iteration 0 samples:\n",
      "Sample: maelien                   \t closes match: maelie \n",
      "Sample: zene                      \t closes match: zeline \n",
      "Sample: zender                    \t closes match: zenaide \n",
      "Sample: ghone                     \t closes match: philogone \n"
     ]
    },
    {
     "name": "stderr",
     "output_type": "stream",
     "text": [
      "epoch 3) iter 2: train_loss 218.4553375, lr = 6.000000e-05:   2%|▏         | 3/135 [00:02<03:27,  1.57s/it]"
     ]
    },
    {
     "name": "stdout",
     "output_type": "stream",
     "text": [
      "Sample: nellino                   \t closes match: lin \n"
     ]
    },
    {
     "name": "stderr",
     "output_type": "stream",
     "text": [
      "epoch 3) iter 134: train_loss 218.1147461, lr = 3.006754e-04: 100%|██████████| 135/135 [00:13<00:00, 10.07it/s]\n"
     ]
    },
    {
     "name": "stdout",
     "output_type": "stream",
     "text": [
      "Test loss: 218.1951924641927\n"
     ]
    },
    {
     "name": "stderr",
     "output_type": "stream",
     "text": [
      "epoch 4) iter 0: train_loss 218.0912781, lr = 3.041876e-04:   0%|          | 0/135 [00:00<?, ?it/s]"
     ]
    },
    {
     "name": "stdout",
     "output_type": "stream",
     "text": [
      "Iteration 0 samples:\n",
      "Sample: leothia                   \t closes match: leo \n",
      "Sample: zena                      \t closes match: zenaide \n",
      "Sample: zeerenda                  \t closes match: edern \n",
      "Sample: siana                     \t closes match: siana \n"
     ]
    },
    {
     "name": "stderr",
     "output_type": "stream",
     "text": [
      "epoch 4) iter 2: train_loss 218.2676392, lr = 3.112098e-04:   2%|▏         | 3/135 [00:02<03:39,  1.66s/it]"
     ]
    },
    {
     "name": "stdout",
     "output_type": "stream",
     "text": [
      "Sample: zevian                    \t closes match: ian \n"
     ]
    },
    {
     "name": "stderr",
     "output_type": "stream",
     "text": [
      "epoch 4) iter 134: train_loss 218.4042206, lr = 5.999970e-04: 100%|██████████| 135/135 [00:13<00:00, 10.01it/s]\n"
     ]
    },
    {
     "name": "stdout",
     "output_type": "stream",
     "text": [
      "Test loss: 218.23566182454428\n"
     ]
    },
    {
     "name": "stderr",
     "output_type": "stream",
     "text": [
      "epoch 5) iter 0: train_loss 218.0426941, lr = 5.999606e-04:   0%|          | 0/135 [00:00<?, ?it/s]"
     ]
    },
    {
     "name": "stdout",
     "output_type": "stream",
     "text": [
      "Iteration 0 samples:\n",
      "Sample: sthain                    \t closes match: stan \n",
      "Sample: loridos                   \t closes match: lo \n",
      "Sample: genes                     \t closes match: genes \n",
      "Sample: malada                    \t closes match: ada \n"
     ]
    },
    {
     "name": "stderr",
     "output_type": "stream",
     "text": [
      "epoch 5) iter 2: train_loss 218.2601318, lr = 5.997645e-04:   2%|▏         | 3/135 [00:02<03:17,  1.50s/it]"
     ]
    },
    {
     "name": "stdout",
     "output_type": "stream",
     "text": [
      "Sample: zelene                    \t closes match: zeline \n"
     ]
    },
    {
     "name": "stderr",
     "output_type": "stream",
     "text": [
      "epoch 5) iter 134: train_loss 218.7323761, lr = 2.979737e-04: 100%|██████████| 135/135 [00:13<00:00, 10.16it/s]\n"
     ]
    },
    {
     "name": "stdout",
     "output_type": "stream",
     "text": [
      "Test loss: 217.9995340983073\n"
     ]
    },
    {
     "name": "stderr",
     "output_type": "stream",
     "text": [
      "epoch 6) iter 0: train_loss 217.6628418, lr = 2.944616e-04:   0%|          | 0/135 [00:00<?, ?it/s]"
     ]
    },
    {
     "name": "stdout",
     "output_type": "stream",
     "text": [
      "Iteration 0 samples:\n",
      "Sample: zenatel                   \t closes match: enael \n",
      "Sample: stepho                    \t closes match: sephora \n",
      "Sample: zepither                  \t closes match: thery \n",
      "Sample: sherin                    \t closes match: sherine \n"
     ]
    },
    {
     "name": "stderr",
     "output_type": "stream",
     "text": [
      "epoch 6) iter 2: train_loss 218.1204071, lr = 2.874403e-04:   2%|▏         | 3/135 [00:02<03:17,  1.50s/it]"
     ]
    },
    {
     "name": "stdout",
     "output_type": "stream",
     "text": [
      "Sample: zeven                     \t closes match: even \n"
     ]
    },
    {
     "name": "stderr",
     "output_type": "stream",
     "text": [
      "epoch 6) iter 134: train_loss 218.1537018, lr = 6.000000e-05: 100%|██████████| 135/135 [00:13<00:00, 10.16it/s]\n"
     ]
    },
    {
     "name": "stdout",
     "output_type": "stream",
     "text": [
      "Test loss: 217.90409342447916\n"
     ]
    },
    {
     "name": "stderr",
     "output_type": "stream",
     "text": [
      "epoch 7) iter 0: train_loss 217.8555603, lr = 6.000000e-05:   0%|          | 0/135 [00:00<?, ?it/s]"
     ]
    },
    {
     "name": "stdout",
     "output_type": "stream",
     "text": [
      "Iteration 0 samples:\n",
      "Sample: matifa                    \t closes match: if \n",
      "Sample: zderyle                   \t closes match: erle \n",
      "Sample: gweras                    \t closes match: gervais \n",
      "Sample: themith                   \t closes match: remi \n"
     ]
    },
    {
     "name": "stderr",
     "output_type": "stream",
     "text": [
      "epoch 7) iter 2: train_loss 217.6666565, lr = 6.000000e-05:   2%|▏         | 3/135 [00:02<03:06,  1.41s/it]"
     ]
    },
    {
     "name": "stdout",
     "output_type": "stream",
     "text": [
      "Sample: yvany                     \t closes match: yvanne \n"
     ]
    },
    {
     "name": "stderr",
     "output_type": "stream",
     "text": [
      "epoch 7) iter 134: train_loss 217.9501495, lr = 3.033772e-04: 100%|██████████| 135/135 [00:13<00:00, 10.26it/s]\n"
     ]
    },
    {
     "name": "stdout",
     "output_type": "stream",
     "text": [
      "Test loss: 218.00618693033854\n"
     ]
    },
    {
     "name": "stderr",
     "output_type": "stream",
     "text": [
      "epoch 8) iter 0: train_loss 218.1159973, lr = 3.068890e-04:   0%|          | 0/135 [00:00<?, ?it/s]"
     ]
    },
    {
     "name": "stdout",
     "output_type": "stream",
     "text": [
      "Iteration 0 samples:\n",
      "Sample: naud                      \t closes match: naud \n",
      "Sample: mathie                    \t closes match: mathie \n",
      "Sample: auden                     \t closes match: audren \n",
      "Sample: aglael                    \t closes match: aglae \n"
     ]
    },
    {
     "name": "stderr",
     "output_type": "stream",
     "text": [
      "epoch 8) iter 2: train_loss 217.7930908, lr = 3.139092e-04:   2%|▏         | 3/135 [00:02<03:33,  1.62s/it]"
     ]
    },
    {
     "name": "stdout",
     "output_type": "stream",
     "text": [
      "Sample: zaphan                    \t closes match: hans \n"
     ]
    },
    {
     "name": "stderr",
     "output_type": "stream",
     "text": [
      "epoch 8) iter 134: train_loss 218.0961761, lr = 5.999726e-04: 100%|██████████| 135/135 [00:13<00:00, 10.03it/s]\n"
     ]
    },
    {
     "name": "stdout",
     "output_type": "stream",
     "text": [
      "Test loss: 218.04776611328126\n"
     ]
    },
    {
     "name": "stderr",
     "output_type": "stream",
     "text": [
      "epoch 9) iter 0: train_loss 218.3325043, lr = 5.999046e-04:   0%|          | 0/135 [00:00<?, ?it/s]"
     ]
    },
    {
     "name": "stdout",
     "output_type": "stream",
     "text": [
      "Iteration 0 samples:\n",
      "Sample: xentilis                  \t closes match: lis \n",
      "Sample: medgund                   \t closes match: ed \n",
      "Sample: gweneven                  \t closes match: gwen \n",
      "Sample: nadoline                  \t closes match: line \n"
     ]
    },
    {
     "name": "stderr",
     "output_type": "stream",
     "text": [
      "epoch 9) iter 2: train_loss 217.4822998, lr = 5.996453e-04:   2%|▏         | 3/135 [00:02<03:24,  1.55s/it]"
     ]
    },
    {
     "name": "stdout",
     "output_type": "stream",
     "text": [
      "Sample: zenest                    \t closes match: genest \n"
     ]
    },
    {
     "name": "stderr",
     "output_type": "stream",
     "text": [
      "epoch 9) iter 134: train_loss 218.4389954, lr = 2.952721e-04: 100%|██████████| 135/135 [00:13<00:00, 10.07it/s]\n"
     ]
    },
    {
     "name": "stdout",
     "output_type": "stream",
     "text": [
      "Test loss: 218.01382344563802\n"
     ]
    },
    {
     "name": "stderr",
     "output_type": "stream",
     "text": [
      "epoch 10) iter 0: train_loss 217.6452026, lr = 2.917606e-04:   0%|          | 0/135 [00:00<?, ?it/s]"
     ]
    },
    {
     "name": "stdout",
     "output_type": "stream",
     "text": [
      "Iteration 0 samples:\n",
      "Sample: rena                      \t closes match: renaldine \n",
      "Sample: zepty                     \t closes match: zephyr \n",
      "Sample: yan                       \t closes match: maryanna \n",
      "Sample: aliann                    \t closes match: ann \n"
     ]
    },
    {
     "name": "stderr",
     "output_type": "stream",
     "text": [
      "epoch 10) iter 2: train_loss 217.6456451, lr = 2.847415e-04:   2%|▏         | 3/135 [00:02<03:52,  1.76s/it]"
     ]
    },
    {
     "name": "stdout",
     "output_type": "stream",
     "text": [
      "Sample: ybny                      \t closes match: benny \n"
     ]
    },
    {
     "name": "stderr",
     "output_type": "stream",
     "text": [
      "epoch 10) iter 134: train_loss 216.7731476, lr = 6.000000e-05: 100%|██████████| 135/135 [00:13<00:00,  9.84it/s]\n"
     ]
    },
    {
     "name": "stdout",
     "output_type": "stream",
     "text": [
      "Test loss: 217.74701029459635\n"
     ]
    },
    {
     "name": "stderr",
     "output_type": "stream",
     "text": [
      "epoch 11) iter 0: train_loss 217.8895569, lr = 6.000000e-05:   0%|          | 0/135 [00:00<?, ?it/s]"
     ]
    },
    {
     "name": "stdout",
     "output_type": "stream",
     "text": [
      "Iteration 0 samples:\n",
      "Sample: zeane                     \t closes match: zerane \n",
      "Sample: leon                      \t closes match: leon \n",
      "Sample: nathuriane                \t closes match: ian \n",
      "Sample: neoular                   \t closes match: neo \n"
     ]
    },
    {
     "name": "stderr",
     "output_type": "stream",
     "text": [
      "epoch 11) iter 2: train_loss 217.3485718, lr = 6.000000e-05:   2%|▏         | 3/135 [00:02<04:14,  1.93s/it]"
     ]
    },
    {
     "name": "stdout",
     "output_type": "stream",
     "text": [
      "Sample: steliopha                 \t closes match: telio \n"
     ]
    },
    {
     "name": "stderr",
     "output_type": "stream",
     "text": [
      "epoch 11) iter 134: train_loss 217.3155365, lr = 3.060786e-04: 100%|██████████| 135/135 [00:13<00:00,  9.68it/s]\n"
     ]
    },
    {
     "name": "stdout",
     "output_type": "stream",
     "text": [
      "Test loss: 217.85577189127605\n"
     ]
    },
    {
     "name": "stderr",
     "output_type": "stream",
     "text": [
      "epoch 12) iter 0: train_loss 217.4737244, lr = 3.095897e-04:   0%|          | 0/135 [00:00<?, ?it/s]"
     ]
    },
    {
     "name": "stdout",
     "output_type": "stream",
     "text": [
      "Iteration 0 samples:\n",
      "Sample: melise                    \t closes match: melisse \n",
      "Sample: melise                    \t closes match: melisse \n",
      "Sample: kellen                    \t closes match: ellen \n",
      "Sample: mary                      \t closes match: maryse \n"
     ]
    },
    {
     "name": "stderr",
     "output_type": "stream",
     "text": [
      "epoch 12) iter 2: train_loss 217.6512146, lr = 3.166075e-04:   2%|▏         | 3/135 [00:02<03:32,  1.61s/it]"
     ]
    },
    {
     "name": "stdout",
     "output_type": "stream",
     "text": [
      "Sample: stellomo                  \t closes match: lo \n"
     ]
    },
    {
     "name": "stderr",
     "output_type": "stream",
     "text": [
      "epoch 12) iter 134: train_loss 218.2095795, lr = 5.999240e-04: 100%|██████████| 135/135 [00:13<00:00,  9.98it/s]\n"
     ]
    },
    {
     "name": "stdout",
     "output_type": "stream",
     "text": [
      "Test loss: 217.95561625162762\n"
     ]
    },
    {
     "name": "stderr",
     "output_type": "stream",
     "text": [
      "epoch 13) iter 0: train_loss 217.8765259, lr = 5.998243e-04:   0%|          | 0/135 [00:00<?, ?it/s]"
     ]
    },
    {
     "name": "stdout",
     "output_type": "stream",
     "text": [
      "Iteration 0 samples:\n",
      "Sample: zenaethe                  \t closes match: ethel \n",
      "Sample: yse                       \t closes match: maryse \n",
      "Sample: neilbon                   \t closes match: neil \n",
      "Sample: zea                       \t closes match: elzear \n"
     ]
    },
    {
     "name": "stderr",
     "output_type": "stream",
     "text": [
      "epoch 13) iter 2: train_loss 218.3569946, lr = 5.995018e-04:   2%|▏         | 3/135 [00:02<03:40,  1.67s/it]"
     ]
    },
    {
     "name": "stdout",
     "output_type": "stream",
     "text": [
      "Sample: kariand                   \t closes match: ian \n"
     ]
    },
    {
     "name": "stderr",
     "output_type": "stream",
     "text": [
      "epoch 13) iter 134: train_loss 217.5040436, lr = 2.925708e-04: 100%|██████████| 135/135 [00:13<00:00,  9.96it/s]\n"
     ]
    },
    {
     "name": "stdout",
     "output_type": "stream",
     "text": [
      "Test loss: 217.83471171061197\n"
     ]
    },
    {
     "name": "stderr",
     "output_type": "stream",
     "text": [
      "epoch 14) iter 0: train_loss 217.7664185, lr = 2.890602e-04:   0%|          | 0/135 [00:00<?, ?it/s]"
     ]
    },
    {
     "name": "stdout",
     "output_type": "stream",
     "text": [
      "Iteration 0 samples:\n",
      "Sample: neore                     \t closes match: neo \n",
      "Sample: naime                     \t closes match: aime \n",
      "Sample: maluottais                \t closes match: malu \n",
      "Sample: aniaba                    \t closes match: ania \n"
     ]
    },
    {
     "name": "stderr",
     "output_type": "stream",
     "text": [
      "epoch 14) iter 2: train_loss 217.4203491, lr = 2.820438e-04:   2%|▏         | 3/135 [00:02<03:47,  1.72s/it]"
     ]
    },
    {
     "name": "stdout",
     "output_type": "stream",
     "text": [
      "Sample: matieg                    \t closes match: mati \n"
     ]
    },
    {
     "name": "stderr",
     "output_type": "stream",
     "text": [
      "epoch 14) iter 134: train_loss 217.4300385, lr = 6.000000e-05: 100%|██████████| 135/135 [00:13<00:00,  9.92it/s]\n"
     ]
    },
    {
     "name": "stdout",
     "output_type": "stream",
     "text": [
      "Test loss: 217.7251210530599\n"
     ]
    },
    {
     "name": "stderr",
     "output_type": "stream",
     "text": [
      "epoch 15) iter 0: train_loss 217.3674316, lr = 6.000000e-05:   0%|          | 0/135 [00:00<?, ?it/s]"
     ]
    },
    {
     "name": "stdout",
     "output_type": "stream",
     "text": [
      "Iteration 0 samples:\n",
      "Sample: naritine                  \t closes match: toine \n",
      "Sample: malisse                   \t closes match: ali \n",
      "Sample: elophanne                 \t closes match: ann \n",
      "Sample: geonnaet                  \t closes match: bonne \n"
     ]
    },
    {
     "name": "stderr",
     "output_type": "stream",
     "text": [
      "epoch 15) iter 2: train_loss 217.5428467, lr = 6.000000e-05:   2%|▏         | 3/135 [00:02<03:56,  1.79s/it]"
     ]
    },
    {
     "name": "stdout",
     "output_type": "stream",
     "text": [
      "Sample: enno                      \t closes match: bennon \n"
     ]
    },
    {
     "name": "stderr",
     "output_type": "stream",
     "text": [
      "epoch 15) iter 134: train_loss 216.8354492, lr = 3.087796e-04: 100%|██████████| 135/135 [00:13<00:00,  9.83it/s]\n"
     ]
    },
    {
     "name": "stdout",
     "output_type": "stream",
     "text": [
      "Test loss: 217.76002705891926\n"
     ]
    },
    {
     "name": "stderr",
     "output_type": "stream",
     "text": [
      "epoch 16) iter 0: train_loss 217.3640747, lr = 3.122897e-04:   0%|          | 0/135 [00:00<?, ?it/s]"
     ]
    },
    {
     "name": "stdout",
     "output_type": "stream",
     "text": [
      "Iteration 0 samples:\n",
      "Sample: nede                      \t closes match: ed \n",
      "Sample: nerina                    \t closes match: nina \n",
      "Sample: natille                   \t closes match: castille \n",
      "Sample: neside                    \t closes match: nessie \n"
     ]
    },
    {
     "name": "stderr",
     "output_type": "stream",
     "text": [
      "epoch 16) iter 2: train_loss 217.4808655, lr = 3.193045e-04:   2%|▏         | 3/135 [00:02<03:25,  1.56s/it]"
     ]
    },
    {
     "name": "stdout",
     "output_type": "stream",
     "text": [
      "Sample: lynois                    \t closes match: lois \n"
     ]
    },
    {
     "name": "stderr",
     "output_type": "stream",
     "text": [
      "epoch 16) iter 134: train_loss 217.8269348, lr = 5.998510e-04: 100%|██████████| 135/135 [00:13<00:00, 10.09it/s]\n"
     ]
    },
    {
     "name": "stdout",
     "output_type": "stream",
     "text": [
      "Test loss: 217.92137654622397\n"
     ]
    },
    {
     "name": "stderr",
     "output_type": "stream",
     "text": [
      "epoch 17) iter 0: train_loss 217.6003571, lr = 5.997197e-04:   0%|          | 0/135 [00:00<?, ?it/s]"
     ]
    },
    {
     "name": "stdout",
     "output_type": "stream",
     "text": [
      "Iteration 0 samples:\n",
      "Sample: gwero                     \t closes match: calogero \n",
      "Sample: anglee                    \t closes match: angleze \n",
      "Sample: maina                     \t closes match: maina \n",
      "Sample: naelli                    \t closes match: ael \n"
     ]
    },
    {
     "name": "stderr",
     "output_type": "stream",
     "text": [
      "epoch 17) iter 2: train_loss 218.2196960, lr = 5.993340e-04:   2%|▏         | 3/135 [00:02<03:21,  1.52s/it]"
     ]
    },
    {
     "name": "stdout",
     "output_type": "stream",
     "text": [
      "Sample: stevate                   \t closes match: eva \n"
     ]
    },
    {
     "name": "stderr",
     "output_type": "stream",
     "text": [
      "epoch 17) iter 134: train_loss 217.7368011, lr = 2.898702e-04: 100%|██████████| 135/135 [00:13<00:00, 10.13it/s]\n"
     ]
    },
    {
     "name": "stdout",
     "output_type": "stream",
     "text": [
      "Test loss: 217.77843627929687\n"
     ]
    },
    {
     "name": "stderr",
     "output_type": "stream",
     "text": [
      "epoch 18) iter 0: train_loss 217.3314667, lr = 2.863607e-04:   0%|          | 0/135 [00:00<?, ?it/s]"
     ]
    },
    {
     "name": "stdout",
     "output_type": "stream",
     "text": [
      "Iteration 0 samples:\n",
      "Sample: neoa                      \t closes match: neo \n",
      "Sample: mahuella                  \t closes match: ella \n",
      "Sample: geslade                   \t closes match: gelase \n",
      "Sample: matthane                  \t closes match: hanae \n"
     ]
    },
    {
     "name": "stderr",
     "output_type": "stream",
     "text": [
      "epoch 18) iter 2: train_loss 217.5404968, lr = 2.793476e-04:   2%|▏         | 3/135 [00:02<03:41,  1.68s/it]"
     ]
    },
    {
     "name": "stdout",
     "output_type": "stream",
     "text": [
      "Sample: zorian                    \t closes match: oria \n"
     ]
    },
    {
     "name": "stderr",
     "output_type": "stream",
     "text": [
      "epoch 18) iter 134: train_loss 217.7434692, lr = 6.000000e-05: 100%|██████████| 135/135 [00:13<00:00,  9.95it/s]\n"
     ]
    },
    {
     "name": "stdout",
     "output_type": "stream",
     "text": [
      "Test loss: 217.74330342610676\n"
     ]
    },
    {
     "name": "stderr",
     "output_type": "stream",
     "text": [
      "epoch 19) iter 0: train_loss 217.0000305, lr = 6.000000e-05:   0%|          | 0/135 [00:00<?, ?it/s]"
     ]
    },
    {
     "name": "stdout",
     "output_type": "stream",
     "text": [
      "Iteration 0 samples:\n",
      "Sample: nellya                    \t closes match: nella \n",
      "Sample: lande                     \t closes match: landelin \n",
      "Sample: ysliann                   \t closes match: ann \n",
      "Sample: naelin                    \t closes match: lin \n"
     ]
    },
    {
     "name": "stderr",
     "output_type": "stream",
     "text": [
      "epoch 19) iter 2: train_loss 217.3811646, lr = 6.000000e-05:   2%|▏         | 3/135 [00:02<03:21,  1.52s/it]"
     ]
    },
    {
     "name": "stdout",
     "output_type": "stream",
     "text": [
      "Sample: nabine                    \t closes match: nadine \n"
     ]
    },
    {
     "name": "stderr",
     "output_type": "stream",
     "text": [
      "epoch 19) iter 134: train_loss 216.8762817, lr = 3.114798e-04: 100%|██████████| 135/135 [00:13<00:00, 10.09it/s]\n"
     ]
    },
    {
     "name": "stdout",
     "output_type": "stream",
     "text": [
      "Test loss: 217.8667226155599\n"
     ]
    },
    {
     "name": "stderr",
     "output_type": "stream",
     "text": [
      "epoch 20) iter 0: train_loss 217.4291382, lr = 3.149887e-04:   0%|          | 0/135 [00:00<?, ?it/s]"
     ]
    },
    {
     "name": "stdout",
     "output_type": "stream",
     "text": [
      "Iteration 0 samples:\n",
      "Sample: gerande                   \t closes match: gerane \n",
      "Sample: aniette                   \t closes match: nanette \n",
      "Sample: zderi                     \t closes match: derick \n",
      "Sample: aumenique                 \t closes match: doumenique \n"
     ]
    },
    {
     "name": "stderr",
     "output_type": "stream",
     "text": [
      "epoch 20) iter 2: train_loss 216.9169617, lr = 3.219998e-04:   2%|▏         | 3/135 [00:02<03:30,  1.60s/it]"
     ]
    },
    {
     "name": "stdout",
     "output_type": "stream",
     "text": [
      "Sample: zeckaez                   \t closes match: zack \n"
     ]
    },
    {
     "name": "stderr",
     "output_type": "stream",
     "text": [
      "epoch 20) iter 134: train_loss 217.6307831, lr = 5.997537e-04: 100%|██████████| 135/135 [00:13<00:00, 10.04it/s]\n"
     ]
    },
    {
     "name": "stdout",
     "output_type": "stream",
     "text": [
      "Test loss: 217.83936462402343\n"
     ]
    },
    {
     "name": "stderr",
     "output_type": "stream",
     "text": [
      "epoch 21) iter 0: train_loss 217.4266815, lr = 5.995908e-04:   0%|          | 0/135 [00:00<?, ?it/s]"
     ]
    },
    {
     "name": "stdout",
     "output_type": "stream",
     "text": [
      "Iteration 0 samples:\n",
      "Sample: zennoria                  \t closes match: oria \n",
      "Sample: genna                     \t closes match: gennadius \n",
      "Sample: gaisla                    \t closes match: gisela \n",
      "Sample: galmbert                  \t closes match: bert \n"
     ]
    },
    {
     "name": "stderr",
     "output_type": "stream",
     "text": [
      "epoch 21) iter 2: train_loss 217.5766754, lr = 5.991420e-04:   2%|▏         | 3/135 [00:02<03:45,  1.71s/it]"
     ]
    },
    {
     "name": "stdout",
     "output_type": "stream",
     "text": [
      "Sample: nani                      \t closes match: ananie \n"
     ]
    },
    {
     "name": "stderr",
     "output_type": "stream",
     "text": [
      "epoch 21) iter 134: train_loss 217.3664703, lr = 2.871704e-04: 100%|██████████| 135/135 [00:13<00:00,  9.93it/s]\n"
     ]
    },
    {
     "name": "stdout",
     "output_type": "stream",
     "text": [
      "Test loss: 217.82679646809896\n"
     ]
    },
    {
     "name": "stderr",
     "output_type": "stream",
     "text": [
      "epoch 22) iter 0: train_loss 217.1092529, lr = 2.836622e-04:   0%|          | 0/135 [00:00<?, ?it/s]"
     ]
    },
    {
     "name": "stdout",
     "output_type": "stream",
     "text": [
      "Iteration 0 samples:\n",
      "Sample: zenonne                   \t closes match: zenone \n",
      "Sample: maida                     \t closes match: mai \n",
      "Sample: lauren                    \t closes match: lauren \n",
      "Sample: zenevee                   \t closes match: genevieve \n"
     ]
    },
    {
     "name": "stderr",
     "output_type": "stream",
     "text": [
      "epoch 22) iter 2: train_loss 217.2897797, lr = 2.766531e-04:   2%|▏         | 3/135 [00:02<03:14,  1.47s/it]"
     ]
    },
    {
     "name": "stdout",
     "output_type": "stream",
     "text": [
      "Sample: zlais                     \t closes match: azalais \n"
     ]
    },
    {
     "name": "stderr",
     "output_type": "stream",
     "text": [
      "epoch 22) iter 134: train_loss 216.9980011, lr = 6.000000e-05: 100%|██████████| 135/135 [00:13<00:00, 10.19it/s]\n"
     ]
    },
    {
     "name": "stdout",
     "output_type": "stream",
     "text": [
      "Test loss: 217.69660034179688\n"
     ]
    },
    {
     "name": "stderr",
     "output_type": "stream",
     "text": [
      "epoch 23) iter 0: train_loss 217.1060791, lr = 6.000000e-05:   0%|          | 0/135 [00:00<?, ?it/s]"
     ]
    },
    {
     "name": "stdout",
     "output_type": "stream",
     "text": [
      "Iteration 0 samples:\n",
      "Sample: zebuncine                 \t closes match: ines \n",
      "Sample: nathila                   \t closes match: nahia \n",
      "Sample: nesarine                  \t closes match: cesarine \n",
      "Sample: geodere                   \t closes match: ode \n"
     ]
    },
    {
     "name": "stderr",
     "output_type": "stream",
     "text": [
      "epoch 23) iter 2: train_loss 217.3286133, lr = 6.000000e-05:   2%|▏         | 3/135 [00:02<03:54,  1.78s/it]"
     ]
    },
    {
     "name": "stdout",
     "output_type": "stream",
     "text": [
      "Sample: gwendrine                 \t closes match: gwen \n"
     ]
    },
    {
     "name": "stderr",
     "output_type": "stream",
     "text": [
      "epoch 23) iter 134: train_loss 217.5074921, lr = 3.141791e-04: 100%|██████████| 135/135 [00:13<00:00,  9.87it/s]\n"
     ]
    },
    {
     "name": "stdout",
     "output_type": "stream",
     "text": [
      "Test loss: 217.78117777506512\n"
     ]
    },
    {
     "name": "stderr",
     "output_type": "stream",
     "text": [
      "epoch 24) iter 0: train_loss 217.3252563, lr = 3.176865e-04:   0%|          | 0/135 [00:00<?, ?it/s]"
     ]
    },
    {
     "name": "stdout",
     "output_type": "stream",
     "text": [
      "Iteration 0 samples:\n",
      "Sample: rengeld                   \t closes match: renelde \n",
      "Sample: keobette                  \t closes match: tite \n",
      "Sample: yac                       \t closes match: hyacinthe \n",
      "Sample: styllia                   \t closes match: syllia \n"
     ]
    },
    {
     "name": "stderr",
     "output_type": "stream",
     "text": [
      "epoch 24) iter 2: train_loss 217.3536835, lr = 3.246934e-04:   2%|▏         | 3/135 [00:02<03:22,  1.54s/it]"
     ]
    },
    {
     "name": "stdout",
     "output_type": "stream",
     "text": [
      "Sample: yellia                    \t closes match: ellia \n"
     ]
    },
    {
     "name": "stderr",
     "output_type": "stream",
     "text": [
      "epoch 24) iter 134: train_loss 217.4649811, lr = 5.996320e-04: 100%|██████████| 135/135 [00:13<00:00, 10.13it/s]\n"
     ]
    },
    {
     "name": "stdout",
     "output_type": "stream",
     "text": [
      "Test loss: 218.0151123046875\n"
     ]
    },
    {
     "name": "stderr",
     "output_type": "stream",
     "text": [
      "epoch 25) iter 0: train_loss 217.1813202, lr = 5.994376e-04:   0%|          | 0/135 [00:00<?, ?it/s]"
     ]
    },
    {
     "name": "stdout",
     "output_type": "stream",
     "text": [
      "Iteration 0 samples:\n",
      "Sample: malin                     \t closes match: ali \n",
      "Sample: maurice                   \t closes match: maurice \n",
      "Sample: anga                      \t closes match: ana \n",
      "Sample: mengar                    \t closes match: ermengarde \n"
     ]
    },
    {
     "name": "stderr",
     "output_type": "stream",
     "text": [
      "epoch 25) iter 2: train_loss 217.2155762, lr = 5.989256e-04:   2%|▏         | 3/135 [00:02<03:33,  1.62s/it]"
     ]
    },
    {
     "name": "stdout",
     "output_type": "stream",
     "text": [
      "Sample: sature                    \t closes match: aure \n"
     ]
    },
    {
     "name": "stderr",
     "output_type": "stream",
     "text": [
      "epoch 25) iter 134: train_loss 217.5258636, lr = 2.844716e-04: 100%|██████████| 135/135 [00:13<00:00, 10.04it/s]\n"
     ]
    },
    {
     "name": "stdout",
     "output_type": "stream",
     "text": [
      "Test loss: 217.79188435872396\n"
     ]
    },
    {
     "name": "stderr",
     "output_type": "stream",
     "text": [
      "epoch 26) iter 0: train_loss 217.0914612, lr = 2.809652e-04:   0%|          | 0/135 [00:00<?, ?it/s]"
     ]
    },
    {
     "name": "stdout",
     "output_type": "stream",
     "text": [
      "Iteration 0 samples:\n",
      "Sample: naild                     \t closes match: reginald \n",
      "Sample: lelat                     \t closes match: lelia \n",
      "Sample: kemin                     \t closes match: ermin \n",
      "Sample: nessandine                \t closes match: sandrine \n"
     ]
    },
    {
     "name": "stderr",
     "output_type": "stream",
     "text": [
      "epoch 26) iter 2: train_loss 217.2184906, lr = 2.739605e-04:   2%|▏         | 3/135 [00:02<03:53,  1.77s/it]"
     ]
    },
    {
     "name": "stdout",
     "output_type": "stream",
     "text": [
      "Sample: kerielan                  \t closes match: eloan \n"
     ]
    },
    {
     "name": "stderr",
     "output_type": "stream",
     "text": [
      "epoch 26) iter 134: train_loss 217.2268829, lr = 6.000000e-05: 100%|██████████| 135/135 [00:13<00:00,  9.87it/s]\n"
     ]
    },
    {
     "name": "stdout",
     "output_type": "stream",
     "text": [
      "Test loss: 217.74259236653646\n"
     ]
    },
    {
     "name": "stderr",
     "output_type": "stream",
     "text": [
      "epoch 27) iter 0: train_loss 217.4903717, lr = 6.000000e-05:   0%|          | 0/135 [00:00<?, ?it/s]"
     ]
    },
    {
     "name": "stdout",
     "output_type": "stream",
     "text": [
      "Iteration 0 samples:\n",
      "Sample: mattia                    \t closes match: mattia \n",
      "Sample: gaudent                   \t closes match: aude \n",
      "Sample: nederat                   \t closes match: ed \n",
      "Sample: ribert                    \t closes match: iribert \n"
     ]
    },
    {
     "name": "stderr",
     "output_type": "stream",
     "text": [
      "epoch 27) iter 2: train_loss 217.0405884, lr = 6.000000e-05:   2%|▏         | 3/135 [00:02<03:13,  1.46s/it]"
     ]
    },
    {
     "name": "stdout",
     "output_type": "stream",
     "text": [
      "Sample: zenoze                    \t closes match: zeno \n"
     ]
    },
    {
     "name": "stderr",
     "output_type": "stream",
     "text": [
      "epoch 27) iter 134: train_loss 217.7120514, lr = 3.168773e-04: 100%|██████████| 135/135 [00:13<00:00, 10.20it/s]\n"
     ]
    },
    {
     "name": "stdout",
     "output_type": "stream",
     "text": [
      "Test loss: 217.81277872721355\n"
     ]
    },
    {
     "name": "stderr",
     "output_type": "stream",
     "text": [
      "epoch 28) iter 0: train_loss 216.9030151, lr = 3.203828e-04:   0%|          | 0/135 [00:00<?, ?it/s]"
     ]
    },
    {
     "name": "stdout",
     "output_type": "stream",
     "text": [
      "Iteration 0 samples:\n",
      "Sample: nathelina                 \t closes match: lina \n",
      "Sample: nelmudien                 \t closes match: iwen \n",
      "Sample: nadill                    \t closes match: fadilla \n",
      "Sample: nessand                   \t closes match: andy \n"
     ]
    },
    {
     "name": "stderr",
     "output_type": "stream",
     "text": [
      "epoch 28) iter 2: train_loss 216.8992004, lr = 3.273850e-04:   2%|▏         | 3/135 [00:02<04:01,  1.83s/it]"
     ]
    },
    {
     "name": "stdout",
     "output_type": "stream",
     "text": [
      "Sample: lennalde                  \t closes match: lenaelle \n"
     ]
    },
    {
     "name": "stderr",
     "output_type": "stream",
     "text": [
      "epoch 28) iter 134: train_loss 216.5481110, lr = 5.994861e-04: 100%|██████████| 135/135 [00:13<00:00,  9.80it/s]\n"
     ]
    },
    {
     "name": "stdout",
     "output_type": "stream",
     "text": [
      "Test loss: 217.957622273763\n"
     ]
    },
    {
     "name": "stderr",
     "output_type": "stream",
     "text": [
      "epoch 29) iter 0: train_loss 217.6556549, lr = 5.992601e-04:   0%|          | 0/135 [00:00<?, ?it/s]"
     ]
    },
    {
     "name": "stdout",
     "output_type": "stream",
     "text": [
      "Iteration 0 samples:\n",
      "Sample: naudaire                  \t closes match: naud \n",
      "Sample: zenodorio                 \t closes match: zeno \n",
      "Sample: romene                    \t closes match: rodene \n",
      "Sample: leon                      \t closes match: leon \n"
     ]
    },
    {
     "name": "stderr",
     "output_type": "stream",
     "text": [
      "epoch 29) iter 2: train_loss 217.1528931, lr = 5.986851e-04:   2%|▏         | 3/135 [00:02<04:11,  1.91s/it]"
     ]
    },
    {
     "name": "stdout",
     "output_type": "stream",
     "text": [
      "Sample: nele                      \t closes match: menele \n"
     ]
    },
    {
     "name": "stderr",
     "output_type": "stream",
     "text": [
      "epoch 29) iter 134: train_loss 216.7565460, lr = 2.817741e-04: 100%|██████████| 135/135 [00:13<00:00,  9.72it/s]\n"
     ]
    },
    {
     "name": "stdout",
     "output_type": "stream",
     "text": [
      "Test loss: 217.83934224446614\n"
     ]
    },
    {
     "name": "stderr",
     "output_type": "stream",
     "text": [
      "epoch 30) iter 0: train_loss 217.3349915, lr = 2.782696e-04:   0%|          | 0/135 [00:00<?, ?it/s]"
     ]
    },
    {
     "name": "stdout",
     "output_type": "stream",
     "text": [
      "Iteration 0 samples:\n",
      "Sample: melane                    \t closes match: melane \n",
      "Sample: nen                       \t closes match: vaneng \n",
      "Sample: nessido                   \t closes match: nessie \n",
      "Sample: neeka                     \t closes match: nerea \n"
     ]
    },
    {
     "name": "stderr",
     "output_type": "stream",
     "text": [
      "epoch 30) iter 2: train_loss 216.9531555, lr = 2.712700e-04:   2%|▏         | 3/135 [00:02<03:40,  1.67s/it]"
     ]
    },
    {
     "name": "stdout",
     "output_type": "stream",
     "text": [
      "Sample: ena                       \t closes match: maena \n"
     ]
    },
    {
     "name": "stderr",
     "output_type": "stream",
     "text": [
      "epoch 30) iter 134: train_loss 217.1610565, lr = 6.000000e-05: 100%|██████████| 135/135 [00:13<00:00,  9.95it/s]\n"
     ]
    },
    {
     "name": "stdout",
     "output_type": "stream",
     "text": [
      "Test loss: 217.71236063639324\n"
     ]
    }
   ],
   "source": [
    "french_names = []\n",
    "with open(NAMES_DIR / \"french_names_no_accent.txt\", \"r\") as f:\n",
    "    for word in f:\n",
    "        french_names.append(clean_word(word))\n",
    "wiki_vae = AttentionVae.load(\"wiki_model\")\n",
    "\n",
    "split = 0.9\n",
    "idx = int(len(french_names) * split)\n",
    "np.random.seed(137)\n",
    "np.random.shuffle(french_names)\n",
    "train_french_names = french_names[:idx]\n",
    "val_french_names = french_names[idx:]\n",
    "\n",
    "raw_train_french_names = \" \".join(train_french_names)\n",
    "raw_val_french_names = \" \".join(val_french_names)\n",
    "\n",
    "wiki_vae = AttentionVae.load(\"wiki_model\")\n",
    "chars = list(wiki_vae.stoi.keys())\n",
    "maxlen = wiki_vae.config.block_size\n",
    "\n",
    "train_dataset = CharDataset(raw_train_french_names, maxlen, chars=chars)\n",
    "val_dataset = CharDataset(raw_val_french_names, maxlen, chars=chars)\n",
    "\n",
    "idx=298\n",
    "x, y, word = train_dataset[idx]\n",
    "print(\"x: \",decode_word(x.numpy(), wiki_vae.itos))\n",
    "print(\"y: \",decode_word(y.numpy(), wiki_vae.itos))\n",
    "print(\"word :\", decode_word(word.numpy(), wiki_vae.itos))\n",
    "\n",
    "tconf = TrainerConfig(\n",
    "    max_epochs=30,\n",
    "    batch_size=256,\n",
    "    learning_rate=6e-4,\n",
    "    lr_decay=True,\n",
    "    warmup_tokens=128 * 20,\n",
    "    final_tokens=2 * len(train_dataset) * maxlen,\n",
    "    num_workers=4,\n",
    "    sample_freq=10000\n",
    ")\n",
    "trainer = Trainer(wiki_vae, train_dataset, val_dataset, tconf,log_nearest_words=True)\n",
    "losses = trainer.train()\n"
   ]
  },
  {
   "cell_type": "code",
   "execution_count": 44,
   "metadata": {
    "ExecuteTime": {
     "end_time": "2021-02-07T18:16:54.665401Z",
     "start_time": "2021-02-07T18:16:53.761036Z"
    }
   },
   "outputs": [
    {
     "data": {
      "text/plain": [
       "['similar',\n",
       " 'similar',\n",
       " 'simpletion',\n",
       " 'similar',\n",
       " 'similary',\n",
       " 'similaria',\n",
       " 'similar',\n",
       " 'similar',\n",
       " 'similan',\n",
       " 'similar',\n",
       " 'simplent',\n",
       " 'similars',\n",
       " 'simon',\n",
       " 'simon',\n",
       " 'similar',\n",
       " 'similar',\n",
       " 'similation',\n",
       " 'simile',\n",
       " 'simingtht',\n",
       " 'simportar']"
      ]
     },
     "execution_count": 44,
     "metadata": {},
     "output_type": "execute_result"
    }
   ],
   "source": []
  },
  {
   "cell_type": "code",
   "execution_count": 36,
   "metadata": {
    "ExecuteTime": {
     "end_time": "2021-02-07T16:43:06.783022Z",
     "start_time": "2021-02-07T16:43:06.680888Z"
    }
   },
   "outputs": [
    {
     "data": {
      "text/plain": [
       "[<matplotlib.lines.Line2D at 0x7f98263d5d90>]"
      ]
     },
     "execution_count": 36,
     "metadata": {},
     "output_type": "execute_result"
    },
    {
     "data": {
      "image/png": "[encoded data removed]",
      "text/plain": [
       "<Figure size 432x288 with 1 Axes>"
      ]
     },
     "metadata": {
      "needs_background": "light"
     },
     "output_type": "display_data"
    }
   ],
   "source": [
    "plt.plot(losses['test_loss'])\n",
    "plt.plot(losses['test_loss'])"
   ]
  },
  {
   "cell_type": "code",
   "execution_count": 37,
   "metadata": {
    "ExecuteTime": {
     "end_time": "2021-02-07T16:48:13.578628Z",
     "start_time": "2021-02-07T16:43:06.784338Z"
    }
   },
   "outputs": [
    {
     "name": "stdout",
     "output_type": "stream",
     "text": [
      "data has 34421 characters, 47 unique.\n",
      "data has 3750 characters, 47 unique.\n",
      "x:  genest\n",
      "y:  genest\n",
      "word : genest\n"
     ]
    },
    {
     "name": "stderr",
     "output_type": "stream",
     "text": [
      "epoch 1) iter 0: train_loss 221.1278687, lr = 5.999997e-04:   0%|          | 0/269 [00:00<?, ?it/s]"
     ]
    },
    {
     "name": "stdout",
     "output_type": "stream",
     "text": [
      "Iteration 0 samples:\n",
      "Sample: stales                    \t closes match: stanley \n",
      "Sample: new                       \t closes match: heliciane \n",
      "Sample: nateles                   \t closes match: naelie \n",
      "Sample: nite                      \t closes match: eugenie \n"
     ]
    },
    {
     "name": "stderr",
     "output_type": "stream",
     "text": [
      "epoch 1) iter 4: train_loss 220.4481659, lr = 5.999080e-04:   1%|▏         | 4/269 [00:02<07:57,  1.80s/it]"
     ]
    },
    {
     "name": "stdout",
     "output_type": "stream",
     "text": [
      "Sample: storiping                 \t closes match: osip \n"
     ]
    },
    {
     "name": "stderr",
     "output_type": "stream",
     "text": [
      "epoch 1) iter 268: train_loss 218.1376190, lr = 3.006754e-04: 100%|██████████| 269/269 [00:15<00:00, 17.89it/s]\n"
     ]
    },
    {
     "name": "stdout",
     "output_type": "stream",
     "text": [
      "Test loss: 218.23381703694662\n"
     ]
    },
    {
     "name": "stderr",
     "output_type": "stream",
     "text": [
      "epoch 2) iter 0: train_loss 217.6893616, lr = 2.989193e-04:   0%|          | 0/269 [00:00<?, ?it/s]"
     ]
    },
    {
     "name": "stdout",
     "output_type": "stream",
     "text": [
      "Iteration 0 samples:\n",
      "Sample: zenodito                  \t closes match: zeno \n",
      "Sample: zil                       \t closes match: azilis \n",
      "Sample: mondren                   \t closes match: rene \n",
      "Sample: lea                       \t closes match: lea \n"
     ]
    },
    {
     "name": "stderr",
     "output_type": "stream",
     "text": [
      "epoch 2) iter 4: train_loss 217.5057373, lr = 2.918956e-04:   1%|▏         | 4/269 [00:02<07:38,  1.73s/it]"
     ]
    },
    {
     "name": "stdout",
     "output_type": "stream",
     "text": [
      "Sample: aryno                     \t closes match: arno \n"
     ]
    },
    {
     "name": "stderr",
     "output_type": "stream",
     "text": [
      "epoch 2) iter 268: train_loss 217.5757751, lr = 6.000000e-05: 100%|██████████| 269/269 [00:14<00:00, 18.00it/s]\n"
     ]
    },
    {
     "name": "stdout",
     "output_type": "stream",
     "text": [
      "Test loss: 218.09268747965496\n"
     ]
    },
    {
     "name": "stderr",
     "output_type": "stream",
     "text": [
      "epoch 3) iter 0: train_loss 217.9172211, lr = 6.000000e-05:   0%|          | 0/269 [00:00<?, ?it/s]"
     ]
    },
    {
     "name": "stdout",
     "output_type": "stream",
     "text": [
      "Iteration 0 samples:\n",
      "Sample: anginaie                  \t closes match: gina \n",
      "Sample: namere                    \t closes match: ame \n",
      "Sample: zlisanie                  \t closes match: lisa \n",
      "Sample: ana                       \t closes match: ana \n"
     ]
    },
    {
     "name": "stderr",
     "output_type": "stream",
     "text": [
      "epoch 3) iter 4: train_loss 218.3519287, lr = 6.000000e-05:   1%|▏         | 4/269 [00:02<08:03,  1.82s/it]"
     ]
    },
    {
     "name": "stdout",
     "output_type": "stream",
     "text": [
      "Sample: naudiline                 \t closes match: naud \n"
     ]
    },
    {
     "name": "stderr",
     "output_type": "stream",
     "text": [
      "epoch 3) iter 268: train_loss 219.2994690, lr = 3.006754e-04: 100%|██████████| 269/269 [00:15<00:00, 17.84it/s]\n"
     ]
    },
    {
     "name": "stdout",
     "output_type": "stream",
     "text": [
      "Test loss: 218.0783198038737\n"
     ]
    },
    {
     "name": "stderr",
     "output_type": "stream",
     "text": [
      "epoch 4) iter 0: train_loss 217.7574158, lr = 3.024316e-04:   0%|          | 0/269 [00:00<?, ?it/s]"
     ]
    },
    {
     "name": "stdout",
     "output_type": "stream",
     "text": [
      "Iteration 0 samples:\n",
      "Sample: zelisen                   \t closes match: elis \n",
      "Sample: redna                     \t closes match: ed \n",
      "Sample: berna                     \t closes match: bernat \n",
      "Sample: alyste                    \t closes match: alyse \n"
     ]
    },
    {
     "name": "stderr",
     "output_type": "stream",
     "text": [
      "epoch 4) iter 4: train_loss 218.1048431, lr = 3.094547e-04:   1%|▏         | 4/269 [00:02<07:06,  1.61s/it]"
     ]
    },
    {
     "name": "stdout",
     "output_type": "stream",
     "text": [
      "Sample: rtue                      \t closes match: roberte \n"
     ]
    },
    {
     "name": "stderr",
     "output_type": "stream",
     "text": [
      "epoch 4) iter 268: train_loss 217.8429260, lr = 5.999970e-04: 100%|██████████| 269/269 [00:14<00:00, 18.15it/s]\n"
     ]
    },
    {
     "name": "stdout",
     "output_type": "stream",
     "text": [
      "Test loss: 218.2106155395508\n"
     ]
    },
    {
     "name": "stderr",
     "output_type": "stream",
     "text": [
      "epoch 5) iter 0: train_loss 218.2715302, lr = 5.999839e-04:   0%|          | 0/269 [00:00<?, ?it/s]"
     ]
    },
    {
     "name": "stdout",
     "output_type": "stream",
     "text": [
      "Iteration 0 samples:\n",
      "Sample: igneme                    \t closes match: edme \n",
      "Sample: aguitte                   \t closes match: gui \n",
      "Sample: enae                      \t closes match: gwenael \n",
      "Sample: reanie                    \t closes match: rejane \n"
     ]
    },
    {
     "name": "stderr",
     "output_type": "stream",
     "text": [
      "epoch 5) iter 4: train_loss 218.2711334, lr = 5.998289e-04:   1%|▏         | 4/269 [00:02<07:25,  1.68s/it]"
     ]
    },
    {
     "name": "stdout",
     "output_type": "stream",
     "text": [
      "Sample: nedy                      \t closes match: ed \n"
     ]
    },
    {
     "name": "stderr",
     "output_type": "stream",
     "text": [
      "epoch 5) iter 268: train_loss 217.0904236, lr = 2.979737e-04: 100%|██████████| 269/269 [00:14<00:00, 18.09it/s]\n"
     ]
    },
    {
     "name": "stdout",
     "output_type": "stream",
     "text": [
      "Test loss: 218.0564931233724\n"
     ]
    },
    {
     "name": "stderr",
     "output_type": "stream",
     "text": [
      "epoch 6) iter 0: train_loss 217.6972961, lr = 2.962176e-04:   0%|          | 0/269 [00:00<?, ?it/s]"
     ]
    },
    {
     "name": "stdout",
     "output_type": "stream",
     "text": [
      "Iteration 0 samples:\n",
      "Sample: zenrud                    \t closes match: zeno \n",
      "Sample: gtweodo                   \t closes match: odon \n",
      "Sample: netta                     \t closes match: simonetta \n",
      "Sample: rocane                    \t closes match: roxane \n"
     ]
    },
    {
     "name": "stderr",
     "output_type": "stream",
     "text": [
      "epoch 6) iter 4: train_loss 217.8818054, lr = 2.891952e-04:   1%|▏         | 4/269 [00:02<06:28,  1.47s/it]"
     ]
    },
    {
     "name": "stdout",
     "output_type": "stream",
     "text": [
      "Sample: melio                     \t closes match: elio \n"
     ]
    },
    {
     "name": "stderr",
     "output_type": "stream",
     "text": [
      "epoch 6) iter 268: train_loss 217.6049194, lr = 6.000000e-05: 100%|██████████| 269/269 [00:14<00:00, 18.45it/s]\n"
     ]
    },
    {
     "name": "stdout",
     "output_type": "stream",
     "text": [
      "Test loss: 217.85466715494792\n"
     ]
    },
    {
     "name": "stderr",
     "output_type": "stream",
     "text": [
      "epoch 7) iter 0: train_loss 218.1413574, lr = 6.000000e-05:   0%|          | 0/269 [00:00<?, ?it/s]"
     ]
    },
    {
     "name": "stdout",
     "output_type": "stream",
     "text": [
      "Iteration 0 samples:\n",
      "Sample: nael                      \t closes match: ganaelle \n",
      "Sample: maryla                    \t closes match: mara \n",
      "Sample: melc                      \t closes match: melchisedech \n",
      "Sample: nendrie                   \t closes match: cendrine \n"
     ]
    },
    {
     "name": "stderr",
     "output_type": "stream",
     "text": [
      "epoch 7) iter 4: train_loss 217.9858704, lr = 6.000000e-05:   1%|▏         | 4/269 [00:02<07:24,  1.68s/it]"
     ]
    },
    {
     "name": "stdout",
     "output_type": "stream",
     "text": [
      "Sample: geonz                     \t closes match: geronimo \n"
     ]
    },
    {
     "name": "stderr",
     "output_type": "stream",
     "text": [
      "epoch 7) iter 268: train_loss 217.9793243, lr = 3.033772e-04: 100%|██████████| 269/269 [00:14<00:00, 18.05it/s]\n"
     ]
    },
    {
     "name": "stdout",
     "output_type": "stream",
     "text": [
      "Test loss: 217.98746795654296\n"
     ]
    },
    {
     "name": "stderr",
     "output_type": "stream",
     "text": [
      "epoch 8) iter 0: train_loss 217.6753845, lr = 3.051332e-04:   0%|          | 0/269 [00:00<?, ?it/s]"
     ]
    },
    {
     "name": "stdout",
     "output_type": "stream",
     "text": [
      "Iteration 0 samples:\n",
      "Sample: ange                      \t closes match: ange \n",
      "Sample: kerone                    \t closes match: geronce \n",
      "Sample: neve                      \t closes match: anaeve \n",
      "Sample: neeino                    \t closes match: nelio \n"
     ]
    },
    {
     "name": "stderr",
     "output_type": "stream",
     "text": [
      "epoch 8) iter 4: train_loss 217.8954468, lr = 3.121547e-04:   1%|▏         | 4/269 [00:02<07:24,  1.68s/it]"
     ]
    },
    {
     "name": "stdout",
     "output_type": "stream",
     "text": [
      "Sample: ketreg                    \t closes match: rieg \n"
     ]
    },
    {
     "name": "stderr",
     "output_type": "stream",
     "text": [
      "epoch 8) iter 268: train_loss 217.8167877, lr = 5.999726e-04: 100%|██████████| 269/269 [00:14<00:00, 18.09it/s]\n"
     ]
    },
    {
     "name": "stdout",
     "output_type": "stream",
     "text": [
      "Test loss: 217.99034423828124\n"
     ]
    },
    {
     "name": "stderr",
     "output_type": "stream",
     "text": [
      "epoch 9) iter 0: train_loss 217.8330383, lr = 5.999438e-04:   0%|          | 0/269 [00:00<?, ?it/s]"
     ]
    },
    {
     "name": "stdout",
     "output_type": "stream",
     "text": [
      "Iteration 0 samples:\n",
      "Sample: zeaind                    \t closes match: zenaide \n",
      "Sample: anaide                    \t closes match: ana \n",
      "Sample: nerele                    \t closes match: neree \n",
      "Sample: kerva                     \t closes match: klervia \n"
     ]
    },
    {
     "name": "stderr",
     "output_type": "stream",
     "text": [
      "epoch 9) iter 4: train_loss 217.5619507, lr = 5.997255e-04:   1%|▏         | 4/269 [00:02<06:42,  1.52s/it]"
     ]
    },
    {
     "name": "stdout",
     "output_type": "stream",
     "text": [
      "Sample: zeenad                    \t closes match: naud \n"
     ]
    },
    {
     "name": "stderr",
     "output_type": "stream",
     "text": [
      "epoch 9) iter 268: train_loss 217.7242279, lr = 2.952721e-04: 100%|██████████| 269/269 [00:14<00:00, 18.38it/s]\n"
     ]
    },
    {
     "name": "stdout",
     "output_type": "stream",
     "text": [
      "Test loss: 217.85602874755858\n"
     ]
    },
    {
     "name": "stderr",
     "output_type": "stream",
     "text": [
      "epoch 10) iter 0: train_loss 217.9009094, lr = 2.935162e-04:   0%|          | 0/269 [00:00<?, ?it/s]"
     ]
    },
    {
     "name": "stdout",
     "output_type": "stream",
     "text": [
      "Iteration 0 samples:\n",
      "Sample: rechil                    \t closes match: hild \n",
      "Sample: zeamelia                  \t closes match: ame \n",
      "Sample: beran                     \t closes match: beranger \n",
      "Sample: neld                      \t closes match: renelde \n"
     ]
    },
    {
     "name": "stderr",
     "output_type": "stream",
     "text": [
      "epoch 10) iter 4: train_loss 217.7371674, lr = 2.864956e-04:   1%|▏         | 4/269 [00:02<07:15,  1.64s/it]"
     ]
    },
    {
     "name": "stdout",
     "output_type": "stream",
     "text": [
      "Sample: yanise                    \t closes match: yanis \n"
     ]
    },
    {
     "name": "stderr",
     "output_type": "stream",
     "text": [
      "epoch 10) iter 268: train_loss 216.8384857, lr = 6.000000e-05: 100%|██████████| 269/269 [00:14<00:00, 18.11it/s]\n"
     ]
    },
    {
     "name": "stdout",
     "output_type": "stream",
     "text": [
      "Test loss: 217.91805419921874\n"
     ]
    },
    {
     "name": "stderr",
     "output_type": "stream",
     "text": [
      "epoch 11) iter 0: train_loss 218.0385284, lr = 6.000000e-05:   0%|          | 0/269 [00:00<?, ?it/s]"
     ]
    },
    {
     "name": "stdout",
     "output_type": "stream",
     "text": [
      "Iteration 0 samples:\n",
      "Sample: zennian                   \t closes match: ian \n",
      "Sample: gwesla                    \t closes match: geslain \n",
      "Sample: engeslard                 \t closes match: angela \n",
      "Sample: azia                      \t closes match: aziza \n"
     ]
    },
    {
     "name": "stderr",
     "output_type": "stream",
     "text": [
      "epoch 11) iter 4: train_loss 217.1583405, lr = 6.000000e-05:   1%|▏         | 4/269 [00:02<07:30,  1.70s/it]"
     ]
    },
    {
     "name": "stdout",
     "output_type": "stream",
     "text": [
      "Sample: audren                    \t closes match: audren \n"
     ]
    },
    {
     "name": "stderr",
     "output_type": "stream",
     "text": [
      "epoch 11) iter 268: train_loss 216.9248962, lr = 3.060786e-04: 100%|██████████| 269/269 [00:14<00:00, 18.08it/s]\n"
     ]
    },
    {
     "name": "stdout",
     "output_type": "stream",
     "text": [
      "Test loss: 217.90989481608074\n"
     ]
    },
    {
     "name": "stderr",
     "output_type": "stream",
     "text": [
      "epoch 12) iter 0: train_loss 217.5589905, lr = 3.078343e-04:   0%|          | 0/269 [00:00<?, ?it/s]"
     ]
    },
    {
     "name": "stdout",
     "output_type": "stream",
     "text": [
      "Iteration 0 samples:\n",
      "Sample: anissia                   \t closes match: anissa \n",
      "Sample: nerene                    \t closes match: neree \n",
      "Sample: nerino                    \t closes match: ermin \n",
      "Sample: neettan                   \t closes match: nectan \n"
     ]
    },
    {
     "name": "stderr",
     "output_type": "stream",
     "text": [
      "epoch 12) iter 4: train_loss 217.2676697, lr = 3.148538e-04:   1%|▏         | 4/269 [00:02<06:42,  1.52s/it]"
     ]
    },
    {
     "name": "stdout",
     "output_type": "stream",
     "text": [
      "Sample: zenobrien                 \t closes match: zeno \n"
     ]
    },
    {
     "name": "stderr",
     "output_type": "stream",
     "text": [
      "epoch 12) iter 268: train_loss 217.6563873, lr = 5.999240e-04: 100%|██████████| 269/269 [00:14<00:00, 18.36it/s]\n"
     ]
    },
    {
     "name": "stdout",
     "output_type": "stream",
     "text": [
      "Test loss: 217.9332733154297\n"
     ]
    },
    {
     "name": "stderr",
     "output_type": "stream",
     "text": [
      "epoch 13) iter 0: train_loss 217.3386078, lr = 5.998793e-04:   0%|          | 0/269 [00:00<?, ?it/s]"
     ]
    },
    {
     "name": "stdout",
     "output_type": "stream",
     "text": [
      "Iteration 0 samples:\n",
      "Sample: zen                       \t closes match: zenodore \n",
      "Sample: stephan                   \t closes match: stephan \n",
      "Sample: zena                      \t closes match: zenaide \n",
      "Sample: zesphaslee                \t closes match: lee \n"
     ]
    },
    {
     "name": "stderr",
     "output_type": "stream",
     "text": [
      "epoch 13) iter 4: train_loss 217.7487640, lr = 5.995978e-04:   1%|▏         | 4/269 [00:02<08:36,  1.95s/it]"
     ]
    },
    {
     "name": "stdout",
     "output_type": "stream",
     "text": [
      "Sample: sternancha                \t closes match: erna \n"
     ]
    },
    {
     "name": "stderr",
     "output_type": "stream",
     "text": [
      "epoch 13) iter 268: train_loss 217.9466095, lr = 2.925708e-04: 100%|██████████| 269/269 [00:15<00:00, 17.62it/s]\n"
     ]
    },
    {
     "name": "stdout",
     "output_type": "stream",
     "text": [
      "Test loss: 217.9802485148112\n"
     ]
    },
    {
     "name": "stderr",
     "output_type": "stream",
     "text": [
      "epoch 14) iter 0: train_loss 216.9792175, lr = 2.908153e-04:   0%|          | 0/269 [00:00<?, ?it/s]"
     ]
    },
    {
     "name": "stdout",
     "output_type": "stream",
     "text": [
      "Iteration 0 samples:\n",
      "Sample: zechegue                  \t closes match: zachee \n",
      "Sample: nathonea                  \t closes match: anthone \n",
      "Sample: eodo                      \t closes match: theodosie \n",
      "Sample: naaline                   \t closes match: ali \n"
     ]
    },
    {
     "name": "stderr",
     "output_type": "stream",
     "text": [
      "epoch 14) iter 4: train_loss 217.2705383, lr = 2.837971e-04:   1%|▏         | 4/269 [00:02<06:55,  1.57s/it]"
     ]
    },
    {
     "name": "stdout",
     "output_type": "stream",
     "text": [
      "Sample: nedoa                     \t closes match: ed \n"
     ]
    },
    {
     "name": "stderr",
     "output_type": "stream",
     "text": [
      "epoch 14) iter 268: train_loss 216.4448547, lr = 6.000000e-05: 100%|██████████| 269/269 [00:14<00:00, 18.31it/s]\n"
     ]
    },
    {
     "name": "stdout",
     "output_type": "stream",
     "text": [
      "Test loss: 217.83257548014322\n"
     ]
    },
    {
     "name": "stderr",
     "output_type": "stream",
     "text": [
      "epoch 15) iter 0: train_loss 217.0905609, lr = 6.000000e-05:   0%|          | 0/269 [00:00<?, ?it/s]"
     ]
    },
    {
     "name": "stdout",
     "output_type": "stream",
     "text": [
      "Iteration 0 samples:\n",
      "Sample: annelle                   \t closes match: annaelle \n",
      "Sample: zenona                    \t closes match: zenon \n",
      "Sample: androu                    \t closes match: nandou \n",
      "Sample: angeline                  \t closes match: angeline \n"
     ]
    },
    {
     "name": "stderr",
     "output_type": "stream",
     "text": [
      "epoch 15) iter 4: train_loss 217.7087708, lr = 6.000000e-05:   1%|▏         | 4/269 [00:02<06:57,  1.58s/it]"
     ]
    },
    {
     "name": "stdout",
     "output_type": "stream",
     "text": [
      "Sample: zen                       \t closes match: zenodore \n"
     ]
    },
    {
     "name": "stderr",
     "output_type": "stream",
     "text": [
      "epoch 15) iter 268: train_loss 217.7761993, lr = 3.087796e-04: 100%|██████████| 269/269 [00:14<00:00, 18.26it/s]\n"
     ]
    },
    {
     "name": "stdout",
     "output_type": "stream",
     "text": [
      "Test loss: 217.88069712320964\n"
     ]
    },
    {
     "name": "stderr",
     "output_type": "stream",
     "text": [
      "epoch 16) iter 0: train_loss 217.7259979, lr = 3.105348e-04:   0%|          | 0/269 [00:00<?, ?it/s]"
     ]
    },
    {
     "name": "stdout",
     "output_type": "stream",
     "text": [
      "Iteration 0 samples:\n",
      "Sample: xavin                     \t closes match: alvin \n",
      "Sample: zena                      \t closes match: zenaide \n",
      "Sample: renatine                  \t closes match: renaldine \n",
      "Sample: nedette                   \t closes match: ed \n"
     ]
    },
    {
     "name": "stderr",
     "output_type": "stream",
     "text": [
      "epoch 16) iter 4: train_loss 217.3831787, lr = 3.175516e-04:   1%|▏         | 4/269 [00:02<06:55,  1.57s/it]"
     ]
    },
    {
     "name": "stdout",
     "output_type": "stream",
     "text": [
      "Sample: anestin                   \t closes match: estin \n"
     ]
    },
    {
     "name": "stderr",
     "output_type": "stream",
     "text": [
      "epoch 16) iter 268: train_loss 217.1244965, lr = 5.998510e-04: 100%|██████████| 269/269 [00:14<00:00, 18.31it/s]\n"
     ]
    },
    {
     "name": "stdout",
     "output_type": "stream",
     "text": [
      "Test loss: 218.05355122884114\n"
     ]
    },
    {
     "name": "stderr",
     "output_type": "stream",
     "text": [
      "epoch 17) iter 0: train_loss 218.0071716, lr = 5.997905e-04:   0%|          | 0/269 [00:00<?, ?it/s]"
     ]
    },
    {
     "name": "stdout",
     "output_type": "stream",
     "text": [
      "Iteration 0 samples:\n",
      "Sample: zemarda                   \t closes match: mara \n",
      "Sample: zephoriend                \t closes match: zephyrin \n",
      "Sample: zisaclia                  \t closes match: lia \n",
      "Sample: staniane                  \t closes match: tania \n"
     ]
    },
    {
     "name": "stderr",
     "output_type": "stream",
     "text": [
      "epoch 17) iter 4: train_loss 217.1252136, lr = 5.994459e-04:   1%|▏         | 4/269 [00:02<07:32,  1.71s/it]"
     ]
    },
    {
     "name": "stdout",
     "output_type": "stream",
     "text": [
      "Sample: zenope                    \t closes match: zeno \n"
     ]
    },
    {
     "name": "stderr",
     "output_type": "stream",
     "text": [
      "epoch 17) iter 268: train_loss 217.1199951, lr = 2.898702e-04: 100%|██████████| 269/269 [00:14<00:00, 18.08it/s]\n"
     ]
    },
    {
     "name": "stdout",
     "output_type": "stream",
     "text": [
      "Test loss: 217.93982493082683\n"
     ]
    },
    {
     "name": "stderr",
     "output_type": "stream",
     "text": [
      "epoch 18) iter 0: train_loss 218.1972809, lr = 2.881152e-04:   0%|          | 0/269 [00:00<?, ?it/s]"
     ]
    },
    {
     "name": "stdout",
     "output_type": "stream",
     "text": [
      "Iteration 0 samples:\n",
      "Sample: kelia                     \t closes match: kelian \n",
      "Sample: artaudine                 \t closes match: tudine \n",
      "Sample: nevoria                   \t closes match: oria \n",
      "Sample: zephine                   \t closes match: zephirine \n"
     ]
    },
    {
     "name": "stderr",
     "output_type": "stream",
     "text": [
      "epoch 18) iter 4: train_loss 217.4493866, lr = 2.811000e-04:   1%|▏         | 4/269 [00:02<06:55,  1.57s/it]"
     ]
    },
    {
     "name": "stdout",
     "output_type": "stream",
     "text": [
      "Sample: nessy                     \t closes match: kessy \n"
     ]
    },
    {
     "name": "stderr",
     "output_type": "stream",
     "text": [
      "epoch 18) iter 268: train_loss 217.1629639, lr = 6.000000e-05: 100%|██████████| 269/269 [00:14<00:00, 18.27it/s]\n"
     ]
    },
    {
     "name": "stdout",
     "output_type": "stream",
     "text": [
      "Test loss: 217.74228261311848\n"
     ]
    },
    {
     "name": "stderr",
     "output_type": "stream",
     "text": [
      "epoch 19) iter 0: train_loss 218.2636414, lr = 6.000000e-05:   0%|          | 0/269 [00:00<?, ?it/s]"
     ]
    },
    {
     "name": "stdout",
     "output_type": "stream",
     "text": [
      "Iteration 0 samples:\n",
      "Sample: clararie                  \t closes match: clar \n",
      "Sample: nessanin                  \t closes match: nin \n",
      "Sample: renael                    \t closes match: enael \n",
      "Sample: reply                     \t closes match: lys \n"
     ]
    },
    {
     "name": "stderr",
     "output_type": "stream",
     "text": [
      "epoch 19) iter 4: train_loss 216.7178345, lr = 6.000000e-05:   1%|▏         | 4/269 [00:02<07:31,  1.70s/it]"
     ]
    },
    {
     "name": "stdout",
     "output_type": "stream",
     "text": [
      "Sample: zephallee                 \t closes match: lee \n"
     ]
    },
    {
     "name": "stderr",
     "output_type": "stream",
     "text": [
      "epoch 19) iter 268: train_loss 216.8243103, lr = 3.114798e-04: 100%|██████████| 269/269 [00:14<00:00, 18.06it/s]\n"
     ]
    },
    {
     "name": "stdout",
     "output_type": "stream",
     "text": [
      "Test loss: 218.00097045898437\n"
     ]
    },
    {
     "name": "stderr",
     "output_type": "stream",
     "text": [
      "epoch 20) iter 0: train_loss 217.2340393, lr = 3.132345e-04:   0%|          | 0/269 [00:00<?, ?it/s]"
     ]
    },
    {
     "name": "stdout",
     "output_type": "stream",
     "text": [
      "Iteration 0 samples:\n",
      "Sample: theopha                   \t closes match: theo \n",
      "Sample: neston                    \t closes match: nelson \n",
      "Sample: refimit                   \t closes match: remi \n",
      "Sample: georgane                  \t closes match: georgiane \n"
     ]
    },
    {
     "name": "stderr",
     "output_type": "stream",
     "text": [
      "epoch 20) iter 4: train_loss 217.8718109, lr = 3.202480e-04:   1%|▏         | 4/269 [00:02<06:20,  1.44s/it]"
     ]
    },
    {
     "name": "stdout",
     "output_type": "stream",
     "text": [
      "Sample: nelis                     \t closes match: lis \n"
     ]
    },
    {
     "name": "stderr",
     "output_type": "stream",
     "text": [
      "epoch 20) iter 268: train_loss 218.6749420, lr = 5.997537e-04: 100%|██████████| 269/269 [00:14<00:00, 18.51it/s]\n"
     ]
    },
    {
     "name": "stdout",
     "output_type": "stream",
     "text": [
      "Test loss: 217.95996602376303\n"
     ]
    }
   ],
   "source": [
    "french_names = []\n",
    "with open(NAMES_DIR / \"french_names_no_accent.txt\", \"r\") as f:\n",
    "    for word in f:\n",
    "        french_names.append(clean_word(word))\n",
    "wiki_vae = AttentionVae.load(\"wiki_model\")\n",
    "\n",
    "split = 0.9\n",
    "idx = int(len(french_names) * split)\n",
    "np.random.seed(137)\n",
    "np.random.shuffle(french_names)\n",
    "train_french_names = french_names[:idx]\n",
    "val_french_names = french_names[idx:]\n",
    "\n",
    "raw_train_french_names = \" \".join(train_french_names)\n",
    "raw_val_french_names = \" \".join(val_french_names)\n",
    "\n",
    "train_dataset = CharDataset(raw_train_french_names, maxlen, chars=chars)\n",
    "val_dataset = CharDataset(raw_val_french_names, maxlen, chars=chars)\n",
    "\n",
    "idx=298\n",
    "x, y, word = train_dataset[idx]\n",
    "print(\"x: \",decode_word(x.numpy(), wiki_vae.itos))\n",
    "print(\"y: \",decode_word(y.numpy(), wiki_vae.itos))\n",
    "print(\"word :\", decode_word(word.numpy(), wiki_vae.itos))\n",
    "\n",
    "frozen_list = []\n",
    "for par in wiki_vae.named_parameters():\n",
    "    if \"encoder\" in par[0]:\n",
    "        frozen_list.append(par[0])\n",
    "\n",
    "frozen_wiki_vae = AttentionVae.load(\"wiki_model\")\n",
    "chars = list(wiki_vae.stoi.keys())\n",
    "maxlen = wiki_vae.config.block_size\n",
    "\n",
    "tconf = TrainerConfig(\n",
    "    max_epochs=20,\n",
    "    batch_size=128,\n",
    "    learning_rate=6e-4,\n",
    "    lr_decay=True,\n",
    "    warmup_tokens=128 * 20,\n",
    "    final_tokens=2 * len(train_dataset) * maxlen,\n",
    "    num_workers=4,\n",
    "    sample_freq=10000,\n",
    "    freeze_layers=tuple(frozen_list)\n",
    ")\n",
    "trainer = Trainer(frozen_wiki_vae, train_dataset, val_dataset, tconf,log_nearest_words=True)\n",
    "losses = trainer.train()"
   ]
  },
  {
   "cell_type": "code",
   "execution_count": 38,
   "metadata": {
    "ExecuteTime": {
     "end_time": "2021-02-07T16:48:13.678224Z",
     "start_time": "2021-02-07T16:48:13.579958Z"
    },
    "scrolled": true
   },
   "outputs": [
    {
     "data": {
      "text/plain": [
       "[<matplotlib.lines.Line2D at 0x7f98264de190>]"
      ]
     },
     "execution_count": 38,
     "metadata": {},
     "output_type": "execute_result"
    },
    {
     "data": {
      "image/png": "[encoded data removed]",
      "text/plain": [
       "<Figure size 432x288 with 1 Axes>"
      ]
     },
     "metadata": {
      "needs_background": "light"
     },
     "output_type": "display_data"
    }
   ],
   "source": [
    "plt.plot(losses['test_loss'])"
   ]
  },
  {
   "cell_type": "code",
   "execution_count": 29,
   "metadata": {
    "ExecuteTime": {
     "end_time": "2021-02-05T23:58:53.528742Z",
     "start_time": "2021-02-05T23:58:53.510014Z"
    }
   },
   "outputs": [
    {
     "ename": "ModuleAttributeError",
     "evalue": "'AttentionVae' object has no attribute 'device'",
     "output_type": "error",
     "traceback": [
      "\u001b[0;31m---------------------------------------------------------------------------\u001b[0m",
      "\u001b[0;31mModuleAttributeError\u001b[0m                      Traceback (most recent call last)",
      "\u001b[0;32m<ipython-input-29-754c62e764e6>\u001b[0m in \u001b[0;36m<module>\u001b[0;34m\u001b[0m\n\u001b[1;32m      8\u001b[0m \u001b[0;32mfor\u001b[0m \u001b[0mx\u001b[0m\u001b[0;34m,\u001b[0m \u001b[0my\u001b[0m\u001b[0;34m,\u001b[0m \u001b[0mword\u001b[0m \u001b[0;32min\u001b[0m \u001b[0mloader\u001b[0m\u001b[0;34m:\u001b[0m\u001b[0;34m\u001b[0m\u001b[0;34m\u001b[0m\u001b[0m\n\u001b[1;32m      9\u001b[0m     \u001b[0;32mwith\u001b[0m \u001b[0mtorch\u001b[0m\u001b[0;34m.\u001b[0m\u001b[0mno_grad\u001b[0m\u001b[0;34m(\u001b[0m\u001b[0;34m)\u001b[0m\u001b[0;34m:\u001b[0m\u001b[0;34m\u001b[0m\u001b[0;34m\u001b[0m\u001b[0m\n\u001b[0;32m---> 10\u001b[0;31m         \u001b[0mx\u001b[0m \u001b[0;34m=\u001b[0m \u001b[0mx\u001b[0m\u001b[0;34m.\u001b[0m\u001b[0mto\u001b[0m\u001b[0;34m(\u001b[0m\u001b[0mfrozen_wiki_vae\u001b[0m\u001b[0;34m.\u001b[0m\u001b[0mdevice\u001b[0m\u001b[0;34m)\u001b[0m\u001b[0;34m\u001b[0m\u001b[0;34m\u001b[0m\u001b[0m\n\u001b[0m\u001b[1;32m     11\u001b[0m         \u001b[0my\u001b[0m \u001b[0;34m=\u001b[0m \u001b[0my\u001b[0m\u001b[0;34m.\u001b[0m\u001b[0mto\u001b[0m\u001b[0;34m(\u001b[0m\u001b[0mfrozen_wiki_vae\u001b[0m\u001b[0;34m.\u001b[0m\u001b[0mdevice\u001b[0m\u001b[0;34m)\u001b[0m\u001b[0;34m\u001b[0m\u001b[0;34m\u001b[0m\u001b[0m\n\u001b[1;32m     12\u001b[0m         \u001b[0mword\u001b[0m \u001b[0;34m=\u001b[0m \u001b[0mword\u001b[0m\u001b[0;34m.\u001b[0m\u001b[0mto\u001b[0m\u001b[0;34m(\u001b[0m\u001b[0mfrozen_wiki_vae\u001b[0m\u001b[0;34m.\u001b[0m\u001b[0mdevice\u001b[0m\u001b[0;34m)\u001b[0m\u001b[0;34m\u001b[0m\u001b[0;34m\u001b[0m\u001b[0m\n",
      "\u001b[0;32m~/anaconda3/envs/namegen/lib/python3.7/site-packages/torch/nn/modules/module.py\u001b[0m in \u001b[0;36m__getattr__\u001b[0;34m(self, name)\u001b[0m\n\u001b[1;32m    770\u001b[0m                 \u001b[0;32mreturn\u001b[0m \u001b[0mmodules\u001b[0m\u001b[0;34m[\u001b[0m\u001b[0mname\u001b[0m\u001b[0;34m]\u001b[0m\u001b[0;34m\u001b[0m\u001b[0;34m\u001b[0m\u001b[0m\n\u001b[1;32m    771\u001b[0m         raise ModuleAttributeError(\"'{}' object has no attribute '{}'\".format(\n\u001b[0;32m--> 772\u001b[0;31m             type(self).__name__, name))\n\u001b[0m\u001b[1;32m    773\u001b[0m \u001b[0;34m\u001b[0m\u001b[0m\n\u001b[1;32m    774\u001b[0m     \u001b[0;32mdef\u001b[0m \u001b[0m__setattr__\u001b[0m\u001b[0;34m(\u001b[0m\u001b[0mself\u001b[0m\u001b[0;34m,\u001b[0m \u001b[0mname\u001b[0m\u001b[0;34m:\u001b[0m \u001b[0mstr\u001b[0m\u001b[0;34m,\u001b[0m \u001b[0mvalue\u001b[0m\u001b[0;34m:\u001b[0m \u001b[0mUnion\u001b[0m\u001b[0;34m[\u001b[0m\u001b[0mTensor\u001b[0m\u001b[0;34m,\u001b[0m \u001b[0;34m'Module'\u001b[0m\u001b[0;34m]\u001b[0m\u001b[0;34m)\u001b[0m \u001b[0;34m->\u001b[0m \u001b[0;32mNone\u001b[0m\u001b[0;34m:\u001b[0m\u001b[0;34m\u001b[0m\u001b[0;34m\u001b[0m\u001b[0m\n",
      "\u001b[0;31mModuleAttributeError\u001b[0m: 'AttentionVae' object has no attribute 'device'"
     ]
    }
   ],
   "source": [
    "losses = []\n",
    "loader = DataLoader(\n",
    "            val_dataset,\n",
    "            shuffle=False,\n",
    "            pin_memory=True,\n",
    "            batch_size=128\n",
    "        )\n",
    "for x, y, word in loader:\n",
    "    with torch.no_grad():\n",
    "        x = x.to(frozen_wiki_vae.device)\n",
    "        y = y.to(trainer.device)\n",
    "        word = word.to(frozen_wiki_vae.device)\n",
    "        logits, loss_dict = frozen_wiki_vae.model(x, y, word, training=True)\n",
    "\n",
    "        losses.append(loss_dict[\"loss\"])\n",
    "        \n",
    "    "
   ]
  },
  {
   "cell_type": "code",
   "execution_count": null,
   "metadata": {
    "ExecuteTime": {
     "end_time": "2021-02-05T23:12:31.648328Z",
     "start_time": "2021-02-05T23:11:35.213Z"
    }
   },
   "outputs": [],
   "source": [
    "french_vae = AttentionVae.load(\"french_model\")\n",
    "tconf = TrainerConfig(\n",
    "    max_epochs=10,\n",
    "    batch_size=128,\n",
    "    learning_rate=6e-4,\n",
    "    lr_decay=True,\n",
    "    warmup_tokens=128 * 20,\n",
    "    final_tokens=2 * len(train_dataset) * maxlen,\n",
    "    num_workers=4,\n",
    ")\n",
    "trainer = Trainer(french_vae, train_dataset, None, tconf)\n",
    "losses = trainer.train()"
   ]
  },
  {
   "cell_type": "code",
   "execution_count": 15,
   "metadata": {
    "ExecuteTime": {
     "end_time": "2021-02-05T22:51:22.655262Z",
     "start_time": "2021-02-05T22:51:22.643634Z"
    }
   },
   "outputs": [],
   "source": [
    "from fuzzywuzzy import process"
   ]
  },
  {
   "cell_type": "code",
   "execution_count": 28,
   "metadata": {
    "ExecuteTime": {
     "end_time": "2021-02-05T22:52:40.417135Z",
     "start_time": "2021-02-05T22:52:40.393072Z"
    }
   },
   "outputs": [],
   "source": [
    "train_dataset.word_list"
   ]
  },
  {
   "cell_type": "code",
   "execution_count": 29,
   "metadata": {
    "ExecuteTime": {
     "end_time": "2021-02-05T22:52:41.025599Z",
     "start_time": "2021-02-05T22:52:41.010617Z"
    }
   },
   "outputs": [],
   "source": [
    "print(french_names)\n",
    "\n",
    "match = process.extract(\"list\", french_names, limit=2)"
   ]
  },
  {
   "cell_type": "code",
   "execution_count": 23,
   "metadata": {
    "ExecuteTime": {
     "end_time": "2021-02-05T22:52:23.329130Z",
     "start_time": "2021-02-05T22:52:23.316603Z"
    }
   },
   "outputs": [],
   "source": [
    "match"
   ]
  },
  {
   "cell_type": "code",
   "execution_count": 84,
   "metadata": {
    "ExecuteTime": {
     "end_time": "2021-02-03T22:28:42.825790Z",
     "start_time": "2021-02-03T22:25:37.489617Z"
    },
    "collapsed": true
   },
   "outputs": [
    {
     "name": "stdout",
     "output_type": "stream",
     "text": [
      "number of parameters: 851904\n"
     ]
    },
    {
     "name": "stderr",
     "output_type": "stream",
     "text": [
      "  0%|          | 0/299 [00:00<?, ?it/s]/home/simon/code/namegen/avae/src/avae/trainer.py:101: UserWarning: torch.nn.utils.clip_grad_norm is now deprecated in favor of torch.nn.utils.clip_grad_norm_.\n",
      "  self.model.parameters(), self.config.grad_norm_clip\n",
      "epoch 1) iter 0: train_loss 567.6885986, lr = 5.999998e-04:   0%|          | 0/299 [00:00<?, ?it/s]"
     ]
    },
    {
     "name": "stdout",
     "output_type": "stream",
     "text": [
      "Iteration 0 samples:\n",
      "Sample:  éà                         \t Closest match is aanor\n",
      "Sample: i-ànwcg                     \t Closest match is inigo\n"
     ]
    },
    {
     "name": "stderr",
     "output_type": "stream",
     "text": [
      "WARNING:root:Applied processor reduces input query to empty string, all comparisons will have score 0. [Query: '                          ']\n"
     ]
    },
    {
     "name": "stdout",
     "output_type": "stream",
     "text": [
      "Sample:  àöoöcqüàöà à               \t Closest match is aliocha\n",
      "Sample:                             \t Closest match is aanor\n"
     ]
    },
    {
     "name": "stderr",
     "output_type": "stream",
     "text": [
      "epoch 1) iter 3: train_loss 455.8023376, lr = 5.999564e-04:   1%|          | 3/299 [00:01<05:53,  1.20s/it]"
     ]
    },
    {
     "name": "stdout",
     "output_type": "stream",
     "text": [
      "Sample: 'iqöi                       \t Closest match is aaricia\n"
     ]
    },
    {
     "name": "stderr",
     "output_type": "stream",
     "text": [
      "epoch 1) iter 298: train_loss 224.3321991, lr = 3.006089e-04: 100%|██████████| 299/299 [00:17<00:00, 17.15it/s]\n",
      "epoch 2) iter 0: train_loss 225.4807281, lr = 2.990257e-04:   0%|          | 0/299 [00:00<?, ?it/s]"
     ]
    },
    {
     "name": "stdout",
     "output_type": "stream",
     "text": [
      "Iteration 0 samples:\n",
      "Sample: ale                         \t Closest match is aleaume\n",
      "Sample: paleoia                     \t Closest match is alexia\n"
     ]
    },
    {
     "name": "stderr",
     "output_type": "stream",
     "text": [
      "WARNING:root:Applied processor reduces input query to empty string, all comparisons will have score 0. [Query: '                          ']\n"
     ]
    },
    {
     "name": "stdout",
     "output_type": "stream",
     "text": [
      "Sample: orito                       \t Closest match is aristote\n",
      "Sample:                             \t Closest match is aanor\n"
     ]
    },
    {
     "name": "stderr",
     "output_type": "stream",
     "text": [
      "epoch 2) iter 3: train_loss 224.8954773, lr = 2.942763e-04:   1%|          | 3/299 [00:02<08:04,  1.64s/it]"
     ]
    },
    {
     "name": "stdout",
     "output_type": "stream",
     "text": [
      "Sample: erinno                      \t Closest match is zeferino\n"
     ]
    },
    {
     "name": "stderr",
     "output_type": "stream",
     "text": [
      "epoch 2) iter 298: train_loss 226.9024658, lr = 6.000000e-05: 100%|██████████| 299/299 [00:17<00:00, 16.63it/s]\n",
      "epoch 3) iter 0: train_loss 223.4640198, lr = 6.000000e-05:   0%|          | 0/299 [00:00<?, ?it/s]"
     ]
    },
    {
     "name": "stdout",
     "output_type": "stream",
     "text": [
      "Iteration 0 samples:\n",
      "Sample: ginili                      \t Closest match is quintilien\n",
      "Sample: guente                      \t Closest match is guenaelle\n",
      "Sample: lbarero                     \t Closest match is alberto\n",
      "Sample: maninta                     \t Closest match is anita\n"
     ]
    },
    {
     "name": "stderr",
     "output_type": "stream",
     "text": [
      "epoch 3) iter 3: train_loss 223.3650513, lr = 6.000000e-05:   1%|          | 3/299 [00:02<08:39,  1.75s/it]"
     ]
    },
    {
     "name": "stdout",
     "output_type": "stream",
     "text": [
      "Sample: grone                       \t Closest match is geronce\n"
     ]
    },
    {
     "name": "stderr",
     "output_type": "stream",
     "text": [
      "epoch 3) iter 298: train_loss 221.9121094, lr = 3.006089e-04: 100%|██████████| 299/299 [00:18<00:00, 16.48it/s]\n",
      "epoch 4) iter 0: train_loss 223.3574066, lr = 3.021922e-04:   0%|          | 0/299 [00:00<?, ?it/s]"
     ]
    },
    {
     "name": "stdout",
     "output_type": "stream",
     "text": [
      "Iteration 0 samples:\n",
      "Sample: sasidrc                     \t Closest match is said\n",
      "Sample: lacirtino                   \t Closest match is tino\n",
      "Sample: shrieldrnde                 \t Closest match is hildebrande\n",
      "Sample: cagurtin                    \t Closest match is augustin\n"
     ]
    },
    {
     "name": "stderr",
     "output_type": "stream",
     "text": [
      "epoch 4) iter 3: train_loss 222.5893860, lr = 3.069414e-04:   1%|          | 3/299 [00:03<10:53,  2.21s/it]"
     ]
    },
    {
     "name": "stdout",
     "output_type": "stream",
     "text": [
      "Sample: stlo                        \t Closest match is aristote\n"
     ]
    },
    {
     "name": "stderr",
     "output_type": "stream",
     "text": [
      "epoch 4) iter 298: train_loss 223.5995789, lr = 5.999975e-04: 100%|██████████| 299/299 [00:18<00:00, 15.81it/s]\n",
      "epoch 5) iter 0: train_loss 223.7321777, lr = 5.999869e-04:   0%|          | 0/299 [00:00<?, ?it/s]"
     ]
    },
    {
     "name": "stdout",
     "output_type": "stream",
     "text": [
      "Iteration 0 samples:\n",
      "Sample: losta                       \t Closest match is lossa\n",
      "Sample: cymie                       \t Closest match is cyrielle\n",
      "Sample: jelloeniinon                \t Closest match is ellen\n",
      "Sample: adodener                    \t Closest match is ode\n"
     ]
    },
    {
     "name": "stderr",
     "output_type": "stream",
     "text": [
      "epoch 5) iter 3: train_loss 223.0262756, lr = 5.999050e-04:   1%|          | 3/299 [00:03<11:24,  2.31s/it]"
     ]
    },
    {
     "name": "stdout",
     "output_type": "stream",
     "text": [
      "Sample: jora                        \t Closest match is joran\n"
     ]
    },
    {
     "name": "stderr",
     "output_type": "stream",
     "text": [
      "epoch 5) iter 298: train_loss 223.2532806, lr = 2.981732e-04: 100%|██████████| 299/299 [00:19<00:00, 15.68it/s]\n",
      "epoch 6) iter 0: train_loss 223.5447083, lr = 2.965900e-04:   0%|          | 0/299 [00:00<?, ?it/s]"
     ]
    },
    {
     "name": "stdout",
     "output_type": "stream",
     "text": [
      "Iteration 0 samples:\n",
      "Sample: matau                       \t Closest match is amata\n",
      "Sample: esian                       \t Closest match is elian\n",
      "Sample: aleunse                     \t Closest match is arlene\n",
      "Sample: gicia                       \t Closest match is gilia\n"
     ]
    },
    {
     "name": "stderr",
     "output_type": "stream",
     "text": [
      "epoch 6) iter 3: train_loss 222.6663055, lr = 2.918411e-04:   1%|          | 3/299 [00:02<09:46,  1.98s/it]"
     ]
    },
    {
     "name": "stdout",
     "output_type": "stream",
     "text": [
      "Sample: edrma                       \t Closest match is edma\n"
     ]
    },
    {
     "name": "stderr",
     "output_type": "stream",
     "text": [
      "epoch 6) iter 298: train_loss 217.3303680, lr = 6.000000e-05: 100%|██████████| 299/299 [00:18<00:00, 16.16it/s]\n",
      "epoch 7) iter 0: train_loss 222.6403198, lr = 6.000000e-05:   0%|          | 0/299 [00:00<?, ?it/s]"
     ]
    },
    {
     "name": "stdout",
     "output_type": "stream",
     "text": [
      "Iteration 0 samples:\n",
      "Sample: ansare                      \t Closest match is anskar\n",
      "Sample: emand                       \t Closest match is emiland\n",
      "Sample: sialle                      \t Closest match is austregisille\n",
      "Sample: macirenne                   \t Closest match is irene\n"
     ]
    },
    {
     "name": "stderr",
     "output_type": "stream",
     "text": [
      "epoch 7) iter 3: train_loss 223.4590149, lr = 6.000000e-05:   1%|          | 3/299 [00:02<09:40,  1.96s/it]"
     ]
    },
    {
     "name": "stdout",
     "output_type": "stream",
     "text": [
      "Sample: elisiane                    \t Closest match is eliane\n"
     ]
    },
    {
     "name": "stderr",
     "output_type": "stream",
     "text": [
      "epoch 7) iter 298: train_loss 223.3740845, lr = 3.030447e-04: 100%|██████████| 299/299 [00:18<00:00, 16.20it/s]\n",
      "epoch 8) iter 0: train_loss 222.2140503, lr = 3.046278e-04:   0%|          | 0/299 [00:00<?, ?it/s]"
     ]
    },
    {
     "name": "stdout",
     "output_type": "stream",
     "text": [
      "Iteration 0 samples:\n",
      "Sample: cleerine                    \t Closest match is cedrine\n",
      "Sample: mailinnite                  \t Closest match is miline\n",
      "Sample: guerttia                    \t Closest match is tia\n",
      "Sample: saioldine                   \t Closest match is soline\n"
     ]
    },
    {
     "name": "stderr",
     "output_type": "stream",
     "text": [
      "epoch 8) iter 3: train_loss 222.3113251, lr = 3.093762e-04:   1%|          | 3/299 [00:02<09:20,  1.89s/it]"
     ]
    },
    {
     "name": "stdout",
     "output_type": "stream",
     "text": [
      "Sample: thann                       \t Closest match is samthann\n"
     ]
    },
    {
     "name": "stderr",
     "output_type": "stream",
     "text": [
      "epoch 8) iter 298: train_loss 220.3882141, lr = 5.999778e-04: 100%|██████████| 299/299 [00:18<00:00, 16.23it/s]\n",
      "epoch 9) iter 0: train_loss 221.4678802, lr = 5.999543e-04:   0%|          | 0/299 [00:00<?, ?it/s]"
     ]
    },
    {
     "name": "stdout",
     "output_type": "stream",
     "text": [
      "Iteration 0 samples:\n",
      "Sample: gennediere                  \t Closest match is genevieve\n",
      "Sample: lera                        \t Closest match is wallerand\n",
      "Sample: legoni                      \t Closest match is leonie\n",
      "Sample: londu                       \t Closest match is londa\n"
     ]
    },
    {
     "name": "stderr",
     "output_type": "stream",
     "text": [
      "epoch 9) iter 3: train_loss 223.1580200, lr = 5.998338e-04:   1%|          | 3/299 [00:03<10:56,  2.22s/it]"
     ]
    },
    {
     "name": "stdout",
     "output_type": "stream",
     "text": [
      "Sample: corn                        \t Closest match is cornaline\n"
     ]
    },
    {
     "name": "stderr",
     "output_type": "stream",
     "text": [
      "epoch 9) iter 298: train_loss 224.4233398, lr = 2.957375e-04: 100%|██████████| 299/299 [00:18<00:00, 15.83it/s]\n",
      "epoch 10) iter 0: train_loss 221.9709015, lr = 2.941545e-04:   0%|          | 0/299 [00:00<?, ?it/s]"
     ]
    },
    {
     "name": "stdout",
     "output_type": "stream",
     "text": [
      "Iteration 0 samples:\n",
      "Sample: natle                       \t Closest match is anatole\n",
      "Sample: noass                       \t Closest match is thomassia\n",
      "Sample: maudian                     \t Closest match is ian\n",
      "Sample: graidole                    \t Closest match is agricole\n"
     ]
    },
    {
     "name": "stderr",
     "output_type": "stream",
     "text": [
      "epoch 10) iter 3: train_loss 223.1546631, lr = 2.894066e-04:   1%|          | 3/299 [00:02<09:06,  1.85s/it]"
     ]
    },
    {
     "name": "stdout",
     "output_type": "stream",
     "text": [
      "Sample: eliana                      \t Closest match is eliana\n"
     ]
    },
    {
     "name": "stderr",
     "output_type": "stream",
     "text": [
      "epoch 10) iter 298: train_loss 220.4730225, lr = 6.000000e-05: 100%|██████████| 299/299 [00:18<00:00, 16.31it/s]\n"
     ]
    }
   ],
   "source": [
    "config = GPTConfig(train_dataset.vocab_size, maxlen, n_layer=2, n_head=4, n_embd=64)\n",
    "plain_vae = AttentionVae(config)\n",
    "tconf = TrainerConfig(\n",
    "    max_epochs=10,\n",
    "    batch_size=128,\n",
    "    learning_rate=6e-4,\n",
    "    lr_decay=True,\n",
    "    warmup_tokens=128 * 20,\n",
    "    final_tokens=2 * len(train_dataset) * maxlen,\n",
    "    num_workers=4,\n",
    ")\n",
    "trainer = Trainer(plain_vae, train_dataset, None, tconf)\n",
    "losses = trainer.train()"
   ]
  },
  {
   "cell_type": "code",
   "execution_count": 82,
   "metadata": {
    "ExecuteTime": {
     "end_time": "2021-02-03T22:24:39.514292Z",
     "start_time": "2021-02-03T22:24:39.500132Z"
    }
   },
   "outputs": [
    {
     "data": {
      "text/plain": [
       "26"
      ]
     },
     "execution_count": 82,
     "metadata": {},
     "output_type": "execute_result"
    }
   ],
   "source": [
    "train_dataset.block_size"
   ]
  },
  {
   "cell_type": "code",
   "execution_count": null,
   "metadata": {
    "ExecuteTime": {
     "start_time": "2021-02-03T22:48:42.910Z"
    }
   },
   "outputs": [],
   "source": [
    "print(\"plain\")\n",
    "print()\n",
    "initial_context = \"sam\"\n",
    "outputs = generate_samples(initial_context, plain_vae)\n",
    "for out in outputs:\n",
    "    print(out)\n",
    "print()\n",
    "\n",
    "print(\"wiki\")\n",
    "print()\n",
    "initial_context = \"sam\"\n",
    "outputs = generate_samples(initial_context, wiki_vae)\n",
    "for out in outputs:\n",
    "    print(out)\n",
    "print()\n",
    "\n",
    "print(\"french\")\n",
    "print()\n",
    "initial_context = \"samanth\"\n",
    "outputs = generate_samples(initial_context, french_vae)\n",
    "for out in outputs:\n",
    "    print(out)\n",
    "print()"
   ]
  },
  {
   "cell_type": "code",
   "execution_count": 96,
   "metadata": {
    "ExecuteTime": {
     "end_time": "2021-02-03T22:48:28.635156Z",
     "start_time": "2021-02-03T22:48:28.173834Z"
    }
   },
   "outputs": [
    {
     "data": {
      "text/plain": [
       "[('samantha', 100), ('sam', 90), ('amata', 77), ('thao', 77), ('thea', 77)]"
      ]
     },
     "execution_count": 96,
     "metadata": {},
     "output_type": "execute_result"
    }
   ],
   "source": [
    "process.extract(\"samantha\", french_names)"
   ]
  },
  {
   "cell_type": "code",
   "execution_count": null,
   "metadata": {},
   "outputs": [],
   "source": []
  }
 ],
 "metadata": {
  "kernelspec": {
   "display_name": "Python 3",
   "language": "python",
   "name": "python3"
  },
  "language_info": {
   "codemirror_mode": {
    "name": "ipython",
    "version": 3
   },
   "file_extension": ".py",
   "mimetype": "text/x-python",
   "name": "python",
   "nbconvert_exporter": "python",
   "pygments_lexer": "ipython3",
   "version": "3.7.7"
  },
  "toc": {
   "base_numbering": 1,
   "nav_menu": {},
   "number_sections": true,
   "sideBar": true,
   "skip_h1_title": false,
   "title_cell": "Table of Contents",
   "title_sidebar": "Contents",
   "toc_cell": false,
   "toc_position": {
    "height": "calc(100% - 180px)",
    "left": "10px",
    "top": "150px",
    "width": "254.391px"
   },
   "toc_section_display": true,
   "toc_window_display": true
  }
 },
 "nbformat": 4,
 "nbformat_minor": 4
}
