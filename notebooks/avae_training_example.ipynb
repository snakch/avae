{
 "cells": [
  {
   "cell_type": "code",
   "execution_count": 1,
   "metadata": {
    "ExecuteTime": {
     "end_time": "2021-02-01T18:07:10.333964Z",
     "start_time": "2021-02-01T18:07:10.305804Z"
    }
   },
   "outputs": [],
   "source": [
    "%load_ext autoreload\n",
    "%autoreload 2"
   ]
  },
  {
   "cell_type": "code",
   "execution_count": 2,
   "metadata": {
    "ExecuteTime": {
     "end_time": "2021-02-01T18:07:12.284288Z",
     "start_time": "2021-02-01T18:07:10.501791Z"
    }
   },
   "outputs": [],
   "source": [
    "from pathlib import Path\n",
    "import numpy as np\n",
    "import torch\n",
    "from tqdm.auto import tqdm\n",
    "import torch.optim as optim\n",
    "import torch.nn.functional as F\n",
    "import torch.nn as nn\n",
    "import re\n",
    "import torch.utils.data as data\n",
    "from dataclasses import dataclass\n",
    "\n",
    "import matplotlib.pyplot as plt\n",
    "from tqdm.auto import tqdm\n",
    "import math\n",
    "import torch.optim as optim\n",
    "from torch.optim.lr_scheduler import LambdaLR\n",
    "from torch.utils.data.dataloader import DataLoader\n",
    "\n",
    "from avae.model import AttentionVae, GPTConfig\n",
    "from avae.dataset import CharDataset\n",
    "from avae.trainer import TrainerConfig, Trainer\n",
    "\n",
    "from torch.utils.tensorboard import SummaryWriter\n"
   ]
  },
  {
   "cell_type": "code",
   "execution_count": 3,
   "metadata": {
    "ExecuteTime": {
     "end_time": "2021-02-01T18:07:12.326209Z",
     "start_time": "2021-02-01T18:07:12.285564Z"
    }
   },
   "outputs": [],
   "source": [
    "writer = SummaryWriter('runs/avae')"
   ]
  },
  {
   "cell_type": "markdown",
   "metadata": {},
   "source": [
    "This notebook is used to load the model and trains it on some data.\n",
    "\n",
    "Point the model to a local corpus dataset.\n",
    "\n",
    "For example download wiki-text2 here:\n",
    "https://s3.amazonaws.com/research.metamind.io/wikitext/wikitext-2-v1.zip"
   ]
  },
  {
   "cell_type": "markdown",
   "metadata": {},
   "source": [
    "# Data utils"
   ]
  },
  {
   "cell_type": "code",
   "execution_count": 4,
   "metadata": {
    "ExecuteTime": {
     "end_time": "2021-02-01T18:07:13.724194Z",
     "start_time": "2021-02-01T18:07:13.608978Z"
    }
   },
   "outputs": [],
   "source": [
    "PROJECT_DIR  = Path(\".\").resolve().parent.parent\n",
    "DATA_DIR  = PROJECT_DIR / \"data\"\n",
    "WIKI_DIR  = DATA_DIR / \"wikitext-2\"\n",
    "NAMES_DIR  = DATA_DIR / \"names\"\n",
    "DEVICE = torch.device(\"cuda\" if torch.cuda.is_available() else \"cpu\")\n"
   ]
  },
  {
   "cell_type": "code",
   "execution_count": 5,
   "metadata": {
    "ExecuteTime": {
     "end_time": "2021-02-01T18:07:13.816042Z",
     "start_time": "2021-02-01T18:07:13.804995Z"
    }
   },
   "outputs": [],
   "source": [
    "def clean_word(word):\n",
    "    word = word.replace(\"\\n\", '').lower()\n",
    "    return word\n",
    "\n",
    "REGEX = re.compile(\"[^a-z-'\\-]\")\n",
    "\n",
    "def validate(word):\n",
    "    if REGEX.findall(word):\n",
    "        return False\n",
    "    if len(word)<=2:\n",
    "        return False\n",
    "    return True\n",
    "\n",
    "def clean_word_wiki(line):\n",
    "    line = line.replace(\"\\n\", '').lower()\n",
    "    line = line.split(\" \")\n",
    "    line = [word for word in line if validate(word)]\n",
    "    return line"
   ]
  },
  {
   "cell_type": "code",
   "execution_count": 6,
   "metadata": {
    "ExecuteTime": {
     "end_time": "2021-02-01T18:07:14.760057Z",
     "start_time": "2021-02-01T18:07:14.014761Z"
    }
   },
   "outputs": [],
   "source": [
    "wiki = []\n",
    "\n",
    "with open(WIKI_DIR / \"train.txt\", \"r\") as f:\n",
    "    for word in f:\n",
    "        wiki.extend(clean_word_wiki(word))"
   ]
  },
  {
   "cell_type": "code",
   "execution_count": 7,
   "metadata": {
    "ExecuteTime": {
     "end_time": "2021-02-01T18:07:14.905024Z",
     "start_time": "2021-02-01T18:07:14.761278Z"
    }
   },
   "outputs": [],
   "source": [
    "all_names = wiki\n",
    "\n",
    "raw_text = \" \".join(all_names)\n",
    "maxlen = len(max(all_names, key=len)) + 1\n",
    "chars = sorted(list(set(raw_text)))\n",
    "mapping = dict((c, i+1) for i , c in enumerate(chars))\n",
    "mapping[\"0\"] = 0\n",
    "inverse_mapping = dict((k,v) for v,k in mapping.items())\n"
   ]
  },
  {
   "cell_type": "code",
   "execution_count": 8,
   "metadata": {
    "ExecuteTime": {
     "end_time": "2021-02-01T18:07:15.430130Z",
     "start_time": "2021-02-01T18:07:15.422029Z"
    }
   },
   "outputs": [],
   "source": [
    "# raw_text = raw_text[:557193]"
   ]
  },
  {
   "cell_type": "code",
   "execution_count": 9,
   "metadata": {
    "ExecuteTime": {
     "end_time": "2021-02-01T18:07:15.862499Z",
     "start_time": "2021-02-01T18:07:15.850807Z"
    }
   },
   "outputs": [],
   "source": [
    "def pad_word(word, length=20):\n",
    "    before = \"0\"\n",
    "    after = \"0\" * ((length  - len(word))+1)\n",
    "    word = before + word + after\n",
    "    return word\n",
    "\n",
    "def depad_word(word, length=20):\n",
    "    word = word.replace(\"0\", '')\n",
    "    return word\n",
    "\n",
    "def encode_word(word, mapping, length=20):\n",
    "    word = pad_word(word, length=length)\n",
    "    return [mapping[char] for char in word]\n",
    "\n",
    "def decode_word(word, inverse_mapping, length=20):\n",
    "    char_list = [depad_word(inverse_mapping[char], length=length) for char in word]\n",
    "    return ''.join(char_list)\n"
   ]
  },
  {
   "cell_type": "code",
   "execution_count": 10,
   "metadata": {
    "ExecuteTime": {
     "end_time": "2021-02-01T18:07:34.672633Z",
     "start_time": "2021-02-01T18:07:16.593344Z"
    }
   },
   "outputs": [],
   "source": [
    "def vec2word(vec, mapping):\n",
    "#     int_vec = np.rint(np.squeeze(vec) * len(mapping)).astype(int)\n",
    "    inverse_mapping = dict((k,v) for v,k in mapping.items())\n",
    "    words = []\n",
    "    for word in vec:\n",
    "        words.append(decode_word(word, inverse_mapping))\n",
    "    return words\n",
    "\n",
    "all_data = np.array([encode_word(name, mapping, length=maxlen) for name in all_names])\n",
    "for orig, word in zip(all_names, vec2word(all_data, mapping)):\n",
    "    assert orig == word"
   ]
  },
  {
   "cell_type": "code",
   "execution_count": 11,
   "metadata": {
    "ExecuteTime": {
     "end_time": "2021-02-01T18:07:36.056803Z",
     "start_time": "2021-02-01T18:07:34.673776Z"
    }
   },
   "outputs": [
    {
     "name": "stdout",
     "output_type": "stream",
     "text": [
      "data has 8557193 characters, 30 unique.\n"
     ]
    }
   ],
   "source": [
    "# Dataset returns 3 values: the  word up to letter i, the word up to letter i+1 (target for prediction) \n",
    "# and the full word\n",
    "train_dataset = CharDataset(raw_text, maxlen)"
   ]
  },
  {
   "cell_type": "code",
   "execution_count": 13,
   "metadata": {
    "ExecuteTime": {
     "end_time": "2021-02-01T18:08:23.593788Z",
     "start_time": "2021-02-01T18:08:23.486468Z"
    }
   },
   "outputs": [
    {
     "name": "stdout",
     "output_type": "stream",
     "text": [
      "valkyri\n",
      "valkyria\n"
     ]
    }
   ],
   "source": [
    "idx=7\n",
    "x, y, word = train_dataset[idx]\n",
    "print(decode_word(x.numpy(), inverse_mapping))\n",
    "print(decode_word(y.numpy(), inverse_mapping))"
   ]
  },
  {
   "cell_type": "code",
   "execution_count": 14,
   "metadata": {
    "ExecuteTime": {
     "end_time": "2021-02-01T18:08:23.949158Z",
     "start_time": "2021-02-01T18:08:23.938333Z"
    }
   },
   "outputs": [
    {
     "name": "stdout",
     "output_type": "stream",
     "text": [
      "x:  nam\n",
      "y:  name\n",
      "word : nameless\n"
     ]
    }
   ],
   "source": [
    "idx=400\n",
    "x, y, word = train_dataset[idx]\n",
    "print(\"x: \",decode_word(x.numpy(), inverse_mapping))\n",
    "print(\"y: \",decode_word(y.numpy(), inverse_mapping))\n",
    "print(\"word :\", decode_word(word.numpy(), inverse_mapping))"
   ]
  },
  {
   "cell_type": "markdown",
   "metadata": {},
   "source": [
    "# Build the network"
   ]
  },
  {
   "cell_type": "code",
   "execution_count": 15,
   "metadata": {
    "ExecuteTime": {
     "end_time": "2021-02-01T18:08:25.201388Z",
     "start_time": "2021-02-01T18:08:24.943213Z"
    }
   },
   "outputs": [
    {
     "name": "stdout",
     "output_type": "stream",
     "text": [
      "number of parameters: 846592\n"
     ]
    }
   ],
   "source": [
    "config = GPTConfig(train_dataset.vocab_size, maxlen, n_layer=2, n_head=4, n_embd=64)\n",
    "vae = AttentionVae(config)"
   ]
  },
  {
   "cell_type": "markdown",
   "metadata": {},
   "source": [
    "## Building a tensorboard graph"
   ]
  },
  {
   "cell_type": "code",
   "execution_count": 16,
   "metadata": {
    "ExecuteTime": {
     "end_time": "2021-02-01T18:08:25.474776Z",
     "start_time": "2021-02-01T18:08:25.421624Z"
    }
   },
   "outputs": [],
   "source": [
    "# get a batch of data\n",
    "\n",
    "x ,y,word  = [], [],[]\n",
    "for i in range(10):\n",
    "    batch = train_dataset[i]\n",
    "    x.append(batch[0])\n",
    "    y.append(batch[1])\n",
    "    word.append(batch[2])\n",
    "    \n",
    "x = torch.stack(x, dim=0)\n",
    "y = torch.stack(y, dim=0)\n",
    "word = torch.stack(word, dim=0)"
   ]
  },
  {
   "cell_type": "code",
   "execution_count": 17,
   "metadata": {
    "ExecuteTime": {
     "end_time": "2021-02-01T18:08:26.681851Z",
     "start_time": "2021-02-01T18:08:25.639201Z"
    }
   },
   "outputs": [
    {
     "name": "stderr",
     "output_type": "stream",
     "text": [
      "/home/simon/code/namegen/avae/src/avae/model.py:395: TracerWarning: Converting a tensor to a Python boolean might cause the trace to be incorrect. We can't record the data flow of Python values, so this value will be treated as a constant in the future. This means that the trace might not generalize to other inputs!\n",
      "  t <= self.block_size\n",
      "/home/simon/code/namegen/avae/src/avae/model.py:399: TracerWarning: Converting a tensor to a Python index might cause the trace to be incorrect. We can't record the data flow of Python values, so this value will be treated as a constant in the future. This means that the trace might not generalize to other inputs!\n",
      "  position_embeddings = self.pos_emb[:, :t, :]\n",
      "/home/simon/code/namegen/avae/src/avae/model.py:183: TracerWarning: Converting a tensor to a Python float might cause the trace to be incorrect. We can't record the data flow of Python values, so this value will be treated as a constant in the future. This means that the trace might not generalize to other inputs!\n",
      "  att = (q @ k.transpose(-2, -1)) * (1.0 / math.sqrt(k.size(-1)))\n",
      "/home/simon/code/namegen/avae/src/avae/model.py:184: TracerWarning: Converting a tensor to a Python index might cause the trace to be incorrect. We can't record the data flow of Python values, so this value will be treated as a constant in the future. This means that the trace might not generalize to other inputs!\n",
      "  att = att.masked_fill(self.mask[:, :, :T, :T] == 0, float(\"-inf\"))\n",
      "/home/simon/code/namegen/avae/src/avae/model.py:440: TracerWarning: Converting a tensor to a Python boolean might cause the trace to be incorrect. We can't record the data flow of Python values, so this value will be treated as a constant in the future. This means that the trace might not generalize to other inputs!\n",
      "  t <= self.block_size\n",
      "/home/simon/code/namegen/avae/src/avae/model.py:444: TracerWarning: Converting a tensor to a Python index might cause the trace to be incorrect. We can't record the data flow of Python values, so this value will be treated as a constant in the future. This means that the trace might not generalize to other inputs!\n",
      "  position_embeddings = self.pos_emb[:, :t, :]\n",
      "/home/simon/code/namegen/avae/src/avae/model.py:231: TracerWarning: Converting a tensor to a Python float might cause the trace to be incorrect. We can't record the data flow of Python values, so this value will be treated as a constant in the future. This means that the trace might not generalize to other inputs!\n",
      "  att = (q @ k.transpose(-2, -1)) * (1.0 / math.sqrt(k.size(-1)))\n",
      "/home/simon/code/namegen/avae/src/avae/model.py:232: TracerWarning: Converting a tensor to a Python index might cause the trace to be incorrect. We can't record the data flow of Python values, so this value will be treated as a constant in the future. This means that the trace might not generalize to other inputs!\n",
      "  att = att.masked_fill(self.mask[:, :, :T, :T] == 0, float(\"-inf\"))\n",
      "/home/simon/anaconda3/envs/namegen/lib/python3.7/site-packages/torch/jit/__init__.py:1119: TracerWarning: Trace had nondeterministic nodes. Did you forget call .eval() on your model? Nodes:\n",
      "\t%eps.1 : Float(10:1344, 21:64, 64:1) = aten::randn_like(%m.1, %724, %725, %726, %727, %728) # /home/simon/code/namegen/avae/src/avae/model.py:604:0\n",
      "This may cause errors in trace checking. To disable trace checking, pass check_trace=False to torch.jit.trace()\n",
      "  check_tolerance, strict, _force_outplace, True, _module_class)\n",
      "/home/simon/anaconda3/envs/namegen/lib/python3.7/site-packages/torch/jit/__init__.py:1119: TracerWarning: Output nr 1. of the traced function does not match the corresponding output of the Python function. Detailed error:\n",
      "With rtol=1e-05 and atol=1e-05, found 6300 element(s) (out of 6300) whose difference(s) exceeded the margin of error (including 0 nan comparisons). The greatest difference was 0.024409949779510498 (0.06721378862857819 vs. 0.09162373840808868), which occurred at index (3, 16, 7).\n",
      "  check_tolerance, strict, _force_outplace, True, _module_class)\n"
     ]
    }
   ],
   "source": [
    "# Writing graph to tensorboard\n",
    "writer.add_graph(vae, (x,y,word))\n",
    "writer.close()"
   ]
  },
  {
   "cell_type": "markdown",
   "metadata": {},
   "source": [
    "# Training"
   ]
  },
  {
   "cell_type": "code",
   "execution_count": 18,
   "metadata": {
    "ExecuteTime": {
     "end_time": "2021-02-01T18:38:51.514937Z",
     "start_time": "2021-02-01T18:08:27.859114Z"
    },
    "scrolled": true
   },
   "outputs": [
    {
     "name": "stderr",
     "output_type": "stream",
     "text": [
      "  0%|          | 0/8357 [00:00<?, ?it/s]/home/simon/code/namegen/avae/src/avae/trainer.py:84: UserWarning: torch.nn.utils.clip_grad_norm is now deprecated in favor of torch.nn.utils.clip_grad_norm_.\n",
      "  model.parameters(), config.grad_norm_clip\n",
      "epoch 1) iter 0: train_loss 535.7503662, lr = 6.000000e-04:   0%|          | 1/8357 [00:00<2:14:56,  1.03it/s]"
     ]
    },
    {
     "name": "stdout",
     "output_type": "stream",
     "text": [
      "Iteration 0 samples:\n",
      "r\n",
      "s--csl\n",
      "scr\n",
      "q-pqrcqmctpkstbmjctg\n",
      "jq\n"
     ]
    },
    {
     "name": "stderr",
     "output_type": "stream",
     "text": [
      "epoch 1) iter 1000: train_loss 221.1741638, lr = 5.947098e-04:  12%|█▏        | 1001/8357 [03:37<33:37,  3.65it/s]"
     ]
    },
    {
     "name": "stdout",
     "output_type": "stream",
     "text": [
      "Iteration 1000 samples:\n",
      "centurol\n",
      "are\n",
      "was\n",
      "respailly\n",
      "contin\n"
     ]
    },
    {
     "name": "stderr",
     "output_type": "stream",
     "text": [
      "epoch 1) iter 2000: train_loss 219.8919067, lr = 5.790368e-04:  24%|██▍       | 2001/8357 [07:14<28:57,  3.66it/s]"
     ]
    },
    {
     "name": "stdout",
     "output_type": "stream",
     "text": [
      "Iteration 2000 samples:\n",
      "sengs\n",
      "stougge\n",
      "immant\n",
      "seasid\n",
      "earm\n"
     ]
    },
    {
     "name": "stderr",
     "output_type": "stream",
     "text": [
      "epoch 1) iter 3000: train_loss 218.8429260, lr = 5.535329e-04:  36%|███▌      | 3001/8357 [10:51<24:38,  3.62it/s]"
     ]
    },
    {
     "name": "stdout",
     "output_type": "stream",
     "text": [
      "Iteration 3000 samples:\n",
      "acn\n",
      "goner\n",
      "addian\n",
      "fortaly\n",
      "indiars\n"
     ]
    },
    {
     "name": "stderr",
     "output_type": "stream",
     "text": [
      "epoch 1) iter 4000: train_loss 218.3580933, lr = 5.190969e-04:  48%|████▊     | 4001/8357 [14:27<20:04,  3.62it/s]"
     ]
    },
    {
     "name": "stdout",
     "output_type": "stream",
     "text": [
      "Iteration 4000 samples:\n",
      "eflumations\n",
      "film\n",
      "uritic\n",
      "ubstoronst\n",
      "inisted\n"
     ]
    },
    {
     "name": "stderr",
     "output_type": "stream",
     "text": [
      "epoch 1) iter 5000: train_loss 217.6841431, lr = 4.769419e-04:  60%|█████▉    | 5001/8357 [18:04<15:15,  3.67it/s]"
     ]
    },
    {
     "name": "stdout",
     "output_type": "stream",
     "text": [
      "Iteration 5000 samples:\n",
      "failink\n",
      "fulter\n",
      "event\n",
      "game\n",
      "guarst\n"
     ]
    },
    {
     "name": "stderr",
     "output_type": "stream",
     "text": [
      "epoch 1) iter 6000: train_loss 217.1611481, lr = 4.285530e-04:  72%|███████▏  | 6001/8357 [21:41<10:46,  3.65it/s]"
     ]
    },
    {
     "name": "stdout",
     "output_type": "stream",
     "text": [
      "Iteration 6000 samples:\n",
      "action\n",
      "casoched\n",
      "office\n",
      "magr\n",
      "background\n"
     ]
    },
    {
     "name": "stderr",
     "output_type": "stream",
     "text": [
      "epoch 1) iter 7000: train_loss 217.2059631, lr = 3.756351e-04:  84%|████████▍ | 7001/8357 [25:17<06:13,  3.63it/s]"
     ]
    },
    {
     "name": "stdout",
     "output_type": "stream",
     "text": [
      "Iteration 7000 samples:\n",
      "but\n",
      "bard\n",
      "the\n",
      "the\n",
      "the\n"
     ]
    },
    {
     "name": "stderr",
     "output_type": "stream",
     "text": [
      "epoch 1) iter 8000: train_loss 216.9461060, lr = 3.200525e-04:  96%|█████████▌| 8001/8357 [28:54<01:37,  3.65it/s]"
     ]
    },
    {
     "name": "stdout",
     "output_type": "stream",
     "text": [
      "Iteration 8000 samples:\n",
      "instid\n",
      "marie\n",
      "muscon\n",
      "many\n",
      "van\n"
     ]
    },
    {
     "name": "stderr",
     "output_type": "stream",
     "text": [
      "epoch 1) iter 8356: train_loss 217.1692657, lr = 3.000134e-04: 100%|██████████| 8357/8357 [30:11<00:00,  4.61it/s]\n"
     ]
    }
   ],
   "source": [
    "tconf = TrainerConfig(\n",
    "    max_epochs=1,\n",
    "    batch_size=1024,\n",
    "    learning_rate=6e-4,\n",
    "    lr_decay=True,\n",
    "    warmup_tokens=512 * 20,\n",
    "    final_tokens=2 * len(train_dataset) * maxlen,\n",
    "    num_workers=4,\n",
    ")\n",
    "trainer = Trainer(vae, train_dataset, None, tconf)\n",
    "losses = trainer.train()"
   ]
  },
  {
   "cell_type": "code",
   "execution_count": 19,
   "metadata": {
    "ExecuteTime": {
     "end_time": "2021-02-01T18:38:52.253963Z",
     "start_time": "2021-02-01T18:38:51.516283Z"
    }
   },
   "outputs": [
    {
     "data": {
      "image/png": "[encoded data removed]",
      "text/plain": [
       "<Figure size 432x288 with 1 Axes>"
      ]
     },
     "metadata": {
      "needs_background": "light"
     },
     "output_type": "display_data"
    },
    {
     "data": {
      "image/png": "[encoded data removed]",
      "text/plain": [
       "<Figure size 432x288 with 1 Axes>"
      ]
     },
     "metadata": {
      "needs_background": "light"
     },
     "output_type": "display_data"
    },
    {
     "data": {
      "image/png": "[encoded data removed]",
      "text/plain": [
       "<Figure size 432x288 with 1 Axes>"
      ]
     },
     "metadata": {
      "needs_background": "light"
     },
     "output_type": "display_data"
    },
    {
     "data": {
      "image/png": "[encoded data removed]",
      "text/plain": [
       "<Figure size 432x288 with 1 Axes>"
      ]
     },
     "metadata": {
      "needs_background": "light"
     },
     "output_type": "display_data"
    },
    {
     "data": {
      "image/png": "[encoded data removed]",
      "text/plain": [
       "<Figure size 432x288 with 1 Axes>"
      ]
     },
     "metadata": {
      "needs_background": "light"
     },
     "output_type": "display_data"
    },
    {
     "data": {
      "image/png": "[encoded data removed]",
      "text/plain": [
       "<Figure size 432x288 with 1 Axes>"
      ]
     },
     "metadata": {
      "needs_background": "light"
     },
     "output_type": "display_data"
    }
   ],
   "source": [
    "for k, v in losses.items():\n",
    "    plt.plot(v)\n",
    "    plt.title(k)\n",
    "    plt.show()"
   ]
  },
  {
   "cell_type": "markdown",
   "metadata": {},
   "source": [
    "# Sample Generation"
   ]
  },
  {
   "cell_type": "code",
   "execution_count": 38,
   "metadata": {
    "ExecuteTime": {
     "end_time": "2021-02-01T21:59:11.474202Z",
     "start_time": "2021-02-01T21:59:11.463976Z"
    }
   },
   "outputs": [],
   "source": [
    "def generate_samples(initial_context, vae, n_samples=10, method='smart', sample=False, temperature=1.0):\n",
    "    context = \"0\" * (vae.config.block_size -len(initial_context) ) + initial_context\n",
    "    x = torch.tensor([trainer.train_dataset.stoi[s] for s in context], dtype=torch.long,)[\n",
    "        None, ...\n",
    "    ].to(trainer.device)\n",
    "    x = torch.repeat_interleave(x, n_samples, dim=0)\n",
    "    y = vae.sample(x,20,sample=sample, method=method, temperature=temperature)\n",
    "    \n",
    "    completions = []\n",
    "    for sent in y:\n",
    "        completion = \"\".join(\n",
    "            [trainer.train_dataset.itos[int(i)] for i in sent]\n",
    "        )\n",
    "        completions.append(\n",
    "            completion[vae.config.block_size -len(initial_context) :].split(\n",
    "                \"0\"\n",
    "            )[0]\n",
    "        )\n",
    "    return completions"
   ]
  },
  {
   "cell_type": "code",
   "execution_count": 42,
   "metadata": {
    "ExecuteTime": {
     "end_time": "2021-02-01T22:00:14.691102Z",
     "start_time": "2021-02-01T22:00:14.485267Z"
    }
   },
   "outputs": [
    {
     "name": "stdout",
     "output_type": "stream",
     "text": [
      "legad\n",
      "legate\n",
      "legated\n",
      "legard\n",
      "legan\n",
      "legas\n",
      "legation\n",
      "legan\n",
      "legate\n",
      "legarding\n"
     ]
    }
   ],
   "source": [
    "initial_context = \"lega\"\n",
    "outputs = generate_samples(initial_context, vae)\n",
    "for out in outputs:\n",
    "    print(out)"
   ]
  },
  {
   "cell_type": "markdown",
   "metadata": {},
   "source": [
    "# Checking the various components of the network are doing something"
   ]
  },
  {
   "cell_type": "code",
   "execution_count": 32,
   "metadata": {
    "ExecuteTime": {
     "end_time": "2021-02-01T21:56:55.437844Z",
     "start_time": "2021-02-01T21:56:55.417063Z"
    }
   },
   "outputs": [
    {
     "name": "stdout",
     "output_type": "stream",
     "text": [
      "smart distance  tensor(0.1975, device='cuda:0', grad_fn=<MeanBackward0>)\n",
      "naive distance  tensor(1.6966, device='cuda:0', grad_fn=<MeanBackward0>)\n"
     ]
    }
   ],
   "source": [
    "# This network uses a \"smart_encoder\" which attempts to learn how to encode a partial word\n",
    "# the same way that a full word is encoded. \n",
    "# That way, latent info focuses on learning global info, like style word length etc..\n",
    "# Let's check it works as expected.\n",
    "\n",
    "idx = 1\n",
    "loader = DataLoader(train_dataset, batch_size=128)\n",
    "x, y, word = next(iter(loader))\n",
    "x, y, word = x.cuda(), y.cuda(), word.cuda()\n",
    "\n",
    "z = vae.encoder(word)\n",
    "z_smart = vae.smart_encoder(x)\n",
    "z_random = torch.randn_like(z)\n",
    "\n",
    "print(\"smart distance \", ((z - z_smart)**2).mean())\n",
    "print(\"naive distance \", ((z - z_random)**2).mean())\n"
   ]
  },
  {
   "cell_type": "code",
   "execution_count": 33,
   "metadata": {
    "ExecuteTime": {
     "end_time": "2021-02-01T21:57:12.484040Z",
     "start_time": "2021-02-01T21:57:12.433417Z"
    }
   },
   "outputs": [
    {
     "name": "stdout",
     "output_type": "stream",
     "text": [
      "batch losses\n",
      "10.008693\n",
      "naive z sampling losses: \n",
      "24.092201\n"
     ]
    }
   ],
   "source": [
    "# Seems that the smart encoder does a good job at the level of the latent space\n",
    "# New Question: are we just using the latent space as a random seed?\n",
    "# Let's check by computing the losses when using the latent\n",
    "\n",
    "idx = 1\n",
    "loader = DataLoader(train_dataset, batch_size=128)\n",
    "x, y, word = next(iter(loader))\n",
    "x, y, word = x.cuda(), y.cuda(), word.cuda()\n",
    "\n",
    "\n",
    "_, batch_losses = vae(x,y,word,True)\n",
    "_, batch_losses = vae(x,y,word,True)\n",
    "\n",
    "print(\"batch losses\")\n",
    "print(batch_losses['ce'].mean().cpu().detach().numpy())\n",
    "\n",
    "print(\"naive z sampling losses: \")\n",
    "\n",
    "m_k, log_s_k, m_v, log_s_v = torch.chunk(vae.encoder(word), 4, -1)\n",
    "\n",
    "z_k = torch.randn_like(m_k)\n",
    "z_v = torch.randn_like(m_k)\n",
    "_, CE = vae.decoder(x, z_k, z_v, targets=y)\n",
    "CE = CE.view(x.shape[0], -1).sum(1)\n",
    "print(CE.mean().cpu().detach().numpy())\n",
    "\n"
   ]
  },
  {
   "cell_type": "code",
   "execution_count": 34,
   "metadata": {
    "ExecuteTime": {
     "end_time": "2021-02-01T21:57:16.587596Z",
     "start_time": "2021-02-01T21:57:16.566135Z"
    }
   },
   "outputs": [
    {
     "name": "stdout",
     "output_type": "stream",
     "text": [
      "Smart encoding sampling losses: \n",
      "15.398792\n"
     ]
    }
   ],
   "source": [
    "#Ok it looks like we're using the latent space for reconstruction. \n",
    "# what about the pathway where we sample using smart latent (but not full word)\n",
    "idx = 1\n",
    "loader = DataLoader(train_dataset, batch_size=128)\n",
    "x, y, word = next(iter(loader))\n",
    "x, y, word = x.cuda(), y.cuda(), word.cuda()\n",
    "\n",
    "\n",
    "print(\"Smart encoding sampling losses: \")\n",
    "m_k_smart, log_s_k_smart, m_v_smart, log_s_v_smart = torch.chunk(\n",
    "    vae.smart_encoder(x), 4, -1\n",
    ")\n",
    "\n",
    "z_k = vae.reparametrize(m_k_smart, log_s_k_smart)\n",
    "z_v = vae.reparametrize(m_v_smart, log_s_v_smart)\n",
    "x, CE = vae.decoder(x, z_k, z_v, targets=y)\n",
    "CE = CE.view(x.shape[0], -1).sum(1)\n",
    "print(CE.mean().cpu().detach().numpy())\n",
    "\n",
    "\n",
    "#Conclusion: smart encoding is helping!\n",
    "\n",
    "# We're getting better reconstructions than if we ignored the encoder. \n",
    "# the benefit is that the smart encoder can be used during sampling"
   ]
  }
 ],
 "metadata": {
  "kernelspec": {
   "display_name": "Python 3",
   "language": "python",
   "name": "python3"
  },
  "language_info": {
   "codemirror_mode": {
    "name": "ipython",
    "version": 3
   },
   "file_extension": ".py",
   "mimetype": "text/x-python",
   "name": "python",
   "nbconvert_exporter": "python",
   "pygments_lexer": "ipython3",
   "version": "3.7.7"
  }
 },
 "nbformat": 4,
 "nbformat_minor": 4
}
